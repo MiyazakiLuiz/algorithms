{
  "nbformat": 4,
  "nbformat_minor": 0,
  "metadata": {
    "colab": {
      "provenance": []
    },
    "kernelspec": {
      "name": "python3",
      "display_name": "Python 3"
    },
    "language_info": {
      "name": "python"
    }
  },
  "cells": [
    {
      "cell_type": "code",
      "execution_count": null,
      "metadata": {
        "id": "TzRh--wIKem7",
        "colab": {
          "base_uri": "https://localhost:8080/"
        },
        "outputId": "488779cb-49e3-4fc0-d492-70e2202b5c9a"
      },
      "outputs": [
        {
          "output_type": "stream",
          "name": "stdout",
          "text": [
            "140\n",
            "105\n",
            "80\n"
          ]
        }
      ],
      "source": [
        "def solve_knapsack(profits, weights, capacity):\n",
        "  if len(profits) != len(weights):\n",
        "    return -1\n",
        "\n",
        "  return solve_knapsack_rec(profits, weights, capacity, 0)\n",
        "\n",
        "def solve_knapsack_rec(profits, weights, capacity, i):\n",
        "  if capacity <= 0 or i >= len(profits):\n",
        "    return 0\n",
        "\n",
        "  p1= 0\n",
        "  if weights[i] <= capacity:\n",
        "    p1 = profits[i] + solve_knapsack_rec(profits, weights, capacity-weights[i], i)\n",
        "  p2 = solve_knapsack_rec(profits, weights, capacity, i+1)\n",
        "\n",
        "  return max(p1, p2)\n",
        "\n",
        "  # Basic\n",
        "  # Time O(2^(N+C))\n",
        "  # Space O(N+C)\n",
        "\n",
        "def main():\n",
        "  print(solve_knapsack([15, 50, 60, 90], [1, 3, 4, 5], 8))\n",
        "  print(solve_knapsack([15, 50, 60, 90], [1, 3, 4, 5], 6))\n",
        "  print(solve_knapsack([15, 20, 50], [1, 2, 3], 5))\n",
        "\n",
        "\n",
        "main()"
      ]
    },
    {
      "cell_type": "code",
      "source": [
        "def solve_knapsack(profits, weights, capacity):\n",
        "  if len(profits) != len(weights):\n",
        "    return -1\n",
        "\n",
        "  dp = [[-1 for x in range(capacity+1)] for y in range(len(profits))]\n",
        "\n",
        "  return solve_knapsack_rec(dp, profits, weights, capacity, 0)\n",
        "\n",
        "def solve_knapsack_rec(dp, profits, weights, capacity, i):\n",
        "  if capacity <= 0 or i >= len(profits):\n",
        "    return 0\n",
        "\n",
        "  if dp[i][capacity] != -1:\n",
        "    return dp[i][capacity]\n",
        "\n",
        "  p1= 0\n",
        "  if weights[i] <= capacity:\n",
        "    p1 = profits[i] + solve_knapsack_rec(dp, profits, weights, capacity-weights[i], i)\n",
        "  p2 = solve_knapsack_rec(dp, profits, weights, capacity, i+1)\n",
        "\n",
        "  dp[i][capacity] = max(p1, p2)\n",
        "\n",
        "  return dp[i][capacity]\n",
        "\n",
        "  # Top-down\n",
        "  # Time O(N*C)\n",
        "  # Space O(N*C)\n",
        "\n",
        "def main():\n",
        "  print(solve_knapsack([15, 50, 60, 90], [1, 3, 4, 5], 8))\n",
        "  print(solve_knapsack([15, 50, 60, 90], [1, 3, 4, 5], 6))\n",
        "  print(solve_knapsack([15, 20, 50], [1, 2, 3], 5))\n",
        "\n",
        "\n",
        "main()"
      ],
      "metadata": {
        "colab": {
          "base_uri": "https://localhost:8080/"
        },
        "id": "XRDfT_36umsf",
        "outputId": "18cce873-8c28-4ef1-a14c-6da91e7667db"
      },
      "execution_count": null,
      "outputs": [
        {
          "output_type": "stream",
          "name": "stdout",
          "text": [
            "140\n",
            "105\n",
            "80\n"
          ]
        }
      ]
    },
    {
      "cell_type": "code",
      "source": [
        "def solve_knapsack(profits, weights, capacity):\n",
        "  if len(profits) != len(weights):\n",
        "    return -1\n",
        "\n",
        "  dp = [[0 for x in range(capacity+1)] for y in range(len(profits))]\n",
        "\n",
        "  for c in range(capacity+1):\n",
        "    if weights[0] <= c:\n",
        "      dp[0][c] = profits[0] + dp[0][c - weights[0]]\n",
        "\n",
        "  for i in range(1, len(profits)):\n",
        "    for c in range(1, capacity+1):\n",
        "      profit1 = dp[i-1][c]\n",
        "      profit2 = 0\n",
        "      if weights[i] <= c:\n",
        "        profit2 = profits[i] + dp[i][c - weights[i]]\n",
        "\n",
        "      dp[i][c] = max(profit1, profit2)\n",
        "\n",
        "  print(find_selected_items(dp, weights))\n",
        "\n",
        "  return dp[len(profits)-1][capacity]\n",
        "\n",
        "  # Bottom-up\n",
        "  # Time O(N*C)\n",
        "  # Space O(N*C)\n",
        "\n",
        "def find_selected_items(dp, weights):\n",
        "  for row in dp:\n",
        "    print(row)\n",
        "\n",
        "  rows = len(dp)\n",
        "  cols = len(dp[0])\n",
        "\n",
        "  i = rows-1\n",
        "  j = cols-1\n",
        "  result = []\n",
        "  while i >= 0 and j >= 0:\n",
        "    while i > 0 and dp[i][j] == dp[i-1][j]:\n",
        "      i -= 1\n",
        "\n",
        "    count = 0\n",
        "    while j > 0 and (i == 0 or dp[i][j] != dp[i-1][j]):\n",
        "      count += 1\n",
        "      j -= weights[i]\n",
        "    if count > 0:\n",
        "      result.append(str(count)+\"*\"+str(i))\n",
        "\n",
        "    if j <= 0:\n",
        "      return result\n",
        "\n",
        "\n",
        "  return result\n",
        "\n",
        "def main():\n",
        "  print(solve_knapsack([15, 50, 60, 90], [1, 3, 4, 5], 8))\n",
        "  print(solve_knapsack([15, 50, 60, 90], [1, 3, 4, 5], 6))\n",
        "  print(solve_knapsack([15, 20, 50], [1, 2, 3], 5))\n",
        "\n",
        "\n",
        "main()"
      ],
      "metadata": {
        "colab": {
          "base_uri": "https://localhost:8080/"
        },
        "id": "R3o5ZugRwF5Y",
        "outputId": "da52c646-9345-4b45-8ef2-b180be5645ea"
      },
      "execution_count": null,
      "outputs": [
        {
          "output_type": "stream",
          "name": "stdout",
          "text": [
            "[0, 15, 30, 45, 60, 75, 90, 105, 120]\n",
            "[0, 15, 30, 50, 65, 80, 100, 115, 130]\n",
            "[0, 15, 30, 50, 65, 80, 100, 115, 130]\n",
            "[0, 15, 30, 50, 65, 90, 105, 120, 140]\n",
            "['1*3', '1*1']\n",
            "140\n",
            "[0, 15, 30, 45, 60, 75, 90]\n",
            "[0, 15, 30, 50, 65, 80, 100]\n",
            "[0, 15, 30, 50, 65, 80, 100]\n",
            "[0, 15, 30, 50, 65, 90, 105]\n",
            "['1*3', '1*0']\n",
            "105\n",
            "[0, 15, 30, 45, 60, 75]\n",
            "[0, 15, 30, 45, 60, 75]\n",
            "[0, 15, 30, 50, 65, 80]\n",
            "['1*2', '2*0']\n",
            "80\n"
          ]
        }
      ]
    },
    {
      "cell_type": "code",
      "source": [
        "def solve_knapsack(profits, weights, capacity):\n",
        "  if len(profits) != len(weights):\n",
        "    return -1\n",
        "\n",
        "  dp = [0 for x in range(capacity+1)]\n",
        "\n",
        "  for c in range(capacity+1):\n",
        "    if weights[0] <= c:\n",
        "      dp[c] = profits[0] + dp[c - weights[0]]\n",
        "\n",
        "  for i in range(1, len(profits)):\n",
        "    for c in range(1, capacity+1):\n",
        "      profit1 = dp[c]\n",
        "      profit2 = 0\n",
        "      if weights[i] <= c:\n",
        "        profit2 = profits[i] + dp[c - weights[i]]\n",
        "\n",
        "      dp[c] = max(profit1, profit2)\n",
        "\n",
        "  return dp[capacity]\n",
        "\n",
        "  # Bottom-up\n",
        "  # Time O(N*C)\n",
        "  # Space O(C)\n",
        "\n",
        "def main():\n",
        "  print(solve_knapsack([15, 50, 60, 90], [1, 3, 4, 5], 8))\n",
        "  print(solve_knapsack([15, 50, 60, 90], [1, 3, 4, 5], 6))\n",
        "  print(solve_knapsack([15, 20, 50], [1, 2, 3], 5))\n",
        "\n",
        "\n",
        "main()"
      ],
      "metadata": {
        "colab": {
          "base_uri": "https://localhost:8080/"
        },
        "id": "uKgzLkvsx35p",
        "outputId": "1a4853f7-5694-40d8-b099-577015cea00a"
      },
      "execution_count": null,
      "outputs": [
        {
          "output_type": "stream",
          "name": "stdout",
          "text": [
            "140\n",
            "105\n",
            "80\n"
          ]
        }
      ]
    },
    {
      "cell_type": "code",
      "source": [
        "def solve_rod_cutting(lengths, prices, rodLength):\n",
        "  if len(lengths) != len(prices) or rodLength <= 0:\n",
        "    return -1\n",
        "\n",
        "  return solve_rod_cutting_rec(lengths, prices, rodLength, 0)\n",
        "\n",
        "def solve_rod_cutting_rec(lengths, prices, rodLength, i):\n",
        "  if rodLength <= 0 or i >= len(prices):\n",
        "    return 0\n",
        "\n",
        "  p1 = 0\n",
        "  if lengths[i] <= rodLength:\n",
        "    p1 = prices[i] + solve_rod_cutting_rec(lengths, prices, rodLength-lengths[i], i)\n",
        "  p2 = solve_rod_cutting_rec(lengths, prices, rodLength, i+1)\n",
        "\n",
        "  return max(p1, p2)\n",
        "\n",
        "  # Time O(2^(N+L))\n",
        "  # Space O(N+L) -> Stack\n",
        "\n",
        "def main():\n",
        "  print(solve_rod_cutting([1, 2, 3, 4, 5], [2, 6, 7, 10, 13], 5))\n",
        "\n",
        "\n",
        "main()"
      ],
      "metadata": {
        "colab": {
          "base_uri": "https://localhost:8080/"
        },
        "id": "9lmWHctyJwXF",
        "outputId": "900195b0-9bf1-4bbd-de92-d9aea0527f7c"
      },
      "execution_count": null,
      "outputs": [
        {
          "output_type": "stream",
          "name": "stdout",
          "text": [
            "14\n"
          ]
        }
      ]
    },
    {
      "cell_type": "code",
      "source": [
        "def solve_rod_cutting(lengths, prices, rodLength):\n",
        "  n = len(lengths)\n",
        "  if n != len(prices) or rodLength <= 0:\n",
        "    return 0\n",
        "\n",
        "  dp = [[0 for x in range(rodLength+1)] for y in range(n)]\n",
        "\n",
        "  # for rl in range(rodLength+1):\n",
        "  #   if lengths[0] <= rl:\n",
        "  #     dp[0][rl] = prices[0] + dp[0][rl - lengths[0]]\n",
        "\n",
        "  for i in range(n):\n",
        "    for rl in range(1, rodLength+1):\n",
        "      p1, p2 = 0, 0\n",
        "      if lengths[i] <= rl:\n",
        "        p1 = prices[i] + dp[i][rl - lengths[i]]\n",
        "      if i > 0:\n",
        "        p2 = dp[i-1][rl]\n",
        "\n",
        "      dp[i][rl] = max(p1, p2)\n",
        "\n",
        "  print(find_items(dp, lengths))\n",
        "\n",
        "  return dp[n-1][rodLength]\n",
        "\n",
        "  # Time O(2^(N+L))\n",
        "  # Space O(N+L) -> Stack\n",
        "\n",
        "def find_items(dp, lengths):\n",
        "  rows = len(dp)\n",
        "  cols = len(dp[0])\n",
        "  # for row in dp:\n",
        "  #   print(row)\n",
        "\n",
        "  result = []\n",
        "  i = rows - 1\n",
        "  j = cols - 1\n",
        "  while i > 0:\n",
        "    while i > 0 and dp[i][j] == dp[i-1][j]:\n",
        "      i -= 1\n",
        "\n",
        "    count = 0\n",
        "    while j > 0 and (i == 0 or dp[i][j] != dp[i-1][j]):\n",
        "      count += 1\n",
        "      j -= lengths[i]\n",
        "\n",
        "    if count > 0:\n",
        "      result.append((count, i))\n",
        "\n",
        "  return result\n",
        "\n",
        "\n",
        "def main():\n",
        "  print(solve_rod_cutting([1, 2, 3, 4, 5], [2, 6, 7, 10, 13], 5))\n",
        "\n",
        "\n",
        "main()"
      ],
      "metadata": {
        "colab": {
          "base_uri": "https://localhost:8080/"
        },
        "id": "rKWtHKqyLz9p",
        "outputId": "1a0b57ff-a1b2-46e1-b482-e5281155931a"
      },
      "execution_count": null,
      "outputs": [
        {
          "output_type": "stream",
          "name": "stdout",
          "text": [
            "[(2, 1), (1, 0)]\n",
            "14\n"
          ]
        }
      ]
    },
    {
      "cell_type": "code",
      "source": [
        "def count_change(coins, amount):\n",
        "  if len(coins) <= 0 or amount <= 0:\n",
        "    return 0\n",
        "\n",
        "  return count_change_rec(coins, amount, 0)\n",
        "\n",
        "def count_change_rec(coins, amount, i):\n",
        "  if amount == 0:\n",
        "    return 1\n",
        "\n",
        "  if i >= len(coins) or amount < 0:\n",
        "    return 0\n",
        "\n",
        "  count = 0\n",
        "  if coins[i] <= amount:\n",
        "    count += count_change_rec(coins, amount-coins[i], i)\n",
        "  count += count_change_rec(coins, amount, i+1)\n",
        "\n",
        "  return count\n",
        "\n",
        "  # Time O(2^(N+C))\n",
        "  # Space O(N+C)\n",
        "\n",
        "def main():\n",
        "  print(count_change([1, 2, 3], 5))\n",
        "\n",
        "\n",
        "main()"
      ],
      "metadata": {
        "colab": {
          "base_uri": "https://localhost:8080/"
        },
        "id": "wwFUTj57aLSr",
        "outputId": "1bb49e4a-28bb-42db-967a-a67e86df036f"
      },
      "execution_count": null,
      "outputs": [
        {
          "output_type": "stream",
          "name": "stdout",
          "text": [
            "5\n"
          ]
        }
      ]
    },
    {
      "cell_type": "code",
      "source": [
        "def count_change(coins, amount):\n",
        "  n = len(coins)\n",
        "  if n <= 0 or amount <= 0:\n",
        "    return 0\n",
        "\n",
        "  dp = [[-1 for _ in range(amount+1)] for _ in range(n)]\n",
        "\n",
        "  return count_change_rec(dp, coins, amount, 0)\n",
        "\n",
        "def count_change_rec(dp, coins, amount, i):\n",
        "  if amount == 0:\n",
        "    return 1\n",
        "\n",
        "  if i >= len(coins) or amount < 0:\n",
        "    return 0\n",
        "\n",
        "  if dp[i][amount] != -1:\n",
        "    return dp[i][amount]\n",
        "\n",
        "  count = 0\n",
        "  if coins[i] <= amount:\n",
        "    count += count_change_rec(dp, coins, amount-coins[i], i)\n",
        "  count += count_change_rec(dp, coins, amount, i+1)\n",
        "\n",
        "  dp[i][amount] = count\n",
        "\n",
        "  return dp[i][amount]\n",
        "\n",
        "  # Time O(N*C)\n",
        "  # Space O(N*C)\n",
        "\n",
        "def main():\n",
        "  print(count_change([1, 2, 3], 5))\n",
        "\n",
        "\n",
        "main()"
      ],
      "metadata": {
        "colab": {
          "base_uri": "https://localhost:8080/"
        },
        "id": "LfFehymPczVy",
        "outputId": "a4f1ec1c-25b7-4d22-d847-0a46a800bc9f"
      },
      "execution_count": null,
      "outputs": [
        {
          "output_type": "stream",
          "name": "stdout",
          "text": [
            "5\n"
          ]
        }
      ]
    },
    {
      "cell_type": "code",
      "source": [
        "def count_change(coins, amount):\n",
        "  n = len(coins)\n",
        "  if n <= 0 or amount <= 0:\n",
        "    return 0\n",
        "\n",
        "  dp = [[0 for _ in range(amount+1)] for _ in range(n)]\n",
        "\n",
        "  for i in range(n):\n",
        "    dp[i][0] = 1\n",
        "\n",
        "  for i in range(n):\n",
        "    for a in range(1, amount+1):\n",
        "      count = 0\n",
        "      if coins[i] <= a:\n",
        "        count += dp[i][a - coins[i]]\n",
        "      if i > 0:\n",
        "        count += dp[i-1][a]\n",
        "\n",
        "      dp[i][a] = count\n",
        "\n",
        "  return dp[n-1][amount]\n",
        "\n",
        "  # Time O(N*C)\n",
        "  # Space O(N*C)\n",
        "\n",
        "def main():\n",
        "  print(count_change([1, 2, 3], 5))\n",
        "\n",
        "\n",
        "main()"
      ],
      "metadata": {
        "colab": {
          "base_uri": "https://localhost:8080/"
        },
        "id": "L5KSiRV_dkxe",
        "outputId": "5d4f0463-8208-43ff-df3c-25b538a2f611"
      },
      "execution_count": null,
      "outputs": [
        {
          "output_type": "stream",
          "name": "stdout",
          "text": [
            "5\n"
          ]
        }
      ]
    },
    {
      "cell_type": "code",
      "source": [
        "def count_change(coins, amount):\n",
        "  n = len(coins)\n",
        "  if n <= 0 or amount <= 0:\n",
        "    return 0\n",
        "\n",
        "  dp = [0 for _ in range(amount+1)]\n",
        "\n",
        "  dp[0] = 1\n",
        "\n",
        "  for i in range(n):\n",
        "    for a in range(1, amount+1):\n",
        "      count = 0\n",
        "      if coins[i] <= a:\n",
        "        count += dp[a - coins[i]]\n",
        "      if i > 0:\n",
        "        count += dp[a]\n",
        "\n",
        "      dp[a] = count\n",
        "\n",
        "  return dp[amount]\n",
        "\n",
        "  # Time O(N*A)\n",
        "  # Space O(A)\n",
        "\n",
        "def main():\n",
        "  print(count_change([1, 2, 3], 5))\n",
        "\n",
        "\n",
        "main()"
      ],
      "metadata": {
        "colab": {
          "base_uri": "https://localhost:8080/"
        },
        "id": "QgQeNT3He6XN",
        "outputId": "acfae258-b744-44c7-fa74-9ad756a9fa5a"
      },
      "execution_count": null,
      "outputs": [
        {
          "output_type": "stream",
          "name": "stdout",
          "text": [
            "5\n"
          ]
        }
      ]
    },
    {
      "cell_type": "code",
      "source": [
        "import math\n",
        "\n",
        "def count_change(coins, amount):\n",
        "  result = count_change_rec(coins, amount, 0)\n",
        "  return result if result != math.inf else -1\n",
        "\n",
        "def count_change_rec(coins, amount, i):\n",
        "  n = len(coins)\n",
        "  if amount == 0:\n",
        "    return 0\n",
        "\n",
        "  if i >= n:\n",
        "    return math.inf\n",
        "\n",
        "  c1 = math.inf\n",
        "  if coins[i] <= amount:\n",
        "    c1 = 1 + count_change_rec(coins, amount - coins[i], i)\n",
        "  c2 = count_change_rec(coins, amount, i+1)\n",
        "\n",
        "  return min(c1, c2)\n",
        "\n",
        "  # Time O(2^(N+A))\n",
        "  # Space O(N+A)\n",
        "\n",
        "def main():\n",
        "  print(count_change([1, 2, 3], 5))\n",
        "  print(count_change([1, 2, 3], 11))\n",
        "  print(count_change([1, 2, 3], 7))\n",
        "  print(count_change([3, 5], 7))\n",
        "\n",
        "\n",
        "main()"
      ],
      "metadata": {
        "colab": {
          "base_uri": "https://localhost:8080/"
        },
        "id": "dj_ImAyEf0wG",
        "outputId": "dfe11cbc-51a8-40ef-8f9a-a91809a6048f"
      },
      "execution_count": null,
      "outputs": [
        {
          "output_type": "stream",
          "name": "stdout",
          "text": [
            "2\n",
            "4\n",
            "3\n",
            "-1\n"
          ]
        }
      ]
    },
    {
      "cell_type": "code",
      "source": [
        "import math\n",
        "\n",
        "def count_change(coins, amount):\n",
        "\n",
        "  dp = [[-1 for _ in range(amount+1)] for _ in range(len(coins))]\n",
        "\n",
        "  result = count_change_rec(dp, coins, amount, 0)\n",
        "  return result if result != math.inf else -1\n",
        "\n",
        "def count_change_rec(dp, coins, amount, i):\n",
        "  n = len(coins)\n",
        "  if amount == 0:\n",
        "    return 0\n",
        "\n",
        "  if i >= n:\n",
        "    return math.inf\n",
        "\n",
        "  if dp[i][amount] != -1:\n",
        "    return dp[i][amount]\n",
        "\n",
        "  c1 = math.inf\n",
        "  if coins[i] <= amount:\n",
        "    c1 = 1 + count_change_rec(dp, coins, amount - coins[i], i)\n",
        "  c2 = count_change_rec(dp, coins, amount, i+1)\n",
        "\n",
        "  dp[i][amount] = min(c1, c2)\n",
        "\n",
        "  return dp[i][amount]\n",
        "\n",
        "  # Time O(N*A)\n",
        "  # Space O(N*A)\n",
        "\n",
        "def main():\n",
        "  print(count_change([1, 2, 3], 5))\n",
        "  print(count_change([1, 2, 3], 11))\n",
        "  print(count_change([1, 2, 3], 7))\n",
        "  print(count_change([3, 5], 7))\n",
        "\n",
        "\n",
        "main()"
      ],
      "metadata": {
        "colab": {
          "base_uri": "https://localhost:8080/"
        },
        "id": "AhKTgaL1itzB",
        "outputId": "e3b21e76-bdc1-4e2d-9460-12dcaa0f5e95"
      },
      "execution_count": null,
      "outputs": [
        {
          "output_type": "stream",
          "name": "stdout",
          "text": [
            "2\n",
            "4\n",
            "3\n",
            "-1\n"
          ]
        }
      ]
    },
    {
      "cell_type": "code",
      "source": [
        "import math\n",
        "\n",
        "def count_change(coins, amount):\n",
        "  n = len(coins)\n",
        "  dp = [[math.inf for _ in range(amount+1)] for _ in range(n)]\n",
        "\n",
        "  for i in range(n):\n",
        "    dp[i][0] = 0\n",
        "\n",
        "  for i in range(n):\n",
        "    for a in range(1, amount+1):\n",
        "      c1, c2 = math.inf, math.inf\n",
        "      if coins[i] <= amount:\n",
        "        c1 = 1 + dp[i][a - coins[i]]\n",
        "      if i > 0:\n",
        "        c2 = dp[i-1][a]\n",
        "\n",
        "      dp[i][a] = min(c1, c2)\n",
        "\n",
        "  return dp[n-1][amount]\n",
        "\n",
        "  # Time O(N*A)\n",
        "  # Space O(N*A)\n",
        "\n",
        "def main():\n",
        "  print(count_change([1, 2, 3], 5))\n",
        "  print(count_change([1, 2, 3], 11))\n",
        "  print(count_change([1, 2, 3], 7))\n",
        "  print(count_change([3, 5], 7))\n",
        "\n",
        "\n",
        "main()"
      ],
      "metadata": {
        "colab": {
          "base_uri": "https://localhost:8080/"
        },
        "id": "VB2idOMyjvaj",
        "outputId": "563f89d9-eb73-4368-e65a-04bbdad2606a"
      },
      "execution_count": null,
      "outputs": [
        {
          "output_type": "stream",
          "name": "stdout",
          "text": [
            "2\n",
            "4\n",
            "3\n",
            "inf\n"
          ]
        }
      ]
    },
    {
      "cell_type": "code",
      "source": [
        "import math\n",
        "\n",
        "def count_change(coins, amount):\n",
        "  n = len(coins)\n",
        "  dp = [math.inf for _ in range(amount+1)]\n",
        "\n",
        "  dp[0] = 0\n",
        "\n",
        "  for i in range(n):\n",
        "    for a in range(1, amount+1):\n",
        "      c1 = math.inf\n",
        "      if coins[i] <= amount:\n",
        "        c1 = 1 + dp[a - coins[i]]\n",
        "      c2 = dp[a]\n",
        "\n",
        "      dp[a] = min(c1, c2)\n",
        "\n",
        "  return dp[amount]\n",
        "\n",
        "  # Time O(N*A)\n",
        "  # Space O(A)\n",
        "\n",
        "def main():\n",
        "  print(count_change([1, 2, 3], 5))\n",
        "  print(count_change([1, 2, 3], 11))\n",
        "  print(count_change([1, 2, 3], 7))\n",
        "  print(count_change([3, 5], 7))\n",
        "\n",
        "\n",
        "main()"
      ],
      "metadata": {
        "colab": {
          "base_uri": "https://localhost:8080/"
        },
        "id": "rO_S35vdmH9n",
        "outputId": "3c74eaf6-c5cb-474f-bc51-faae4e39755b"
      },
      "execution_count": null,
      "outputs": [
        {
          "output_type": "stream",
          "name": "stdout",
          "text": [
            "2\n",
            "4\n",
            "3\n",
            "inf\n"
          ]
        }
      ]
    },
    {
      "cell_type": "code",
      "source": [
        "import math\n",
        "\n",
        "\n",
        "def count_ribbon_pieces(ribbonLengths, total):\n",
        "  return count_ribbon_pieces_rec(ribbonLengths, total, 0)\n",
        "\n",
        "def count_ribbon_pieces_rec(ribbonLengths, total, i):\n",
        "  n = len(ribbonLengths)\n",
        "  if total == 0:\n",
        "    return 0\n",
        "\n",
        "  if i >= n:\n",
        "    return -math.inf\n",
        "\n",
        "  c1 = -math.inf\n",
        "  if ribbonLengths[i] <= total:\n",
        "    c1 = 1 + count_ribbon_pieces_rec(ribbonLengths, total - ribbonLengths[i], i)\n",
        "  c2 = count_ribbon_pieces_rec(ribbonLengths, total, i+1)\n",
        "\n",
        "  return max(c1, c2)\n",
        "\n",
        "  # Time O(2^(N+T))\n",
        "  # Space O(N+T)\n",
        "\n",
        "def main():\n",
        "  print(count_ribbon_pieces([2, 3, 5], 5))\n",
        "  print(count_ribbon_pieces([2, 3], 7))\n",
        "  print(count_ribbon_pieces([3, 5, 7], 13))\n",
        "  print(count_ribbon_pieces([3, 5], 7))\n",
        "\n",
        "\n",
        "main()"
      ],
      "metadata": {
        "colab": {
          "base_uri": "https://localhost:8080/"
        },
        "id": "boawjwHzkbD0",
        "outputId": "c04af986-307c-4228-9876-2a3429c0df8a"
      },
      "execution_count": null,
      "outputs": [
        {
          "output_type": "stream",
          "name": "stdout",
          "text": [
            "2\n",
            "3\n",
            "3\n",
            "-inf\n"
          ]
        }
      ]
    },
    {
      "cell_type": "code",
      "source": [
        "import math\n",
        "\n",
        "\n",
        "def count_ribbon_pieces(ribbonLengths, total):\n",
        "  n = len(ribbonLengths)\n",
        "  dp = [[ -math.inf for _ in range(total+1)] for _ in range(n)]\n",
        "\n",
        "  for i in range(n):\n",
        "    dp[i][0] = 0\n",
        "\n",
        "  for i in range(n):\n",
        "    for t in range(1, total+1):\n",
        "      if i > 0:\n",
        "        dp[i][t] = dp[i-1][t]\n",
        "      if ribbonLengths[i] <= t:\n",
        "        dp[i][t] = max(dp[i][t], 1 + dp[i][t - ribbonLengths[i]])\n",
        "\n",
        "  return dp[n-1][total]\n",
        "\n",
        "  # Time O(N*T)\n",
        "  # Space O(N*T)\n",
        "\n",
        "def main():\n",
        "  print(count_ribbon_pieces([2, 3, 5], 5))\n",
        "  print(count_ribbon_pieces([2, 3], 7))\n",
        "  print(count_ribbon_pieces([3, 5, 7], 13))\n",
        "  print(count_ribbon_pieces([3, 5], 7))\n",
        "\n",
        "\n",
        "main()"
      ],
      "metadata": {
        "colab": {
          "base_uri": "https://localhost:8080/"
        },
        "id": "tdhvKtl0n4eg",
        "outputId": "672c1ea3-d408-4599-e7c0-83585dab1aa3"
      },
      "execution_count": null,
      "outputs": [
        {
          "output_type": "stream",
          "name": "stdout",
          "text": [
            "2\n",
            "3\n",
            "3\n",
            "-inf\n"
          ]
        }
      ]
    },
    {
      "cell_type": "code",
      "source": [
        "import math\n",
        "\n",
        "\n",
        "def count_ribbon_pieces(ribbonLengths, total):\n",
        "  n = len(ribbonLengths)\n",
        "  dp = [-math.inf for _ in range(total+1)]\n",
        "  dp[0] = 0\n",
        "\n",
        "  for i in range(n):\n",
        "    for t in range(1, total+1):\n",
        "      if ribbonLengths[i] <= t:\n",
        "        dp[t] = max(dp[t], 1 + dp[t - ribbonLengths[i]])\n",
        "\n",
        "  return dp[total]\n",
        "\n",
        "  # Time O(N*T)\n",
        "  # Space O(T)\n",
        "\n",
        "def main():\n",
        "  print(count_ribbon_pieces([2, 3, 5], 5))\n",
        "  print(count_ribbon_pieces([2, 3], 7))\n",
        "  print(count_ribbon_pieces([3, 5, 7], 13))\n",
        "  print(count_ribbon_pieces([3, 5], 7))\n",
        "\n",
        "\n",
        "main()"
      ],
      "metadata": {
        "colab": {
          "base_uri": "https://localhost:8080/"
        },
        "id": "VYGINbLepyn6",
        "outputId": "b417d867-ebf6-475f-9bec-e01ffca44b47"
      },
      "execution_count": null,
      "outputs": [
        {
          "output_type": "stream",
          "name": "stdout",
          "text": [
            "2\n",
            "3\n",
            "3\n",
            "-inf\n"
          ]
        }
      ]
    }
  ]
}