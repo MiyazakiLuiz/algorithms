{
  "nbformat": 4,
  "nbformat_minor": 0,
  "metadata": {
    "colab": {
      "provenance": []
    },
    "kernelspec": {
      "name": "python3",
      "display_name": "Python 3"
    },
    "language_info": {
      "name": "python"
    }
  },
  "cells": [
    {
      "cell_type": "code",
      "execution_count": null,
      "metadata": {
        "colab": {
          "base_uri": "https://localhost:8080/"
        },
        "id": "d0n4VkJxnUcU",
        "outputId": "09c47ea3-cfa0-4759-c8b9-40c072939f9c"
      },
      "outputs": [
        {
          "output_type": "stream",
          "name": "stdout",
          "text": [
            "5\n",
            "3\n",
            "3\n",
            "4\n",
            "1\n"
          ]
        }
      ],
      "source": [
        "def find_LPS_length(str):\n",
        "  return find_LPS_length_rec(list(str), 0, len(str)-1)\n",
        "\n",
        "def find_LPS_length_rec(str, start, end):\n",
        "  if start > end:\n",
        "    return 0\n",
        "  if start == end:\n",
        "    return 1\n",
        "\n",
        "  if str[start] == str[end]:\n",
        "    return 2 + find_LPS_length_rec(str, start+1, end-1)\n",
        "\n",
        "  c1 = find_LPS_length_rec(str, start+1, end)\n",
        "  c2 = find_LPS_length_rec(str, start, end-1)\n",
        "\n",
        "  return max(c1, c2)\n",
        "\n",
        "  # Time O(2^N)\n",
        "  # Space O(N)\n",
        "\n",
        "def main():\n",
        "  print(find_LPS_length(\"abdbca\"))\n",
        "  print(find_LPS_length(\"cddpd\"))\n",
        "  print(find_LPS_length(\"cddpabefgd\"))\n",
        "  print(find_LPS_length(\"cddppd\"))\n",
        "  print(find_LPS_length(\"pqr\"))\n",
        "\n",
        "\n",
        "main()"
      ]
    },
    {
      "cell_type": "code",
      "source": [
        "def find_LPS_length(str):\n",
        "  n = len(str)\n",
        "  dp = [[-1 for _ in range(n)] for _ in range(n)]\n",
        "  return find_LPS_length_rec(dp, list(str), 0, n-1)\n",
        "\n",
        "def find_LPS_length_rec(dp, str, start, end):\n",
        "  if start > end:\n",
        "    return 0\n",
        "  if start == end:\n",
        "    return 1\n",
        "\n",
        "  if dp[start][end] == -1:\n",
        "    if str[start] == str[end]:\n",
        "      dp[start][end] = 2 + find_LPS_length_rec(dp, str, start+1, end-1)\n",
        "    else:\n",
        "      c1 = find_LPS_length_rec(dp, str, start+1, end)\n",
        "      c2 = find_LPS_length_rec(dp, str, start, end-1)\n",
        "      dp[start][end] = max(c1, c2)\n",
        "\n",
        "  return dp[start][end]\n",
        "\n",
        "  # Time O(N^2)\n",
        "  # Space O(N^2)\n",
        "\n",
        "def main():\n",
        "  print(find_LPS_length(\"abdbca\"))\n",
        "  print(find_LPS_length(\"cddpd\"))\n",
        "  print(find_LPS_length(\"cddpabefgd\"))\n",
        "  print(find_LPS_length(\"cddppd\"))\n",
        "  print(find_LPS_length(\"pqr\"))\n",
        "\n",
        "\n",
        "main()"
      ],
      "metadata": {
        "colab": {
          "base_uri": "https://localhost:8080/"
        },
        "id": "0N0Phc2ZsEpC",
        "outputId": "40835f4d-cc25-43fa-ff4d-85383beed101"
      },
      "execution_count": null,
      "outputs": [
        {
          "output_type": "stream",
          "name": "stdout",
          "text": [
            "5\n",
            "3\n",
            "3\n",
            "4\n",
            "1\n"
          ]
        }
      ]
    },
    {
      "cell_type": "code",
      "source": [
        "def find_LPS_length(str):\n",
        "  n = len(str)\n",
        "\n",
        "  dp = [[0 for _ in range(n)] for _ in range(n)]\n",
        "\n",
        "  for i in range(n):\n",
        "    dp[i][i] = 1\n",
        "\n",
        "  for end in range(1, n):\n",
        "    for start in range(end-1, -1, -1):\n",
        "      if str[start] == str[end]:\n",
        "        dp[start][end] = 2 + dp[start+1][end-1]\n",
        "      else:\n",
        "        c1 = dp[start+1][end]\n",
        "        c2 = dp[start][end-1]\n",
        "        dp[start][end] = max(c1, c2)\n",
        "\n",
        "  return dp[0][n-1]\n",
        "\n",
        "def find_LPS_length_rec(str, start, end):\n",
        "  if start > end:\n",
        "    return 0\n",
        "  if start == end:\n",
        "    return 1\n",
        "\n",
        "  if str[start] == str[end]:\n",
        "    return 2 + find_LPS_length_rec(str, start+1, end-1)\n",
        "\n",
        "  c1 = find_LPS_length_rec(str, start+1, end)\n",
        "  c2 = find_LPS_length_rec(str, start, end-1)\n",
        "\n",
        "  return max(c1, c2)\n",
        "\n",
        "  # Time O(N^2)\n",
        "  # Space O(N^2)\n",
        "\n",
        "def main():\n",
        "  print(find_LPS_length(\"abdbca\"))\n",
        "  print(find_LPS_length(\"cddpd\"))\n",
        "  print(find_LPS_length(\"cddpabefgd\"))\n",
        "  print(find_LPS_length(\"cddppd\"))\n",
        "  print(find_LPS_length(\"pqr\"))\n",
        "\n",
        "\n",
        "main()"
      ],
      "metadata": {
        "colab": {
          "base_uri": "https://localhost:8080/"
        },
        "id": "MGWfDQJqvRTz",
        "outputId": "d7315d2e-f23e-4657-a26b-4dcc77fb230d"
      },
      "execution_count": null,
      "outputs": [
        {
          "output_type": "stream",
          "name": "stdout",
          "text": [
            "5\n",
            "3\n",
            "3\n",
            "4\n",
            "1\n"
          ]
        }
      ]
    },
    {
      "cell_type": "code",
      "source": [
        "import math\n",
        "\n",
        "def find_LPS_length(str):\n",
        "  return find_LPS_length_rec(str, 0, len(str)-1)\n",
        "\n",
        "def find_LPS_length_rec(str, start, end):\n",
        "  if start == end:\n",
        "    return 1\n",
        "  if start > end:\n",
        "    return 0\n",
        "\n",
        "  if str[start] == str[end]:\n",
        "    remainingLength = end - start - 1\n",
        "    c0 = find_LPS_length_rec(str, start+1, end-1)\n",
        "    if c0 == remainingLength:\n",
        "      return c0 + 2\n",
        "\n",
        "  c1 = find_LPS_length_rec(str, start+1, end)\n",
        "  c2 = find_LPS_length_rec(str, start, end-1)\n",
        "\n",
        "  return max(c1, c2)\n",
        "\n",
        "  # Time O(3^N)\n",
        "  # Space O(N)\n",
        "\n",
        "def main():\n",
        "  print(find_LPS_length(\"abdbca\"))\n",
        "  print(find_LPS_length(\"cddpd\"))\n",
        "  print(find_LPS_length(\"pqr\"))\n",
        "\n",
        "\n",
        "main()"
      ],
      "metadata": {
        "id": "XGn7SdnWbRj2",
        "colab": {
          "base_uri": "https://localhost:8080/"
        },
        "outputId": "dc188326-ce5b-4a35-da67-cb31509ba66c"
      },
      "execution_count": null,
      "outputs": [
        {
          "output_type": "stream",
          "name": "stdout",
          "text": [
            "3\n",
            "3\n",
            "1\n"
          ]
        }
      ]
    },
    {
      "cell_type": "code",
      "source": [
        "\n",
        "def find_LPS_length(str):\n",
        "  n = len(str)\n",
        "  dp = [[-1 for _ in range(n)] for _ in range(n)]\n",
        "\n",
        "  return find_LPS_length_rec(dp, str, 0, n-1)\n",
        "\n",
        "def find_LPS_length_rec(dp, str, start, end):\n",
        "  if start == end:\n",
        "    return 1\n",
        "  if start > end:\n",
        "    return 0\n",
        "\n",
        "  if dp[start][end] != -1:\n",
        "    return dp[start][end]\n",
        "\n",
        "  if str[start] == str[end]:\n",
        "    remainingLength = end - start - 1\n",
        "    c0 = find_LPS_length_rec(dp, str, start+1, end-1)\n",
        "    if c0 == remainingLength:\n",
        "      dp[start][end] = c0 + 2\n",
        "      return dp[start][end]\n",
        "\n",
        "  c1 = find_LPS_length_rec(dp, str, start+1, end)\n",
        "  c2 = find_LPS_length_rec(dp, str, start, end-1)\n",
        "  dp[start][end] = max(c1, c2)\n",
        "\n",
        "  return dp[start][end]\n",
        "\n",
        "  # Time O(N^2)\n",
        "  # Space O(N^2)\n",
        "\n",
        "def main():\n",
        "  print(find_LPS_length(\"abdbca\"))\n",
        "  print(find_LPS_length(\"cddpd\"))\n",
        "  print(find_LPS_length(\"pqr\"))\n",
        "\n",
        "\n",
        "main()"
      ],
      "metadata": {
        "colab": {
          "base_uri": "https://localhost:8080/"
        },
        "id": "PN3XMjs849Jl",
        "outputId": "94e3b2fd-9d80-40d9-f372-47ad6aa79454"
      },
      "execution_count": null,
      "outputs": [
        {
          "output_type": "stream",
          "name": "stdout",
          "text": [
            "3\n",
            "3\n",
            "1\n"
          ]
        }
      ]
    },
    {
      "cell_type": "code",
      "source": [
        "def find_LPS_length(str):\n",
        "  n = len(str)\n",
        "  dp = [[False for _ in range(n)] for _ in range(n)]\n",
        "\n",
        "  for i in range(n):\n",
        "    dp[i][i] = True\n",
        "\n",
        "  maxLength = 1\n",
        "  for start in range(n-1, -1, -1):\n",
        "    for end in range(start+1, n):\n",
        "      if str[start] == str[end] and dp[start+1][end-1]:\n",
        "        dp[start][end] = True\n",
        "        maxLength = max(maxLength, end-start+1)\n",
        "\n",
        "  return maxLength\n",
        "\n",
        "\n",
        "\n",
        "  # Time O(N^2)\n",
        "  # Space O(N^2)\n",
        "\n",
        "def main():\n",
        "  print(find_LPS_length(\"abdbca\"))\n",
        "  print(find_LPS_length(\"cddpd\"))\n",
        "  print(find_LPS_length(\"pqr\"))\n",
        "\n",
        "\n",
        "main()"
      ],
      "metadata": {
        "colab": {
          "base_uri": "https://localhost:8080/"
        },
        "id": "vpz7ADAl7KBt",
        "outputId": "fcf0fd8f-6866-42df-a74f-2a2f033cbfcb"
      },
      "execution_count": null,
      "outputs": [
        {
          "output_type": "stream",
          "name": "stdout",
          "text": [
            "3\n",
            "3\n",
            "1\n"
          ]
        }
      ]
    },
    {
      "cell_type": "code",
      "source": [
        "def count_PS(str):\n",
        "  n = len(str)\n",
        "\n",
        "  dp = [[False for _ in range(n)] for _ in range(n)]\n",
        "\n",
        "  for i in range(n):\n",
        "    dp[i][i] = True\n",
        "\n",
        "  count = n\n",
        "  for start in range(n-1, -1, -1):\n",
        "    for end in range(start+1, n):\n",
        "      if str[start] == str[end] and (end == start+1 or dp[start+1][end-1]):\n",
        "        dp[start][end] = True\n",
        "        count += 1\n",
        "\n",
        "  return count\n",
        "\n",
        "  # Time O(N^2)\n",
        "  # Space O(N^2)\n",
        "\n",
        "def main():\n",
        "  print(count_PS(\"abdbca\"))\n",
        "  print(count_PS(\"cddpd\"))\n",
        "  print(count_PS(\"pqr\"))\n",
        "  print(count_PS(\"qqq\"))\n",
        "\n",
        "\n",
        "main()"
      ],
      "metadata": {
        "colab": {
          "base_uri": "https://localhost:8080/"
        },
        "id": "qg8BB7lkYXO9",
        "outputId": "42e57b19-2f06-4c55-e8ec-93662c4a1842"
      },
      "execution_count": null,
      "outputs": [
        {
          "output_type": "stream",
          "name": "stdout",
          "text": [
            "7\n",
            "7\n",
            "3\n",
            "6\n"
          ]
        }
      ]
    },
    {
      "cell_type": "code",
      "source": [
        "def find_minimum_deletions(str):\n",
        "  n = len(str)\n",
        "  return find_minimum_deletions_rec(str, 0, n-1)\n",
        "\n",
        "def find_minimum_deletions_rec(str, start, end):\n",
        "  if start >= end:\n",
        "    return 0\n",
        "\n",
        "  if str[start] == str[end]:\n",
        "    return find_minimum_deletions_rec(str, start+1, end-1)\n",
        "\n",
        "  c1 = find_minimum_deletions_rec(str, start+1, end)\n",
        "  c2 = find_minimum_deletions_rec(str, start, end-1)\n",
        "\n",
        "  return min(c1, c2)+1\n",
        "\n",
        "\n",
        "def main():\n",
        "  print(find_minimum_deletions(\"abdbca\"))\n",
        "  print(find_minimum_deletions(\"cddpd\"))\n",
        "  print(find_minimum_deletions(\"pqr\"))\n",
        "\n",
        "\n",
        "main()"
      ],
      "metadata": {
        "colab": {
          "base_uri": "https://localhost:8080/"
        },
        "id": "Qp7EwJvw_QZ9",
        "outputId": "f3f776d9-a2fd-49fa-d18f-e197f7f0f294"
      },
      "execution_count": null,
      "outputs": [
        {
          "output_type": "stream",
          "name": "stdout",
          "text": [
            "1\n",
            "2\n",
            "2\n"
          ]
        }
      ]
    },
    {
      "cell_type": "code",
      "source": [
        "def find_minimum_deletions(str):\n",
        "  n = len(str)\n",
        "\n",
        "  dp = [[0 for _ in range(n)] for _ in range(n)]\n",
        "\n",
        "  for start in range(n-1, -1, -1):\n",
        "    for end in range(start+1, n):\n",
        "      if str[start] == str[end]:\n",
        "        dp[start][end] = dp[start+1][end-1]\n",
        "      else:\n",
        "        dp[start][end] = min(dp[start+1][end], dp[start][end-1]) + 1\n",
        "\n",
        "  return dp[0][n-1]\n",
        "\n",
        "  # Time O(N^2)\n",
        "  # Space O(N^2)\n",
        "\n",
        "def main():\n",
        "  print(find_minimum_deletions(\"abdbca\"))\n",
        "  print(find_minimum_deletions(\"cddpd\"))\n",
        "  print(find_minimum_deletions(\"pqr\"))\n",
        "\n",
        "\n",
        "main()"
      ],
      "metadata": {
        "colab": {
          "base_uri": "https://localhost:8080/"
        },
        "id": "wbjD1-DDBGNw",
        "outputId": "f8b8357c-18e4-4224-b5f1-a70d50a8c9a0"
      },
      "execution_count": null,
      "outputs": [
        {
          "output_type": "stream",
          "name": "stdout",
          "text": [
            "1\n",
            "2\n",
            "2\n"
          ]
        }
      ]
    },
    {
      "cell_type": "code",
      "source": [
        "def find_MPP_cuts(str):\n",
        "  n = len(str)\n",
        "\n",
        "  return find_MPP_cuts_rec(str, 0, n-1)\n",
        "\n",
        "def find_MPP_cuts_rec(str, start, end):\n",
        "  if start >= end:\n",
        "    return 0\n",
        "\n",
        "  if str[start] == str[end] and is_palindrome(str, start+1, end-1):\n",
        "    return 0\n",
        "\n",
        "  # at max, we need to cut the string into its 'length-1' pieces\n",
        "  minimumCuts = end - start\n",
        "  for i in range(start, end+1):\n",
        "    if is_palindrome(str, start, i):\n",
        "      # we can cut here as we have a palindrome from 'startIndex' to 'i'\n",
        "      minimumCuts = min(\n",
        "        minimumCuts, 1 + find_MPP_cuts_rec(str, i + 1, end))\n",
        "\n",
        "  return minimumCuts\n",
        "\n",
        "  \"\"\"\n",
        "  The time complexity of the above algorithm is exponential\n",
        "O(2^​n), where ‘n’ is the length of the input string. The space complexity is\n",
        "O(n) which is used to store the recursion stack.\n",
        "  \"\"\"\n",
        "\n",
        "def is_palindrome(st, x, y):\n",
        "  while (x < y):\n",
        "    if st[x] != st[y]:\n",
        "      return False\n",
        "    x += 1\n",
        "    y -= 1\n",
        "  return True\n",
        "\n",
        "def main():\n",
        "  print(find_MPP_cuts(\"abdbca\")) #3\n",
        "  print(find_MPP_cuts(\"bdbcc\")) #1\n",
        "  print(find_MPP_cuts(\"abdbcc\")) #2\n",
        "  print(find_MPP_cuts(\"cdpdd\")) #2\n",
        "  print(find_MPP_cuts(\"pqr\")) #2\n",
        "  print(find_MPP_cuts(\"pp\")) #0\n",
        "  print(find_MPP_cuts(\"madam\")) #0\n",
        "\n",
        "\n",
        "main()"
      ],
      "metadata": {
        "colab": {
          "base_uri": "https://localhost:8080/"
        },
        "id": "HmngRC89ZCQI",
        "outputId": "fd27b080-8a64-4d8c-aaff-dfdd3fd278ad"
      },
      "execution_count": null,
      "outputs": [
        {
          "output_type": "stream",
          "name": "stdout",
          "text": [
            "3\n",
            "1\n",
            "2\n",
            "2\n",
            "2\n",
            "0\n",
            "0\n"
          ]
        }
      ]
    },
    {
      "cell_type": "code",
      "source": [
        "def find_MPP_cuts(str):\n",
        "  n = len(str)\n",
        "\n",
        "  dp = [[-1 for _ in range(n)] for _ in range(n)]\n",
        "\n",
        "  return find_MPP_cuts_rec(dp, str, 0, n-1)\n",
        "\n",
        "def find_MPP_cuts_rec(dp, str, start, end):\n",
        "  if start >= end:\n",
        "    return 0\n",
        "\n",
        "  if dp[start][end] != -1:\n",
        "    return dp[start][end]\n",
        "\n",
        "  if str[start] == str[end] and find_MPP_cuts_rec(dp, str, start+1, end-1) == 0:\n",
        "    dp[start][end] = 0\n",
        "    return dp[start][end]\n",
        "\n",
        "  # at max, we need to cut the string into its 'length-1' pieces\n",
        "  minimumCuts = end - start\n",
        "  for i in range(start, end+1):\n",
        "    if is_palindrome(str, start, i):\n",
        "      # we can cut here as we have a palindrome from 'startIndex' to 'i'\n",
        "      minimumCuts = min(\n",
        "        minimumCuts, 1 + find_MPP_cuts_rec(dp, str, i + 1, end))\n",
        "\n",
        "  dp[start][end] = minimumCuts\n",
        "\n",
        "  return dp[start][end]\n",
        "\n",
        "\n",
        "  # Time O(N^2)\n",
        "  # Space O(N^2)\n",
        "\n",
        "def is_palindrome(st, x, y):\n",
        "  while (x < y):\n",
        "    if st[x] != st[y]:\n",
        "      return False\n",
        "    x += 1\n",
        "    y -= 1\n",
        "  return True\n",
        "\n",
        "def main():\n",
        "  print(find_MPP_cuts(\"abdbca\")) #3\n",
        "  print(find_MPP_cuts(\"bdbcc\")) #1\n",
        "  print(find_MPP_cuts(\"abdbcc\")) #2\n",
        "  print(find_MPP_cuts(\"cdpdd\")) #2\n",
        "  print(find_MPP_cuts(\"pqr\")) #2\n",
        "  print(find_MPP_cuts(\"pp\")) #0\n",
        "  print(find_MPP_cuts(\"madam\")) #0\n",
        "\n",
        "\n",
        "main()"
      ],
      "metadata": {
        "colab": {
          "base_uri": "https://localhost:8080/"
        },
        "id": "bOFQAKgXozrP",
        "outputId": "c6f8700f-6abe-4ccc-fe54-8999f22521dc"
      },
      "execution_count": null,
      "outputs": [
        {
          "output_type": "stream",
          "name": "stdout",
          "text": [
            "3\n",
            "1\n",
            "2\n",
            "2\n",
            "2\n",
            "0\n",
            "0\n"
          ]
        }
      ]
    },
    {
      "cell_type": "code",
      "source": [
        "def find_MPP_cuts(str):\n",
        "  n = len(str)\n",
        "  dp = [[0 for _ in range(n)] for _ in range(n)]\n",
        "  dp_is_p = [[-1 for _ in range(n)] for _ in range(n)]\n",
        "\n",
        "  for start in range(n-1, -1, -1):\n",
        "    for end in range(start+1, n):\n",
        "      if is_palindrome(dp_is_p, str, start, end):\n",
        "        dp[start][end] = 0\n",
        "      else:\n",
        "        minimumCuts = end - start\n",
        "        for i in range(start, end):\n",
        "          if is_palindrome(dp_is_p, str, start, i):\n",
        "            minimumCuts = min(minimumCuts, 1 + dp[i + 1][end])\n",
        "        dp[start][end] = minimumCuts\n",
        "\n",
        "\n",
        "  return dp[0][n-1]\n",
        "\n",
        "  # Time O(N^2)\n",
        "  # Space O(N^2)\n",
        "\n",
        "def is_palindrome(dp, st, x, y):\n",
        "  if dp[x][y] == -1:\n",
        "    dp[x][y] = 1\n",
        "    if x < y:\n",
        "      if st[x] != st[y]:\n",
        "        dp[x][y] = 0\n",
        "        return False\n",
        "      else:\n",
        "        return is_palindrome(dp, st, x+1, y-1)\n",
        "\n",
        "  return dp[x][y] == 1\n",
        "\n",
        "def main():\n",
        "  print(find_MPP_cuts(\"abdbca\")) #3\n",
        "  print(find_MPP_cuts(\"bdbcc\")) #1\n",
        "  print(find_MPP_cuts(\"abdbcc\")) #2\n",
        "  print(find_MPP_cuts(\"cdpdd\")) #2\n",
        "  print(find_MPP_cuts(\"pqr\")) #2\n",
        "  print(find_MPP_cuts(\"pp\")) #0\n",
        "  print(find_MPP_cuts(\"madam\")) #0\n",
        "\n",
        "\n",
        "main()"
      ],
      "metadata": {
        "colab": {
          "base_uri": "https://localhost:8080/"
        },
        "id": "hzsQ3C11_0W5",
        "outputId": "ae406d7d-6cbc-435c-c43f-413ec49f4d99"
      },
      "execution_count": null,
      "outputs": [
        {
          "output_type": "stream",
          "name": "stdout",
          "text": [
            "3\n",
            "1\n",
            "2\n",
            "2\n",
            "2\n",
            "0\n",
            "0\n"
          ]
        }
      ]
    },
    {
      "cell_type": "code",
      "source": [
        "def find_MPP_cuts(st):\n",
        "  n = len(st)\n",
        "  # isPalindrome[i][j] will be 'true' if the string from index 'i' to index 'j' is a palindrome\n",
        "  isPalindrome = [[False for _ in range(n)] for _ in range(n)]\n",
        "\n",
        "  # every string with one character is a palindrome\n",
        "  for i in range(n):\n",
        "    isPalindrome[i][i] = True\n",
        "\n",
        "  # populate isPalindrome table\n",
        "  for startIndex in range(n-1, -1, -1):\n",
        "    for endIndex in range(startIndex+1, n):\n",
        "      if st[startIndex] == st[endIndex]:\n",
        "        # if it's a two character string or if the remaining string is a palindrome too\n",
        "        if endIndex - startIndex == 1 or isPalindrome[startIndex + 1][endIndex - 1]:\n",
        "          isPalindrome[startIndex][endIndex] = True\n",
        "\n",
        "  # now lets populate the second table, every index in 'cuts' stores the minimum cuts needed\n",
        "  # for the substring from that index till the end\n",
        "  cuts = [0 for _ in range(n)]\n",
        "  for startIndex in range(n-1, -1, -1):\n",
        "    minCuts = n  # maximum cuts\n",
        "    for endIndex in range(n-1, startIndex-1, -1):\n",
        "      if isPalindrome[startIndex][endIndex]:\n",
        "        # we can cut here as we got a palindrome\n",
        "        # also we don't need any cut if the whole substring is a palindrome\n",
        "        minCuts = 0 if endIndex == n-1 else min(minCuts, 1 + cuts[endIndex + 1])\n",
        "\n",
        "    cuts[startIndex] = minCuts\n",
        "\n",
        "  return cuts[0]\n",
        "\n",
        "\n",
        "def main():\n",
        "  print(find_MPP_cuts(\"abdbca\"))\n",
        "  print(find_MPP_cuts(\"bdbcc\")) #1\n",
        "  print(find_MPP_cuts(\"abdbcc\")) #2\n",
        "  print(find_MPP_cuts(\"cdpdd\"))\n",
        "  print(find_MPP_cuts(\"pqr\"))\n",
        "  print(find_MPP_cuts(\"pp\"))\n",
        "  print(find_MPP_cuts(\"madam\"))\n",
        "\n",
        "\n",
        "main()"
      ],
      "metadata": {
        "colab": {
          "base_uri": "https://localhost:8080/"
        },
        "id": "lHJ4Cg3bHume",
        "outputId": "d1493886-9456-4e8b-b542-2e3414079f1b"
      },
      "execution_count": null,
      "outputs": [
        {
          "output_type": "stream",
          "name": "stdout",
          "text": [
            "3\n",
            "1\n",
            "2\n",
            "2\n",
            "2\n",
            "0\n",
            "0\n"
          ]
        }
      ]
    }
  ]
}