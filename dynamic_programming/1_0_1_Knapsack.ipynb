{
  "nbformat": 4,
  "nbformat_minor": 0,
  "metadata": {
    "colab": {
      "provenance": []
    },
    "kernelspec": {
      "name": "python3",
      "display_name": "Python 3"
    },
    "language_info": {
      "name": "python"
    }
  },
  "cells": [
    {
      "cell_type": "code",
      "execution_count": null,
      "metadata": {
        "colab": {
          "base_uri": "https://localhost:8080/"
        },
        "id": "HsNZmgoh2seH",
        "outputId": "892a392f-937f-4088-b875-2357798b2d7b"
      },
      "outputs": [
        {
          "output_type": "stream",
          "name": "stdout",
          "text": [
            "[(4, 7), (3, 5), (2, 4), (1, 3)]\n",
            "Output: [1, 3]\n"
          ]
        }
      ],
      "source": [
        "import math\n",
        "\n",
        "def maxProfit(weights, profits, C):\n",
        "  if len(weights) != len(profits):\n",
        "    return None\n",
        "\n",
        "  wp = []\n",
        "  for i in range(len(weights)):\n",
        "    wp.append((weights[i], profits[i]))\n",
        "\n",
        "  wp.sort(key=lambda x:x[0], reverse=True)\n",
        "\n",
        "  maxProfit = -math.inf\n",
        "  indexes = []\n",
        "  for i in range(len(wp)):\n",
        "    start = end = i + 1\n",
        "    w = wp[i][0]\n",
        "    p = wp[i][1]\n",
        "\n",
        "    if p > maxProfit:\n",
        "      maxProfit = p\n",
        "      indexes = [i]\n",
        "\n",
        "    while start < len(wp):\n",
        "      if w + wp[end][0] <= C:\n",
        "        w += wp[end][0]\n",
        "        p += wp[end][1]\n",
        "        if p > maxProfit:\n",
        "          maxProfit = p\n",
        "          indexes = [i] + list(range(start, end + 1))\n",
        "        end += 1\n",
        "        if end >= len(wp):\n",
        "          break\n",
        "      else:\n",
        "        start += 1\n",
        "        if end < start:\n",
        "          end = start\n",
        "        else:\n",
        "          p -= wp[start][0]\n",
        "          w -= wp[start][1]\n",
        "\n",
        "  print(wp)\n",
        "  return indexes\n",
        "\n",
        "  ## It was my first code, doesn't work :(\n",
        "\n",
        "def main():\n",
        "  w = [2, 3, 1, 4]\n",
        "  p = [4, 5, 3, 7]\n",
        "  c = 5\n",
        "  print(\"Output: \" + str(maxProfit(w, p, c)))\n",
        "\n",
        "main()"
      ]
    },
    {
      "cell_type": "code",
      "source": [
        "def solve_knapsack(profits, weights, capacity):\n",
        "  return knapsack_recursive(profits, weights, capacity, 0)\n",
        "\n",
        "\n",
        "def knapsack_recursive(profits, weights, capacity, currentIndex):\n",
        "  # base checks\n",
        "  if capacity <= 0 or currentIndex >= len(profits):\n",
        "    return 0\n",
        "\n",
        "  # recursive call after choosing the element at the currentIndex\n",
        "  # if the weight of the element at currentIndex exceeds the capacity, we  shouldn't process this\n",
        "  profit1 = 0\n",
        "  if weights[currentIndex] <= capacity:\n",
        "    profit1 = profits[currentIndex] + knapsack_recursive(\n",
        "      profits, weights, capacity - weights[currentIndex], currentIndex + 1)\n",
        "\n",
        "  # recursive call after excluding the element at the currentIndex\n",
        "  profit2 = knapsack_recursive(profits, weights, capacity, currentIndex + 1)\n",
        "\n",
        "  return max(profit1, profit2)\n",
        "\n",
        "  # Complexity\n",
        "  # Time O(2^n)\n",
        "  # Space O(n)\n",
        "\n",
        "def main():\n",
        "  print(solve_knapsack([1, 6, 10, 16], [1, 2, 3, 5], 7))\n",
        "  print(solve_knapsack([1, 6, 10, 16], [1, 2, 3, 5], 6))\n",
        "  print(solve_knapsack([4, 5, 3, 7], [2, 3, 1, 4], 5))\n",
        "\n",
        "\n",
        "main()"
      ],
      "metadata": {
        "colab": {
          "base_uri": "https://localhost:8080/"
        },
        "id": "XuoIjpb1WarX",
        "outputId": "2a748402-2c42-4519-a9b1-dd4b8c39471e"
      },
      "execution_count": null,
      "outputs": [
        {
          "output_type": "stream",
          "name": "stdout",
          "text": [
            "22\n",
            "17\n",
            "10\n"
          ]
        }
      ]
    },
    {
      "cell_type": "code",
      "source": [
        "def solve_knapsack(profits, weights, capacity):\n",
        "  # create a two dimensional array for Memoization, each element is initialized to '-1'\n",
        "  dp = [[-1 for x in range(capacity+1)] for y in range(len(profits))]\n",
        "  return knapsack_recursive(dp, profits, weights, capacity, 0)\n",
        "\n",
        "\n",
        "def knapsack_recursive(dp, profits, weights, capacity, currentIndex):\n",
        "\n",
        "  # base checks\n",
        "  if capacity <= 0 or currentIndex >= len(profits):\n",
        "    return 0\n",
        "\n",
        "  # if we have already solved a similar problem, return the result from memory\n",
        "  if dp[currentIndex][capacity] != -1:\n",
        "    return dp[currentIndex][capacity]\n",
        "\n",
        "  # recursive call after choosing the element at the currentIndex\n",
        "  # if the weight of the element at currentIndex exceeds the capacity, we\n",
        "  # shouldn't process this\n",
        "  profit1 = 0\n",
        "  if weights[currentIndex] <= capacity:\n",
        "    profit1 = profits[currentIndex] + knapsack_recursive(\n",
        "      dp, profits, weights, capacity - weights[currentIndex], currentIndex + 1)\n",
        "\n",
        "  # recursive call after excluding the element at the currentIndex\n",
        "  profit2 = knapsack_recursive(\n",
        "    dp, profits, weights, capacity, currentIndex + 1)\n",
        "\n",
        "  dp[currentIndex][capacity] = max(profit1, profit2)\n",
        "  return dp[currentIndex][capacity]\n",
        "\n",
        "  # Complexity\n",
        "  # Time O(N*C)\n",
        "  # Space O(N*C)\n",
        "\n",
        "def main():\n",
        "  print(solve_knapsack([1, 6, 10, 16], [1, 2, 3, 5], 7))\n",
        "  print(solve_knapsack([1, 6, 10, 16], [1, 2, 3, 5], 6))\n",
        "\n",
        "\n",
        "main()"
      ],
      "metadata": {
        "colab": {
          "base_uri": "https://localhost:8080/"
        },
        "id": "2XpOI5ckeuOS",
        "outputId": "1125e469-0073-4795-f983-c5a7db1d4538"
      },
      "execution_count": null,
      "outputs": [
        {
          "output_type": "stream",
          "name": "stdout",
          "text": [
            "22\n",
            "17\n"
          ]
        }
      ]
    },
    {
      "cell_type": "code",
      "source": [
        "def solve_knapsack(profits, weights, capacity):\n",
        "  # basic checks\n",
        "  n = len(profits)\n",
        "  if capacity <= 0 or n == 0 or len(weights) != n:\n",
        "    return 0\n",
        "\n",
        "  dp = [[0 for x in range(capacity+1)] for y in range(n)]\n",
        "\n",
        "  # populate the capacity = 0 columns, with '0' capacity we have '0' profit\n",
        "  for i in range(0, n):\n",
        "    dp[i][0] = 0\n",
        "\n",
        "  # if we have only one weight, we will take it if it is not more than the capacity\n",
        "  for c in range(0, capacity+1):\n",
        "    if weights[0] <= c:\n",
        "      dp[0][c] = profits[0]\n",
        "\n",
        "  # process all sub-arrays for all the capacities\n",
        "  for i in range(1, n):\n",
        "    for c in range(1, capacity+1):\n",
        "      profit1, profit2 = 0, 0\n",
        "      # include the item, if it is not more than the capacity\n",
        "      if weights[i] <= c:\n",
        "        profit1 = profits[i] + dp[i - 1][c - weights[i]]\n",
        "      # exclude the item\n",
        "      profit2 = dp[i - 1][c]\n",
        "      # take maximum\n",
        "      dp[i][c] = max(profit1, profit2)\n",
        "\n",
        "  # maximum profit will be at the bottom-right corner.\n",
        "  return dp[n - 1][capacity]\n",
        "\n",
        "  # Complexity\n",
        "  # Time O(N*C)\n",
        "  # Space O(N*C)\n",
        "\n",
        "\n",
        "def main():\n",
        "  print(solve_knapsack([1, 6, 10, 15], [1, 2, 3, 5], 5))\n",
        "  print(solve_knapsack([1, 6, 10, 15], [1, 2, 3, 5], 6))\n",
        "  print(solve_knapsack([1, 6, 10, 15], [1, 2, 3, 5], 7))\n",
        "\n",
        "\n",
        "main()"
      ],
      "metadata": {
        "colab": {
          "base_uri": "https://localhost:8080/"
        },
        "id": "Xpy1JB-KuwS3",
        "outputId": "ddd3d856-6957-4b0e-dd81-88ef67f09734"
      },
      "execution_count": null,
      "outputs": [
        {
          "output_type": "stream",
          "name": "stdout",
          "text": [
            "16\n",
            "17\n",
            "21\n"
          ]
        }
      ]
    },
    {
      "cell_type": "code",
      "source": [
        "from __future__ import print_function\n",
        "\n",
        "\n",
        "def solve_knapsack(profits, weights, capacity):\n",
        "  # basic checks\n",
        "  n = len(profits)\n",
        "  if capacity <= 0 or n == 0 or len(weights) != n:\n",
        "    return 0\n",
        "\n",
        "  dp = [[0 for x in range(capacity+1)] for y in range(n)]\n",
        "\n",
        "  # populate the capacity = 0 columns, with '0' capacity we have '0' profit\n",
        "  for i in range(0, n):\n",
        "    dp[i][0] = 0\n",
        "\n",
        "  # if we have only one weight, we will take it if it is not more than the capacity\n",
        "  for c in range(0, capacity+1):\n",
        "    if weights[0] <= c:\n",
        "      dp[0][c] = profits[0]\n",
        "\n",
        "  # process all sub-arrays for all the capacities\n",
        "  for i in range(1, n):\n",
        "    for c in range(1, capacity+1):\n",
        "      profit1, profit2 = 0, 0\n",
        "      # include the item, if it is not more than the capacity\n",
        "      if weights[i] <= c:\n",
        "        profit1 = profits[i] + dp[i - 1][c - weights[i]]\n",
        "      # exclude the item\n",
        "      profit2 = dp[i - 1][c]\n",
        "      # take maximum\n",
        "      dp[i][c] = max(profit1, profit2)\n",
        "\n",
        "  print_selected_elements(dp, weights, profits, capacity)\n",
        "  # maximum profit will be at the bottom-right corner.\n",
        "  return dp[n - 1][capacity]\n",
        "\n",
        "\n",
        "def print_selected_elements(dp, weights, profits, capacity):\n",
        "  print(\"Selected weights are: \", end='')\n",
        "  n = len(weights)\n",
        "  totalProfit = dp[n-1][capacity]\n",
        "  for i in range(n-1, 0, -1):\n",
        "    if totalProfit != dp[i - 1][capacity]:\n",
        "      print(str(weights[i]) + \" \", end='')\n",
        "      capacity -= weights[i]\n",
        "      totalProfit -= profits[i]\n",
        "\n",
        "  if totalProfit != 0:\n",
        "    print(str(weights[0]) + \" \", end='')\n",
        "  print()\n",
        "\n",
        "\n",
        "def main():\n",
        "  print(\"Total knapsack profit: \" +\n",
        "        str(solve_knapsack([1, 6, 10, 16], [1, 2, 3, 5], 7)))\n",
        "  print(\"Total knapsack profit: \" +\n",
        "        str(solve_knapsack([1, 6, 10, 16], [1, 2, 3, 5], 6)))\n",
        "\n",
        "  print(solve_knapsack([1, 6, 10, 15], [1, 2, 3, 5], 5))\n",
        "  print(solve_knapsack([1, 6, 10, 15], [1, 2, 3, 5], 6))\n",
        "  print(solve_knapsack([1, 6, 10, 15], [1, 2, 3, 5], 7))\n",
        "\n",
        "\n",
        "main()"
      ],
      "metadata": {
        "colab": {
          "base_uri": "https://localhost:8080/"
        },
        "id": "LxxOYpZfxgCG",
        "outputId": "68846355-ef02-4e89-9fe7-cd36482873f0"
      },
      "execution_count": null,
      "outputs": [
        {
          "output_type": "stream",
          "name": "stdout",
          "text": [
            "Selected weights are: 5 2 \n",
            "Total knapsack profit: 22\n",
            "Selected weights are: 3 2 1 \n",
            "Total knapsack profit: 17\n",
            "Selected weights are: 3 2 \n",
            "16\n",
            "Selected weights are: 3 2 1 \n",
            "17\n",
            "Selected weights are: 5 2 \n",
            "21\n"
          ]
        }
      ]
    },
    {
      "cell_type": "code",
      "source": [
        "def solve_knapsack(profits, weights, capacity):\n",
        "  # basic checks\n",
        "  n = len(profits)\n",
        "  if capacity <= 0 or n == 0 or len(weights) != n:\n",
        "    return 0\n",
        "\n",
        "  dp = [[0 for x in range(capacity+1)] for x in range(2)]\n",
        "\n",
        "  # if we have only one weight, we will take it if it is not more than the capacity\n",
        "  for c in range(0, capacity+1):\n",
        "    if weights[0] <= c:\n",
        "      dp[0][c] = profits[0]\n",
        "\n",
        "  # process all sub-arrays for all the capacities\n",
        "  for i in range(1, n):\n",
        "    for c in range(1, capacity+1):\n",
        "      profit1, profit2 = 0, 0\n",
        "      # include the item, if it is not more than the capacity\n",
        "      if weights[i] <= c:\n",
        "        profit1 = profits[i] + dp[(i - 1)%2][c - weights[i]]\n",
        "      # exclude the item\n",
        "      profit2 = dp[(i - 1)%2][c]\n",
        "      # take maximum\n",
        "      dp[i%2][c] = max(profit1, profit2)\n",
        "      # print(\"i: \" + str(i) + \", c: \" + str(c) + \", w: \" + str(weights[i]))\n",
        "      # print_matrix(dp)\n",
        "\n",
        "  # maximum profit will be at the bottom-right corner.\n",
        "  return dp[(n - 1)%2][capacity]\n",
        "\n",
        "  # Complexity\n",
        "  # Time O(N*C)\n",
        "  # Space O(2*C) = O(C)\n",
        "\n",
        "def print_matrix(matrix):\n",
        "  if not matrix:\n",
        "    return\n",
        "\n",
        "  rows = len(matrix)\n",
        "\n",
        "  print(\"Matrix:\")\n",
        "  for r in range(rows):\n",
        "    print(str(matrix[r]))\n",
        "  print()\n",
        "\n",
        "def main():\n",
        "  print(solve_knapsack([1, 6, 10, 15], [1, 2, 3, 5], 5))\n",
        "  print(solve_knapsack([1, 6, 10, 15], [1, 2, 3, 5], 6))\n",
        "  print(solve_knapsack([1, 6, 10, 15], [1, 2, 3, 5], 7))\n",
        "\n",
        "\n",
        "main()"
      ],
      "metadata": {
        "id": "Uwjn1zVXloG0",
        "colab": {
          "base_uri": "https://localhost:8080/"
        },
        "outputId": "4cdb4d92-3c49-4d52-97cd-638737279b6a"
      },
      "execution_count": null,
      "outputs": [
        {
          "output_type": "stream",
          "name": "stdout",
          "text": [
            "16\n",
            "17\n",
            "21\n"
          ]
        }
      ]
    },
    {
      "cell_type": "code",
      "source": [
        "def solve_knapsack(profits, weights, capacity):\n",
        "  # basic checks\n",
        "  n = len(profits)\n",
        "  if capacity <= 0 or n == 0 or len(weights) != n:\n",
        "    return 0\n",
        "\n",
        "  dp = [0 for x in range(capacity+1)]\n",
        "\n",
        "  # if we have only one weight, we will take it if it is not more than the capacity\n",
        "  for c in range(0, capacity+1):\n",
        "    if weights[0] <= c:\n",
        "      dp[c] = profits[0]\n",
        "\n",
        "  # process all sub-arrays for all the capacities\n",
        "  for i in range(1, n):\n",
        "    for c in range(capacity, 0, -1):\n",
        "      profit1, profit2 = 0, 0\n",
        "      # include the item, if it is not more than the capacity\n",
        "      if weights[i] <= c:\n",
        "        profit1 = profits[i] + dp[c - weights[i]]\n",
        "      # exclude the item\n",
        "      profit2 = dp[c]\n",
        "      # take maximum\n",
        "      dp[c] = max(profit1, profit2)\n",
        "      # print(\"i: \" + str(i) + \", c: \" + str(c) + \", w: \" + str(weights[i]))\n",
        "      # print_matrix(dp)\n",
        "\n",
        "  # maximum profit will be at the bottom-right corner.\n",
        "  return dp[capacity]\n",
        "\n",
        "  # Complexity\n",
        "  # Time O(N*C)\n",
        "  # Space O(C) -> Using only a single array with size C\n",
        "\n",
        "def print_matrix(matrix):\n",
        "  if not matrix:\n",
        "    return\n",
        "\n",
        "  rows = len(matrix)\n",
        "\n",
        "  print(\"Matrix:\")\n",
        "  for r in range(rows):\n",
        "    print(str(matrix[r]))\n",
        "  print()\n",
        "\n",
        "def main():\n",
        "  print(solve_knapsack([1, 6, 10, 15], [1, 2, 3, 5], 5))\n",
        "  print(solve_knapsack([1, 6, 10, 15], [1, 2, 3, 5], 6))\n",
        "  print(solve_knapsack([1, 6, 10, 15], [1, 2, 3, 5], 7))\n",
        "\n",
        "\n",
        "main()"
      ],
      "metadata": {
        "colab": {
          "base_uri": "https://localhost:8080/"
        },
        "id": "2-PUA_n6Sa3o",
        "outputId": "fd1791d5-7834-4c30-e4c5-14b0359664a3"
      },
      "execution_count": null,
      "outputs": [
        {
          "output_type": "stream",
          "name": "stdout",
          "text": [
            "16\n",
            "17\n",
            "21\n"
          ]
        }
      ]
    },
    {
      "cell_type": "code",
      "source": [
        "def equal_subset_sum_partition(nums):\n",
        "  n = len(nums)\n",
        "  nums.sort()\n",
        "\n",
        "  sum1 = sum2 = 0\n",
        "  for i in range(n-1, -1, -1):\n",
        "    if sum1 < sum2:\n",
        "      sum1 += nums[i]\n",
        "    else:\n",
        "      sum2 += nums[i]\n",
        "\n",
        "  return sum1 == sum2\n",
        "\n",
        "\n",
        "def main():\n",
        "  print(equal_subset_sum_partition([1, 2, 3, 4]))\n",
        "  print(equal_subset_sum_partition([1, 1, 3, 4, 7]))\n",
        "  print(equal_subset_sum_partition([2, 3, 4, 6]))\n",
        "\n",
        "main()"
      ],
      "metadata": {
        "colab": {
          "base_uri": "https://localhost:8080/"
        },
        "id": "GoQIh3zQbGCA",
        "outputId": "ba21e6c2-0348-462d-f7ec-1c2c2b9db9c7"
      },
      "execution_count": null,
      "outputs": [
        {
          "output_type": "stream",
          "name": "stdout",
          "text": [
            "True\n",
            "True\n",
            "False\n"
          ]
        }
      ]
    },
    {
      "cell_type": "code",
      "source": [
        "def equal_subset_sum_partition(nums):\n",
        "  n = len(nums)\n",
        "  s = sum(nums)\n",
        "\n",
        "  if s%2 == 1:\n",
        "    return False\n",
        "\n",
        "  dp = [[None for x in range(s//2+1)] for y in range(n)]\n",
        "\n",
        "  return can_partition_recursive(dp, nums, s//2, 0)\n",
        "\n",
        "\n",
        "def can_partition_recursive(dp, nums, sum, index):\n",
        "  if sum == 0:\n",
        "    return True\n",
        "\n",
        "  if len(nums) == 0 or index >= len(nums):\n",
        "    return False\n",
        "\n",
        "  if dp[index][sum] == None:\n",
        "    if nums[index] <= sum:\n",
        "      if can_partition_recursive(dp, nums, sum - nums[index], index + 1):\n",
        "        dp[index][sum] = True\n",
        "        return True\n",
        "\n",
        "    dp[index][sum] = can_partition_recursive(dp, nums, sum, index + 1)\n",
        "\n",
        "  return dp[index][sum]\n",
        "\n",
        "\n",
        "def main():\n",
        "  print(equal_subset_sum_partition([1, 2, 3, 4]))\n",
        "  print(equal_subset_sum_partition([1, 1, 3, 4, 7]))\n",
        "  print(equal_subset_sum_partition([2, 3, 4, 6]))\n",
        "\n",
        "main()"
      ],
      "metadata": {
        "colab": {
          "base_uri": "https://localhost:8080/"
        },
        "id": "EapRAJIous65",
        "outputId": "22b0fbd1-a850-49fb-e225-a8cc6b988967"
      },
      "execution_count": null,
      "outputs": [
        {
          "output_type": "stream",
          "name": "stdout",
          "text": [
            "True\n",
            "True\n",
            "False\n"
          ]
        }
      ]
    },
    {
      "cell_type": "code",
      "source": [
        "def equal_subset_sum_partition(nums):\n",
        "  n = len(nums)\n",
        "  s = sum(nums)\n",
        "\n",
        "  if s%2 == 1:\n",
        "    return False\n",
        "\n",
        "  dp = [[False for x in range(s//2+1)] for y in range(n)]\n",
        "\n",
        "  for i in range(n):\n",
        "    dp[i][0] = True\n",
        "\n",
        "  for su in range(s//2+1):\n",
        "    dp[0][su] = su == nums[0]\n",
        "\n",
        "\n",
        "  for i in range(1, n):\n",
        "    for su in range(1, s//2+1):\n",
        "      if dp[i-1][su]:\n",
        "        dp[i][su] = True\n",
        "      elif nums[i] <= su:\n",
        "        dp[i][su] = dp[i-1][su - nums[i]]\n",
        "\n",
        "  return dp[n-1][s//2]\n",
        "\n",
        "  # Space O(N*S)\n",
        "\n",
        "def main():\n",
        "  print(equal_subset_sum_partition([1, 2, 3, 4]))\n",
        "  print(equal_subset_sum_partition([1, 1, 3, 4, 7]))\n",
        "  print(equal_subset_sum_partition([2, 3, 4, 6]))\n",
        "\n",
        "main()"
      ],
      "metadata": {
        "colab": {
          "base_uri": "https://localhost:8080/"
        },
        "id": "ZmeBCvYQxp8C",
        "outputId": "8c5b1682-3b59-4b40-df5d-5b197cafd06d"
      },
      "execution_count": null,
      "outputs": [
        {
          "output_type": "stream",
          "name": "stdout",
          "text": [
            "True\n",
            "True\n",
            "False\n"
          ]
        }
      ]
    },
    {
      "cell_type": "code",
      "source": [
        "def equal_subset_sum_partition(nums):\n",
        "  n = len(nums)\n",
        "  s = sum(nums)\n",
        "\n",
        "  if s%2 == 1:\n",
        "    return False\n",
        "\n",
        "  dp = [[False for x in range(s//2+1)] for y in range(2)]\n",
        "\n",
        "  for i in range(2):\n",
        "    dp[i][0] = True\n",
        "\n",
        "  for su in range(s//2+1):\n",
        "    dp[0][su] = su == nums[0]\n",
        "\n",
        "\n",
        "  for i in range(1, n):\n",
        "    for su in range(1, s//2+1):\n",
        "      if dp[(i-1)%2][su]:\n",
        "        dp[i%2][su] = True\n",
        "      elif nums[i] <= su:\n",
        "        dp[i%2][su] = dp[(i-1)%2][su - nums[i]]\n",
        "\n",
        "  return dp[(n-1)%2][s//2]\n",
        "\n",
        "  # Space O(2*S) = O(S)\n",
        "\n",
        "def main():\n",
        "  print(equal_subset_sum_partition([1, 2, 3, 4]))\n",
        "  print(equal_subset_sum_partition([1, 1, 3, 4, 7]))\n",
        "  print(equal_subset_sum_partition([2, 3, 4, 6]))\n",
        "\n",
        "main()"
      ],
      "metadata": {
        "colab": {
          "base_uri": "https://localhost:8080/"
        },
        "id": "U7J9eVN82gFf",
        "outputId": "76d510bc-12c0-4c14-abdc-c6dea899f5b6"
      },
      "execution_count": null,
      "outputs": [
        {
          "output_type": "stream",
          "name": "stdout",
          "text": [
            "True\n",
            "True\n",
            "False\n"
          ]
        }
      ]
    },
    {
      "cell_type": "code",
      "source": [
        "def equal_subset_sum_partition(nums):\n",
        "  n = len(nums)\n",
        "  s = sum(nums)\n",
        "\n",
        "  if s%2 == 1:\n",
        "    return False\n",
        "\n",
        "  s //= 2\n",
        "  dp = [False for x in range(s+1)]\n",
        "  dp[0] = True\n",
        "\n",
        "  for su in range(1, s+1):\n",
        "    dp[su] = su == nums[0]\n",
        "\n",
        "\n",
        "  for i in range(1, n):\n",
        "    for su in range(s, 0, -1):\n",
        "      if dp[su]:\n",
        "        if su == s:\n",
        "          break\n",
        "        continue\n",
        "      elif nums[i] <= su:\n",
        "        dp[su] = dp[su - nums[i]]\n",
        "\n",
        "  return dp[s]\n",
        "\n",
        "  # Space O(S)\n",
        "\n",
        "def main():\n",
        "  print(equal_subset_sum_partition([1, 2, 3, 4]))\n",
        "  print(equal_subset_sum_partition([1, 1, 3, 4, 7]))\n",
        "  print(equal_subset_sum_partition([2, 3, 4, 6]))\n",
        "\n",
        "main()"
      ],
      "metadata": {
        "colab": {
          "base_uri": "https://localhost:8080/"
        },
        "id": "Ckrh-ngd3JKy",
        "outputId": "1cd686bf-485c-482d-cdda-1aa09e248018"
      },
      "execution_count": null,
      "outputs": [
        {
          "output_type": "stream",
          "name": "stdout",
          "text": [
            "True\n",
            "True\n",
            "False\n"
          ]
        }
      ]
    },
    {
      "cell_type": "code",
      "source": [
        "# Basic solution\n",
        "def subset_sum(nums, S):\n",
        "  return subset_sum_recursive(nums, S, 0)\n",
        "\n",
        "\n",
        "def subset_sum_recursive(nums, S, i):\n",
        "  if S == 0:\n",
        "    return True\n",
        "\n",
        "  if S < 0 or i >= len(nums):\n",
        "    return False\n",
        "\n",
        "  if subset_sum_recursive(nums, S - nums[i], i+1):\n",
        "    return True\n",
        "\n",
        "  return subset_sum_recursive(nums, S, i + 1)\n",
        "\n",
        "  # Complexity\n",
        "  # Time O(2^N)\n",
        "  # Space O(N) -> Recursion stack\n",
        "\n",
        "def main():\n",
        "  print(subset_sum([1, 2, 3, 7], 6))\n",
        "  print(subset_sum([1, 2, 7, 1, 5], 10))\n",
        "  print(subset_sum([1, 3, 4, 8], 6))\n",
        "\n",
        "main()"
      ],
      "metadata": {
        "colab": {
          "base_uri": "https://localhost:8080/"
        },
        "id": "uy5bGB5bYVKq",
        "outputId": "bc2d2dad-dc61-4fe0-bbeb-7a3ea21238a7"
      },
      "execution_count": null,
      "outputs": [
        {
          "output_type": "stream",
          "name": "stdout",
          "text": [
            "True\n",
            "True\n",
            "False\n"
          ]
        }
      ]
    },
    {
      "cell_type": "code",
      "source": [
        "# Bottom-up Dynamic Solution\n",
        "def subset_sum(nums, S):\n",
        "  n = len(nums)\n",
        "  dp = [[False for x in range(S+1)] for y in range(n)]\n",
        "\n",
        "  for i in range(n):\n",
        "    dp[i][0] = True\n",
        "\n",
        "  for sum in range(S+1):\n",
        "    dp[0][sum] = nums[0] == sum\n",
        "\n",
        "  for i in range(1, n):\n",
        "    for sum in range(1, S+1):\n",
        "      if dp[i-1][sum]:\n",
        "        dp[i][sum] = dp[i-1][sum]\n",
        "      elif nums[i] <= sum:\n",
        "        dp[i][sum] = dp[i-1][sum - nums[i]]\n",
        "\n",
        "  return dp[n-1][S]\n",
        "  # Complexity\n",
        "  # Time O(N*S)\n",
        "  # Space O(N*S)\n",
        "\n",
        "def main():\n",
        "  print(subset_sum([1, 2, 3, 7], 6))\n",
        "  print(subset_sum([1, 2, 7, 1, 5], 10))\n",
        "  print(subset_sum([1, 3, 4, 8], 6))\n",
        "\n",
        "main()"
      ],
      "metadata": {
        "colab": {
          "base_uri": "https://localhost:8080/"
        },
        "id": "exJzM6_Hboxx",
        "outputId": "3778618e-570e-4421-9742-0b0be3fc534f"
      },
      "execution_count": null,
      "outputs": [
        {
          "output_type": "stream",
          "name": "stdout",
          "text": [
            "True\n",
            "True\n",
            "False\n"
          ]
        }
      ]
    },
    {
      "cell_type": "code",
      "source": [
        "# Bottom-up Dynamic Solution\n",
        "def subset_sum(nums, S):\n",
        "  n = len(nums)\n",
        "  dp = [False for x in range(S+1)]\n",
        "\n",
        "  dp[0] = True\n",
        "\n",
        "  if nums[0] <= S:\n",
        "    dp[nums[0]] = True\n",
        "\n",
        "  for i in range(1, n):\n",
        "    for sum in range(S, 0, -1):\n",
        "      if not dp[sum] and nums[i] <= sum:\n",
        "        dp[sum] = dp[sum - nums[i]]\n",
        "\n",
        "  return dp[S]\n",
        "  # Complexity\n",
        "  # Time O(N*S)\n",
        "  # Space O(S)\n",
        "\n",
        "def main():\n",
        "  print(subset_sum([1, 2, 3, 7], 6))\n",
        "  print(subset_sum([1, 2, 7, 1, 5], 10))\n",
        "  print(subset_sum([1, 3, 4, 8], 6))\n",
        "\n",
        "main()"
      ],
      "metadata": {
        "colab": {
          "base_uri": "https://localhost:8080/"
        },
        "id": "5FwhiYX3ewOU",
        "outputId": "64c76b22-e3a1-4af7-a529-190ede26df4b"
      },
      "execution_count": null,
      "outputs": [
        {
          "output_type": "stream",
          "name": "stdout",
          "text": [
            "True\n",
            "True\n",
            "False\n"
          ]
        }
      ]
    },
    {
      "cell_type": "code",
      "source": [
        "# Basic solution\n",
        "def count_subset_sum(nums, S):\n",
        "  return subset_sum_recursive(nums, S, 0)\n",
        "\n",
        "\n",
        "def subset_sum_recursive(nums, S, i):\n",
        "  if S == 0:\n",
        "    return 1\n",
        "\n",
        "  if S < 0 or i >= len(nums):\n",
        "    return 0\n",
        "\n",
        "  res1 = subset_sum_recursive(nums, S - nums[i], i+1)\n",
        "  res2 = subset_sum_recursive(nums, S, i+1)\n",
        "\n",
        "  return res1 + res2\n",
        "\n",
        "  # Complexity\n",
        "  # Time O(2^N)\n",
        "  # Space O(N) -> Recursion stack\n",
        "\n",
        "def main():\n",
        "  print(count_subset_sum([1, 1, 2, 3], 4))\n",
        "  print(count_subset_sum([1, 2, 7, 1, 5], 9))\n",
        "\n",
        "main()"
      ],
      "metadata": {
        "colab": {
          "base_uri": "https://localhost:8080/"
        },
        "id": "PB1wgZqDsQ0W",
        "outputId": "8b7f4cde-db6c-41f3-c14e-53cac1734076"
      },
      "execution_count": null,
      "outputs": [
        {
          "output_type": "stream",
          "name": "stdout",
          "text": [
            "3\n",
            "3\n"
          ]
        }
      ]
    },
    {
      "cell_type": "code",
      "source": [
        "# Top-down Solution\n",
        "def count_subset_sum(nums, S):\n",
        "  n = len(nums)\n",
        "\n",
        "  dp = [[-1 for x in range(S+1)] for y in range(n)]\n",
        "  return subset_sum_recursive(dp, nums, S, 0)\n",
        "\n",
        "\n",
        "def subset_sum_recursive(dp, nums, S, i):\n",
        "  if S == 0:\n",
        "    return 1\n",
        "\n",
        "  if i >= len(nums):\n",
        "    return 0\n",
        "\n",
        "  if dp[i][S] == -1:\n",
        "    sum1 = 0\n",
        "    if nums[i] <= S:\n",
        "      sum1 = subset_sum_recursive(dp, nums, S - nums[i], i+1)\n",
        "    sum2 = subset_sum_recursive(dp, nums, S, i+1)\n",
        "\n",
        "    dp[i][S] = sum1 + sum2\n",
        "\n",
        "  return dp[i][S]\n",
        "\n",
        "  # Complexity\n",
        "  # Time O(N*S)\n",
        "  # Space O(N*S)\n",
        "\n",
        "def main():\n",
        "  print(count_subset_sum([1, 1, 2, 3], 4))\n",
        "  print(count_subset_sum([1, 2, 7, 1, 5], 9))\n",
        "\n",
        "main()"
      ],
      "metadata": {
        "colab": {
          "base_uri": "https://localhost:8080/"
        },
        "id": "p-IN4yqjt5Vc",
        "outputId": "61ecd79e-c0e0-4b7e-c285-d8db16f1cdf3"
      },
      "execution_count": null,
      "outputs": [
        {
          "output_type": "stream",
          "name": "stdout",
          "text": [
            "3\n",
            "3\n"
          ]
        }
      ]
    },
    {
      "cell_type": "code",
      "source": [
        "# Bottom-up Solution\n",
        "def count_subset_sum(nums, S):\n",
        "  n = len(nums)\n",
        "\n",
        "  dp = [[0 for x in range(S+1)] for y in range(n)]\n",
        "\n",
        "  for i in range(n):\n",
        "    dp[i][0] = 1\n",
        "\n",
        "  if nums[0] <= S:\n",
        "    dp[0][nums[0]] = 1\n",
        "\n",
        "  for i in range(1, n):\n",
        "    for s in range(1, S+1):\n",
        "      sum1 = 0\n",
        "      if nums[i] <= s:\n",
        "        sum1 = dp[i-1][s - nums[i]]\n",
        "      sum2 = dp[i-1][s]\n",
        "\n",
        "      dp[i][s] = sum1 + sum2\n",
        "\n",
        "  return dp[n-1][S]\n",
        "\n",
        "  # Complexity\n",
        "  # Time O(N*S)\n",
        "  # Space O(N*S)\n",
        "\n",
        "def main():\n",
        "  print(count_subset_sum([1, 1, 2, 3], 4))\n",
        "  print(count_subset_sum([1, 2, 7, 1, 5], 9))\n",
        "\n",
        "main()"
      ],
      "metadata": {
        "colab": {
          "base_uri": "https://localhost:8080/"
        },
        "id": "BnqhcFCzyJ_n",
        "outputId": "ade0657f-24c4-4a32-d581-453f97831791"
      },
      "execution_count": null,
      "outputs": [
        {
          "output_type": "stream",
          "name": "stdout",
          "text": [
            "3\n",
            "3\n"
          ]
        }
      ]
    },
    {
      "cell_type": "code",
      "source": [
        "# Bottom-up Optimized Solution\n",
        "def count_subset_sum(nums, S):\n",
        "  n = len(nums)\n",
        "\n",
        "  dp = [0 for x in range(S+1)]\n",
        "\n",
        "  dp[0] = 1\n",
        "\n",
        "  if nums[0] <= S:\n",
        "    dp[nums[0]] = 1\n",
        "\n",
        "  for i in range(1, n):\n",
        "    for s in range(S, 0, -1):\n",
        "      sum1 = 0\n",
        "      if nums[i] <= s:\n",
        "        sum1 = dp[s - nums[i]]\n",
        "      sum2 = dp[s]\n",
        "\n",
        "      dp[s] = sum1 + sum2\n",
        "\n",
        "  return dp[S]\n",
        "\n",
        "  # Complexity\n",
        "  # Time O(N*S)\n",
        "  # Space O(S)\n",
        "\n",
        "def main():\n",
        "  print(count_subset_sum([1, 1, 2, 3], 4))\n",
        "  print(count_subset_sum([1, 2, 7, 1, 5], 9))\n",
        "\n",
        "main()"
      ],
      "metadata": {
        "colab": {
          "base_uri": "https://localhost:8080/"
        },
        "id": "r6rWJPiqztcB",
        "outputId": "02e70ccd-977f-4bbb-d43c-6b84e2531146"
      },
      "execution_count": null,
      "outputs": [
        {
          "output_type": "stream",
          "name": "stdout",
          "text": [
            "3\n",
            "3\n"
          ]
        }
      ]
    },
    {
      "cell_type": "code",
      "source": [
        "# Basic Solution\n",
        "def minimum_subset_diff(nums):\n",
        "  nums.sort(reverse=True)\n",
        "\n",
        "  sum1 = sum2 = 0\n",
        "  for n in nums:\n",
        "    if sum1 < sum2:\n",
        "      sum1 += n\n",
        "    else:\n",
        "      sum2 +=n\n",
        "\n",
        "  return abs(sum2 - sum1)\n",
        "\n",
        "  # Time O(N*logN)\n",
        "  # Space O(N) -> to sort\n",
        "\n",
        "\n",
        "def main():\n",
        "  print(minimum_subset_diff([1, 2, 3, 9]))\n",
        "  print(minimum_subset_diff([1, 2, 7, 1, 5]))\n",
        "  print(minimum_subset_diff([1, 3, 100, 4]))\n",
        "\n",
        "main()"
      ],
      "metadata": {
        "colab": {
          "base_uri": "https://localhost:8080/"
        },
        "id": "v41WiE4ns_X2",
        "outputId": "33c76473-e8b7-41ad-cbbb-556c5beafbc5"
      },
      "execution_count": null,
      "outputs": [
        {
          "output_type": "stream",
          "name": "stdout",
          "text": [
            "3\n",
            "0\n",
            "92\n"
          ]
        }
      ]
    },
    {
      "cell_type": "code",
      "source": [
        "# Basic Solution\n",
        "def minimum_subset_diff(nums):\n",
        "  return minimum_subset_diff_recursive(nums, 0, 0, 0)\n",
        "\n",
        "  # Time O(2^N)\n",
        "  # Space O(N) -> recursion stack\n",
        "\n",
        "def minimum_subset_diff_recursive(nums, i, sum1, sum2):\n",
        "  if i >= len(nums):\n",
        "    return abs(sum2 - sum1)\n",
        "\n",
        "  diff1 = minimum_subset_diff_recursive(nums, i+1, sum1+nums[i], sum2)\n",
        "  diff2 = minimum_subset_diff_recursive(nums, i+1, sum1, sum2+nums[i])\n",
        "\n",
        "  return min(diff1, diff2)\n",
        "\n",
        "\n",
        "def main():\n",
        "  print(minimum_subset_diff([1, 2, 3, 9]))\n",
        "  print(minimum_subset_diff([1, 2, 7, 1, 5]))\n",
        "  print(minimum_subset_diff([1, 3, 100, 4]))\n",
        "\n",
        "main()"
      ],
      "metadata": {
        "colab": {
          "base_uri": "https://localhost:8080/"
        },
        "id": "vZveFyHDwE8E",
        "outputId": "f2b2513e-c957-41f1-b7c6-c3c5d7a76272"
      },
      "execution_count": null,
      "outputs": [
        {
          "output_type": "stream",
          "name": "stdout",
          "text": [
            "3\n",
            "0\n",
            "92\n"
          ]
        }
      ]
    },
    {
      "cell_type": "code",
      "source": [
        "# Top-down DP Solution\n",
        "def minimum_subset_diff(nums, debug=False):\n",
        "  s = sum(nums)\n",
        "  n = len(nums)\n",
        "\n",
        "  c1 = [0]\n",
        "  c2 = [0]\n",
        "  dp = [[-1 for x in range(s+1)] for y in range(n)]\n",
        "  minimum_subset_diff_recursive(dp, nums, 0, 0, s, c1, c2)\n",
        "\n",
        "  if debug:\n",
        "    print(dp)\n",
        "    print(\"new acess: \"+ str(c1[0]))\n",
        "    print(\"old acess: \"+ str(c2[0]))\n",
        "\n",
        "  return minimum_subset_diff_recursive(dp, nums, 0, 0, s, c1, c2)\n",
        "\n",
        "  # Time O(N*S)\n",
        "  # Space O(N*S)\n",
        "\n",
        "def minimum_subset_diff_recursive(dp, nums, i, sum1, sum2, c1, c2):\n",
        "  if i >= len(nums):\n",
        "    return abs(sum2 - sum1)\n",
        "\n",
        "  if dp[i][sum1] == -1:\n",
        "    diff1 = minimum_subset_diff_recursive(dp, nums, i+1, sum1+nums[i], sum2-nums[i], c1, c2)\n",
        "    diff2 = minimum_subset_diff_recursive(dp, nums, i+1, sum1, sum2, c1, c2)\n",
        "    dp[i][sum1] = min(diff1, diff2)\n",
        "    c1[0] += 1\n",
        "  else:\n",
        "    c2[0] += 1\n",
        "\n",
        "\n",
        "  return dp[i][sum1]\n",
        "\n",
        "\n",
        "def main():\n",
        "  print(minimum_subset_diff([1, 2, 3, 9]))\n",
        "  print(minimum_subset_diff([1, 2, 7, 1, 5]))\n",
        "  print(minimum_subset_diff([1, 3, 100, 4]))\n",
        "\n",
        "main()"
      ],
      "metadata": {
        "colab": {
          "base_uri": "https://localhost:8080/"
        },
        "id": "CYmL7IV4zbfp",
        "outputId": "7579496c-d860-40bc-9208-9558c65f1dd3"
      },
      "execution_count": null,
      "outputs": [
        {
          "output_type": "stream",
          "name": "stdout",
          "text": [
            "[[3, -1, -1, -1, -1, -1, -1, -1, -1, -1, -1, -1, -1, -1, -1, -1], [3, 3, -1, -1, -1, -1, -1, -1, -1, -1, -1, -1, -1, -1, -1, -1], [3, 5, 5, 3, -1, -1, -1, -1, -1, -1, -1, -1, -1, -1, -1, -1], [3, 5, 7, 9, 7, 5, 3, -1, -1, -1, -1, -1, -1, -1, -1, -1]]\n",
            "new acess: 14\n",
            "old acess: 1\n",
            "3\n",
            "0\n",
            "92\n"
          ]
        }
      ]
    },
    {
      "cell_type": "code",
      "source": [
        "# Top-down DP Solution\n",
        "def minimum_subset_diff(nums):\n",
        "  total_s = sum(nums)\n",
        "  n = len(nums)\n",
        "\n",
        "  half_s =  total_s//2\n",
        "\n",
        "  dp = [[0 for x in range(half_s+1)] for y in range(n)]\n",
        "\n",
        "  for s in range(half_s+1):\n",
        "    if nums[0] <= s:\n",
        "      dp[0][s] = nums[0]\n",
        "\n",
        "  for i in range(1, n):\n",
        "    for s in range(1, half_s+1):\n",
        "      s1 = 0\n",
        "      if nums[i] <= s:\n",
        "        s1 = dp[i-1][s - nums[i]] + nums[i] # add curr\n",
        "      s2 = dp[i-1][s] # ignore current\n",
        "      dp[i][s] = max(s1, s2)\n",
        "\n",
        "  return total_s - 2*dp[n-1][s]\n",
        "\n",
        "  # Time O(N*S)\n",
        "  # Space O(N*S)\n",
        "\n",
        "def main():\n",
        "  print(minimum_subset_diff([1, 2, 3, 9]))\n",
        "  print(minimum_subset_diff([1, 2, 7, 1, 5]))\n",
        "  print(minimum_subset_diff([1, 3, 100, 4]))\n",
        "\n",
        "main()"
      ],
      "metadata": {
        "colab": {
          "base_uri": "https://localhost:8080/"
        },
        "id": "n1dpaW3TDhis",
        "outputId": "8c397b86-f2d7-408c-9935-9ee7bd3d097b"
      },
      "execution_count": null,
      "outputs": [
        {
          "output_type": "stream",
          "name": "stdout",
          "text": [
            "3\n",
            "0\n",
            "92\n"
          ]
        }
      ]
    },
    {
      "cell_type": "code",
      "source": [
        "# Top-down DP Solution\n",
        "def minimum_subset_diff(nums):\n",
        "  total_s = sum(nums)\n",
        "  n = len(nums)\n",
        "\n",
        "  half_s =  total_s//2\n",
        "\n",
        "  dp = [0 for x in range(half_s+1)]\n",
        "\n",
        "  for s in range(half_s+1):\n",
        "    if nums[0] <= s:\n",
        "      dp[s] = nums[0]\n",
        "\n",
        "  for i in range(1, n):\n",
        "    for s in range(half_s, 0, -1):\n",
        "      s1 = 0\n",
        "      if nums[i] <= s:\n",
        "        s1 = dp[s - nums[i]] + nums[i] # add curr\n",
        "      s2 = dp[s] # ignore current\n",
        "      dp[s] = max(s1, s2)\n",
        "\n",
        "  return total_s - 2*dp[half_s]\n",
        "\n",
        "  # Time O(N*S)\n",
        "  # Space O(S)\n",
        "\n",
        "def main():\n",
        "  print(minimum_subset_diff([1, 2, 3, 9]))\n",
        "  print(minimum_subset_diff([1, 2, 7, 1, 5]))\n",
        "  print(minimum_subset_diff([1, 3, 100, 4]))\n",
        "\n",
        "main()"
      ],
      "metadata": {
        "colab": {
          "base_uri": "https://localhost:8080/"
        },
        "id": "sxIieOSnOdF7",
        "outputId": "92d34f0d-fdce-45c5-c0c0-5295779409b0"
      },
      "execution_count": null,
      "outputs": [
        {
          "output_type": "stream",
          "name": "stdout",
          "text": [
            "3\n",
            "0\n",
            "92\n"
          ]
        }
      ]
    },
    {
      "cell_type": "code",
      "source": [
        "def target_sum(nums, S):\n",
        "  return target_sum_recursive(nums, S, 0)\n",
        "\n",
        "def target_sum_recursive(nums, S, i):\n",
        "  if i == len(nums):\n",
        "    return 1 if S == 0 else 0\n",
        "\n",
        "  s1 = target_sum_recursive(nums, S+nums[i], i+1)\n",
        "  s2 = target_sum_recursive(nums, S-nums[i], i+1)\n",
        "\n",
        "  return s1 + s2\n",
        "\n",
        "  # Basic solution\n",
        "  # Time O(2^N)\n",
        "  # Space O(N) -> recursion stack\n",
        "\n",
        "def main():\n",
        "  print(target_sum([1, 1, 2, 3], 1))\n",
        "  print(target_sum([1, 2, 7, 1], 9))\n",
        "\n",
        "main()"
      ],
      "metadata": {
        "colab": {
          "base_uri": "https://localhost:8080/"
        },
        "id": "kp_7fdwTQJha",
        "outputId": "442f0d02-7d9c-4af3-898a-1eba18836213"
      },
      "execution_count": null,
      "outputs": [
        {
          "output_type": "stream",
          "name": "stdout",
          "text": [
            "3\n",
            "2\n"
          ]
        }
      ]
    },
    {
      "cell_type": "code",
      "source": [
        "def target_sum(nums, S):\n",
        "  s = sum(nums)\n",
        "  n = len(nums)\n",
        "  dp = [[-1 for x in range(-s, s+1)] for y in range(n)]\n",
        "  result = target_sum_recursive(dp, nums, S, 0)\n",
        "\n",
        "  # print(dp)\n",
        "  return result\n",
        "\n",
        "def target_sum_recursive(dp, nums, S, i):\n",
        "  if i == len(nums):\n",
        "    return 1 if S == 0 else 0\n",
        "\n",
        "  if dp[i][S] == -1:\n",
        "    s1 = target_sum_recursive(dp, nums, S+nums[i], i+1)\n",
        "    s2 = target_sum_recursive(dp, nums, S-nums[i], i+1)\n",
        "    dp[i][S] = s1+s2\n",
        "\n",
        "  return dp[i][S]\n",
        "\n",
        "  # Top-down solution\n",
        "  # Time O(N*S)\n",
        "  # Space O(N*S)\n",
        "\n",
        "def main():\n",
        "  print(target_sum([1, 1, 2, 3], 1))\n",
        "  print(target_sum([1, 2, 7, 1], 9))\n",
        "\n",
        "main()"
      ],
      "metadata": {
        "colab": {
          "base_uri": "https://localhost:8080/"
        },
        "id": "IOLhmClNSkfa",
        "outputId": "e6124f88-143a-4192-98b5-1947648a7cbf"
      },
      "execution_count": null,
      "outputs": [
        {
          "output_type": "stream",
          "name": "stdout",
          "text": [
            "3\n",
            "2\n"
          ]
        }
      ]
    },
    {
      "cell_type": "code",
      "source": [
        "def target_sum(nums, S):\n",
        "  total_sum = sum(nums)\n",
        "  n = len(nums)\n",
        "\n",
        "  if total_sum < S or (S+total_sum)%2 == 1:\n",
        "    return 0\n",
        "\n",
        "  target = (S + total_sum)//2\n",
        "\n",
        "  dp = [[0 for x in range(target+1)] for y in range(n)]\n",
        "\n",
        "  for i in range(n):\n",
        "    dp[i][0] = 1\n",
        "\n",
        "  for s in range(1, target):\n",
        "    dp[0][s] = 1 if s == nums[0] else 0\n",
        "\n",
        "  for i in range(1, n):\n",
        "    for s in range(1, target+1):\n",
        "      dp[i][s] = dp[i-1][s]\n",
        "      if nums[i] <= s:\n",
        "        dp[i][s] += dp[i-1][s - nums[i]]\n",
        "\n",
        "  return dp[n-1][target]\n",
        "\n",
        "  # Bottom-up solution\n",
        "  # Time O(N*S)\n",
        "  # Space O(N*S)\n",
        "\n",
        "def main():\n",
        "  print(target_sum([1, 1, 2, 3], 1))\n",
        "  print(target_sum([1, 2, 7, 1], 9))\n",
        "\n",
        "main()"
      ],
      "metadata": {
        "colab": {
          "base_uri": "https://localhost:8080/"
        },
        "id": "4jH9TrTxrMr2",
        "outputId": "b014108b-be07-4acc-f850-2298d9f45d77"
      },
      "execution_count": null,
      "outputs": [
        {
          "output_type": "stream",
          "name": "stdout",
          "text": [
            "[1, 1, 0, 0, 0]\n",
            "[1, 2, 1, 0, 0]\n",
            "[1, 2, 2, 2, 1]\n",
            "[1, 2, 2, 3, 3]\n",
            "3\n",
            "[1, 1, 0, 0, 0, 0, 0, 0, 0, 0, 0]\n",
            "[1, 1, 1, 1, 0, 0, 0, 0, 0, 0, 0]\n",
            "[1, 1, 1, 1, 0, 0, 0, 1, 1, 1, 1]\n",
            "[1, 2, 2, 2, 1, 0, 0, 1, 2, 2, 2]\n",
            "2\n"
          ]
        }
      ]
    },
    {
      "cell_type": "code",
      "source": [
        "def target_sum(nums, S):\n",
        "  total_sum = sum(nums)\n",
        "  n = len(nums)\n",
        "\n",
        "  if total_sum < S or (S+total_sum)%2 == 1:\n",
        "    return 0\n",
        "\n",
        "  target = (S + total_sum)//2\n",
        "\n",
        "  return count_subset(nums, target)\n",
        "\n",
        "def count_subset(nums, target):\n",
        "  n = len(nums)\n",
        "\n",
        "  dp = [0 for x in range(target+1)]\n",
        "\n",
        "  dp[0] = 1\n",
        "\n",
        "  for s in range(1, target):\n",
        "    dp[s] = 1 if s == nums[0] else 0\n",
        "\n",
        "  for i in range(1, n):\n",
        "    for s in range(target, 0, -1):\n",
        "      if nums[i] <= s:\n",
        "        dp[s] += dp[s - nums[i]]\n",
        "\n",
        "  return dp[target]\n",
        "\n",
        "  # Bottom-up solution\n",
        "  # Time O(N*S)\n",
        "  # Space O(S)\n",
        "\n",
        "def main():\n",
        "  print(target_sum([1, 1, 2, 3], 1))\n",
        "  print(target_sum([1, 2, 7, 1], 9))\n",
        "\n",
        "main()"
      ],
      "metadata": {
        "colab": {
          "base_uri": "https://localhost:8080/"
        },
        "id": "ctZykG_jyru_",
        "outputId": "7ccbe7f2-0959-43cc-f47d-a23a19e4379d"
      },
      "execution_count": null,
      "outputs": [
        {
          "output_type": "stream",
          "name": "stdout",
          "text": [
            "3\n",
            "2\n"
          ]
        }
      ]
    },
    {
      "cell_type": "code",
      "source": [
        "def count_subset(nums, S):\n",
        "  n = len(nums)\n",
        "  dp = [[-1 for x in range(S+1)] for y in range(n)]\n",
        "  return count_subset_recursive(dp, nums, S, 0)\n",
        "\n",
        "def count_subset_recursive(dp, nums, S, i):\n",
        "  if S == 0:\n",
        "    return 1\n",
        "\n",
        "  if i == len(nums) or S < 0:\n",
        "    return 0\n",
        "\n",
        "  if dp[i][S] == -1:\n",
        "    dp[i][S] = 0\n",
        "    dp[i][S] += count_subset_recursive(dp, nums, S - nums[i], i+1)\n",
        "    dp[i][S] += count_subset_recursive(dp, nums, S, i+1)\n",
        "\n",
        "  return dp[i][S]\n",
        "\n",
        "  # Top-down DP Solution\n",
        "  # Time O(N*S)\n",
        "  # Space O(N*S)\n",
        "\n",
        "def main():\n",
        "  print(count_subset([1, 1, 2, 3], 4))\n",
        "  print(count_subset([1, 2, 7, 1, 5], 9))\n",
        "\n",
        "main()"
      ],
      "metadata": {
        "colab": {
          "base_uri": "https://localhost:8080/"
        },
        "id": "SJ8n9Uco6YCj",
        "outputId": "52dad66a-aee2-4bf6-a3e0-cfbb9e530681"
      },
      "execution_count": null,
      "outputs": [
        {
          "output_type": "stream",
          "name": "stdout",
          "text": [
            "3\n",
            "3\n"
          ]
        }
      ]
    },
    {
      "cell_type": "code",
      "source": [
        "def count_subset(nums, S):\n",
        "  n = len(nums)\n",
        "  dp = [[0 for x in range(S+1)] for y in range(n)]\n",
        "\n",
        "  for i in range(n):\n",
        "    dp[i][0] = 1\n",
        "\n",
        "  for s in range(1, S+1):\n",
        "    dp[0][s] = 1 if s == nums[0] else 0\n",
        "\n",
        "\n",
        "  #index/sum\n",
        "  #        0  1  2  3  4\n",
        "  # 0 - 1  1  1  0  0  0\n",
        "  # 1 - 1  1  2  1  0  0\n",
        "  # 2 - 2  1  2  2  2  1\n",
        "  # 3 - 3  1  2  2  3  3\n",
        "  for i in range(1, n):\n",
        "    for s in range(1, S+1):\n",
        "      dp[i][s] = dp[i-1][s]\n",
        "      if nums[i] <= s:\n",
        "        dp[i][s] += dp[i-1][s - nums[i]]\n",
        "\n",
        "  return dp[n-1][S]\n",
        "\n",
        "  # Bottom-up DP Solution\n",
        "  # Time O(N*S)\n",
        "  # Space O(N*S)\n",
        "\n",
        "def main():\n",
        "  print(count_subset([1, 1, 2, 3], 4))\n",
        "  print(count_subset([1, 2, 7, 1, 5], 9))\n",
        "\n",
        "main()"
      ],
      "metadata": {
        "colab": {
          "base_uri": "https://localhost:8080/"
        },
        "id": "Y92kTehS9Dfo",
        "outputId": "951d55e6-c180-4f6d-dcab-d753bacded44"
      },
      "execution_count": null,
      "outputs": [
        {
          "output_type": "stream",
          "name": "stdout",
          "text": [
            "3\n",
            "3\n"
          ]
        }
      ]
    },
    {
      "cell_type": "code",
      "source": [
        "def count_subset(nums, S):\n",
        "  n = len(nums)\n",
        "  dp = [0 for x in range(S+1)]\n",
        "\n",
        "  dp[0] = 1\n",
        "\n",
        "  for s in range(1, S+1):\n",
        "    dp[s] = 1 if s == nums[0] else 0\n",
        "\n",
        "\n",
        "  #index/sum\n",
        "  #        0  1  2  3  4\n",
        "  # 0 - 1  1  1  0  0  0\n",
        "  # 1 - 1  1  2  1  0  0\n",
        "  # 2 - 2  1  2  2  2  1\n",
        "  # 3 - 3  1  2  2  3  3\n",
        "  for i in range(1, n):\n",
        "    for s in range(S, 0, -1):\n",
        "      if nums[i] <= s:\n",
        "        dp[s] += dp[s - nums[i]]\n",
        "\n",
        "  return dp[S]\n",
        "\n",
        "  # Bottom-up DP Solution\n",
        "  # Time O(N*S)\n",
        "  # Space O(N*S)\n",
        "\n",
        "def main():\n",
        "  print(count_subset([1, 1, 2, 3], 4))\n",
        "  print(count_subset([1, 2, 7, 1, 5], 9))\n",
        "\n",
        "main()"
      ],
      "metadata": {
        "colab": {
          "base_uri": "https://localhost:8080/"
        },
        "id": "En_UkgHi_rjh",
        "outputId": "3cbdbf4f-4b9c-47c0-bf9a-ad1d7cd87883"
      },
      "execution_count": null,
      "outputs": [
        {
          "output_type": "stream",
          "name": "stdout",
          "text": [
            "3\n",
            "3\n"
          ]
        }
      ]
    },
    {
      "cell_type": "code",
      "source": [
        "def knapsack(weights, profits, cap):\n",
        "  n = len(weights)\n",
        "\n",
        "  if len(weights) != len(profits):\n",
        "    raise Exception(\"Weights and Profits lengths must be equal\")\n",
        "\n",
        "  dp = [[-1 for c in range(cap+1)] for y in range(n)]\n",
        "  return knapsack_rec(dp, weights, profits, cap, 0)\n",
        "\n",
        "def knapsack_rec(dp, weights, profits, cap, i):\n",
        "  if i >= len(weights):\n",
        "    return 0\n",
        "\n",
        "  if dp[i][cap] == -1:\n",
        "    res1 = 0\n",
        "    if weights[i] <= cap:\n",
        "      res1 = profits[i] + knapsack_rec(dp, weights, profits, cap - weights[i], i+1)\n",
        "\n",
        "    res2 = knapsack_rec(dp, weights, profits, cap, i+1)\n",
        "    dp[i][cap] = max(res1, res2)\n",
        "\n",
        "  return dp[i][cap]\n",
        "\n",
        "\n",
        "def main():\n",
        "  Weights = [2, 3, 1, 4]\n",
        "  Profits = [4, 5, 3, 7]\n",
        "  capacity = 5\n",
        "  print(knapsack(Weights, Profits, capacity))\n",
        "\n",
        "main()"
      ],
      "metadata": {
        "colab": {
          "base_uri": "https://localhost:8080/"
        },
        "id": "BFaOSGpcosDu",
        "outputId": "83688722-6395-4a36-f604-446baa041a94"
      },
      "execution_count": null,
      "outputs": [
        {
          "output_type": "stream",
          "name": "stdout",
          "text": [
            "10\n"
          ]
        }
      ]
    },
    {
      "cell_type": "code",
      "source": [
        "def knapsack(weights, profits, cap):\n",
        "  n = len(weights)\n",
        "\n",
        "  if len(weights) != len(profits):\n",
        "    raise Exception(\"Weights and Profits lengths must be equal\")\n",
        "\n",
        "  dp = [[0 for c in range(cap+1)] for y in range(n)]\n",
        "\n",
        "  for c in range(cap+1):\n",
        "    if weights[0] <= c:\n",
        "      dp[0][c] = profits[0]\n",
        "\n",
        "  for i in range(1, n):\n",
        "    for c in range(1, cap+1):\n",
        "      profit1 = 0\n",
        "      if weights[i] <= c:\n",
        "        profit1 = profits[i] + dp[i-1][c-weights[i]]\n",
        "      profit2 = dp[i-1][c]\n",
        "\n",
        "      dp[i][c] = max(profit1, profit2)\n",
        "\n",
        "  return dp[n-1][cap]\n",
        "\n",
        "\n",
        "def main():\n",
        "  Weights = [2, 3, 1, 4]\n",
        "  Profits = [4, 5, 3, 7]\n",
        "  capacity = 5\n",
        "  print(knapsack(Weights, Profits, capacity))\n",
        "\n",
        "main()"
      ],
      "metadata": {
        "colab": {
          "base_uri": "https://localhost:8080/"
        },
        "id": "9JulapfAwsuK",
        "outputId": "d1ae2f5f-0631-4f23-cd12-9a0229834590"
      },
      "execution_count": null,
      "outputs": [
        {
          "output_type": "stream",
          "name": "stdout",
          "text": [
            "10\n"
          ]
        }
      ]
    },
    {
      "cell_type": "code",
      "source": [
        "def knapsack(weights, profits, cap):\n",
        "  n = len(weights)\n",
        "\n",
        "  if len(weights) != len(profits):\n",
        "    raise Exception(\"Weights and Profits lengths must be equal\")\n",
        "\n",
        "  dp = [[0 for c in range(cap+1)] for y in range(2)]\n",
        "\n",
        "  for c in range(cap+1):\n",
        "    if weights[0] <= c:\n",
        "      dp[0][c] = profits[0]\n",
        "\n",
        "  for i in range(1, n):\n",
        "    for c in range(1, cap+1):\n",
        "      profit1 = 0\n",
        "      if weights[i] <= c:\n",
        "        profit1 = profits[i] + dp[(i-1)%2][c-weights[i]]\n",
        "      profit2 = dp[(i-1)%2][c]\n",
        "\n",
        "      dp[i%2][c] = max(profit1, profit2)\n",
        "\n",
        "  return dp[(n-1)%2][cap]\n",
        "\n",
        "\n",
        "def main():\n",
        "  Weights = [2, 3, 1, 4]\n",
        "  Profits = [4, 5, 3, 7]\n",
        "  capacity = 5\n",
        "  print(knapsack(Weights, Profits, capacity))\n",
        "\n",
        "main()"
      ],
      "metadata": {
        "colab": {
          "base_uri": "https://localhost:8080/"
        },
        "id": "o83JRjK0z9QJ",
        "outputId": "f71cb956-5041-451c-b6be-5b224592d7ec"
      },
      "execution_count": null,
      "outputs": [
        {
          "output_type": "stream",
          "name": "stdout",
          "text": [
            "10\n"
          ]
        }
      ]
    },
    {
      "cell_type": "code",
      "source": [
        "def knapsack(weights, profits, cap):\n",
        "  n = len(weights)\n",
        "\n",
        "  if len(weights) != len(profits):\n",
        "    raise Exception(\"Weights and Profits lengths must be equal\")\n",
        "\n",
        "  dp = [0 for c in range(cap+1)]\n",
        "\n",
        "  for c in range(cap+1):\n",
        "    if weights[0] <= c:\n",
        "      dp[c] = profits[0]\n",
        "\n",
        "  for i in range(1, n):\n",
        "    for c in range(cap, 0, -1):\n",
        "      profit1 = 0\n",
        "      if weights[i] <= c:\n",
        "        profit1 = profits[i] + dp[c-weights[i]]\n",
        "      profit2 = dp[c]\n",
        "\n",
        "      dp[c] = max(profit1, profit2)\n",
        "\n",
        "  return dp[cap]\n",
        "\n",
        "\n",
        "def main():\n",
        "  Weights = [2, 3, 1, 4]\n",
        "  Profits = [4, 5, 3, 7]\n",
        "  capacity = 5\n",
        "  print(knapsack(Weights, Profits, capacity))\n",
        "\n",
        "main()"
      ],
      "metadata": {
        "colab": {
          "base_uri": "https://localhost:8080/"
        },
        "id": "tr_d4Tt40Lvr",
        "outputId": "babbfb54-c8ab-4e6a-e199-1d9ec1f31b09"
      },
      "execution_count": null,
      "outputs": [
        {
          "output_type": "stream",
          "name": "stdout",
          "text": [
            "10\n"
          ]
        }
      ]
    },
    {
      "cell_type": "code",
      "source": [
        "def minimum_diff(nums):\n",
        "  total_s = sum(nums)\n",
        "  half_s = total_s//2\n",
        "\n",
        "  max_sum = knapsack(nums, half_s, 0)\n",
        "\n",
        "  return total_s - 2*max_sum\n",
        "\n",
        "\n",
        "def knapsack(nums, cap, i):\n",
        "  n = len(nums)\n",
        "  if i >= n:\n",
        "    return 0\n",
        "\n",
        "  sum1 = 0\n",
        "  if nums[i] <= cap:\n",
        "    sum1 = nums[i] + knapsack(nums, cap - nums[i], i+1)\n",
        "\n",
        "  sum2 = knapsack(nums, cap, i+1)\n",
        "\n",
        "  return max(sum1, sum2)\n",
        "\n",
        "  # Basic\n",
        "  # T 2^N\n",
        "  # S N\n",
        "\n",
        "def main():\n",
        "  print(minimum_diff([1, 2, 3, 9]))\n",
        "  print(minimum_diff([1, 2, 7, 1, 5]))\n",
        "  print(minimum_diff([1, 3, 100, 4]))\n",
        "\n",
        "main()"
      ],
      "metadata": {
        "colab": {
          "base_uri": "https://localhost:8080/"
        },
        "id": "Ri2cafsRAIgF",
        "outputId": "9c828eb2-1ef0-47ce-b4ef-94db9fb9aba8"
      },
      "execution_count": null,
      "outputs": [
        {
          "output_type": "stream",
          "name": "stdout",
          "text": [
            "3\n",
            "0\n",
            "92\n"
          ]
        }
      ]
    },
    {
      "cell_type": "code",
      "source": [
        "def minimum_diff(nums):\n",
        "  total_s = sum(nums)\n",
        "  half_s = total_s//2\n",
        "\n",
        "  dp = [[-1 for x in range(half_s+1)] for y in range(len(nums))]\n",
        "\n",
        "  max_sum = knapsack(dp, nums, half_s, 0)\n",
        "\n",
        "  return total_s - 2*max_sum\n",
        "\n",
        "\n",
        "def knapsack(dp, nums, cap, i):\n",
        "  n = len(nums)\n",
        "  if i >= n:\n",
        "    return 0\n",
        "\n",
        "  if dp[i][cap] != -1:\n",
        "    return dp[i][cap]\n",
        "\n",
        "  sum1 = 0\n",
        "  if nums[i] <= cap:\n",
        "    sum1 = nums[i] + knapsack(dp, nums, cap - nums[i], i+1)\n",
        "  sum2 = knapsack(dp, nums, cap, i+1)\n",
        "  dp[i][cap] = max(sum1, sum2)\n",
        "\n",
        "  return dp[i][cap]\n",
        "\n",
        "  # Top-down\n",
        "  # T - N*S\n",
        "  # S - N*S\n",
        "\n",
        "def main():\n",
        "  print(minimum_diff([1, 2, 3, 9]))\n",
        "  print(minimum_diff([1, 2, 7, 1, 5]))\n",
        "  print(minimum_diff([1, 3, 100, 4]))\n",
        "\n",
        "main()"
      ],
      "metadata": {
        "colab": {
          "base_uri": "https://localhost:8080/"
        },
        "id": "RKL2PzV9CoXP",
        "outputId": "78a19694-d0c7-46fa-b5d0-8b8467e9addf"
      },
      "execution_count": null,
      "outputs": [
        {
          "output_type": "stream",
          "name": "stdout",
          "text": [
            "3\n",
            "0\n",
            "92\n"
          ]
        }
      ]
    },
    {
      "cell_type": "code",
      "source": [
        "def minimum_diff(nums):\n",
        "  total_s = sum(nums)\n",
        "  half_s = total_s//2\n",
        "\n",
        "  max_sum = knapsack(nums, half_s)\n",
        "\n",
        "  return total_s - 2*max_sum\n",
        "\n",
        "def knapsack(nums, cap):\n",
        "  n = len(nums)\n",
        "\n",
        "  dp = [0 for x in range(cap+1)]\n",
        "\n",
        "  for c in range(cap+1):\n",
        "    if nums[0] <= c:\n",
        "      dp[c] = nums[0]\n",
        "\n",
        "  for i in range(1, n):\n",
        "    for c in range(cap, 0, -1):\n",
        "      sum1 = 0\n",
        "      if nums[i] <= c:\n",
        "        sum1 = nums[i] + dp[c-nums[i]]\n",
        "      sum2 = dp[c]\n",
        "      dp[c] = max(sum1, sum2)\n",
        "\n",
        "  return dp[cap]\n",
        "\n",
        "  # Bottom-up\n",
        "  # T - N*S\n",
        "  # S - S\n",
        "\n",
        "def main():\n",
        "  print(minimum_diff([1, 2, 3, 9]))\n",
        "  print(minimum_diff([1, 2, 7, 1, 5]))\n",
        "  print(minimum_diff([1, 3, 100, 4]))\n",
        "\n",
        "main()"
      ],
      "metadata": {
        "colab": {
          "base_uri": "https://localhost:8080/"
        },
        "id": "ETDVR98sDfss",
        "outputId": "3af15c07-3ba2-46ad-db54-d110e480094f"
      },
      "execution_count": null,
      "outputs": [
        {
          "output_type": "stream",
          "name": "stdout",
          "text": [
            "3\n",
            "0\n",
            "92\n"
          ]
        }
      ]
    },
    {
      "cell_type": "code",
      "source": [
        "def target_sum(nums, S):\n",
        "  total_s = sum(nums)\n",
        "\n",
        "  if (S + total_s)%2 == 1:\n",
        "    return 0\n",
        "\n",
        "  target = (S + total_s)//2\n",
        "\n",
        "  return count_subset(nums, target)\n",
        "\n",
        "  # S1 - S2 = S\n",
        "  # S1 + S2 = SUM\n",
        "  # S1 - S2 + S1 + S2 = S + SUM\n",
        "  # 2*S1 = S + SUM\n",
        "  # S1 = (S + SUM)/2\n",
        "\n",
        "def count_subset(nums, target):\n",
        "  n = len(nums)\n",
        "\n",
        "  dp = [[0 for x in range(target+1)] for y in range(n)]\n",
        "\n",
        "  for i in range(n):\n",
        "    dp[i][0] = 1\n",
        "\n",
        "  if nums[0] <= target:\n",
        "    dp[0][nums[0]] = 1\n",
        "\n",
        "  for i in range(1, n):\n",
        "    for t in range(1, target + 1):\n",
        "      c1 = 0\n",
        "      if nums[i] <= t:\n",
        "        c1 = dp[i-1][t - nums[i]]\n",
        "      c2 = dp[i-1][t]\n",
        "\n",
        "      dp[i][t] = c1 + c2\n",
        "\n",
        "  return dp[n-1][target]\n",
        "\n",
        "  # Bottom-up\n",
        "  # T - N*S\n",
        "  # S - N*S\n",
        "\n",
        "def main():\n",
        "  print(target_sum([1, 1, 2, 3], 1))\n",
        "  print(target_sum([1, 2, 7, 1], 9))\n",
        "\n",
        "main()"
      ],
      "metadata": {
        "colab": {
          "base_uri": "https://localhost:8080/"
        },
        "id": "NZu-pvQdG_DR",
        "outputId": "de04357d-1d75-4172-cdb9-1ff68d036bbb"
      },
      "execution_count": null,
      "outputs": [
        {
          "output_type": "stream",
          "name": "stdout",
          "text": [
            "3\n",
            "2\n"
          ]
        }
      ]
    },
    {
      "cell_type": "code",
      "source": [
        "def target_sum(nums, S):\n",
        "  total_s = sum(nums)\n",
        "\n",
        "  if (S + total_s)%2 == 1:\n",
        "    return 0\n",
        "\n",
        "  target = (S + total_s)//2\n",
        "\n",
        "  return count_subset(nums, target)\n",
        "\n",
        "  # S1 - S2 = S\n",
        "  # S1 + S2 = SUM\n",
        "  # S1 - S2 + S1 + S2 = S + SUM\n",
        "  # 2*S1 = S + SUM\n",
        "  # S1 = (S + SUM)/2\n",
        "\n",
        "def count_subset(nums, target):\n",
        "  n = len(nums)\n",
        "\n",
        "  dp = [0 for x in range(target+1)]\n",
        "\n",
        "  dp[0] = 1\n",
        "\n",
        "  if nums[0] <= target:\n",
        "    dp[nums[0]] = 1\n",
        "\n",
        "  for i in range(1, n):\n",
        "    for t in range(target, 0, -1):\n",
        "      c1 = 0\n",
        "      if nums[i] <= t:\n",
        "        c1 = dp[t - nums[i]]\n",
        "      c2 = dp[t]\n",
        "\n",
        "      dp[t] = c1 + c2\n",
        "\n",
        "  return dp[target]\n",
        "\n",
        "  # Bottom-up\n",
        "  # T - N*S\n",
        "  # S - S\n",
        "\n",
        "def main():\n",
        "  print(target_sum([1, 1, 2, 3], 1))\n",
        "  print(target_sum([1, 2, 7, 1], 9))\n",
        "\n",
        "main()"
      ],
      "metadata": {
        "colab": {
          "base_uri": "https://localhost:8080/"
        },
        "id": "FRdCGV21JlKE",
        "outputId": "b792efca-490f-49cd-942b-a4e3e0709013"
      },
      "execution_count": null,
      "outputs": [
        {
          "output_type": "stream",
          "name": "stdout",
          "text": [
            "3\n",
            "2\n"
          ]
        }
      ]
    }
  ]
}