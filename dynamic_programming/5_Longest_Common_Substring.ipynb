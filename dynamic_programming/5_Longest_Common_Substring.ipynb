{
  "nbformat": 4,
  "nbformat_minor": 0,
  "metadata": {
    "colab": {
      "provenance": []
    },
    "kernelspec": {
      "name": "python3",
      "display_name": "Python 3"
    },
    "language_info": {
      "name": "python"
    }
  },
  "cells": [
    {
      "cell_type": "code",
      "execution_count": null,
      "metadata": {
        "colab": {
          "base_uri": "https://localhost:8080/"
        },
        "id": "vbOZQDcZKKVA",
        "outputId": "6a6a1f1d-7b0f-43fe-8a3c-941715bfe621"
      },
      "outputs": [
        {
          "output_type": "stream",
          "name": "stdout",
          "text": [
            "2\n",
            "3\n",
            "0\n"
          ]
        }
      ],
      "source": [
        "def find_LCS_length(s1, s2):\n",
        "  n1 = len(s1)\n",
        "  n2 = len(s2)\n",
        "\n",
        "  return find_LCS_length_rec(s1, s2, 0, 0, 0)\n",
        "\n",
        "def find_LCS_length_rec(s1, s2, i1, i2, count):\n",
        "  n1 = len(s1)\n",
        "  n2 = len(s2)\n",
        "\n",
        "  if i1 >= n1 or i2 >= n2:\n",
        "    return count\n",
        "\n",
        "  if s1[i1] == s2[i2]:\n",
        "    count = find_LCS_length_rec(s1, s2, i1+1, i2+1, count+1)\n",
        "\n",
        "  c1 = find_LCS_length_rec(s1, s2, i1+1, i2, 0)\n",
        "  c2 = find_LCS_length_rec(s1, s2, i1, i2+1, 0)\n",
        "\n",
        "\n",
        "  return max(count, c1, c2)\n",
        "\n",
        "  # Time 3^(N+M)\n",
        "  # Space N+M\n",
        "\n",
        "def main():\n",
        "  print(find_LCS_length(\"abdca\", \"cbda\"))\n",
        "  print(find_LCS_length(\"passport\", \"ppsspt\"))\n",
        "  print(find_LCS_length(\"aaaa\", \"bbbb\"))\n",
        "\n",
        "\n",
        "main()"
      ]
    },
    {
      "cell_type": "code",
      "source": [
        "def find_LCS_length(s1, s2):\n",
        "  n1 = len(s1)\n",
        "  n2 = len(s2)\n",
        "\n",
        "  return find_LCS_length_rec(s1, s2, 0, 0, 0)\n",
        "\n",
        "def find_LCS_length_rec(s1, s2, i1, i2, count):\n",
        "  n1 = len(s1)\n",
        "  n2 = len(s2)\n",
        "\n",
        "  if i1 >= n1 or i2 >= n2:\n",
        "    return count\n",
        "\n",
        "  if s1[i1] == s2[i2]:\n",
        "    count = find_LCS_length_rec(s1, s2, i1+1, i2+1, count+1)\n",
        "\n",
        "  c1 = find_LCS_length_rec(s1, s2, i1+1, i2, 0)\n",
        "  c2 = find_LCS_length_rec(s1, s2, i1, i2+1, 0)\n",
        "\n",
        "  return max(count, c1, c2)\n",
        "\n",
        "  # Time (N+M)\n",
        "  # Space N+M\n",
        "\n",
        "def main():\n",
        "  print(find_LCS_length(\"abdca\", \"cbda\"))\n",
        "  print(find_LCS_length(\"passport\", \"ppsspt\"))\n",
        "  print(find_LCS_length(\"aaaa\", \"bbbb\"))\n",
        "\n",
        "\n",
        "main()"
      ],
      "metadata": {
        "id": "8KAVe87rS74i",
        "colab": {
          "base_uri": "https://localhost:8080/"
        },
        "outputId": "c0167dc3-5bd6-4355-cf66-cdded1b13136"
      },
      "execution_count": null,
      "outputs": [
        {
          "output_type": "stream",
          "name": "stdout",
          "text": [
            "2\n",
            "3\n",
            "0\n"
          ]
        }
      ]
    },
    {
      "cell_type": "code",
      "source": [
        "def find_LCS_length(s1, s2):\n",
        "  n1 = len(s1)\n",
        "  n2 = len(s2)\n",
        "  maxLen = min(n1, n2)\n",
        "\n",
        "  dp = [[[-1 for _ in range(maxLen)] for _ in range(n2)] for _ in range(n1)]\n",
        "\n",
        "  return find_LCS_length_rec(dp, s1, s2, 0, 0, 0)\n",
        "\n",
        "def find_LCS_length_rec(dp, s1, s2, i1, i2, count):\n",
        "  n1 = len(s1)\n",
        "  n2 = len(s2)\n",
        "\n",
        "  if i1 >= n1 or i2 >= n2:\n",
        "    return count\n",
        "\n",
        "  if dp[i1][i2][count] == -1:\n",
        "    c0 = count\n",
        "    if s1[i1] == s2[i2]:\n",
        "      c0 = find_LCS_length_rec(dp, s1, s2, i1+1, i2+1, count+1)\n",
        "\n",
        "    c1 = find_LCS_length_rec(dp, s1, s2, i1+1, i2, 0)\n",
        "    c2 = find_LCS_length_rec(dp, s1, s2, i1, i2+1, 0)\n",
        "\n",
        "    dp[i1][i2][count] =  max(c0, c1, c2)\n",
        "\n",
        "  return dp[i1][i2][count]\n",
        "\n",
        "  # Time (N*M^2)\n",
        "  # Space (N*M^2)\n",
        "\n",
        "def main():\n",
        "  print(find_LCS_length(\"abdca\", \"cbda\"))\n",
        "  print(find_LCS_length(\"passport\", \"ppsspt\"))\n",
        "  print(find_LCS_length(\"aaaa\", \"bbbb\"))\n",
        "\n",
        "\n",
        "main()"
      ],
      "metadata": {
        "colab": {
          "base_uri": "https://localhost:8080/"
        },
        "id": "CwJzlSIJ1aEm",
        "outputId": "c83e65a4-fd2b-4d6d-b20a-292838037db2"
      },
      "execution_count": null,
      "outputs": [
        {
          "output_type": "stream",
          "name": "stdout",
          "text": [
            "2\n",
            "3\n",
            "0\n"
          ]
        }
      ]
    },
    {
      "cell_type": "code",
      "source": [
        "def find_LCS_length(s1, s2):\n",
        "  n1 = len(s1)\n",
        "  n2 = len(s2)\n",
        "\n",
        "  dp = [[0 for _ in range(n2+1)] for _ in range(n1+1)]\n",
        "\n",
        "  _max = 0\n",
        "  for x in range(1, n1+1):\n",
        "    for y in range(1, n2+1):\n",
        "      if s1[x-1] == s2[y-1]:\n",
        "        dp[x][y] = 1 + dp[x-1][y-1]\n",
        "        _max = max(_max, dp[x][y])\n",
        "\n",
        "\n",
        "  return _max\n",
        "\n",
        "  # Time (N*M)\n",
        "  # Space (N*M)\n",
        "\n",
        "def main():\n",
        "  print(find_LCS_length(\"abdca\", \"cbda\"))\n",
        "  print(find_LCS_length(\"passport\", \"ppsspt\"))\n",
        "  print(find_LCS_length(\"aaaa\", \"bbbb\"))\n",
        "\n",
        "\n",
        "main()"
      ],
      "metadata": {
        "colab": {
          "base_uri": "https://localhost:8080/"
        },
        "id": "nq48Zzt2ALw0",
        "outputId": "0f1142cd-c388-46f6-8162-5889e6d8d097"
      },
      "execution_count": null,
      "outputs": [
        {
          "output_type": "stream",
          "name": "stdout",
          "text": [
            "2\n",
            "3\n",
            "0\n"
          ]
        }
      ]
    },
    {
      "cell_type": "code",
      "source": [
        "def find_LCS_length(s1, s2):\n",
        "  n1 = len(s1)\n",
        "  n2 = len(s2)\n",
        "\n",
        "  dp = [0 for _ in range(n2+1)]\n",
        "\n",
        "  _max = 0\n",
        "  for x in range(1, n1+1):\n",
        "    for y in range(n2, 0, -1):\n",
        "      if s1[x-1] == s2[y-1]:\n",
        "        dp[y] = 1 + dp[y-1]\n",
        "        _max = max(_max, dp[y])\n",
        "      else:\n",
        "        dp[y] = 0\n",
        "\n",
        "  return _max\n",
        "\n",
        "  # Time (N*M)\n",
        "  # Space (N)\n",
        "\n",
        "def main():\n",
        "  print(find_LCS_length(\"abdca\", \"cbda\"))\n",
        "  print(find_LCS_length(\"passport\", \"ppsspt\"))\n",
        "  print(find_LCS_length(\"aaaa\", \"bbbb\"))\n",
        "\n",
        "\n",
        "main()"
      ],
      "metadata": {
        "colab": {
          "base_uri": "https://localhost:8080/"
        },
        "id": "zo4boQCOKdbQ",
        "outputId": "b78bf5aa-ee70-4e42-ffb8-148e132fbcfc"
      },
      "execution_count": null,
      "outputs": [
        {
          "output_type": "stream",
          "name": "stdout",
          "text": [
            "2\n",
            "3\n",
            "0\n"
          ]
        }
      ]
    },
    {
      "cell_type": "code",
      "source": [
        "def find_LCS_length(s1, s2):\n",
        "  return find_LCS_length_rec(s1, s2, 0, 0)\n",
        "\n",
        "\n",
        "def find_LCS_length_rec(s1, s2, i1, i2):\n",
        "  if i1 >= len(s1) or i2 >= len(s2):\n",
        "    return 0\n",
        "\n",
        "  if s1[i1] == s2[i2]:\n",
        "    return 1 + find_LCS_length_rec(s1, s2, i1+1, i2+1)\n",
        "\n",
        "  c1 = find_LCS_length_rec(s1, s2, i1+1, i2)\n",
        "  c2 = find_LCS_length_rec(s1, s2, i1, i2+1)\n",
        "\n",
        "  return max(c1, c2)\n",
        "\n",
        "  # Time O(2^(N+M))\n",
        "  # Space O(N+M)\n",
        "\n",
        "def main():\n",
        "  print(find_LCS_length(\"abdca\", \"cbda\"))\n",
        "  print(find_LCS_length(\"abdca\", \"cbdaaaa\"))\n",
        "  print(find_LCS_length(\"passport\", \"ppsspt\"))\n",
        "  print(find_LCS_length(\"aaaa\", \"bbbb\"))\n",
        "\n",
        "main()"
      ],
      "metadata": {
        "id": "sZFc9O_40gGy",
        "colab": {
          "base_uri": "https://localhost:8080/"
        },
        "outputId": "8522b378-8144-43d4-fe44-32e772080b63"
      },
      "execution_count": null,
      "outputs": [
        {
          "output_type": "stream",
          "name": "stdout",
          "text": [
            "3\n",
            "3\n",
            "5\n",
            "0\n"
          ]
        }
      ]
    },
    {
      "cell_type": "code",
      "source": [
        "def find_LCS_length(s1, s2):\n",
        "  n1 = len(s1)\n",
        "  n2 = len(s2)\n",
        "\n",
        "  dp = [[-1 for _ in range(n2)] for _ in range(n1)]\n",
        "\n",
        "  return find_LCS_length_rec(dp, s1, s2, 0, 0)\n",
        "\n",
        "\n",
        "def find_LCS_length_rec(dp, s1, s2, i1, i2):\n",
        "  if i1 >= len(s1) or i2 >= len(s2):\n",
        "    return 0\n",
        "\n",
        "  if dp[i1][i2] == -1:\n",
        "    if s1[i1] == s2[i2]:\n",
        "      dp[i1][i2] = 1 + find_LCS_length_rec(dp, s1, s2, i1+1, i2+1)\n",
        "    else:\n",
        "      c1 = find_LCS_length_rec(dp, s1, s2, i1+1, i2)\n",
        "      c2 = find_LCS_length_rec(dp, s1, s2, i1, i2+1)\n",
        "      dp[i1][i2] = max(c1, c2)\n",
        "\n",
        "  return dp[i1][i2]\n",
        "\n",
        "  # Time O(N*M)\n",
        "  # Space O(N*M)\n",
        "\n",
        "def main():\n",
        "  print(find_LCS_length(\"abdca\", \"cbda\"))\n",
        "  print(find_LCS_length(\"abdca\", \"cbdaaaa\"))\n",
        "  print(find_LCS_length(\"passport\", \"ppsspt\"))\n",
        "  print(find_LCS_length(\"aaaa\", \"bbbb\"))\n",
        "\n",
        "main()"
      ],
      "metadata": {
        "colab": {
          "base_uri": "https://localhost:8080/"
        },
        "id": "6b79V-WP7flW",
        "outputId": "09bd6fa9-702f-4a2c-cd3b-1bb99479947d"
      },
      "execution_count": null,
      "outputs": [
        {
          "output_type": "stream",
          "name": "stdout",
          "text": [
            "3\n",
            "3\n",
            "5\n",
            "0\n"
          ]
        }
      ]
    },
    {
      "cell_type": "code",
      "source": [
        "def find_LCS_length(s1, s2):\n",
        "  n1 = len(s1)\n",
        "  n2 = len(s2)\n",
        "\n",
        "  dp = [[0 for _ in range(n2+1)] for _ in range(n1+1)]\n",
        "\n",
        "  for x in range(1, n1+1):\n",
        "    for y in range(1, n2+1):\n",
        "      if s1[x-1] == s2[y-1]:\n",
        "        dp[x][y] = 1 + dp[x-1][y-1]\n",
        "      else:\n",
        "        dp[x][y] = max(dp[x-1][y], dp[x][y-1])\n",
        "\n",
        "  return dp[n1][n2]\n",
        "\n",
        "  # Time O(N*M)\n",
        "  # Space O(N*M)\n",
        "\n",
        "def main():\n",
        "  print(find_LCS_length(\"abdca\", \"cbda\"))\n",
        "  print(find_LCS_length(\"abdca\", \"cbdaaaa\"))\n",
        "  print(find_LCS_length(\"passport\", \"ppsspt\"))\n",
        "  print(find_LCS_length(\"aaaa\", \"bbbb\"))\n",
        "\n",
        "main()"
      ],
      "metadata": {
        "colab": {
          "base_uri": "https://localhost:8080/"
        },
        "id": "5YxWO6VJHIUO",
        "outputId": "4893345b-0f75-4442-b2f0-3d40a9eab931"
      },
      "execution_count": null,
      "outputs": [
        {
          "output_type": "stream",
          "name": "stdout",
          "text": [
            "3\n",
            "3\n",
            "5\n",
            "0\n"
          ]
        }
      ]
    },
    {
      "cell_type": "code",
      "source": [
        "def find_LCS_length(s1, s2):\n",
        "  n1 = len(s1)\n",
        "  n2 = len(s2)\n",
        "\n",
        "  dp = [[0 for _ in range(n2+1)] for _ in range(2)]\n",
        "\n",
        "  for x in range(1, n1+1):\n",
        "    for y in range(1, n2+1):\n",
        "      if s1[x-1] == s2[y-1]:\n",
        "        dp[x%2][y] = 1 + dp[(x-1)%2][y-1]\n",
        "      else:\n",
        "        dp[x%2][y] = max(dp[(x-1)%2][y], dp[x%2][y-1])\n",
        "\n",
        "  return dp[n1%2][n2]\n",
        "\n",
        "  # Time O(N*M)\n",
        "  # Space O(N)\n",
        "\n",
        "def main():\n",
        "  print(find_LCS_length(\"abdca\", \"cbda\"))\n",
        "  print(find_LCS_length(\"abdca\", \"cbdaaaa\"))\n",
        "  print(find_LCS_length(\"passport\", \"ppsspt\"))\n",
        "  print(find_LCS_length(\"aaaa\", \"bbbb\"))\n",
        "\n",
        "main()"
      ],
      "metadata": {
        "colab": {
          "base_uri": "https://localhost:8080/"
        },
        "id": "pRB7L-mbJ1AD",
        "outputId": "b8fedeee-50d9-4beb-bd24-42ca73ddcabe"
      },
      "execution_count": null,
      "outputs": [
        {
          "output_type": "stream",
          "name": "stdout",
          "text": [
            "3\n",
            "3\n",
            "5\n",
            "0\n"
          ]
        }
      ]
    },
    {
      "cell_type": "code",
      "source": [
        "def find_MDI(s1, s2):\n",
        "  count = find_MDI_rec(s1, s2, 0, 0)\n",
        "  print(\"Minimum deletions needed: \" + str(len(s1) - count))\n",
        "  print(\"Minimum insertions needed: \" + str(len(s2) - count))\n",
        "\n",
        "def find_MDI_rec(s1, s2, i1, i2):\n",
        "  n1 = len(s1)\n",
        "  n2 = len(s2)\n",
        "\n",
        "  if i1 >= n1:\n",
        "    return 0\n",
        "  if i2 >= n2:\n",
        "    return 0\n",
        "\n",
        "  if s1[i1] == s2[i2]:\n",
        "    return 1 + find_MDI_rec(s1, s2, i1+1, i2+1)\n",
        "\n",
        "  c1 = find_MDI_rec(s1, s2, i1+1, i2)\n",
        "  c2 = find_MDI_rec(s1, s2, i1, i2+1)\n",
        "\n",
        "  return max(c1, c2)\n",
        "\n",
        "\n",
        "def main():\n",
        "  find_MDI(\"abc\", \"fbc\")\n",
        "  find_MDI(\"abdca\", \"cbda\")\n",
        "  find_MDI(\"passport\", \"ppsspt\")\n",
        "\n",
        "\n",
        "main()"
      ],
      "metadata": {
        "colab": {
          "base_uri": "https://localhost:8080/"
        },
        "id": "V7h2xxqiM3b2",
        "outputId": "e7794c9d-45d2-4b5e-e478-70ff3fcdae73"
      },
      "execution_count": null,
      "outputs": [
        {
          "output_type": "stream",
          "name": "stdout",
          "text": [
            "Minimum deletions needed: 1\n",
            "Minimum insertions needed: 1\n",
            "Minimum deletions needed: 2\n",
            "Minimum insertions needed: 1\n",
            "Minimum deletions needed: 3\n",
            "Minimum insertions needed: 1\n"
          ]
        }
      ]
    },
    {
      "cell_type": "code",
      "source": [
        "def find_MDI(s1, s2):\n",
        "  count = find_LCS_length(s1, s2)\n",
        "  print(\"Minimum deletions needed: \" + str(len(s1) - count))\n",
        "  print(\"Minimum insertions needed: \" + str(len(s2) - count))\n",
        "\n",
        "def find_LCS_length(s1, s2):\n",
        "  n1 = len(s1)\n",
        "  n2 = len(s2)\n",
        "\n",
        "  dp = [[0 for _ in range(n2+1)] for _ in range(n1+1)]\n",
        "\n",
        "  for x in range(1, n1+1):\n",
        "    for y in range(1, n2+1):\n",
        "      if s1[x-1] == s2[y-1]:\n",
        "        dp[x][y] = 1 + dp[x-1][y-1]\n",
        "      else:\n",
        "        dp[x][y] = max(dp[x-1][y], dp[x][y-1])\n",
        "\n",
        "  return dp[n1][n2]\n",
        "\n",
        "\n",
        "def main():\n",
        "  find_MDI(\"abc\", \"fbc\")\n",
        "  find_MDI(\"abdca\", \"cbda\")\n",
        "  find_MDI(\"passport\", \"ppsspt\")\n",
        "\n",
        "\n",
        "main()"
      ],
      "metadata": {
        "colab": {
          "base_uri": "https://localhost:8080/"
        },
        "id": "uQN5PeebWx6v",
        "outputId": "a6b836ea-cda1-449b-e57d-adda5c5584ba"
      },
      "execution_count": null,
      "outputs": [
        {
          "output_type": "stream",
          "name": "stdout",
          "text": [
            "Minimum deletions needed: 1\n",
            "Minimum insertions needed: 1\n",
            "Minimum deletions needed: 2\n",
            "Minimum insertions needed: 1\n",
            "Minimum deletions needed: 3\n",
            "Minimum insertions needed: 1\n"
          ]
        }
      ]
    },
    {
      "cell_type": "code",
      "source": [
        "import math\n",
        "\n",
        "def find_LIS_length(nums):\n",
        "  # TODO: Write your code here\n",
        "  return find_LIS_length_rec(nums, 0, -math.inf)\n",
        "\n",
        "def find_LIS_length_rec(nums, i, prev):\n",
        "  if i >= len(nums):\n",
        "    return 0\n",
        "\n",
        "  c1 = 0\n",
        "  if nums[i] >= prev:\n",
        "    c1 = 1 + find_LIS_length_rec(nums, i+1, nums[i]) # count curr\n",
        "  c2 = find_LIS_length_rec(nums, i+1, prev) # ignore curr\n",
        "\n",
        "  return max(c1, c2)\n",
        "\n",
        "  # Time O(2^N)\n",
        "  # Space O(N)\n",
        "\n",
        "def main():\n",
        "  print(find_LIS_length([4, 2, 3, 6, 10, 1, 12]))\n",
        "  print(find_LIS_length([-4, 10, 3, 7, 15]))\n",
        "\n",
        "\n",
        "main()"
      ],
      "metadata": {
        "colab": {
          "base_uri": "https://localhost:8080/"
        },
        "id": "RxkCoBrmrWQX",
        "outputId": "274a1c75-95a6-4d56-df63-ecaf45f3fef4"
      },
      "execution_count": null,
      "outputs": [
        {
          "output_type": "stream",
          "name": "stdout",
          "text": [
            "5\n",
            "4\n"
          ]
        }
      ]
    },
    {
      "cell_type": "code",
      "source": [
        "import math\n",
        "\n",
        "def find_LIS_length(nums):\n",
        "  n = len(nums)\n",
        "\n",
        "  dp = [[-1 for _ in range(n+1)] for _ in range(n)]\n",
        "\n",
        "  res = find_LIS_length_rec(dp, nums, 0, -1)\n",
        "\n",
        "  return res\n",
        "\n",
        "def find_LIS_length_rec(dp, nums, i, prev_i):\n",
        "  if i >= len(nums):\n",
        "    return 0\n",
        "\n",
        "  if dp[i][prev_i+1] == -1:\n",
        "    c1 = 0\n",
        "    if prev_i == -1 or nums[i] >= nums[prev_i]:\n",
        "      c1 = 1 + find_LIS_length_rec(dp, nums, i+1, i) # count curr\n",
        "    c2 = find_LIS_length_rec(dp, nums, i+1, prev_i) # ignore curr\n",
        "    dp[i][prev_i+1] = max(c1, c2)\n",
        "\n",
        "  return dp[i][prev_i+1]\n",
        "\n",
        "  # Time O(N^2)\n",
        "  # Space O(N^2)\n",
        "\n",
        "def main():\n",
        "  print(find_LIS_length([4, 2, 3, 6, 10, 1, 12]))\n",
        "  print(find_LIS_length([-4, 10, 3, 7, 15]))\n",
        "\n",
        "\n",
        "main()"
      ],
      "metadata": {
        "colab": {
          "base_uri": "https://localhost:8080/"
        },
        "id": "CvLfUrpOtFWZ",
        "outputId": "cb2fd60b-86dd-471f-98c9-55a0f46f03dc"
      },
      "execution_count": null,
      "outputs": [
        {
          "output_type": "stream",
          "name": "stdout",
          "text": [
            "5\n",
            "4\n"
          ]
        }
      ]
    },
    {
      "cell_type": "code",
      "source": [
        "def find_LIS_length(nums):\n",
        "  n = len(nums)\n",
        "\n",
        "  dp = [1 for _ in range(n)]\n",
        "\n",
        "  maxLength = 1\n",
        "  for i in range(1, n):\n",
        "    for prev in range(i):\n",
        "      if nums[i] > nums[prev] and dp[i] <= dp[prev]:\n",
        "        dp[i] = dp[prev] + 1\n",
        "        maxLength = max(maxLength, dp[i])\n",
        "\n",
        "\n",
        "  return maxLength\n",
        "  # Time O(N^2)\n",
        "  # Space O(N)\n",
        "\n",
        "def main():\n",
        "  print(find_LIS_length([4, 2, 3, 6, 10, 1, 12]))\n",
        "  print(find_LIS_length([-4, 10, 3, 7, 15]))\n",
        "\n",
        "\n",
        "main()"
      ],
      "metadata": {
        "colab": {
          "base_uri": "https://localhost:8080/"
        },
        "id": "JqYo-4uLIGxL",
        "outputId": "c53f7af6-266a-4862-cec6-7719cca95c6e"
      },
      "execution_count": null,
      "outputs": [
        {
          "output_type": "stream",
          "name": "stdout",
          "text": [
            "5\n",
            "4\n"
          ]
        }
      ]
    },
    {
      "cell_type": "code",
      "source": [
        "def find_MSIS(nums):\n",
        "\n",
        "  return find_MSIS_rec(nums, 0, -1)\n",
        "\n",
        "def find_MSIS_rec(nums, i, prev):\n",
        "  if i >= len(nums):\n",
        "    return 0\n",
        "\n",
        "  sum1 = 0\n",
        "  if prev == -1 or nums[i] > nums[prev]:\n",
        "    sum1 = nums[i] + find_MSIS_rec(nums, i+1, i)\n",
        "  sum2 = find_MSIS_rec(nums, i+1, prev)\n",
        "\n",
        "  return max(sum1, sum2)\n",
        "\n",
        "  # T - 2^N\n",
        "  # S - N\n",
        "\n",
        "def main():\n",
        "  print(find_MSIS([4, 1, 2, 6, 10, 1, 12]))\n",
        "  print(find_MSIS([-4, 10, 3, 7, 15]))\n",
        "\n",
        "\n",
        "main()"
      ],
      "metadata": {
        "colab": {
          "base_uri": "https://localhost:8080/"
        },
        "id": "xkoNU8QerXTt",
        "outputId": "ae2d742f-e0f5-494b-a778-f71e06fdf9bf"
      },
      "execution_count": null,
      "outputs": [
        {
          "output_type": "stream",
          "name": "stdout",
          "text": [
            "32\n",
            "25\n"
          ]
        }
      ]
    },
    {
      "cell_type": "code",
      "source": [
        "def find_MSIS(nums):\n",
        "  dp = {}\n",
        "  return find_MSIS_recursive(dp, nums, 0, -1, 0)\n",
        "\n",
        "\n",
        "def find_MSIS_recursive(dp, nums, currentIndex,  previousIndex,  sum):\n",
        "  if currentIndex == len(nums):\n",
        "    return sum\n",
        "\n",
        "  subProblemKey = str(currentIndex) + \"-\" + \\\n",
        "                  str(previousIndex) + \"-\" + str(sum)\n",
        "\n",
        "  if subProblemKey not in dp:\n",
        "    # include nums[currentIndex] if it is larger than the last included number\n",
        "    s1 = sum\n",
        "    if previousIndex == -1 or nums[currentIndex] > nums[previousIndex]:\n",
        "      s1 = find_MSIS_recursive(\n",
        "        dp, nums, currentIndex + 1, currentIndex, sum + nums[currentIndex])\n",
        "\n",
        "    # excluding the number at currentIndex\n",
        "    s2 = find_MSIS_recursive(\n",
        "      dp, nums, currentIndex + 1, previousIndex, sum)\n",
        "    dp[subProblemKey] = max(s1, s2)\n",
        "\n",
        "  return dp.get(subProblemKey)\n",
        "\n",
        "\n",
        "def main():\n",
        "  print(find_MSIS([4, 1, 2, 6, 10, 1, 12]))\n",
        "  print(find_MSIS([-4, 10, 3, 7, 15]))\n",
        "\n",
        "\n",
        "main()"
      ],
      "metadata": {
        "colab": {
          "base_uri": "https://localhost:8080/"
        },
        "id": "41aRAus1tbmE",
        "outputId": "a0577e7a-b973-4ceb-acb9-ae78fac5aa2b"
      },
      "execution_count": null,
      "outputs": [
        {
          "output_type": "stream",
          "name": "stdout",
          "text": [
            "32\n",
            "25\n"
          ]
        }
      ]
    },
    {
      "cell_type": "code",
      "source": [
        "import math\n",
        "\n",
        "def find_MSIS(nums):\n",
        "  n = len(nums)\n",
        "\n",
        "  dp = [0 for _ in range(n)]\n",
        "\n",
        "  maxSum = -math.inf\n",
        "  for i in range(n):\n",
        "    dp[i] = nums[i]\n",
        "    for j in range(i):\n",
        "      if nums[i] > nums[j] and dp[i] < dp[j] + nums[i]:\n",
        "        dp[i] = nums[i] + dp[j]\n",
        "        maxSum = max(maxSum, dp[i])\n",
        "\n",
        "  return maxSum\n",
        "\n",
        "  # Time  n^2\n",
        "  # Space n\n",
        "\n",
        "def main():\n",
        "  print(find_MSIS([4, 1, 2, 6, 10, 1, 12]))\n",
        "  print(find_MSIS([-4, 10, 3, 7, 15]))\n",
        "\n",
        "\n",
        "main()"
      ],
      "metadata": {
        "colab": {
          "base_uri": "https://localhost:8080/"
        },
        "id": "VMM6Wlhdu8Fh",
        "outputId": "94a45a3e-240f-4e9d-ad65-b174e0136ee4"
      },
      "execution_count": null,
      "outputs": [
        {
          "output_type": "stream",
          "name": "stdout",
          "text": [
            "32\n",
            "25\n"
          ]
        }
      ]
    },
    {
      "cell_type": "code",
      "source": [
        "def find_SCS_length(s1, s2):\n",
        "  l1 = len(s1)\n",
        "  l2 = len(s2)\n",
        "  lc = find_LCS_length(s1, s2)\n",
        "\n",
        "  return l1+l2-lc\n",
        "\n",
        "def find_LCS_length(s1, s2):\n",
        "  l1 = len(s1)\n",
        "  l2 = len(s2)\n",
        "\n",
        "  dp = [[0 for _ in range(l2+1)] for _ in range(2)]\n",
        "\n",
        "  _max = 0\n",
        "  for i in range(1, l1+1):\n",
        "    for j in range(1, l2+1):\n",
        "      if s1[i-1] == s2[j-1]:\n",
        "        dp[i%2][j] = 1 + dp[(i-1)%2][j-1]\n",
        "        _max = max(_max, dp[i%2][j])\n",
        "      else:\n",
        "        dp[i%2][j] = max(dp[i%2][j-1], dp[(i-1)%2][j])\n",
        "\n",
        "  return _max\n",
        "\n",
        "\n",
        "def main():\n",
        "  print(find_SCS_length(\"abcf\", \"bdcf\"))\n",
        "  print(find_SCS_length(\"dynamic\", \"programming\"))\n",
        "\n",
        "\n",
        "main()"
      ],
      "metadata": {
        "colab": {
          "base_uri": "https://localhost:8080/"
        },
        "id": "8V0gId5-IBnL",
        "outputId": "9554cd20-c1de-4669-dbca-212949f56d6c"
      },
      "execution_count": null,
      "outputs": [
        {
          "output_type": "stream",
          "name": "stdout",
          "text": [
            "5\n",
            "15\n"
          ]
        }
      ]
    },
    {
      "cell_type": "code",
      "source": [
        "def find_minimum_deletions(nums):\n",
        "  return len(nums) - find_max_crescent(nums)\n",
        "\n",
        "def find_max_crescent(nums):\n",
        "  n = len(nums)\n",
        "\n",
        "  dp = [1 for _ in range(n)]\n",
        "\n",
        "  maxLen = 1\n",
        "  for i in range(1, n):\n",
        "    for j in range(i):\n",
        "      if nums[i] > nums[j] and dp[i] <= dp[j]:\n",
        "        dp[i] = 1 + dp[j]\n",
        "        maxLen = max(maxLen, dp[i])\n",
        "\n",
        "  return maxLen\n",
        "\n",
        "  # Time N^2 ; Space N\n",
        "\n",
        "def main():\n",
        "  print(find_minimum_deletions([4, 2, 3, 6, 10, 1, 12]))\n",
        "  print(find_minimum_deletions([-4, 10, 3, 7, 15]))\n",
        "  print(find_minimum_deletions([3, 2, 1, 0]))\n",
        "\n",
        "\n",
        "main()"
      ],
      "metadata": {
        "colab": {
          "base_uri": "https://localhost:8080/"
        },
        "id": "s6ikE44BeKmv",
        "outputId": "f6839a90-202a-41b6-939d-f6edeeadc158"
      },
      "execution_count": null,
      "outputs": [
        {
          "output_type": "stream",
          "name": "stdout",
          "text": [
            "2\n",
            "1\n",
            "3\n"
          ]
        }
      ]
    },
    {
      "cell_type": "code",
      "source": [
        "def find_LRS_length(str):\n",
        "  return find_LRS_length_rec(str, 0, 1)\n",
        "\n",
        "def find_LRS_length_rec(str, i1, i2):\n",
        "  if i1 >= i2 or i2 >= len(str):\n",
        "    return 0\n",
        "\n",
        "  if str[i1] == str[i2]:\n",
        "    return 1 + find_LRS_length_rec(str, i1+1, i2+1)\n",
        "\n",
        "  c1 = find_LRS_length_rec(str, i1+1, i2)\n",
        "  c2 = find_LRS_length_rec(str, i1, i2+1)\n",
        "\n",
        "  return max(c1, c2)\n",
        "\n",
        "  # Time 2^N ; Space N\n",
        "\n",
        "def main():\n",
        "  print(find_LRS_length(\"tomorrow\"))\n",
        "  print(find_LRS_length(\"aabdbcec\"))\n",
        "  print(find_LRS_length(\"fmff\"))\n",
        "\n",
        "\n",
        "main()"
      ],
      "metadata": {
        "colab": {
          "base_uri": "https://localhost:8080/"
        },
        "id": "H3W7W2VZgW3U",
        "outputId": "bc52fa6c-20e3-420b-ba48-f2c91abb7467"
      },
      "execution_count": null,
      "outputs": [
        {
          "output_type": "stream",
          "name": "stdout",
          "text": [
            "2\n",
            "3\n",
            "2\n"
          ]
        }
      ]
    },
    {
      "cell_type": "code",
      "source": [
        "def find_LRS_length(str):\n",
        "  n = len(str)\n",
        "\n",
        "  dp = [[-1 for _ in range(n)] for _ in range(n)]\n",
        "\n",
        "  return find_LRS_length_rec(dp, str, 0, 1)\n",
        "\n",
        "def find_LRS_length_rec(dp, str, i1, i2):\n",
        "  if i1 >= i2 or i2 >= len(str):\n",
        "    return 0\n",
        "\n",
        "  if dp[i1][i2] == -1:\n",
        "    if str[i1] == str[i2]:\n",
        "      dp[i1][i2] =  1 + find_LRS_length_rec(dp, str, i1+1, i2+1)\n",
        "    else:\n",
        "      c1 = find_LRS_length_rec(dp, str, i1+1, i2)\n",
        "      c2 = find_LRS_length_rec(dp, str, i1, i2+1)\n",
        "      dp[i1][i2] = max(c1, c2)\n",
        "\n",
        "  return dp[i1][i2]\n",
        "\n",
        "  # Time N^2 ; Space N^2\n",
        "\n",
        "def main():\n",
        "  print(find_LRS_length(\"tomorrow\"))\n",
        "  print(find_LRS_length(\"aabdbcec\"))\n",
        "  print(find_LRS_length(\"fmff\"))\n",
        "\n",
        "\n",
        "main()"
      ],
      "metadata": {
        "colab": {
          "base_uri": "https://localhost:8080/"
        },
        "id": "yhw-Z9ykkh1O",
        "outputId": "fa459164-7468-45ee-cc61-a41332199391"
      },
      "execution_count": null,
      "outputs": [
        {
          "output_type": "stream",
          "name": "stdout",
          "text": [
            "2\n",
            "3\n",
            "2\n"
          ]
        }
      ]
    },
    {
      "cell_type": "code",
      "source": [
        "def find_LRS_length(str):\n",
        "  n = len(str)\n",
        "\n",
        "  dp = [[0 for _ in range(n+1)] for _ in range(n+1)]\n",
        "\n",
        "  maxLen = 0\n",
        "  for i in range(1, n+1):\n",
        "    for j in range(i+1, n+1):\n",
        "      if str[i-1] == str[j-1]:\n",
        "        dp[i][j] = 1 + dp[i-1][j-1]\n",
        "        maxLen = max(maxLen, dp[i][j])\n",
        "      else:\n",
        "        dp[i][j] = max(dp[i][j-1], dp[i-1][j])\n",
        "\n",
        "  return maxLen\n",
        "\n",
        "  # Time N^2 ; Space N^2\n",
        "\n",
        "def main():\n",
        "  print(find_LRS_length(\"tomorrow\"))\n",
        "  print(find_LRS_length(\"aabdbcec\"))\n",
        "  print(find_LRS_length(\"fmff\"))\n",
        "\n",
        "\n",
        "main()"
      ],
      "metadata": {
        "id": "i5do725RlZ-H",
        "colab": {
          "base_uri": "https://localhost:8080/"
        },
        "outputId": "dd39150f-34a5-4d1e-a3f3-b3a5fc42a870"
      },
      "execution_count": null,
      "outputs": [
        {
          "output_type": "stream",
          "name": "stdout",
          "text": [
            "2\n",
            "3\n",
            "2\n"
          ]
        }
      ]
    },
    {
      "cell_type": "code",
      "source": [
        "def find_SPM_count(str, pat):\n",
        "  return find_SPM_count_rec(str, pat, 0, 0)\n",
        "\n",
        "def find_SPM_count_rec(str, pat, i, j):\n",
        "  if j >= len(pat):\n",
        "    return 1\n",
        "  if i >= len(str):\n",
        "    return 0\n",
        "\n",
        "  c0 = 0\n",
        "  if str[i] == pat[j]:\n",
        "    c0 = find_SPM_count_rec(str, pat, i+1, j+1)\n",
        "  c1 = find_SPM_count_rec(str, pat, i+1, j)\n",
        "\n",
        "  return c0 + c1\n",
        "\n",
        "  # Time 2^N ; Space N\n",
        "\n",
        "def main():\n",
        "  print(find_SPM_count(\"baxmx\", \"ax\"))\n",
        "  print(find_SPM_count(\"tomorrow\", \"tor\"))\n",
        "\n",
        "\n",
        "main()"
      ],
      "metadata": {
        "colab": {
          "base_uri": "https://localhost:8080/"
        },
        "id": "AbLSFcwPnXnM",
        "outputId": "7adab2c3-c0bc-4fdd-d1d2-68629d6071fb"
      },
      "execution_count": null,
      "outputs": [
        {
          "output_type": "stream",
          "name": "stdout",
          "text": [
            "2\n",
            "4\n"
          ]
        }
      ]
    },
    {
      "cell_type": "code",
      "source": [
        "def find_SPM_count(str, pat):\n",
        "  n1 = len(str)\n",
        "  n2 = len(pat)\n",
        "\n",
        "  dp = [[0 for _ in range(n2+1)] for _ in range(n1+1)]\n",
        "\n",
        "  for i in range(n1+1):\n",
        "    dp[i][n2] = 1\n",
        "\n",
        "  for i in range(n1-1, -1, -1):\n",
        "    for j in range(n2-1, -1, -1):\n",
        "      dp[i][j] = dp[i+1][j]\n",
        "      if str[i] == pat[j]:\n",
        "        dp[i][j] += dp[i+1][j+1]\n",
        "\n",
        "  return dp[0][0]\n",
        "\n",
        "  # Time N*M ; Space N*M\n",
        "\n",
        "def main():\n",
        "  print(find_SPM_count(\"baxmx\", \"ax\"))\n",
        "  print(find_SPM_count(\"tomorrow\", \"tor\"))\n",
        "\n",
        "\n",
        "main()"
      ],
      "metadata": {
        "colab": {
          "base_uri": "https://localhost:8080/"
        },
        "id": "6At_2zNVtshG",
        "outputId": "c2f295ce-1c20-4742-919c-d62428b7f346"
      },
      "execution_count": null,
      "outputs": [
        {
          "output_type": "stream",
          "name": "stdout",
          "text": [
            "2\n",
            "4\n"
          ]
        }
      ]
    },
    {
      "cell_type": "code",
      "source": [
        "def find_SPM_count(str, pat):\n",
        "  strLen, patLen = len(str), len(pat)\n",
        "  # every empty pattern has one match\n",
        "  if patLen == 0:\n",
        "    return 1\n",
        "\n",
        "  if strLen == 0 or patLen > strLen:\n",
        "    return 0\n",
        "\n",
        "  # dp[strIndex][patIndex] will be storing the count of SPM up to str[0..strIndex-1][0..patIndex-1]\n",
        "  dp = [[0 for _ in range(patLen+1)] for _ in range(strLen+1)]\n",
        "\n",
        "  # for the empty pattern, we have one matching\n",
        "  for i in range(strLen+1):\n",
        "    dp[i][0] = 1\n",
        "\n",
        "  for strIndex in range(1, strLen+1):\n",
        "    for patIndex in range(1, patLen+1):\n",
        "      if str[strIndex - 1] == pat[patIndex - 1]:\n",
        "        dp[strIndex][patIndex] = dp[strIndex - 1][patIndex - 1]\n",
        "      dp[strIndex][patIndex] += dp[strIndex - 1][patIndex]\n",
        "\n",
        "  return dp[strLen][patLen]\n",
        "\n",
        "\n",
        "def main():\n",
        "  print(find_SPM_count(\"baxmx\", \"ax\"))\n",
        "  print(find_SPM_count(\"tomorrow\", \"tor\"))\n",
        "\n",
        "\n",
        "main()"
      ],
      "metadata": {
        "id": "cg-3urOO0a3v",
        "outputId": "0eb3d8ee-cb64-4af5-c985-a9bf69b66932",
        "colab": {
          "base_uri": "https://localhost:8080/"
        }
      },
      "execution_count": null,
      "outputs": [
        {
          "output_type": "stream",
          "name": "stdout",
          "text": [
            "2\n",
            "4\n"
          ]
        }
      ]
    },
    {
      "cell_type": "code",
      "source": [
        "def find_LBS_length(nums):\n",
        "  return find_LBS_length_rec(nums, 0, 1, True)\n",
        "\n",
        "def find_LBS_length_rec(nums, i, j, incFlag):\n",
        "  if i >= j or j >= len(nums):\n",
        "    return 1\n",
        "\n",
        "  c0, c1, c2 = 0, 0, 0\n",
        "  if incFlag:\n",
        "    if nums[i] < nums[j]:\n",
        "      c0 = 1 + find_LBS_length_rec(nums, i+1, j+1, True)\n",
        "    else:\n",
        "      c0 = 1 + find_LBS_length_rec(nums, i+1, j+1, False)\n",
        "    c1 = find_LBS_length_rec(nums, i+1, j, True)\n",
        "    c2 = find_LBS_length_rec(nums, i, j+1, True)\n",
        "  else:\n",
        "    if nums[i] >= nums[j]:\n",
        "      c0 = 1 + find_LBS_length_rec(nums, i+1, j+1, False)\n",
        "    c1 = find_LBS_length_rec(nums, i+1, j, False)\n",
        "    c2 = find_LBS_length_rec(nums, i, j+1, False)\n",
        "\n",
        "  return max(c0, c1, c2)\n",
        "\n",
        "  # Time 3^N ; Space N\n",
        "\n",
        "def main():\n",
        "  print(find_LBS_length([4, 2, 3, 6, 10, 1, 12]))\n",
        "  print(find_LBS_length([4, 2, 5, 9, 7, 6, 10, 3, 1]))\n",
        "\n",
        "\n",
        "main()"
      ],
      "metadata": {
        "colab": {
          "base_uri": "https://localhost:8080/"
        },
        "id": "3hYv0DhX2peu",
        "outputId": "fb41f7c9-be64-4130-85df-0d6de9a3252d"
      },
      "execution_count": null,
      "outputs": [
        {
          "output_type": "stream",
          "name": "stdout",
          "text": [
            "5\n",
            "7\n"
          ]
        }
      ]
    },
    {
      "cell_type": "code",
      "source": [
        "def find_LBS_length(nums):\n",
        "  n = len(nums)\n",
        "\n",
        "  maxLen = 0\n",
        "  for i in range(n):\n",
        "    lis = find_LIS_length(nums, 0, i, -1)\n",
        "    lds = find_LDS_length(nums, i, -1)\n",
        "    maxLen = max(maxLen, lis+lds-1)\n",
        "\n",
        "  return maxLen\n",
        "\n",
        "def find_LIS_length(nums, i, end, prev):\n",
        "  if i > end:\n",
        "    return 0\n",
        "\n",
        "  c1 = 0\n",
        "  if prev == -1 or nums[i] > nums[prev]:\n",
        "    c1 = 1 + find_LIS_length(nums, i+1, end, i)\n",
        "  c2 =  find_LIS_length(nums, i+1, end, prev)\n",
        "\n",
        "  return max(c1, c2)\n",
        "\n",
        "\n",
        "def find_LDS_length(nums, i, prev):\n",
        "  if i >= len(nums):\n",
        "    return 0\n",
        "\n",
        "  c1 = 0\n",
        "  if prev == -1 or nums[i] < nums[prev]:\n",
        "    c1 = 1 + find_LDS_length(nums, i+1, i)\n",
        "  c2 = find_LDS_length(nums, i+1, prev)\n",
        "\n",
        "  return max(c1, c2)\n",
        "\n",
        "  # Time 2^N ; Space N\n",
        "\n",
        "def main():\n",
        "  print(find_LBS_length([4, 2, 3, 6, 10, 1, 12]))\n",
        "  print(find_LBS_length([4, 2, 5, 9, 7, 6, 10, 3, 1]))\n",
        "\n",
        "\n",
        "main()"
      ],
      "metadata": {
        "colab": {
          "base_uri": "https://localhost:8080/"
        },
        "id": "2gf7e9DymQvO",
        "outputId": "a56bf712-ab51-441f-e583-83f3ff8f8d31"
      },
      "execution_count": null,
      "outputs": [
        {
          "output_type": "stream",
          "name": "stdout",
          "text": [
            "5\n",
            "7\n"
          ]
        }
      ]
    },
    {
      "cell_type": "code",
      "source": [
        "def find_LBS_length(nums):\n",
        "  maxLength = 0\n",
        "  for i in range(len(nums)):\n",
        "    c1 = find_LDS_length(nums, i, -1)\n",
        "    c2 = find_LDS_length_rev(nums, i, -1)\n",
        "    maxLength = max(maxLength, c1 + c2 - 1)\n",
        "  return maxLength\n",
        "\n",
        "# find the longest decreasing subsequence from currentIndex till the end of the array\n",
        "\n",
        "\n",
        "def find_LDS_length(nums,  currentIndex, previousIndex):\n",
        "  if currentIndex == len(nums):\n",
        "    return 0\n",
        "\n",
        "  # include nums[currentIndex] if it is smaller than the previous number\n",
        "  c1 = 0\n",
        "  if previousIndex == -1 or nums[currentIndex] < nums[previousIndex]:\n",
        "    c1 = 1 + find_LDS_length(nums, currentIndex + 1, currentIndex)\n",
        "\n",
        "  # excluding the number at currentIndex\n",
        "  c2 = find_LDS_length(nums, currentIndex + 1, previousIndex)\n",
        "\n",
        "  return max(c1, c2)\n",
        "\n",
        "# find the longest decreasing subsequence from currentIndex till the beginning of the array\n",
        "\n",
        "\n",
        "def find_LDS_length_rev(nums,  currentIndex,  previousIndex):\n",
        "  if currentIndex < 0:\n",
        "    return 0\n",
        "\n",
        "  # include nums[currentIndex] if it is smaller than the previous number\n",
        "  c1 = 0\n",
        "  if previousIndex == -1 or nums[currentIndex] < nums[previousIndex]:\n",
        "    c1 = 1 + find_LDS_length_rev(nums, currentIndex - 1, currentIndex)\n",
        "\n",
        "  # excluding the number at currentIndex\n",
        "  c2 = find_LDS_length_rev(nums, currentIndex - 1, previousIndex)\n",
        "\n",
        "  return max(c1, c2)\n",
        "\n",
        "\n",
        "def main():\n",
        "  print(find_LBS_length([4, 2, 3, 6, 10, 1, 12]))\n",
        "  print(find_LBS_length([4, 2, 5, 9, 7, 6, 10, 3, 1]))\n",
        "\n",
        "\n",
        "main()"
      ],
      "metadata": {
        "id": "FPhMfcEEqI2w"
      },
      "execution_count": null,
      "outputs": []
    },
    {
      "cell_type": "code",
      "source": [
        "def find_LBS_length(nums):\n",
        "  n = len(nums)\n",
        "\n",
        "  dp = find_LIS_length(nums)\n",
        "  dp_rev = find_LIS_length_rev(nums)\n",
        "\n",
        "  maxLength = 0\n",
        "  for i in range(len(nums)):\n",
        "    maxLength = max(maxLength, dp[i] + dp_rev[i] - 1)\n",
        "\n",
        "  return maxLength\n",
        "\n",
        "def find_LIS_length(nums):\n",
        "  n = len(nums)\n",
        "\n",
        "  dp = [1 for _ in range(n)]\n",
        "\n",
        "  for i in range(n):\n",
        "    for prev in range(i):\n",
        "      if nums[i] > nums[prev] and dp[i] <= dp[prev]:\n",
        "        dp[i] = 1 + dp[prev]\n",
        "\n",
        "#\n",
        "  return dp\n",
        "\n",
        "def find_LIS_length_rev(nums):\n",
        "  n = len(nums)\n",
        "\n",
        "  dp = [1 for _ in range(n)]\n",
        "\n",
        "  for i in range(n-1, -1, -1):\n",
        "    for prev in range(i+1, n):\n",
        "      if nums[i] > nums[prev] and dp[i] <= dp[prev]:\n",
        "        dp[i] = 1 + dp[prev]\n",
        "\n",
        "\n",
        "  # print(dp)\n",
        "\n",
        "  return dp\n",
        "\n",
        "\n",
        "def main():\n",
        "  print(find_LBS_length([4, 2, 3, 6, 10, 1, 12]))\n",
        "  print(find_LBS_length([4, 2, 5, 9, 7, 6, 10, 3, 1]))\n",
        "\n",
        "\n",
        "main()"
      ],
      "metadata": {
        "colab": {
          "base_uri": "https://localhost:8080/"
        },
        "id": "MyRWxRk_r3M1",
        "outputId": "b35dfdd8-6752-44fa-d7e7-4d8c200df8a9"
      },
      "execution_count": null,
      "outputs": [
        {
          "output_type": "stream",
          "name": "stdout",
          "text": [
            "5\n",
            "7\n"
          ]
        }
      ]
    },
    {
      "cell_type": "code",
      "source": [
        "def find_LBS_length(nums):\n",
        "  n = len(nums)\n",
        "  lds = [1 for _ in range(n)]\n",
        "  ldsReverse = [1 for _ in range(n)]\n",
        "\n",
        "  # find LDS for every index up to the beginning of the array\n",
        "  for i in range(n):\n",
        "    for j in range(i-1, -1, -1):\n",
        "      if nums[j] < nums[i]:\n",
        "        lds[i] = max(lds[i], lds[j] + 1)\n",
        "\n",
        "  # find LDS for every index up to the end of the array\n",
        "  for i in range(n-1, -1, -1):\n",
        "    for j in range(i+1, n):\n",
        "      if nums[j] < nums[i]:\n",
        "        ldsReverse[i] = max(ldsReverse[i], ldsReverse[j]+1)\n",
        "\n",
        "  maxLength = 0\n",
        "  for i in range(n):\n",
        "    maxLength = max(maxLength, lds[i] + ldsReverse[i]-1)\n",
        "\n",
        "  return maxLength\n",
        "\n",
        "\n",
        "def main():\n",
        "  print(find_LBS_length([4, 2, 3, 6, 10, 1, 12]))\n",
        "  print(find_LBS_length([4, 2, 5, 9, 7, 6, 10, 3, 1]))\n",
        "\n",
        "\n",
        "main()"
      ],
      "metadata": {
        "colab": {
          "base_uri": "https://localhost:8080/"
        },
        "id": "9E3VtWKF0UA2",
        "outputId": "00a32650-fb62-433a-da39-5498a149e9ff"
      },
      "execution_count": null,
      "outputs": [
        {
          "output_type": "stream",
          "name": "stdout",
          "text": [
            "5\n",
            "7\n"
          ]
        }
      ]
    },
    {
      "cell_type": "code",
      "source": [
        "def find_LAS_length(nums):\n",
        "  return max(find_LAS_length_rec(nums, 0, -1, True), \\\n",
        "             find_LAS_length_rec(nums, 0, -1, False))\n",
        "\n",
        "def find_LAS_length_rec(nums, i, prev, isGreater):\n",
        "  if i == len(nums):\n",
        "    return 0\n",
        "\n",
        "  c1 = 0\n",
        "  if isGreater:\n",
        "    if prev == -1 or nums[i] > nums[prev]:\n",
        "      c1 = 1 + find_LAS_length_rec(nums, i+1, i, not isGreater)\n",
        "  else:\n",
        "    if prev == -1 or nums[i] < nums[prev]:\n",
        "      c1 = 1 + find_LAS_length_rec(nums, i+1, i, not isGreater)\n",
        "\n",
        "  c2 = find_LAS_length_rec(nums, i+1, prev, isGreater)\n",
        "\n",
        "  return max(c1, c2)\n",
        "\n",
        "def main():\n",
        "  print(find_LAS_length([1, 2, 3, 4]))\n",
        "  print(find_LAS_length([3, 2, 1, 4]))\n",
        "  print(find_LAS_length([1, 3, 2, 4]))\n",
        "\n",
        "\n",
        "main()"
      ],
      "metadata": {
        "colab": {
          "base_uri": "https://localhost:8080/"
        },
        "id": "KmsiYD__7PHG",
        "outputId": "6abe8773-bf44-4872-a052-940fefc03356"
      },
      "execution_count": null,
      "outputs": [
        {
          "output_type": "stream",
          "name": "stdout",
          "text": [
            "2\n",
            "3\n",
            "4\n"
          ]
        }
      ]
    },
    {
      "cell_type": "code",
      "source": [
        "def find_LAS_length(nums):\n",
        "  n = len(nums)\n",
        "\n",
        "  dp = [[1 for _ in range(2)]for _ in range(n+1)]\n",
        "  # 0 is ascending\n",
        "  # 1 is descending\n",
        "\n",
        "  maxLen = 0\n",
        "  for i in range(1, n+1):\n",
        "    dp[i] = dp[i-1]\n",
        "    for prev in range(1, i):\n",
        "      if nums[i-1] > nums[prev-1]:\n",
        "        dp[i][0] = max(dp[i][0], 1 + dp[prev][1])\n",
        "      else:\n",
        "        dp[i][1] = max(dp[i][1], 1 + dp[prev][0])\n",
        "      maxLen = max(maxLen, dp[i][0], dp[i][1])\n",
        "\n",
        "  return maxLen\n",
        "\n",
        "def main():\n",
        "  print(find_LAS_length([1, 2, 3, 4]))\n",
        "  print(find_LAS_length([3, 2, 1, 4]))\n",
        "  print(find_LAS_length([1, 3, 2, 4]))\n",
        "\n",
        "\n",
        "main()"
      ],
      "metadata": {
        "id": "GNadjIIhA9Y0",
        "colab": {
          "base_uri": "https://localhost:8080/"
        },
        "outputId": "0d2f189b-23dd-46e1-e46d-ae6eb02715f6"
      },
      "execution_count": null,
      "outputs": [
        {
          "output_type": "stream",
          "name": "stdout",
          "text": [
            "2\n",
            "3\n",
            "4\n"
          ]
        }
      ]
    },
    {
      "cell_type": "code",
      "source": [
        "def find_min_operations(s1, s2):\n",
        "  return find_min_operations_rec(s1, s2, 0, 0)\n",
        "\n",
        "\n",
        "def find_min_operations_rec(s1, s2, i1, i2):\n",
        "  n1 = len(s1)\n",
        "  n2 = len(s2)\n",
        "  if i1 == n1:\n",
        "    return n2 - i2\n",
        "  if i2 == n2:\n",
        "    return n1 - i1\n",
        "\n",
        "  if s1[i1] == s2[i2]:\n",
        "    return find_min_operations_rec(s1, s2, i1+1, i2+1)\n",
        "\n",
        "  c1 = 1 + find_min_operations_rec(s1, s2, i1+1, i2) # deleting\n",
        "  c2 = 1 + find_min_operations_rec(s1, s2, i1, i2+1) # inserting\n",
        "  c3 = 1 + find_min_operations_rec(s1, s2, i1+1, i2+1) # reaplacing\n",
        "\n",
        "  return min(c1, c2, c3)\n",
        "\n",
        "def main():\n",
        "  print(find_min_operations(\"bat\", \"but\"))\n",
        "  print(find_min_operations(\"abdca\", \"cbda\"))\n",
        "  print(find_min_operations(\"passpot\", \"ppsspqrt\"))\n",
        "\n",
        "\n",
        "main()"
      ],
      "metadata": {
        "colab": {
          "base_uri": "https://localhost:8080/"
        },
        "id": "ZLZ4LgvodHYl",
        "outputId": "deb88e67-93c2-4842-d1e9-90733c5260d2"
      },
      "execution_count": null,
      "outputs": [
        {
          "output_type": "stream",
          "name": "stdout",
          "text": [
            "1\n",
            "2\n",
            "3\n"
          ]
        }
      ]
    },
    {
      "cell_type": "code",
      "source": [
        "def find_min_operations(s1, s2):\n",
        "  n1 = len(s1)\n",
        "  n2 = len(s2)\n",
        "\n",
        "  dp = [[-1 for _ in range(n2)] for _ in range(n1)]\n",
        "\n",
        "  return find_min_operations_rec(dp, s1, s2, 0, 0)\n",
        "\n",
        "\n",
        "def find_min_operations_rec(dp, s1, s2, i1, i2):\n",
        "  n1 = len(s1)\n",
        "  n2 = len(s2)\n",
        "  if i1 == n1:\n",
        "    return n2 - i2\n",
        "  if i2 == n2:\n",
        "    return n1 - i1\n",
        "\n",
        "  if dp[i1][i2] == -1:\n",
        "    if s1[i1] == s2[i2]:\n",
        "      dp[i1][i2] = find_min_operations_rec(dp, s1, s2, i1+1, i2+1)\n",
        "    else:\n",
        "      c1 = 1 + find_min_operations_rec(dp, s1, s2, i1+1, i2) # deleting\n",
        "      c2 = 1 + find_min_operations_rec(dp, s1, s2, i1, i2+1) # inserting\n",
        "      c3 = 1 + find_min_operations_rec(dp, s1, s2, i1+1, i2+1) # reaplacing\n",
        "      dp[i1][i2] = min(c1, c2, c3)\n",
        "\n",
        "  return dp[i1][i2]\n",
        "\n",
        "def main():\n",
        "  print(find_min_operations(\"bat\", \"but\"))\n",
        "  print(find_min_operations(\"abdca\", \"cbda\"))\n",
        "  print(find_min_operations(\"passpot\", \"ppsspqrt\"))\n",
        "\n",
        "\n",
        "main()"
      ],
      "metadata": {
        "colab": {
          "base_uri": "https://localhost:8080/"
        },
        "id": "z67vw8A2gUDS",
        "outputId": "bcf1b828-d919-4b04-ce45-9e33391e8bc1"
      },
      "execution_count": null,
      "outputs": [
        {
          "output_type": "stream",
          "name": "stdout",
          "text": [
            "1\n",
            "2\n",
            "3\n"
          ]
        }
      ]
    },
    {
      "cell_type": "code",
      "source": [
        "def find_min_operations(s1, s2):\n",
        "  n1 = len(s1)\n",
        "  n2 = len(s2)\n",
        "\n",
        "  dp = [[0 for _ in range(n2+1)] for _ in range(n1+1)]\n",
        "\n",
        "  # if s2 is empty, we can remove all the characters of s1 to make it empty too\n",
        "  for i1 in range(n1+1):\n",
        "    dp[i1][0] = i1\n",
        "\n",
        "  # if s1 is empty, we have to insert all the characters of s2\n",
        "  for i2 in range(n2+1):\n",
        "    dp[0][i2] = i2\n",
        "\n",
        "  for i in range(1, n1+1):\n",
        "    for j in range(1, n2+1):\n",
        "      if s1[i-1] == s2[j-1]:\n",
        "        dp[i][j] = dp[i-1][j-1]\n",
        "      else:\n",
        "        c1 = dp[i-1][j] # delete\n",
        "        c2 = dp[i][j-1] # insert\n",
        "        c3 = dp[i-1][j-1] # replace\n",
        "        dp[i][j] = 1 + min(c1, c2, c3)\n",
        "\n",
        "  return dp[n1][n2]\n",
        "\n",
        "\n",
        "def main():\n",
        "  print(find_min_operations(\"bat\", \"but\"))\n",
        "  print(find_min_operations(\"abdca\", \"cbda\"))\n",
        "  print(find_min_operations(\"passpot\", \"ppsspqrt\"))\n",
        "\n",
        "\n",
        "main()"
      ],
      "metadata": {
        "colab": {
          "base_uri": "https://localhost:8080/"
        },
        "id": "_DVK5XkxhO_w",
        "outputId": "35dd5bf1-48d5-457a-d864-36416783b0d7"
      },
      "execution_count": null,
      "outputs": [
        {
          "output_type": "stream",
          "name": "stdout",
          "text": [
            "1\n",
            "2\n",
            "3\n"
          ]
        }
      ]
    },
    {
      "cell_type": "code",
      "source": [
        "def find_SI(m, n, p):\n",
        "  return find_SI_rec(m, n, p, 0, 0)\n",
        "\n",
        "def find_SI_rec(m, n, p, i, j):\n",
        "  if i + j == len(p):\n",
        "    return True\n",
        "\n",
        "  r1, r2 = False, False\n",
        "  if i < len(m) and m[i] == p[i+j]:\n",
        "    r1 = find_SI_rec(m, n, p, i+1, j)\n",
        "  if j < len(n) and n[j] == p[i+j]:\n",
        "    r2 = find_SI_rec(m, n, p, i, j+1)\n",
        "\n",
        "  return r1 or r2\n",
        "\n",
        "def main():\n",
        "  print(find_SI(\"abd\", \"cef\", \"abcdef\"))\n",
        "  print(find_SI(\"abd\", \"cef\", \"adcbef\"))\n",
        "  print(find_SI(\"abc\", \"def\", \"abdccf\"))\n",
        "  print(find_SI(\"abcdef\", \"mnop\", \"mnaobcdepf\"))\n",
        "\n",
        "\n",
        "main()"
      ],
      "metadata": {
        "colab": {
          "base_uri": "https://localhost:8080/"
        },
        "id": "J2-faELOnQdV",
        "outputId": "fe795852-121a-46cf-93ab-496ddc423a6c"
      },
      "execution_count": null,
      "outputs": [
        {
          "output_type": "stream",
          "name": "stdout",
          "text": [
            "True\n",
            "False\n",
            "False\n",
            "True\n"
          ]
        }
      ]
    },
    {
      "cell_type": "code",
      "source": [
        "def find_SI(m, n, p):\n",
        "\n",
        "  dp = [[-1 for _ in range(len(n)+1)] for _ in range(len(m)+1)]\n",
        "\n",
        "  return find_SI_rec(dp, m, n, p, 0, 0)\n",
        "\n",
        "def find_SI_rec(dp, m, n, p, i, j):\n",
        "  if i + j == len(p):\n",
        "    return 1\n",
        "\n",
        "  if dp[i][j] == -1:\n",
        "    r1, r2 = 0, 0\n",
        "    if i < len(m) and m[i] == p[i+j]:\n",
        "      r1 = find_SI_rec(dp, m, n, p, i+1, j)\n",
        "    if j < len(n) and n[j] == p[i+j]:\n",
        "      r2 = find_SI_rec(dp, m, n, p, i, j+1)\n",
        "    dp[i][j] = 1 if r1 or r2 else 0\n",
        "\n",
        "  return dp[i][j] == 1\n",
        "\n",
        "def main():\n",
        "  print(find_SI(\"abd\", \"cef\", \"abcdef\"))\n",
        "  print(find_SI(\"abd\", \"cef\", \"adcbef\"))\n",
        "  print(find_SI(\"abc\", \"def\", \"abdccf\"))\n",
        "  print(find_SI(\"abcdef\", \"mnop\", \"mnaobcdepf\"))\n",
        "\n",
        "\n",
        "main()"
      ],
      "metadata": {
        "colab": {
          "base_uri": "https://localhost:8080/"
        },
        "id": "RHYZXFphqRo6",
        "outputId": "eb26028d-4639-4593-8472-24da8e0ce182"
      },
      "execution_count": null,
      "outputs": [
        {
          "output_type": "stream",
          "name": "stdout",
          "text": [
            "True\n",
            "False\n",
            "False\n",
            "True\n"
          ]
        }
      ]
    },
    {
      "cell_type": "code",
      "source": [
        "def find_SI(m, n, p):\n",
        "  mLen = len(m)\n",
        "  nLen = len(n)\n",
        "  pLen = len(p)\n",
        "\n",
        "  if mLen + nLen != pLen:\n",
        "    return False\n",
        "\n",
        "  dp = [[False for _ in range(nLen+1)] for _ in range(mLen+1)]\n",
        "\n",
        "  for mIndex in range(mLen+1):\n",
        "    for nIndex in range(nLen+1):\n",
        "      # if 'm' and 'n' are empty, then 'p' must have been empty too.\n",
        "      if mIndex == 0 and nIndex == 0:\n",
        "        dp[mIndex][nIndex] = True\n",
        "      # if 'm' is empty, we need to check the interleaving with 'n' only\n",
        "      elif mIndex == 0 and n[nIndex - 1] == p[mIndex + nIndex - 1]:\n",
        "        dp[mIndex][nIndex] = dp[mIndex][nIndex - 1]\n",
        "      # if 'n' is empty, we need to check the interleaving with 'm' only\n",
        "      elif nIndex == 0 and m[mIndex - 1] == p[mIndex + nIndex - 1]:\n",
        "        dp[mIndex][nIndex] = dp[mIndex - 1][nIndex]\n",
        "      else:\n",
        "        # if the letter of 'm' and 'p' match, we take whatever is matched till mIndex-1\n",
        "        if mIndex > 0 and m[mIndex - 1] == p[mIndex + nIndex - 1]:\n",
        "          dp[mIndex][nIndex] = dp[mIndex - 1][nIndex]\n",
        "        # if the letter of 'n' and 'p' match, we take whatever is matched till nIndex-1 too\n",
        "        # note the '|=', this is required when we have common letters\n",
        "        if nIndex > 0 and n[nIndex - 1] == p[mIndex + nIndex - 1]:\n",
        "          dp[mIndex][nIndex] |= dp[mIndex][nIndex - 1]\n",
        "\n",
        "  return dp[mLen][nLen]\n",
        "\n",
        "def main():\n",
        "  print(find_SI(\"abd\", \"cef\", \"abcdef\"))\n",
        "  print(find_SI(\"abd\", \"cef\", \"adcbef\"))\n",
        "  print(find_SI(\"abc\", \"def\", \"abdccf\"))\n",
        "  print(find_SI(\"abcdef\", \"mnop\", \"mnaobcdepf\"))\n",
        "\n",
        "\n",
        "main()"
      ],
      "metadata": {
        "colab": {
          "base_uri": "https://localhost:8080/"
        },
        "id": "SA5_Ltgvr00f",
        "outputId": "414cd048-3bb4-4906-faf2-1b210054c693"
      },
      "execution_count": null,
      "outputs": [
        {
          "output_type": "stream",
          "name": "stdout",
          "text": [
            "True\n",
            "False\n",
            "False\n",
            "True\n"
          ]
        }
      ]
    }
  ]
}