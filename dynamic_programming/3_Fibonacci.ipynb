{
  "nbformat": 4,
  "nbformat_minor": 0,
  "metadata": {
    "colab": {
      "provenance": []
    },
    "kernelspec": {
      "name": "python3",
      "display_name": "Python 3"
    },
    "language_info": {
      "name": "python"
    }
  },
  "cells": [
    {
      "cell_type": "code",
      "execution_count": null,
      "metadata": {
        "colab": {
          "base_uri": "https://localhost:8080/"
        },
        "id": "Y6kPqCKVr_Mj",
        "outputId": "756a7695-86fa-4eea-90ff-2ff44879ff09"
      },
      "outputs": [
        {
          "output_type": "stream",
          "name": "stdout",
          "text": [
            "5th Fibonacci is ---> 5\n",
            "6th Fibonacci is ---> 8\n",
            "7th Fibonacci is ---> 13\n"
          ]
        }
      ],
      "source": [
        "def calculateFibonacci(n):\n",
        "  if n <= 1:\n",
        "    return n\n",
        "\n",
        "  return calculateFibonacci(n-1) + calculateFibonacci(n-2)\n",
        "\n",
        "  # Time O(2^N)\n",
        "  # Space O(N)\n",
        "\n",
        "def main():\n",
        "  print(\"5th Fibonacci is ---> \" + str(calculateFibonacci(5)))\n",
        "  print(\"6th Fibonacci is ---> \" + str(calculateFibonacci(6)))\n",
        "  print(\"7th Fibonacci is ---> \" + str(calculateFibonacci(7)))\n",
        "\n",
        "\n",
        "main()"
      ]
    },
    {
      "cell_type": "code",
      "source": [
        "def calculateFibonacci(n):\n",
        "  dp = [-1 for _ in range(n+1)]\n",
        "\n",
        "  return calculateFibonacciRec(dp, n)\n",
        "\n",
        "def calculateFibonacciRec(dp, n):\n",
        "  if n <= 1:\n",
        "    dp[n] = n\n",
        "    return dp[n]\n",
        "\n",
        "  if dp[n] == -1:\n",
        "    dp[n] = calculateFibonacciRec(dp, n-1) + calculateFibonacciRec(dp, n-2)\n",
        "\n",
        "  return dp[n]\n",
        "\n",
        "  # Time O(N)\n",
        "  # Space O(N)\n",
        "\n",
        "def main():\n",
        "  print(\"5th Fibonacci is ---> \" + str(calculateFibonacci(5)))\n",
        "  print(\"6th Fibonacci is ---> \" + str(calculateFibonacci(6)))\n",
        "  print(\"7th Fibonacci is ---> \" + str(calculateFibonacci(7)))\n",
        "\n",
        "\n",
        "main()"
      ],
      "metadata": {
        "colab": {
          "base_uri": "https://localhost:8080/"
        },
        "id": "9-4uO2mbsg2M",
        "outputId": "a056be06-823c-459c-ecee-fe22920637e0"
      },
      "execution_count": null,
      "outputs": [
        {
          "output_type": "stream",
          "name": "stdout",
          "text": [
            "5th Fibonacci is ---> 5\n",
            "6th Fibonacci is ---> 8\n",
            "7th Fibonacci is ---> 13\n"
          ]
        }
      ]
    },
    {
      "cell_type": "code",
      "source": [
        "def calculateFibonacci(n):\n",
        "  dp = [0 for _ in range(n+1)]\n",
        "\n",
        "  dp[0] = 0\n",
        "  dp[1] = 1\n",
        "  for i in range(2, n+1):\n",
        "    dp[i] = dp[i-1] + dp[i-2]\n",
        "\n",
        "  return dp[n]\n",
        "\n",
        "  # Time O(N)\n",
        "  # Space O(N)\n",
        "\n",
        "def main():\n",
        "  print(\"5th Fibonacci is ---> \" + str(calculateFibonacci(5)))\n",
        "  print(\"6th Fibonacci is ---> \" + str(calculateFibonacci(6)))\n",
        "  print(\"7th Fibonacci is ---> \" + str(calculateFibonacci(7)))\n",
        "\n",
        "\n",
        "main()"
      ],
      "metadata": {
        "colab": {
          "base_uri": "https://localhost:8080/"
        },
        "id": "RO4m4Ll8tlDE",
        "outputId": "9ab4af44-371d-4e85-f0aa-1c1cfafb64b6"
      },
      "execution_count": null,
      "outputs": [
        {
          "output_type": "stream",
          "name": "stdout",
          "text": [
            "5th Fibonacci is ---> 5\n",
            "6th Fibonacci is ---> 8\n",
            "7th Fibonacci is ---> 13\n"
          ]
        }
      ]
    },
    {
      "cell_type": "code",
      "source": [
        "def calculateFibonacci(n):\n",
        "  if n < 2:\n",
        "    return n\n",
        "\n",
        "  a = 0\n",
        "  b = 1\n",
        "  for i in range(2, n+1):\n",
        "    c = a + b\n",
        "    a = b\n",
        "    b = c\n",
        "\n",
        "  return c\n",
        "\n",
        "  # Time O(N)\n",
        "  # Space O(1)\n",
        "\n",
        "def main():\n",
        "  print(\"5th Fibonacci is ---> \" + str(calculateFibonacci(5)))\n",
        "  print(\"6th Fibonacci is ---> \" + str(calculateFibonacci(6)))\n",
        "  print(\"7th Fibonacci is ---> \" + str(calculateFibonacci(7)))\n",
        "\n",
        "\n",
        "main()"
      ],
      "metadata": {
        "colab": {
          "base_uri": "https://localhost:8080/"
        },
        "id": "xnVGOD2hub0A",
        "outputId": "406f4bb2-da94-42a2-cee9-3f459b0b8b71"
      },
      "execution_count": null,
      "outputs": [
        {
          "output_type": "stream",
          "name": "stdout",
          "text": [
            "5th Fibonacci is ---> 5\n",
            "6th Fibonacci is ---> 8\n",
            "7th Fibonacci is ---> 13\n"
          ]
        }
      ]
    },
    {
      "cell_type": "code",
      "source": [
        "def count_ways(n):\n",
        "  if n == 0:\n",
        "    return 1\n",
        "\n",
        "  if n < 0:\n",
        "    return 0\n",
        "\n",
        "  return count_ways(n-1) + count_ways(n-2) + count_ways(n-3)\n",
        "\n",
        "  # Time O(3^N)\n",
        "  # Space O(N)\n",
        "\n",
        "def main():\n",
        "\n",
        "  print(count_ways(0))\n",
        "  print(count_ways(1))\n",
        "  print(count_ways(2))\n",
        "  print(count_ways(3))\n",
        "  print(count_ways(4))\n",
        "  print(count_ways(5))\n",
        "\n",
        "\n",
        "main()"
      ],
      "metadata": {
        "colab": {
          "base_uri": "https://localhost:8080/"
        },
        "id": "0kUyshLgzZH9",
        "outputId": "afef4f10-8595-48a7-93e2-8b51d11472b0"
      },
      "execution_count": null,
      "outputs": [
        {
          "output_type": "stream",
          "name": "stdout",
          "text": [
            "1\n",
            "1\n",
            "2\n",
            "4\n",
            "7\n",
            "13\n"
          ]
        }
      ]
    },
    {
      "cell_type": "code",
      "source": [
        "def count_ways(n):\n",
        "  if n < 0:\n",
        "    return -1\n",
        "\n",
        "  if n == 0:\n",
        "    return 1\n",
        "\n",
        "  if n <= 2:\n",
        "    return n\n",
        "\n",
        "  c1 = 1\n",
        "  c2 = 1\n",
        "  c3 = 2\n",
        "  temp = 0\n",
        "  for _ in range(3, n+1):\n",
        "    temp = c1 + c2 + c3\n",
        "    c1 = c2\n",
        "    c2 = c3\n",
        "    c3 = temp\n",
        "\n",
        "  return temp\n",
        "\n",
        "  # Time O(N)\n",
        "  # Space O(1)\n",
        "\n",
        "\n",
        "def main():\n",
        "\n",
        "  print(count_ways(0))\n",
        "  print(count_ways(1))\n",
        "  print(count_ways(2))\n",
        "  print(count_ways(3))\n",
        "  print(count_ways(4))\n",
        "  print(count_ways(5))\n",
        "\n",
        "\n",
        "main()"
      ],
      "metadata": {
        "colab": {
          "base_uri": "https://localhost:8080/"
        },
        "id": "KhCB_A9o0rdG",
        "outputId": "a4d31dec-bc74-48fb-86c4-fe4266a1c1c1"
      },
      "execution_count": null,
      "outputs": [
        {
          "output_type": "stream",
          "name": "stdout",
          "text": [
            "1\n",
            "1\n",
            "2\n",
            "4\n",
            "7\n",
            "13\n"
          ]
        }
      ]
    },
    {
      "cell_type": "code",
      "source": [
        "def count_ways(n):\n",
        "  if n < 0:\n",
        "    return 0\n",
        "\n",
        "  if n < 3:\n",
        "    return 1\n",
        "\n",
        "  return count_ways(n-1) + count_ways(n-3) + count_ways(n-4)\n",
        "\n",
        "\n",
        "def main():\n",
        "\n",
        "  print(count_ways(3))\n",
        "  print(count_ways(4))\n",
        "  print(count_ways(5))\n",
        "  print(count_ways(6))\n",
        "\n",
        "\n",
        "main()"
      ],
      "metadata": {
        "colab": {
          "base_uri": "https://localhost:8080/"
        },
        "id": "6W7LAHcY2mrQ",
        "outputId": "1ee44aa1-a950-48ba-c660-b33e2f4eba15"
      },
      "execution_count": null,
      "outputs": [
        {
          "output_type": "stream",
          "name": "stdout",
          "text": [
            "2\n",
            "4\n",
            "6\n",
            "9\n"
          ]
        }
      ]
    },
    {
      "cell_type": "code",
      "source": [
        "def count_ways(n):\n",
        "  if n < 0:\n",
        "    return 0\n",
        "\n",
        "  if n < 3:\n",
        "    return 1\n",
        "\n",
        "  if n == 3:\n",
        "    return 2 # [1, 1, 1] or [3]\n",
        "\n",
        "  c1, c2, c3, c4 = 1, 1, 1, 2\n",
        "  for _ in range(4, n+1):\n",
        "    c1, c2, c3, c4 = c2, c3, c4, c1+c2+c4\n",
        "\n",
        "\n",
        "  return c4\n",
        "\n",
        "\n",
        "def main():\n",
        "\n",
        "  print(count_ways(3))\n",
        "  print(count_ways(4))\n",
        "  print(count_ways(5))\n",
        "  print(count_ways(6))\n",
        "\n",
        "\n",
        "main()"
      ],
      "metadata": {
        "colab": {
          "base_uri": "https://localhost:8080/"
        },
        "id": "yOawAQnS3cQC",
        "outputId": "1f059a91-6d61-4c73-9f9d-74caec1f902e"
      },
      "execution_count": null,
      "outputs": [
        {
          "output_type": "stream",
          "name": "stdout",
          "text": [
            "2\n",
            "4\n",
            "6\n",
            "9\n"
          ]
        }
      ]
    },
    {
      "cell_type": "code",
      "source": [
        "import math\n",
        "\n",
        "\n",
        "def count_min_jumps(jumps):\n",
        "  return count_min_jumps_rec(jumps, 0)\n",
        "\n",
        "def count_min_jumps_rec(jumps, index):\n",
        "  n = len(jumps)\n",
        "  if index == n - 1: #last index\n",
        "    return 0\n",
        "  if index >= n or jumps[index] == 0:\n",
        "    return math.inf\n",
        "\n",
        "  count = math.inf\n",
        "  for i in range(1, jumps[index]+1):\n",
        "    count = min(count, count_min_jumps_rec(jumps, index+i) + 1)\n",
        "\n",
        "  return count\n",
        "\n",
        "  # Time O(K^N) -> K is max(jumps) excluding last\n",
        "  # Space O(N)\n",
        "\n",
        "  \"\"\"\n",
        "  The time complexity of the above algorithm is O(2^N)\n",
        "  where ‘n’ is the size of the input array.\n",
        "  The ‘while loop’ can execute a maximum of ‘n’ times\n",
        "  (for the case where we can jump to all the steps ahead)\n",
        "  and since in each iteration, the function recursively\n",
        "  calls itself, therefore, the time complexity is O(2^N)\n",
        "  \"\"\"\n",
        "\n",
        "def main():\n",
        "\n",
        "  print(count_min_jumps([2, 1, 1, 1, 4]))\n",
        "  print(count_min_jumps([1, 1, 3, 6, 9, 3, 0, 1, 3]))\n",
        "\n",
        "\n",
        "main()"
      ],
      "metadata": {
        "colab": {
          "base_uri": "https://localhost:8080/"
        },
        "id": "SpdKDS2-d32D",
        "outputId": "b3fa729c-abe5-402e-d0bd-3d5a92e37f5d"
      },
      "execution_count": null,
      "outputs": [
        {
          "output_type": "stream",
          "name": "stdout",
          "text": [
            "3\n",
            "4\n"
          ]
        }
      ]
    },
    {
      "cell_type": "code",
      "source": [
        "import math\n",
        "\n",
        "\n",
        "def count_min_jumps(jumps):\n",
        "  n = len(jumps)\n",
        "\n",
        "  dp = [-1 for _ in range(n)]\n",
        "  return count_min_jumps_rec(dp, jumps, 0)\n",
        "\n",
        "def count_min_jumps_rec(dp, jumps, index):\n",
        "  n = len(jumps)\n",
        "  if index == n - 1: #last index\n",
        "    return 0\n",
        "  if index >= n:\n",
        "    return math.inf\n",
        "\n",
        "  if dp[index] != -1:\n",
        "    return dp[index]\n",
        "\n",
        "  dp[index] =  math.inf\n",
        "  if jumps[index] <= 0:\n",
        "    return dp[index]\n",
        "\n",
        "  for i in range(1, jumps[index]+1):\n",
        "    dp[index] = min(dp[index], count_min_jumps_rec(dp, jumps, index+i) + 1)\n",
        "\n",
        "  return dp[index]\n",
        "\n",
        "  # Time O(N*K) -> K is max(jumps) excluding last\n",
        "  # Space O(N)\n",
        "\n",
        "def main():\n",
        "\n",
        "  print(count_min_jumps([2, 1, 1, 1, 4]))\n",
        "  print(count_min_jumps([1, 1, 3, 6, 9, 3, 0, 1, 3]))\n",
        "\n",
        "\n",
        "main()"
      ],
      "metadata": {
        "colab": {
          "base_uri": "https://localhost:8080/"
        },
        "id": "fJ3UIW9bhMoO",
        "outputId": "e83fb5f2-60f0-4127-c562-736926d2a78c"
      },
      "execution_count": null,
      "outputs": [
        {
          "output_type": "stream",
          "name": "stdout",
          "text": [
            "3\n",
            "4\n"
          ]
        }
      ]
    },
    {
      "cell_type": "code",
      "source": [
        "import math\n",
        "\n",
        "\n",
        "def count_min_jumps(jumps):\n",
        "  n = len(jumps)\n",
        "\n",
        "  dp = [math.inf for _ in range(n)]\n",
        "  dp[n-1] = 0\n",
        "\n",
        "  for i in range(n-2, -1, -1):\n",
        "    for j in range(1, jumps[i]+1):\n",
        "      if i+j < n:\n",
        "        dp[i] = min(dp[i], 1 + dp[i+j])\n",
        "      else:\n",
        "        break\n",
        "\n",
        "  return dp[0]\n",
        "\n",
        "  # Time O(N*J) -> J is mean(jumps) excluding last and J will be <= N\n",
        "  # Space O(N)\n",
        "\n",
        "def main():\n",
        "\n",
        "  print(count_min_jumps([2, 1, 1, 1, 4]))\n",
        "  print(count_min_jumps([1, 1, 3, 6, 9, 3, 0, 1, 3]))\n",
        "\n",
        "\n",
        "main()"
      ],
      "metadata": {
        "colab": {
          "base_uri": "https://localhost:8080/"
        },
        "id": "3QB7pYtmmahh",
        "outputId": "cf07f3e9-ecb1-49c5-cc3c-4863c08b2b91"
      },
      "execution_count": null,
      "outputs": [
        {
          "output_type": "stream",
          "name": "stdout",
          "text": [
            "3\n",
            "4\n"
          ]
        }
      ]
    },
    {
      "cell_type": "code",
      "source": [
        "def find_min_fee(fee):\n",
        "  return find_min_fee_rec(fee, 0)\n",
        "\n",
        "def find_min_fee_rec(fee, index):\n",
        "  n = len(fee)\n",
        "  if index >= n:\n",
        "    return 0\n",
        "\n",
        "  c1 = find_min_fee_rec(fee, index+1)\n",
        "  c2 = find_min_fee_rec(fee, index+2)\n",
        "  c3 = find_min_fee_rec(fee, index+3)\n",
        "\n",
        "  _min = min(c1, c2, c3)\n",
        "\n",
        "  return _min + fee[index]\n",
        "\n",
        "  # Time O(3^N)\n",
        "  # Space O(N)\n",
        "\n",
        "def main():\n",
        "\n",
        "  print(find_min_fee([1, 2, 5, 2, 1, 2]))\n",
        "  print(find_min_fee([2, 3, 4, 5]))\n",
        "\n",
        "\n",
        "main()"
      ],
      "metadata": {
        "colab": {
          "base_uri": "https://localhost:8080/"
        },
        "id": "jnTBI22S6z0S",
        "outputId": "04659f58-475c-41bc-e942-6c6821ea5855"
      },
      "execution_count": null,
      "outputs": [
        {
          "output_type": "stream",
          "name": "stdout",
          "text": [
            "3\n",
            "5\n"
          ]
        }
      ]
    },
    {
      "cell_type": "code",
      "source": [
        "def find_min_fee(fee):\n",
        "  dp = [0 for _ in range(len(fee))]\n",
        "\n",
        "  return find_min_fee_rec(dp, fee, 0)\n",
        "\n",
        "def find_min_fee_rec(dp, fee, index):\n",
        "  n = len(fee)\n",
        "  if index >= n:\n",
        "    return 0\n",
        "\n",
        "  if dp[index] == 0:\n",
        "    c1 = find_min_fee_rec(dp, fee, index+1)\n",
        "    c2 = find_min_fee_rec(dp, fee, index+2)\n",
        "    c3 = find_min_fee_rec(dp, fee, index+3)\n",
        "\n",
        "    dp[index] = min(c1, c2, c3) + fee[index]\n",
        "\n",
        "  return dp[index]\n",
        "\n",
        "  # Time O(N)\n",
        "  # Space O(N)\n",
        "\n",
        "def main():\n",
        "\n",
        "  print(find_min_fee([1, 2, 5, 2, 1, 2]))\n",
        "  print(find_min_fee([2, 3, 4, 5]))\n",
        "\n",
        "\n",
        "main()"
      ],
      "metadata": {
        "colab": {
          "base_uri": "https://localhost:8080/"
        },
        "id": "Bgkwonb7BzGI",
        "outputId": "168ee5da-4613-4a84-fe87-912bb57533cc"
      },
      "execution_count": null,
      "outputs": [
        {
          "output_type": "stream",
          "name": "stdout",
          "text": [
            "3\n",
            "5\n"
          ]
        }
      ]
    },
    {
      "cell_type": "code",
      "source": [
        "import math\n",
        "\n",
        "def find_min_fee(fee):\n",
        "  n = len(fee)\n",
        "\n",
        "  dp = [0 for _ in range(len(fee))]\n",
        "  dp[0] = fee[0]\n",
        "\n",
        "  for i in range(1, n):\n",
        "    c1 = dp[i-1] if i-1 >= 0 else math.inf\n",
        "    c2 = dp[i-2] if i-2 >= 0 else math.inf\n",
        "    c3 = dp[i-3] if i-3 >= 0 else math.inf\n",
        "\n",
        "    dp[i] = min(c1, c2, c3) + fee[i]\n",
        "\n",
        "  return min(dp[n-3:]) # n-3, n-2, n-1\n",
        "\n",
        "  # Time O(N)\n",
        "  # Space O(N)\n",
        "\n",
        "def main():\n",
        "\n",
        "  print(find_min_fee([1, 2, 5, 2, 1, 2]))\n",
        "  print(find_min_fee([2, 3, 4, 5]))\n",
        "\n",
        "\n",
        "main()"
      ],
      "metadata": {
        "colab": {
          "base_uri": "https://localhost:8080/"
        },
        "id": "iuQ0Tt6iDP0n",
        "outputId": "69179851-1264-45df-8a19-3c95d8911a43"
      },
      "execution_count": null,
      "outputs": [
        {
          "output_type": "stream",
          "name": "stdout",
          "text": [
            "3\n",
            "5\n"
          ]
        }
      ]
    },
    {
      "cell_type": "code",
      "source": [
        "def find_max_steal(wealth):\n",
        "  return find_max_steal_rec(wealth, 0)\n",
        "\n",
        "def find_max_steal_rec(wealth, index):\n",
        "  n = len(wealth)\n",
        "\n",
        "  if index >= n:\n",
        "    return 0\n",
        "\n",
        "  gain1 = wealth[index] + find_max_steal_rec(wealth, index+2)\n",
        "  gain2 = find_max_steal_rec(wealth, index+1)\n",
        "\n",
        "  return max(gain1, gain2)\n",
        "\n",
        "  # Time O(2^N)\n",
        "  # Space O(N)\n",
        "\n",
        "def main():\n",
        "\n",
        "  print(find_max_steal([2, 5, 1, 3, 6, 2, 4]))\n",
        "  print(find_max_steal([2, 10, 14, 8, 1]))\n",
        "\n",
        "\n",
        "main()"
      ],
      "metadata": {
        "colab": {
          "base_uri": "https://localhost:8080/"
        },
        "id": "QrXO27_2KaDN",
        "outputId": "af06e8e8-c8fc-4141-eba9-3ee83fab5166"
      },
      "execution_count": null,
      "outputs": [
        {
          "output_type": "stream",
          "name": "stdout",
          "text": [
            "15\n",
            "18\n"
          ]
        }
      ]
    },
    {
      "cell_type": "code",
      "source": [
        "def find_max_steal(wealth):\n",
        "  n = len(wealth)\n",
        "  dp = [0 for _ in range(n)]\n",
        "  return find_max_steal_rec(dp, wealth, 0)\n",
        "\n",
        "def find_max_steal_rec(dp, wealth, index):\n",
        "  n = len(wealth)\n",
        "\n",
        "  if index >= n:\n",
        "    return 0\n",
        "\n",
        "  if dp[index] == 0:\n",
        "\n",
        "    gain1 = wealth[index] + find_max_steal_rec(dp, wealth, index+2)\n",
        "    gain2 = find_max_steal_rec(dp, wealth, index+1)\n",
        "    dp[index] = max(gain1, gain2)\n",
        "\n",
        "  return dp[index]\n",
        "\n",
        "  # Time O(N)\n",
        "  # Space O(N)\n",
        "\n",
        "def main():\n",
        "\n",
        "  print(find_max_steal([2, 5, 1, 3, 6, 2, 4]))\n",
        "  print(find_max_steal([2, 10, 14, 8, 1]))\n",
        "\n",
        "\n",
        "main()"
      ],
      "metadata": {
        "colab": {
          "base_uri": "https://localhost:8080/"
        },
        "id": "9Pr76LDaLAIE",
        "outputId": "587f0367-fe43-470d-ce93-1ecf47d94ea4"
      },
      "execution_count": null,
      "outputs": [
        {
          "output_type": "stream",
          "name": "stdout",
          "text": [
            "15\n",
            "18\n"
          ]
        }
      ]
    },
    {
      "cell_type": "code",
      "source": [
        "def find_max_steal(wealth):\n",
        "  n = len(wealth)\n",
        "  dp = [0 for _ in range(n+1)]\n",
        "\n",
        "  dp[1] = wealth[0]\n",
        "  for i in range(1, n):\n",
        "    dp[i+1] = max(dp[i], dp[i-1] + wealth[i])\n",
        "\n",
        "  return dp[n]\n",
        "\n",
        "\n",
        "  # Time O(N)\n",
        "  # Space O(N)\n",
        "\n",
        "def main():\n",
        "\n",
        "  print(find_max_steal([2, 5, 1, 3, 6, 2, 4]))\n",
        "  print(find_max_steal([2, 10, 14, 8, 1]))\n",
        "\n",
        "\n",
        "main()"
      ],
      "metadata": {
        "colab": {
          "base_uri": "https://localhost:8080/"
        },
        "id": "s3eQCX7wLpnU",
        "outputId": "8908081f-e390-420c-d8b6-01c80369d658"
      },
      "execution_count": null,
      "outputs": [
        {
          "output_type": "stream",
          "name": "stdout",
          "text": [
            "15\n",
            "18\n"
          ]
        }
      ]
    },
    {
      "cell_type": "code",
      "source": [
        "def find_max_steal(wealth):\n",
        "  n = len(wealth)\n",
        "\n",
        "  temp = 0\n",
        "  h1 = 0\n",
        "  h2 = wealth[0]\n",
        "  for i in range(1, n):\n",
        "    temp = max(wealth[i] + h1, h2)\n",
        "    h1 = h2\n",
        "    h2 = temp\n",
        "\n",
        "  return temp\n",
        "\n",
        "\n",
        "  # Time O(N)\n",
        "  # Space O(N)\n",
        "\n",
        "def main():\n",
        "\n",
        "  print(find_max_steal([2, 5, 1, 3, 6, 2, 4]))\n",
        "  print(find_max_steal([2, 10, 14, 8, 1]))\n",
        "\n",
        "\n",
        "main()"
      ],
      "metadata": {
        "colab": {
          "base_uri": "https://localhost:8080/"
        },
        "id": "dYBXS9hrOBdA",
        "outputId": "caf13dee-a4f1-40eb-a5c6-d47bf430bbd9"
      },
      "execution_count": null,
      "outputs": [
        {
          "output_type": "stream",
          "name": "stdout",
          "text": [
            "15\n",
            "18\n"
          ]
        }
      ]
    }
  ]
}