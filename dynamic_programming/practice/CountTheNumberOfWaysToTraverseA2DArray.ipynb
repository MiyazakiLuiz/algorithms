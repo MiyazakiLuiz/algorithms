{
 "cells": [
  {
   "cell_type": "code",
   "execution_count": 8,
   "metadata": {},
   "outputs": [],
   "source": [
    "def count_ways(x, y):\n",
    "  if x <= 1 or y <= 1:\n",
    "    return 1\n",
    "  \n",
    "  return count_ways(x-1, y) + count_ways(x, y-1)\n",
    "\n",
    "# Brute force\n",
    "# Time 2^min(x,y)\n",
    "# Space max(x,y)"
   ]
  },
  {
   "cell_type": "code",
   "execution_count": 11,
   "metadata": {},
   "outputs": [],
   "source": [
    "def count_ways(x, y):\n",
    "  def count_ways_rec(x, y):\n",
    "    if x <= 1 or y <= 1:\n",
    "      return 1\n",
    "\n",
    "    if dp[x][y] == -1:\n",
    "      dp[x][y] = count_ways_rec(x-1, y) \\\n",
    "                + count_ways_rec(x, y-1)\n",
    "\n",
    "    return dp[x][y]\n",
    "\n",
    "\n",
    "  dp = [[-1 for _ in range(y+1)] for _ in range(x+1)]\n",
    "  return count_ways_rec(x, y)\n",
    "\n",
    "# Top-down\n",
    "# Time x*y\n",
    "# Space x*y"
   ]
  },
  {
   "cell_type": "code",
   "execution_count": 20,
   "metadata": {},
   "outputs": [],
   "source": [
    "def count_ways(x, y):\n",
    "  if x > y:\n",
    "    x, y = y, x\n",
    "\n",
    "  dp = [1 for _ in range(x)]\n",
    "\n",
    "  for _ in range(1, y):\n",
    "    for i in range(1, x):\n",
    "      dp[i] += dp[i-1]\n",
    "\n",
    "  return dp[-1]\n",
    "\n",
    "# Bottom-up\n",
    "# Time x*y\n",
    "# Space min(x,y)"
   ]
  },
  {
   "cell_type": "code",
   "execution_count": 21,
   "metadata": {},
   "outputs": [
    {
     "name": "stdout",
     "output_type": "stream",
     "text": [
      "1\n",
      "1\n",
      "1\n",
      "2\n",
      "3\n",
      "4\n",
      "6\n",
      "20\n",
      "70\n"
     ]
    }
   ],
   "source": [
    "print(count_ways(1, 1)) # 1\n",
    "print(count_ways(1, 2)) # 1\n",
    "print(count_ways(1, 9)) # 1\n",
    "print(count_ways(2, 2)) # 2\n",
    "print(count_ways(2, 3)) # 3\n",
    "print(count_ways(2, 4)) # 4\n",
    "print(count_ways(3, 3)) # 6\n",
    "print(count_ways(4, 4)) # 20\n",
    "print(count_ways(5, 5)) # 70"
   ]
  }
 ],
 "metadata": {
  "kernelspec": {
   "display_name": "Python 3",
   "language": "python",
   "name": "python3"
  },
  "language_info": {
   "codemirror_mode": {
    "name": "ipython",
    "version": 3
   },
   "file_extension": ".py",
   "mimetype": "text/x-python",
   "name": "python",
   "nbconvert_exporter": "python",
   "pygments_lexer": "ipython3",
   "version": "3.10.12"
  }
 },
 "nbformat": 4,
 "nbformat_minor": 2
}
