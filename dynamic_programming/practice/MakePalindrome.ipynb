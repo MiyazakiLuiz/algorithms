{
 "cells": [
  {
   "cell_type": "code",
   "execution_count": 46,
   "metadata": {},
   "outputs": [],
   "source": [
    "def isPalindrome(arr):\n",
    "  if not arr:\n",
    "    return True\n",
    "\n",
    "  for i in range(len(arr)//2):\n",
    "    if arr[i] != arr[~i]:\n",
    "      return False\n",
    "  \n",
    "  return True\n",
    "\n",
    "# Time N, Space 1"
   ]
  },
  {
   "cell_type": "code",
   "execution_count": 47,
   "metadata": {},
   "outputs": [],
   "source": [
    "#  Given a stringA, compute the minimum number of  \n",
    "# characters that you need to delete from A\n",
    "# to make the resulting string a palindrome\n",
    "def minRemoveToPalindrome(string):\n",
    "  def minRemoveToPalindromeHelper(i, path):\n",
    "    if i == n:\n",
    "      return 0 if isPalindrome(path) else len(path)-1\n",
    "    \n",
    "    c1 = minRemoveToPalindromeHelper(i+1, path + [string[i]])\n",
    "    c2 = 1 + minRemoveToPalindromeHelper(i+1, path)\n",
    "\n",
    "    return min(c1, c2)\n",
    "  \n",
    "  n = len(string)\n",
    "  return minRemoveToPalindromeHelper(0, [])\n",
    "\n",
    "# Basic solution\n",
    "# Time 2^N, Space N (path and recursion stack)"
   ]
  },
  {
   "cell_type": "code",
   "execution_count": 48,
   "metadata": {},
   "outputs": [],
   "source": [
    "def minRemoveToPalindrome(string):\n",
    "  def minRemoveToPalindromeHelper(i, path):\n",
    "    if i == n:\n",
    "      return 0 if isPalindrome(path) else len(path)-1\n",
    "    \n",
    "    key = str(i) + \"|\" + \"\".join(path)\n",
    "    if key not in hashMapDP:\n",
    "      c1 = minRemoveToPalindromeHelper(i+1, path + [string[i]])\n",
    "      c2 = 1 + minRemoveToPalindromeHelper(i+1, path)\n",
    "      hashMapDP[key] = min(c1, c2)\n",
    "\n",
    "    return hashMapDP[key]\n",
    "  \n",
    "  n = len(string)\n",
    "  hashMapDP = {}\n",
    "  return minRemoveToPalindromeHelper(0, [])\n",
    "\n",
    "# Top-down solution\n",
    "# Time N^2, Space N^2"
   ]
  },
  {
   "cell_type": "code",
   "execution_count": 49,
   "metadata": {},
   "outputs": [],
   "source": [
    "def minRemoveToPalindrome(string):\n",
    "  def minRemoveToPalindromeHelper(L, R):\n",
    "    if L >= R:\n",
    "      return 0\n",
    "\n",
    "    if dp[L][R] == -1:\n",
    "      if string[L] == string[R]:\n",
    "        dp[L][R] = minRemoveToPalindromeHelper(L+1, R-1)\n",
    "      else:\n",
    "        c1 = minRemoveToPalindromeHelper(L+1, R)\n",
    "        c2 = minRemoveToPalindromeHelper(L, R-1)\n",
    "        dp[L][R] = min(c1, c2) + 1\n",
    "\n",
    "    return dp[L][R]\n",
    "  \n",
    "  n = len(string)\n",
    "  dp = [[-1 for _ in range(n)] for _ in range(n)]\n",
    "  return minRemoveToPalindromeHelper(0, n-1)\n",
    "\n",
    "# Top-down solution\n",
    "# Time N^2, Space N^2"
   ]
  },
  {
   "cell_type": "code",
   "execution_count": 50,
   "metadata": {},
   "outputs": [],
   "source": [
    "def minRemoveToPalindrome(string):\n",
    "  n = len(string)\n",
    "  if n <= 1:\n",
    "    return 0\n",
    "\n",
    "  dp = [[0 for _ in range(n)] for _ in range(n)]\n",
    "\n",
    "  for L in reversed(range(n)):\n",
    "    for R in range(L+1, n):\n",
    "      if string[L] == string[R]:\n",
    "        dp[L][R] = dp[L+1][R-1]\n",
    "      else:\n",
    "        c1 = dp[L][R-1]\n",
    "        c2 = dp[L+1][R]\n",
    "        dp[L][R] = min(c1, c2) + 1\n",
    "\n",
    "  return dp[0][n-1]\n",
    "\n",
    "# Bottom-up solution\n",
    "# Time N^2, Space N^2"
   ]
  },
  {
   "cell_type": "code",
   "execution_count": 51,
   "metadata": {},
   "outputs": [
    {
     "name": "stdout",
     "output_type": "stream",
     "text": [
      "0\n",
      "0\n",
      "1\n",
      "0\n",
      "1\n",
      "1\n",
      "1\n",
      "2\n"
     ]
    }
   ],
   "source": [
    "print(minRemoveToPalindrome(\"\")) # 0\n",
    "print(minRemoveToPalindrome(\"a\")) # 0\n",
    "print(minRemoveToPalindrome(\"ab\")) # 1\n",
    "print(minRemoveToPalindrome(\"aba\")) # 0\n",
    "print(minRemoveToPalindrome(\"abb\")) # 1\n",
    "print(minRemoveToPalindrome(\"bba\")) # 1\n",
    "print(minRemoveToPalindrome(\"abbca\")) # 1\n",
    "print(minRemoveToPalindrome(\"abbcad\")) # 2"
   ]
  }
 ],
 "metadata": {
  "kernelspec": {
   "display_name": "Python 3",
   "language": "python",
   "name": "python3"
  },
  "language_info": {
   "codemirror_mode": {
    "name": "ipython",
    "version": 3
   },
   "file_extension": ".py",
   "mimetype": "text/x-python",
   "name": "python",
   "nbconvert_exporter": "python",
   "pygments_lexer": "ipython3",
   "version": "3.10.12"
  }
 },
 "nbformat": 4,
 "nbformat_minor": 2
}
