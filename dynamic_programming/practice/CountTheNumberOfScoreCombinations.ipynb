{
 "cells": [
  {
   "cell_type": "code",
   "execution_count": 16,
   "metadata": {},
   "outputs": [],
   "source": [
    "def count_the_number_of_score_combinations(score):\n",
    "  def count_rec(curr_score, i):\n",
    "    if i >= len(points):\n",
    "      return 0\n",
    "    \n",
    "    if dp[i][curr_score] == -1:\n",
    "      if curr_score - points[i] >= 0:\n",
    "        dp[i][curr_score] = count_rec(curr_score - points[i], i) + count_rec(curr_score, i+1)\n",
    "      else:\n",
    "        dp[i][curr_score] = 0\n",
    "    \n",
    "    return dp[i][curr_score]\n",
    "\n",
    "\n",
    "  # 2 points (safety)\n",
    "  # 3 points (field goal)\n",
    "  # 7 points (touchdown)\n",
    "  points = [2, 3, 7]\n",
    "  n = len(points)\n",
    "  dp = [[-1 for _ in range(score+1)] for _ in range(n)]\n",
    "  for i in range(n):\n",
    "    dp[i][0] = 1\n",
    "  count_rec(score, 0)  \n",
    "\n",
    "  return dp[0][score]\n",
    "\n",
    "# Top-down\n",
    "# Time N*S\n",
    "# Space N*S -> where N is the possible points and S is the score\n"
   ]
  },
  {
   "cell_type": "code",
   "execution_count": null,
   "metadata": {},
   "outputs": [],
   "source": [
    "print(count_the_number_of_score_combinations(12))"
   ]
  },
  {
   "cell_type": "code",
   "execution_count": 24,
   "metadata": {},
   "outputs": [],
   "source": [
    "def count_the_number_of_score_combinations(score):\n",
    "  # 2 points (safety)\n",
    "  # 3 points (field goal)\n",
    "  # 7 points (touchdown)\n",
    "  points = [2, 3, 7]\n",
    "  n = len(points)\n",
    "  dp = [[0 for _ in range(score+1)] for _ in range(n)]\n",
    "  for i in range(n):\n",
    "    dp[i][0] = 1 # one possibility of score 0\n",
    "\n",
    "  for s in range(1, score+1):\n",
    "    for i, p in enumerate(points):\n",
    "      if i > 0:\n",
    "        dp[i][s] = dp[i-1][s]\n",
    "      if p <= s:\n",
    "        dp[i][s] += dp[i][s-p]\n",
    "\n",
    "  # for d in dp:\n",
    "  #   print(d)\n",
    "\n",
    "  return dp[n-1][score]\n",
    "\n",
    "# Bottom-up\n",
    "# Time N*S -> where N is the possible points and S is the score\n",
    "# Space N*S "
   ]
  },
  {
   "cell_type": "code",
   "execution_count": 34,
   "metadata": {},
   "outputs": [
    {
     "name": "stdout",
     "output_type": "stream",
     "text": [
      "4\n"
     ]
    }
   ],
   "source": [
    "print(count_the_number_of_score_combinations(12))"
   ]
  },
  {
   "cell_type": "code",
   "execution_count": 33,
   "metadata": {},
   "outputs": [],
   "source": [
    "def count_the_number_of_score_combinations(score):\n",
    "  # 2 points (safety)\n",
    "  # 3 points (field goal)\n",
    "  # 7 points (touchdown)\n",
    "  points = [2, 3, 7]\n",
    "  n = len(points)\n",
    "  dp = [0 for _ in range(score+1)]\n",
    "  dp[0] = 1 # one possibility of score 0\n",
    "\n",
    "  for p in points:\n",
    "    for s in range(1, score+1):\n",
    "      if p <= s:\n",
    "        dp[s] += dp[s-p]\n",
    "\n",
    "  # print(dp)\n",
    "\n",
    "  return dp[score]\n",
    "\n",
    "# Bottom-up\n",
    "# Time N*S -> where N is the possible points and S is the score\n",
    "# Space S"
   ]
  },
  {
   "cell_type": "code",
   "execution_count": 35,
   "metadata": {},
   "outputs": [
    {
     "name": "stdout",
     "output_type": "stream",
     "text": [
      "4\n"
     ]
    }
   ],
   "source": [
    "print(count_the_number_of_score_combinations(12))"
   ]
  }
 ],
 "metadata": {
  "kernelspec": {
   "display_name": "Python 3",
   "language": "python",
   "name": "python3"
  },
  "language_info": {
   "codemirror_mode": {
    "name": "ipython",
    "version": 3
   },
   "file_extension": ".py",
   "mimetype": "text/x-python",
   "name": "python",
   "nbconvert_exporter": "python",
   "pygments_lexer": "ipython3",
   "version": "3.10.12"
  }
 },
 "nbformat": 4,
 "nbformat_minor": 2
}
