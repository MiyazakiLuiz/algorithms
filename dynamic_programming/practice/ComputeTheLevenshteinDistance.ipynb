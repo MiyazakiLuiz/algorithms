{
 "cells": [
  {
   "cell_type": "code",
   "execution_count": 12,
   "metadata": {},
   "outputs": [],
   "source": [
    "def levenshtein_distance(str1, str2):\n",
    "  def levenshtein_rec(i1, i2):\n",
    "    if i1 == n1 or i2 == n2:\n",
    "      return (n1-i1) + (n2-i2)\n",
    "\n",
    "    if str1[i1] == str2[i2]:\n",
    "      return levenshtein_rec(i1+1, i2+1)\n",
    "    \n",
    "    c0 = levenshtein_rec(i1+1, i2) # deletion\n",
    "    c1 = levenshtein_rec(i1, i2+1) # insertion\n",
    "    c2 = levenshtein_rec(i1+1, i2+1) # substitution\n",
    "\n",
    "    return 1 + min(c0,c1,c2)\n",
    "  \n",
    "  n1, n2 = len(str1), len(str2)\n",
    "  return levenshtein_rec(0, 0)\n",
    "  \n",
    "  # Brute force\n",
    "  # Time 3^N\n",
    "  # Space N -> recusive stack, N is the max between size str1 and size str2"
   ]
  },
  {
   "cell_type": "code",
   "execution_count": 13,
   "metadata": {},
   "outputs": [
    {
     "name": "stdout",
     "output_type": "stream",
     "text": [
      "4\n",
      "7\n",
      "6\n"
     ]
    }
   ],
   "source": [
    "print(levenshtein_distance(\"saturday\", \"sundays\"))\n",
    "print(levenshtein_distance(\"\", \"sundays\"))\n",
    "print(levenshtein_distance(\"s\", \"sundays\"))"
   ]
  },
  {
   "cell_type": "code",
   "execution_count": 14,
   "metadata": {},
   "outputs": [],
   "source": [
    "def levenshtein_distance(str1, str2):\n",
    "  def levenshtein_rec(i1, i2):\n",
    "    if i1 == n1 or i2 == n2:\n",
    "      return (n1-i1) + (n2-i2)\n",
    "\n",
    "    if dp[i1][i2] == -1:\n",
    "      if str1[i1] == str2[i2]:\n",
    "        dp[i1][i2] = levenshtein_rec(i1+1, i2+1)\n",
    "      else:\n",
    "        c0 = levenshtein_rec(i1+1, i2) # deletion\n",
    "        c1 = levenshtein_rec(i1, i2+1) # insertion\n",
    "        c2 = levenshtein_rec(i1+1, i2+1) # substitution\n",
    "\n",
    "        dp[i1][i2] = 1 + min(c0,c1,c2)\n",
    "    \n",
    "    return dp[i1][i2]\n",
    "    \n",
    "  n1, n2 = len(str1), len(str2)\n",
    "  dp = [[-1 for _ in range(n2)] for _ in range(n1)]\n",
    "  return levenshtein_rec(0, 0)\n",
    "  \n",
    "  # Top-down\n",
    "  # Time N*M\n",
    "  # Space N*M"
   ]
  },
  {
   "cell_type": "code",
   "execution_count": 15,
   "metadata": {},
   "outputs": [
    {
     "name": "stdout",
     "output_type": "stream",
     "text": [
      "4\n",
      "7\n",
      "6\n"
     ]
    }
   ],
   "source": [
    "print(levenshtein_distance(\"saturday\", \"sundays\"))\n",
    "print(levenshtein_distance(\"\", \"sundays\"))\n",
    "print(levenshtein_distance(\"s\", \"sundays\"))"
   ]
  },
  {
   "cell_type": "code",
   "execution_count": 40,
   "metadata": {},
   "outputs": [],
   "source": [
    "def levenshtein_distance(str1, str2):\n",
    "  n1, n2 = len(str1), len(str2)\n",
    "  dp = [[0 for _ in range(n2+1)] for _ in range(n1+1)]\n",
    "\n",
    "  for i in range(n1):\n",
    "    dp[i+1][0] = i+1\n",
    "\n",
    "  for i in range(n2):\n",
    "    dp[0][i+1] = i+1\n",
    "  \n",
    "\n",
    "  for i1 in range(n1):\n",
    "    for i2 in range(n2):\n",
    "      if str1[i1] == str2[i2]:\n",
    "        dp[i1+1][i2+1] = dp[i1][i2]\n",
    "      else:\n",
    "        c0 = dp[i1+1][i2] # deletion\n",
    "        c1 = dp[i1][i2+1] # insertion\n",
    "        c2 = dp[i1][i2] # substitution\n",
    "\n",
    "        dp[i1+1][i2+1] = 1 + min(c0,c1,c2)\n",
    "\n",
    "\n",
    "  return dp[-1][-1]\n",
    "  \n",
    "  # Bottom-up\n",
    "  # Time N*M\n",
    "  # Space N*M"
   ]
  },
  {
   "cell_type": "code",
   "execution_count": 41,
   "metadata": {},
   "outputs": [
    {
     "name": "stdout",
     "output_type": "stream",
     "text": [
      "4\n",
      "7\n",
      "6\n"
     ]
    }
   ],
   "source": [
    "print(levenshtein_distance(\"saturday\", \"sundays\"))\n",
    "print(levenshtein_distance(\"\", \"sundays\"))\n",
    "print(levenshtein_distance(\"s\", \"sundays\"))"
   ]
  },
  {
   "cell_type": "code",
   "execution_count": 49,
   "metadata": {},
   "outputs": [],
   "source": [
    "def levenshtein_distance(str1, str2):\n",
    "  n1, n2 = len(str1), len(str2)\n",
    "  dp = [[0 for _ in range(n2+1)] for _ in range(2)]\n",
    "  for i in range(n2):\n",
    "    dp[0][i+1] = i+1\n",
    "  \n",
    "\n",
    "  for i1 in range(1, n1+1):\n",
    "    dp[i1%2][0] = i1\n",
    "    for i2 in range(1, n2+1):\n",
    "      if str1[i1-1] == str2[i2-1]:\n",
    "        dp[i1%2][i2] = dp[(i1-1)%2][i2-1]\n",
    "      else:\n",
    "        c0 = dp[i1%2][i2-1] # deletion\n",
    "        c1 = dp[(i1-1)%2][i2] # insertion\n",
    "        c2 = dp[(i1-1)%2][i2-1] # substitution\n",
    "\n",
    "        dp[i1%2][i2] = 1 + min(c0,c1,c2)\n",
    "\n",
    "  # for d in dp:\n",
    "  #   print(d)\n",
    "\n",
    "  return dp[n1%2][-1]\n",
    "  \n",
    "  # Bottom-up, space optmization\n",
    "  # Time N*M\n",
    "  # Space N"
   ]
  },
  {
   "cell_type": "code",
   "execution_count": 50,
   "metadata": {},
   "outputs": [
    {
     "name": "stdout",
     "output_type": "stream",
     "text": [
      "4\n",
      "7\n",
      "6\n"
     ]
    }
   ],
   "source": [
    "print(levenshtein_distance(\"saturday\", \"sundays\"))\n",
    "print(levenshtein_distance(\"\", \"sundays\"))\n",
    "print(levenshtein_distance(\"s\", \"sundays\"))"
   ]
  }
 ],
 "metadata": {
  "kernelspec": {
   "display_name": "Python 3",
   "language": "python",
   "name": "python3"
  },
  "language_info": {
   "codemirror_mode": {
    "name": "ipython",
    "version": 3
   },
   "file_extension": ".py",
   "mimetype": "text/x-python",
   "name": "python",
   "nbconvert_exporter": "python",
   "pygments_lexer": "ipython3",
   "version": "3.10.12"
  }
 },
 "nbformat": 4,
 "nbformat_minor": 2
}
