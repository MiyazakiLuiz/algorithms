{
 "cells": [
  {
   "cell_type": "code",
   "execution_count": 1,
   "metadata": {},
   "outputs": [],
   "source": [
    "def knapsack(profits, weights, capacity):\n",
    "  def knapsack_rec(i, cap):\n",
    "    if i >= n:\n",
    "      return 0\n",
    "    \n",
    "    p0 = 0 if weights[i] > cap else knapsack_rec(i+1, cap-weights[i]) + profits[i]\n",
    "    p1 = knapsack_rec(i+1, cap)\n",
    "\n",
    "    return max(p0, p1)\n",
    "\n",
    "  n = len(profits)\n",
    "  return knapsack_rec(0, capacity)\n",
    "\n",
    "# Brute force\n",
    "# Time 2^N\n",
    "# Space N -> recursive stack"
   ]
  },
  {
   "cell_type": "code",
   "execution_count": 2,
   "metadata": {},
   "outputs": [],
   "source": [
    "def knapsack(profits, weights, capacity):\n",
    "  def knapsack_rec(i, cap):\n",
    "    if i < 0:\n",
    "      return 0\n",
    "    \n",
    "    if dp[i][cap] == -1:\n",
    "      p0 = knapsack_rec(i-1, cap-weights[i]) + profits[i] if weights[i] <= cap else 0\n",
    "      p1 = knapsack_rec(i-1, cap)\n",
    "\n",
    "      dp[i][cap] = max(p0, p1)\n",
    "    \n",
    "    return dp[i][cap]\n",
    "  \n",
    "  n = len(profits)\n",
    "  dp = [[0] + [-1] * capacity for _ in range(n)]\n",
    "  return knapsack_rec(n-1, capacity)\n",
    "\n",
    "# Top-down\n",
    "# Time N*C\n",
    "# Space N*C"
   ]
  },
  {
   "cell_type": "code",
   "execution_count": 3,
   "metadata": {},
   "outputs": [],
   "source": [
    "def knapsack(profits, weights, capacity):\n",
    "  def get_items():\n",
    "    items = []\n",
    "\n",
    "    row, col = n-1, capacity\n",
    "    while row >= 0 and col > 0:\n",
    "      # print(\"row: \" + str(row) + \", col: \" + str(col))\n",
    "      while row > 0 and dp[row][col] == dp[row-1][col]:\n",
    "        row -= 1\n",
    "      items.append(row)\n",
    "\n",
    "      col -= weights[row]\n",
    "      \n",
    "    return items\n",
    "\n",
    "  n = len(profits)\n",
    "  dp = [[0] * (capacity+1) for _ in range(n)]\n",
    "  for c in range(1, capacity+1):\n",
    "    if weights[0] <= c:\n",
    "      dp[0][c] = profits[0]\n",
    "\n",
    "  for i in range(1, n):\n",
    "    for c in range(1, capacity+1):\n",
    "      dp[i][c] = dp[i-1][c]\n",
    "      if weights[i] <= c:\n",
    "        dp[i][c] = max(dp[i][c], dp[i-1][c-weights[i]] + profits[i])\n",
    "\n",
    "  profit = dp[-1][-1]\n",
    "  return profit, get_items()\n",
    "\n",
    "# Bottom-up\n",
    "# Time N*C\n",
    "# Space N*C"
   ]
  },
  {
   "cell_type": "code",
   "execution_count": 4,
   "metadata": {},
   "outputs": [
    {
     "name": "stdout",
     "output_type": "stream",
     "text": [
      "(695, [14, 9, 7])\n"
     ]
    }
   ],
   "source": [
    "profits = [65, 35, 245, 195, 65, 150, 275, 155, 120, 320, 75, 40, 200, 100, 220, 99]\n",
    "weights = [20,  8,  60,  55, 40,  70,  85,  25,  30,  65, 75, 10,  95,  50,  40, 10]\n",
    "print(knapsack(profits, weights, 130)) #695, [7, 9, 14]"
   ]
  }
 ],
 "metadata": {
  "kernelspec": {
   "display_name": "Python 3",
   "language": "python",
   "name": "python3"
  },
  "language_info": {
   "codemirror_mode": {
    "name": "ipython",
    "version": 3
   },
   "file_extension": ".py",
   "mimetype": "text/x-python",
   "name": "python",
   "nbconvert_exporter": "python",
   "pygments_lexer": "ipython3",
   "version": "3.10.12"
  }
 },
 "nbformat": 4,
 "nbformat_minor": 2
}
