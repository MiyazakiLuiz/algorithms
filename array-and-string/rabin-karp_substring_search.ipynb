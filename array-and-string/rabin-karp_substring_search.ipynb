{
 "cells": [
  {
   "cell_type": "code",
   "execution_count": 110,
   "metadata": {},
   "outputs": [],
   "source": [
    "def compute_next_hash(prev_hash, add, remove):\n",
    "  return prev_hash + ord(add) - ord(remove)\n",
    "\n",
    "def compute_hash(string):\n",
    "  hash_value = 0\n",
    "  for s in string:\n",
    "    hash_value += ord(s)\n",
    "  return hash_value\n",
    "\n",
    "def rabin_karp_substring_search(big_string, substring):\n",
    "  len_bs = len(big_string)\n",
    "  len_ss = len(substring)\n",
    "  hash_bs = []\n",
    "  # hash_bs = {}\n",
    "  hash_ss = 0\n",
    "\n",
    "  hash_bs.append(compute_hash(big_string[: len_ss]))\n",
    "  # hash_bs['0'] = compute_hash(big_string[: len_ss])\n",
    "  for i in range(1, len_bs-len_ss+1):\n",
    "    hash_bs.append(compute_next_hash(hash_bs[i-1], big_string[i + len_ss - 1], big_string[i-1]))\n",
    "    # hash_bs[str(i)] = compute_next_hash(hash_bs[str(i-1)], big_string[i + len_ss - 1], big_string[i-1])\n",
    "\n",
    "  hash_ss = compute_hash(substring)\n",
    "\n",
    "  for idx, h in enumerate(hash_bs):\n",
    "    if hash_ss == h and substring == big_string[idx: idx + len_ss]:\n",
    "        return True\n",
    "\n",
    "  return False"
   ]
  },
  {
   "cell_type": "code",
   "execution_count": 52,
   "metadata": {},
   "outputs": [],
   "source": [
    "def brute_force_substring_search(big_string, substring):\n",
    "  len_bs = len(big_string)\n",
    "  len_ss = len(substring)\n",
    "\n",
    "  for i in range(len_bs-len_ss+1):\n",
    "    flag = 1\n",
    "    for j in range(len_ss):\n",
    "      if big_string[i+j] != substring[j]:\n",
    "        flag = 0\n",
    "        break\n",
    "    if flag == 1:\n",
    "      return True\n",
    "\n",
    "  return False"
   ]
  },
  {
   "cell_type": "code",
   "execution_count": 119,
   "metadata": {},
   "outputs": [
    {
     "name": "stdout",
     "output_type": "stream",
     "text": [
      "True\n",
      "rabin-karp - elapsed time: 0.05585002899169922\n",
      "True\n",
      "brute force - elapsed time: 0.033908843994140625\n"
     ]
    }
   ],
   "source": [
    "import time\n",
    "import string\n",
    "import random\n",
    "\n",
    "def random_string(length):\n",
    "  return ''.join(random.choices(string.ascii_letters, k=length))\n",
    "\n",
    "len_bs = 100000\n",
    "big_string = random_string(len_bs)\n",
    "substring = big_string[len_bs-20:len_bs]\n",
    "\n",
    "ts_begin = time.time()\n",
    "print(rabin_karp_substring_search(big_string, substring))\n",
    "ts_end = time.time()\n",
    "print(\"rabin-karp - elapsed time: \" + str(ts_end - ts_begin))\n",
    "\n",
    "ts_begin = time.time()\n",
    "print(brute_force_substring_search(big_string, substring))\n",
    "ts_end = time.time()\n",
    "print(\"brute force - elapsed time: \" + str(ts_end - ts_begin))"
   ]
  }
 ],
 "metadata": {
  "interpreter": {
   "hash": "357dd8bf79716031af24569861f14e4cedb19c6662afabd94e51a941eda359ea"
  },
  "kernelspec": {
   "display_name": "Python 3.9.5 64-bit",
   "language": "python",
   "name": "python3"
  },
  "language_info": {
   "codemirror_mode": {
    "name": "ipython",
    "version": 3
   },
   "file_extension": ".py",
   "mimetype": "text/x-python",
   "name": "python",
   "nbconvert_exporter": "python",
   "pygments_lexer": "ipython3",
   "version": "3.9.5"
  },
  "orig_nbformat": 4
 },
 "nbformat": 4,
 "nbformat_minor": 2
}
