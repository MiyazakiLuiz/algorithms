{
  "nbformat": 4,
  "nbformat_minor": 0,
  "metadata": {
    "colab": {
      "provenance": []
    },
    "kernelspec": {
      "name": "python3",
      "display_name": "Python 3"
    },
    "language_info": {
      "name": "python"
    }
  },
  "cells": [
    {
      "cell_type": "code",
      "execution_count": null,
      "metadata": {
        "colab": {
          "base_uri": "https://localhost:8080/"
        },
        "id": "JrpD4ZS-qgIr",
        "outputId": "68c1c67f-9d26-4a69-e2fd-49c0326674b7"
      },
      "outputs": [
        {
          "output_type": "stream",
          "name": "stdout",
          "text": [
            "Output: True\n",
            "Output: True\n",
            "Output: False\n"
          ]
        }
      ],
      "source": [
        "class TreeNode:\n",
        "  def __init__(self, data):\n",
        "    self.data = data\n",
        "    self.left = None\n",
        "    self.right = None\n",
        "\n",
        "def hasSum(root, s):\n",
        "  if root is None:\n",
        "    return False\n",
        "\n",
        "  if isLeaf(root) and root.data == s:\n",
        "    return True\n",
        "\n",
        "  return hasSum(root.left, s - root.data) or hasSum(root.right, s - root.data)\n",
        "\n",
        "\n",
        "def isLeaf(node):\n",
        "  return node.left is None and node.right is None\n",
        "\n",
        "def main():\n",
        "  root = TreeNode(1)\n",
        "  root.left = TreeNode(2)\n",
        "  root.left.left = TreeNode(4)\n",
        "  root.left.right = TreeNode(5)\n",
        "  root.right = TreeNode(3)\n",
        "  root.right.left = TreeNode(6)\n",
        "  root.right.right = TreeNode(7)\n",
        "\n",
        "  print(\"Output: \" + str(hasSum(root, 10)))\n",
        "\n",
        "  root = TreeNode(12)\n",
        "  root.left = TreeNode(7)\n",
        "  root.left.left = TreeNode(9)\n",
        "  root.right = TreeNode(1)\n",
        "  root.right.left = TreeNode(10)\n",
        "  root.right.right = TreeNode(5)\n",
        "\n",
        "  print(\"Output: \" + str(hasSum(root, 23)))\n",
        "  print(\"Output: \" + str(hasSum(root, 16)))\n",
        "\n",
        "main()"
      ]
    },
    {
      "cell_type": "code",
      "source": [
        "class TreeNode:\n",
        "  def __init__(self, data):\n",
        "    self.data = data\n",
        "    self.left = None\n",
        "    self.right = None\n",
        "\n",
        "def pathsSum(node, s):\n",
        "  if node is None:\n",
        "    return []\n",
        "\n",
        "  result = []\n",
        "  path = []\n",
        "  getPaths(node, s, path, result)\n",
        "\n",
        "  return result\n",
        "\n",
        "def getPaths(node, s, path, result):\n",
        "  if node is None:\n",
        "    return\n",
        "\n",
        "  if isLeaf(node) and node.data == s:\n",
        "    result.append(path + [node.data])\n",
        "    return\n",
        "\n",
        "  getPaths(node.left, s - node.data, path + [node.data], result)\n",
        "  getPaths(node.right, s - node.data, path + [node.data], result)\n",
        "\n",
        "\n",
        "def isLeaf(node):\n",
        "  return node.left is None and node.right is None\n",
        "\n",
        "def main():\n",
        "  root = TreeNode(1)\n",
        "  root.left = TreeNode(7)\n",
        "  root.left.left = TreeNode(4)\n",
        "  root.left.right = TreeNode(5)\n",
        "  root.right = TreeNode(9)\n",
        "  root.right.left = TreeNode(2)\n",
        "  root.right.right = TreeNode(7)\n",
        "\n",
        "  print(\"Output: \" + str(pathsSum(root, 12)))\n",
        "\n",
        "  root = TreeNode(12)\n",
        "  root.left = TreeNode(7)\n",
        "  root.left.left = TreeNode(4)\n",
        "  root.right = TreeNode(1)\n",
        "  root.right.left = TreeNode(10)\n",
        "  root.right.right = TreeNode(5)\n",
        "\n",
        "  print(\"Output: \" + str(pathsSum(root, 23)))\n",
        "  print(\"Output: \" + str(pathsSum(root, 16)))\n",
        "\n",
        "main()"
      ],
      "metadata": {
        "colab": {
          "base_uri": "https://localhost:8080/"
        },
        "id": "Q_JVfkF8kpbE",
        "outputId": "0fb496e6-55da-4532-c753-0a883f3a23b4"
      },
      "execution_count": null,
      "outputs": [
        {
          "output_type": "stream",
          "name": "stdout",
          "text": [
            "Output: [[1, 7, 4], [1, 9, 2]]\n",
            "Output: [[12, 7, 4], [12, 1, 10]]\n",
            "Output: []\n"
          ]
        }
      ]
    },
    {
      "cell_type": "code",
      "source": [
        "class TreeNode:\n",
        "  def __init__(self, data):\n",
        "    self.data = data\n",
        "    self.left = None\n",
        "    self.right = None\n",
        "\n",
        "def sumPathsNumber(node):\n",
        "  return sumPathsNumberRecursive(node, 0)\n",
        "\n",
        "def sumPathsNumberRecursive(node, sum):\n",
        "  if node is None:\n",
        "    return 0\n",
        "\n",
        "  if isLeaf(node):\n",
        "    return 10*sum + node.data\n",
        "\n",
        "  sumLeft = sumPathsNumberRecursive(node.left, sum*10 + node.data) if node.left else 0\n",
        "  sumRight = sumPathsNumberRecursive(node.right, sum*10 + node.data) if node.right else 0\n",
        "\n",
        "  return sumLeft + sumRight\n",
        "\n",
        "def isLeaf(node):\n",
        "  return node.left is None and node.right is None\n",
        "\n",
        "def main():\n",
        "  root = TreeNode(1)\n",
        "  root.left = TreeNode(7)\n",
        "  root.right = TreeNode(9)\n",
        "  root.right.left = TreeNode(2)\n",
        "  root.right.right = TreeNode(9)\n",
        "\n",
        "  print(\"Output: \" + str(sumPathsNumber(root)))\n",
        "\n",
        "  root = TreeNode(1)\n",
        "  root.left = TreeNode(0)\n",
        "  root.left.left = TreeNode(1)\n",
        "  root.right = TreeNode(1)\n",
        "  root.right.left = TreeNode(6)\n",
        "  root.right.right = TreeNode(5)\n",
        "\n",
        "  print(\"Output: \" + str(sumPathsNumber(root)))\n",
        "\n",
        "main()"
      ],
      "metadata": {
        "colab": {
          "base_uri": "https://localhost:8080/"
        },
        "id": "MSVC7cWHsr8n",
        "outputId": "5f5f4646-d92f-42ae-b6fe-1541b9f18d56"
      },
      "execution_count": null,
      "outputs": [
        {
          "output_type": "stream",
          "name": "stdout",
          "text": [
            "Output: 408\n",
            "Output: 332\n"
          ]
        }
      ]
    },
    {
      "cell_type": "code",
      "source": [
        "class TreeNode:\n",
        "  def __init__(self, data):\n",
        "    self.data = data\n",
        "    self.left = None\n",
        "    self.right = None\n",
        "\n",
        "def checkSequence(node, sequence):\n",
        "  if node is None or len(sequence) == 0:\n",
        "    return False\n",
        "\n",
        "  if node.data != sequence[0]:\n",
        "    return False\n",
        "\n",
        "  if isLeaf(node):\n",
        "    return [node.data] == sequence\n",
        "\n",
        "  return checkSequence(node.left, sequence[1:]) or checkSequence(node.right, sequence[1:])\n",
        "\n",
        "\n",
        "def isLeaf(node):\n",
        "  return node.left is None and node.right is None\n",
        "\n",
        "def main():\n",
        "  root = TreeNode(1)\n",
        "  root.left = TreeNode(7)\n",
        "  root.right = TreeNode(9)\n",
        "  root.right.left = TreeNode(2)\n",
        "  root.right.right = TreeNode(9)\n",
        "\n",
        "  print(\"Output: \" + str(checkSequence(root, [1, 9, 9])))\n",
        "\n",
        "  root = TreeNode(1)\n",
        "  root.left = TreeNode(0)\n",
        "  root.left.left = TreeNode(1)\n",
        "  root.right = TreeNode(1)\n",
        "  root.right.left = TreeNode(6)\n",
        "  root.right.right = TreeNode(5)\n",
        "\n",
        "  print(\"Output: \" + str(checkSequence(root, [1, 0, 7])))\n",
        "  print(\"Output: \" + str(checkSequence(root, [1, 1, 6])))\n",
        "\n",
        "main()"
      ],
      "metadata": {
        "colab": {
          "base_uri": "https://localhost:8080/"
        },
        "id": "SCU1Vpdn0m57",
        "outputId": "1da3af2d-c7db-438a-bda1-4f166f1dc00c"
      },
      "execution_count": null,
      "outputs": [
        {
          "output_type": "stream",
          "name": "stdout",
          "text": [
            "Output: True\n",
            "Output: False\n",
            "Output: True\n"
          ]
        }
      ]
    },
    {
      "cell_type": "code",
      "source": [
        "class TreeNode:\n",
        "  def __init__(self, data):\n",
        "    self.data = data\n",
        "    self.left = None\n",
        "    self.right = None\n",
        "\n",
        "def countPathsSum(node, s):\n",
        "  if node is None:\n",
        "    return 0\n",
        "\n",
        "  currentResult = 1 if node.data == s else 0\n",
        "\n",
        "  return currentResult + \\\n",
        "    countPathsSum(node.left, s - node.data) + \\\n",
        "    countPathsSum(node.right, s - node.data) + \\\n",
        "    countPathsSum(node.left, s) + \\\n",
        "    countPathsSum(node.right, s)\n",
        "\n",
        "\n",
        "def isLeaf(node):\n",
        "  return node.left is None and node.right is None\n",
        "\n",
        "def main():\n",
        "  root = TreeNode(1)\n",
        "  root.left = TreeNode(7)\n",
        "  root.left.left = TreeNode(6)\n",
        "  root.left.right = TreeNode(5)\n",
        "  root.right = TreeNode(9)\n",
        "  root.right.left = TreeNode(2)\n",
        "  root.right.right = TreeNode(3)\n",
        "\n",
        "  print(\"Output: \" + str(countPathsSum(root, 12)))\n",
        "\n",
        "  root = TreeNode(12)\n",
        "  root.left = TreeNode(7)\n",
        "  root.left.left = TreeNode(4)\n",
        "  root.right = TreeNode(1)\n",
        "  root.right.left = TreeNode(10)\n",
        "  root.right.right = TreeNode(5)\n",
        "\n",
        "  print(\"Output: \" + str(countPathsSum(root, 11)))\n",
        "\n",
        "main()"
      ],
      "metadata": {
        "colab": {
          "base_uri": "https://localhost:8080/"
        },
        "id": "vY_ZRZB81LNl",
        "outputId": "ae95b402-08e5-49a8-9970-04fef374a8ea"
      },
      "execution_count": null,
      "outputs": [
        {
          "output_type": "stream",
          "name": "stdout",
          "text": [
            "Output: 3\n",
            "Output: 2\n"
          ]
        }
      ]
    },
    {
      "cell_type": "code",
      "source": [
        "# Book solution\n",
        "class TreeNode:\n",
        "  def __init__(self, val, left=None, right=None):\n",
        "    self.val = val\n",
        "    self.left = left\n",
        "    self.right = right\n",
        "\n",
        "\n",
        "def count_paths(root, S):\n",
        "  return count_paths_recursive(root, S, [])\n",
        "\n",
        "\n",
        "def count_paths_recursive(currentNode, S, currentPath):\n",
        "  if currentNode is None:\n",
        "    return 0\n",
        "\n",
        "  # add the current node to the path\n",
        "  currentPath.append(currentNode.val)\n",
        "  pathCount, pathSum = 0, 0\n",
        "  # find the sums of all sub-paths in the current path list\n",
        "  for i in range(len(currentPath)-1, -1, -1):\n",
        "    pathSum += currentPath[i]\n",
        "    # if the sum of any sub-path is equal to 'S' we increment our path count.\n",
        "    if pathSum == S:\n",
        "      pathCount += 1\n",
        "\n",
        "  # traverse the left sub-tree\n",
        "  pathCount += count_paths_recursive(currentNode.left, S, currentPath)\n",
        "  # traverse the right sub-tree\n",
        "  pathCount += count_paths_recursive(currentNode.right, S, currentPath)\n",
        "\n",
        "  # remove the current node from the path to backtrack\n",
        "  # we need to remove the current node while we are going up the recursive call stack\n",
        "  del currentPath[-1]\n",
        "\n",
        "  return pathCount\n",
        "\n",
        "\n",
        "def main():\n",
        "  root = TreeNode(12)\n",
        "  root.left = TreeNode(7)\n",
        "  root.right = TreeNode(1)\n",
        "  root.left.left = TreeNode(4)\n",
        "  root.right.left = TreeNode(10)\n",
        "  root.right.right = TreeNode(5)\n",
        "  print(\"Tree has paths: \" + str(count_paths(root, 11)))\n",
        "\n",
        "\n",
        "main()"
      ],
      "metadata": {
        "id": "zihqbygKLwkY",
        "outputId": "e570a015-764a-4ea4-e22c-129f6effec71",
        "colab": {
          "base_uri": "https://localhost:8080/"
        }
      },
      "execution_count": null,
      "outputs": [
        {
          "output_type": "stream",
          "name": "stdout",
          "text": [
            "Tree has paths: 2\n"
          ]
        }
      ]
    },
    {
      "cell_type": "code",
      "source": [
        "class TreeNode:\n",
        "  def __init__(self, data):\n",
        "    self.data = data\n",
        "    self.left = None\n",
        "    self.right = None\n",
        "\n",
        "def countPathsSum(node, s):\n",
        "  return countPathsSumRec(node, s, [])\n",
        "\n",
        "def countPathsSumRec(node, s, path):\n",
        "  if node is None:\n",
        "    return 0\n",
        "\n",
        "  path.append(node.data)\n",
        "\n",
        "  sum = 0\n",
        "  count = 0\n",
        "  for i in range(len(path)-1,-1,-1):\n",
        "    sum += path[i]\n",
        "    if sum == s:\n",
        "      count += 1\n",
        "\n",
        "  count += countPathsSumRec(node.left, s, path) + countPathsSumRec(node.right, s, path)\n",
        "\n",
        "  del path[-1]\n",
        "\n",
        "  return count\n",
        "\n",
        "def isLeaf(node):\n",
        "  return node.left is None and node.right is None\n",
        "\n",
        "def main():\n",
        "  root = TreeNode(1)\n",
        "  root.left = TreeNode(7)\n",
        "  root.left.left = TreeNode(6)\n",
        "  root.left.right = TreeNode(5)\n",
        "  root.right = TreeNode(9)\n",
        "  root.right.left = TreeNode(2)\n",
        "  root.right.right = TreeNode(3)\n",
        "\n",
        "  print(\"Output: \" + str(countPathsSum(root, 12)))\n",
        "\n",
        "  root = TreeNode(12)\n",
        "  root.left = TreeNode(7)\n",
        "  root.left.left = TreeNode(4)\n",
        "  root.right = TreeNode(1)\n",
        "  root.right.left = TreeNode(10)\n",
        "  root.right.right = TreeNode(5)\n",
        "\n",
        "  print(\"Output: \" + str(countPathsSum(root, 11)))\n",
        "\n",
        "main()"
      ],
      "metadata": {
        "colab": {
          "base_uri": "https://localhost:8080/"
        },
        "id": "TtyYOZgZRSb6",
        "outputId": "683eed84-ea75-4ff7-e98f-51430eab82a0"
      },
      "execution_count": null,
      "outputs": [
        {
          "output_type": "stream",
          "name": "stdout",
          "text": [
            "Output: 3\n",
            "Output: 2\n"
          ]
        }
      ]
    }
  ]
}