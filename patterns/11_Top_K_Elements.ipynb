{
  "nbformat": 4,
  "nbformat_minor": 0,
  "metadata": {
    "colab": {
      "provenance": []
    },
    "kernelspec": {
      "name": "python3",
      "display_name": "Python 3"
    },
    "language_info": {
      "name": "python"
    }
  },
  "cells": [
    {
      "cell_type": "code",
      "execution_count": null,
      "metadata": {
        "id": "NmDTnx8dOQ29",
        "colab": {
          "base_uri": "https://localhost:8080/"
        },
        "outputId": "5f8369ec-927f-450d-9d97-bbe4e411b174"
      },
      "outputs": [
        {
          "output_type": "stream",
          "name": "stdout",
          "text": [
            "Here are the top K numbers: [5, 12, 11]\n",
            "Here are the top K numbers: [11, 12, 12]\n"
          ]
        }
      ],
      "source": [
        "from heapq import *\n",
        "\n",
        "\n",
        "def find_k_largest_numbers(nums, k):\n",
        "  minHeap = []\n",
        "\n",
        "  for n in nums:\n",
        "    if len(minHeap) < k:\n",
        "      heappush(minHeap, n)\n",
        "    else:\n",
        "      # heappushpop(minHeap, n)\n",
        "      if n > minHeap[0]:\n",
        "        heappop(minHeap)\n",
        "        heappush(minHeap, n)\n",
        "\n",
        "  return minHeap\n",
        "\n",
        "\n",
        "def main():\n",
        "\n",
        "  print(\"Here are the top K numbers: \" +\n",
        "        str(find_k_largest_numbers([3, 1, 5, 12, 2, 11], 3)))\n",
        "\n",
        "  print(\"Here are the top K numbers: \" +\n",
        "        str(find_k_largest_numbers([5, 12, 11, -1, 12], 3)))\n",
        "\n",
        "\n",
        "main()"
      ]
    },
    {
      "cell_type": "code",
      "source": [
        "from heapq import *\n",
        "\n",
        "def find_Kth_smallest_number(nums, k):\n",
        "\n",
        "  maxHeap = []\n",
        "\n",
        "  for n in nums:\n",
        "    if len(maxHeap) < k:\n",
        "      heappush(maxHeap, -n)\n",
        "    else:\n",
        "      heappushpop(maxHeap, -n)\n",
        "\n",
        "  return -maxHeap[0]\n",
        "\n",
        "\n",
        "def main():\n",
        "\n",
        "  print(\"Kth smallest number is: \" +\n",
        "        str(find_Kth_smallest_number([1, 5, 12, 2, 11, 5], 3)))\n",
        "\n",
        "  # since there are two 5s in the input array, our 3rd and 4th smallest numbers should be a '5'\n",
        "  print(\"Kth smallest number is: \" +\n",
        "        str(find_Kth_smallest_number([1, 5, 12, 2, 11, 5], 4)))\n",
        "\n",
        "  print(\"Kth smallest number is: \" +\n",
        "        str(find_Kth_smallest_number([5, 12, 11, -1, 12], 3)))\n",
        "\n",
        "\n",
        "main()"
      ],
      "metadata": {
        "colab": {
          "base_uri": "https://localhost:8080/"
        },
        "id": "OEShVB5n04Jk",
        "outputId": "f7bf7eb2-ec13-45b3-ba5e-94ac03274c32"
      },
      "execution_count": null,
      "outputs": [
        {
          "output_type": "stream",
          "name": "stdout",
          "text": [
            "Kth smallest number is: 5\n",
            "Kth smallest number is: 5\n",
            "Kth smallest number is: 11\n"
          ]
        }
      ]
    },
    {
      "cell_type": "code",
      "source": [
        "from heapq import *\n",
        "import math\n",
        "\n",
        "class MaxHeapPoint:\n",
        "  def __init__(self):\n",
        "    self.heap = []\n",
        "\n",
        "  def __left(self, pos):\n",
        "    if (pos+2 + 1) < len(self.heap):\n",
        "      return pos+2 + 1\n",
        "    return None\n",
        "\n",
        "  def __right(self, pos):\n",
        "    if (pos+2 + 2) < len(self.heap):\n",
        "      return pos+2 + 2\n",
        "    return None\n",
        "\n",
        "  def __parent(self, pos):\n",
        "    if pos <= 0:\n",
        "      return None\n",
        "    return (pos-1)//2\n",
        "\n",
        "  def __swap(self, pos1, pos2):\n",
        "    self.heap[pos1], self.heap[pos2] = self.heap[pos2], self.heap[pos1]\n",
        "\n",
        "  def push(self, point):\n",
        "    if not isinstance(point, Point):\n",
        "      raise Exception(\"Push method must receive a point\")\n",
        "\n",
        "    self.heap.append(point)\n",
        "    currPos = len(self.heap) - 1\n",
        "    while self.__parent(currPos) is not None and \\\n",
        "          self.heap[self.__parent(currPos)].distFromOrigin() < \\\n",
        "          self.heap[currPos].distFromOrigin():\n",
        "\n",
        "      self.__swap(self.__parent(currPos), currPos)\n",
        "      currPos = self.__parent(currPos)\n",
        "\n",
        "  def pushpop(self, point):\n",
        "    if not isinstance(point, Point):\n",
        "      raise Exception(\"Push method must receive a point\")\n",
        "\n",
        "    headDist = self.heap[0].distFromOrigin()\n",
        "    currDist = point.distFromOrigin()\n",
        "\n",
        "    if headDist <= currDist:\n",
        "      return\n",
        "\n",
        "    self.heap[0] = point\n",
        "    currPos = 0\n",
        "    L = self.__left(currPos)\n",
        "    R = self.__right(currPos)\n",
        "    while (L is not None and self.heap[L] > self.heap[currPos]) or\\\n",
        "          (R is not None and self.heap[R] > self.heap[currPos]):\n",
        "\n",
        "      if L is not None and R is not None:\n",
        "        if self.heap[L] > self.heap[R]:\n",
        "          self.__swap(L, currPos)\n",
        "          currPos = L\n",
        "        else:\n",
        "          self.__swap(R, currPos)\n",
        "          currPos = R\n",
        "      elif L is not None:\n",
        "        self.__swap(L, currPos)\n",
        "        currPos = L\n",
        "      else:\n",
        "        self.__swap(R, currPos)\n",
        "        currPos = R\n",
        "\n",
        "class Point:\n",
        "  def __init__(self, x, y):\n",
        "    self.x = x\n",
        "    self.y = y\n",
        "\n",
        "  def print_point(self):\n",
        "    print(\"[\" + str(self.x) + \", \" + str(self.y) + \"] \", end='')\n",
        "\n",
        "  def distFromOrigin(self):\n",
        "    x = self.x\n",
        "    y = self.y\n",
        "    return math.sqrt(x*x + y*y)\n",
        "\n",
        "def find_closest_points(points, k):\n",
        "  maxHeap = MaxHeapPoint()\n",
        "\n",
        "  for point in points:\n",
        "    if len(maxHeap.heap) < k:\n",
        "      maxHeap.push(point)\n",
        "    else:\n",
        "      maxHeap.pushpop(point)\n",
        "\n",
        "  # result = map(lambda e:[e.x, e.y], maxHeap.heap)\n",
        "\n",
        "  return maxHeap.heap\n",
        "\n",
        "\n",
        "def main():\n",
        "\n",
        "  result = find_closest_points([Point(1, 3), Point(3, 4), Point(2, -1)], 2)\n",
        "  print(\"Here are the k points closest the origin: \", end='')\n",
        "  for point in result:\n",
        "    point.print_point()\n",
        "\n",
        "  result = find_closest_points([Point(1, 3), Point(3, 4), Point(2, 1)], 1)\n",
        "  print(\"\\nHere are the k points closest the origin: \", end='')\n",
        "  for point in result:\n",
        "    point.print_point()\n",
        "\n",
        "\n",
        "main()"
      ],
      "metadata": {
        "colab": {
          "base_uri": "https://localhost:8080/"
        },
        "id": "akBtOkyh7Bqv",
        "outputId": "d2b4dfeb-5e49-405d-f23b-b87563239b8b"
      },
      "execution_count": null,
      "outputs": [
        {
          "output_type": "stream",
          "name": "stdout",
          "text": [
            "Here are the k points closest the origin: [2, -1] [1, 3] \n",
            "Here are the k points closest the origin: [2, 1] "
          ]
        }
      ]
    },
    {
      "cell_type": "code",
      "source": [
        "from __future__ import print_function\n",
        "from heapq import *\n",
        "\n",
        "\n",
        "class Point:\n",
        "\n",
        "  def __init__(self, x, y):\n",
        "    self.x = x\n",
        "    self.y = y\n",
        "\n",
        "  # used for max-heap\n",
        "  def __lt__(self, other):\n",
        "    return self.distance_from_origin() > other.distance_from_origin()\n",
        "\n",
        "  def distance_from_origin(self):\n",
        "    # ignoring sqrt to calculate the distance\n",
        "    return (self.x * self.x) + (self.y * self.y)\n",
        "\n",
        "  def print_point(self):\n",
        "    print(\"[\" + str(self.x) + \", \" + str(self.y) + \"] \", end='')\n",
        "\n",
        "\n",
        "def find_closest_points(points, k):\n",
        "  maxHeap = []\n",
        "  # put first 'k' points in the max heap\n",
        "  for i in range(k):\n",
        "    heappush(maxHeap, points[i])\n",
        "\n",
        "  # go through the remaining points of the input array, if a point is closer to the origin than the top point\n",
        "  # of the max-heap, remove the top point from heap and add the point from the input array\n",
        "  for i in range(k, len(points)):\n",
        "    if points[i].distance_from_origin() < maxHeap[0].distance_from_origin():\n",
        "      heappop(maxHeap)\n",
        "      heappush(maxHeap, points[i])\n",
        "\n",
        "  # the heap has 'k' points closest to the origin, return them in a list\n",
        "  return list(maxHeap)\n",
        "\n",
        "\n",
        "def main():\n",
        "\n",
        "  result = find_closest_points([Point(1, 3), Point(3, 4), Point(2, -1)], 2)\n",
        "  print(\"Here are the k points closest the origin: \", end='')\n",
        "  for point in result:\n",
        "    point.print_point()\n",
        "\n",
        "\n",
        "main()"
      ],
      "metadata": {
        "colab": {
          "base_uri": "https://localhost:8080/"
        },
        "id": "r3yMfQ_qIz2x",
        "outputId": "a13d6014-d2d3-4967-c435-08c52565f09c"
      },
      "execution_count": null,
      "outputs": [
        {
          "output_type": "stream",
          "name": "stdout",
          "text": [
            "Here are the k points closest the origin: [1, 3] [2, -1] "
          ]
        }
      ]
    },
    {
      "cell_type": "code",
      "source": [
        "from heapq import *\n",
        "\n",
        "def minimum_cost_to_connect_ropes(ropeLengths):\n",
        "  cost = 0\n",
        "  heapify(ropeLengths)\n",
        "\n",
        "  while len(ropeLengths) > 1:\n",
        "    min1 = heappop(ropeLengths)\n",
        "    min2 = heappop(ropeLengths)\n",
        "    heappush(ropeLengths, min1+min2)\n",
        "    cost += min1+min2\n",
        "\n",
        "  return cost\n",
        "\n",
        "\n",
        "def main():\n",
        "\n",
        "  print(\"Minimum cost to connect ropes: \" +\n",
        "          str(minimum_cost_to_connect_ropes([1, 3, 11, 5])))\n",
        "  print(\"Minimum cost to connect ropes: \" +\n",
        "        str(minimum_cost_to_connect_ropes([3, 4, 5, 6])))\n",
        "  print(\"Minimum cost to connect ropes: \" +\n",
        "        str(minimum_cost_to_connect_ropes([1, 3, 11, 5, 2])))\n",
        "\n",
        "\n",
        "main()\n"
      ],
      "metadata": {
        "colab": {
          "base_uri": "https://localhost:8080/"
        },
        "id": "Cb-E5s_vgRfe",
        "outputId": "2fac8f3a-31bf-415c-bf7d-1a846e81f298"
      },
      "execution_count": null,
      "outputs": [
        {
          "output_type": "stream",
          "name": "stdout",
          "text": [
            "Minimum cost to connect ropes: 33\n",
            "Minimum cost to connect ropes: 36\n",
            "Minimum cost to connect ropes: 42\n"
          ]
        }
      ]
    },
    {
      "cell_type": "code",
      "source": [
        "from heapq import *\n",
        "\n",
        "class NumFreq:\n",
        "  def __init__(self, num, freq=1):\n",
        "    self.num = num\n",
        "    self.freq = freq\n",
        "\n",
        "  def __lt__(self, other):\n",
        "    return self.freq < other.freq\n",
        "\n",
        "\n",
        "def find_k_frequent_numbers(nums, k):\n",
        "  topNumbers = []\n",
        "  minHeap = []\n",
        "  hashMapFreq = {}\n",
        "\n",
        "  for n in nums:\n",
        "    if n not in hashMapFreq:\n",
        "      hashMapFreq[n] = 0\n",
        "    hashMapFreq[n] += 1\n",
        "\n",
        "  for key in hashMapFreq.keys():\n",
        "    if len(minHeap) < k:\n",
        "      heappush(minHeap, NumFreq(key, hashMapFreq[key]))\n",
        "    else:\n",
        "      heappushpop(minHeap, NumFreq(key, hashMapFreq[key]))\n",
        "\n",
        "  for mh in minHeap:\n",
        "    topNumbers.append(mh.num)\n",
        "\n",
        "  return topNumbers\n",
        "\n",
        "\n",
        "def main():\n",
        "\n",
        "  print(\"Here are the K frequent numbers: \" +\n",
        "        str(find_k_frequent_numbers([1, 3, 5, 12, 11, 12, 11], 2)))\n",
        "\n",
        "  print(\"Here are the K frequent numbers: \" +\n",
        "        str(find_k_frequent_numbers([5, 12, 11, 3, 11], 2)))\n",
        "  print(\"Here are the K frequent numbers: \" +\n",
        "        str(find_k_frequent_numbers([5, 12, 11, 3, 11, 3], 2)))\n",
        "  print(\"Here are the K frequent numbers: \" +\n",
        "        str(find_k_frequent_numbers([5, 12, 11, 3, 11, 5, 5, 5], 3)))\n",
        "\n",
        "\n",
        "main()"
      ],
      "metadata": {
        "colab": {
          "base_uri": "https://localhost:8080/"
        },
        "id": "CgpN8cB4Sman",
        "outputId": "693687b2-63ee-4fef-c85b-925550288ccf"
      },
      "execution_count": null,
      "outputs": [
        {
          "output_type": "stream",
          "name": "stdout",
          "text": [
            "Here are the K frequent numbers: [12, 11]\n",
            "Here are the K frequent numbers: [12, 11]\n",
            "Here are the K frequent numbers: [11, 3]\n",
            "Here are the K frequent numbers: [12, 5, 11]\n"
          ]
        }
      ]
    },
    {
      "cell_type": "code",
      "source": [
        "import heapq\n",
        "\n",
        "class CharFreq:\n",
        "  def __init__(self, char, freq):\n",
        "    self.char = char\n",
        "    self.freq = freq\n",
        "\n",
        "  def __lt__(self, other):\n",
        "    return self.freq > other.freq\n",
        "\n",
        "  def toStr(self):\n",
        "    return self.char*self.freq\n",
        "\n",
        "def sort_character_by_frequency(str):\n",
        "  hashMap = {}\n",
        "  maxHeap = []\n",
        "\n",
        "  for s in str:\n",
        "    if s not in hashMap:\n",
        "      hashMap[s] = 0\n",
        "    hashMap[s] += 1\n",
        "\n",
        "  for char, freq in hashMap.items():\n",
        "    heappush(maxHeap, CharFreq(char, freq))\n",
        "\n",
        "  result = []\n",
        "  while maxHeap:\n",
        "    maxh = heappop(maxHeap)\n",
        "    result.append(maxh.toStr())\n",
        "\n",
        "  return ''.join(result)\n",
        "\n",
        "def main():\n",
        "\n",
        "  print(\"String after sorting characters by frequency: \" +\n",
        "        sort_character_by_frequency(\"Programming\"))\n",
        "  print(\"String after sorting characters by frequency: \" +\n",
        "        sort_character_by_frequency(\"abcbab\"))\n",
        "\n",
        "\n",
        "main()"
      ],
      "metadata": {
        "colab": {
          "base_uri": "https://localhost:8080/"
        },
        "id": "RbM-otkReQ7E",
        "outputId": "ddeae0db-0c81-41a6-f9e3-ce55e23ced9c"
      },
      "execution_count": null,
      "outputs": [
        {
          "output_type": "stream",
          "name": "stdout",
          "text": [
            "String after sorting characters by frequency: rrmmggionaP\n",
            "String after sorting characters by frequency: bbbaac\n"
          ]
        }
      ]
    },
    {
      "cell_type": "code",
      "source": [
        "from heapq import *\n",
        "\n",
        "\n",
        "def sort_character_by_frequency(str):\n",
        "\n",
        "  # find the frequency of each character\n",
        "  charFrequencyMap = {}\n",
        "  for char in str:\n",
        "    charFrequencyMap[char] = charFrequencyMap.get(char, 0) + 1\n",
        "\n",
        "  maxHeap = []\n",
        "  # add all characters to the max heap\n",
        "  for char, frequency in charFrequencyMap.items():\n",
        "    heappush(maxHeap, (-frequency, char))\n",
        "\n",
        "  # build a string, appending the most occurring characters first\n",
        "  sortedString = []\n",
        "  while maxHeap:\n",
        "    frequency, char = heappop(maxHeap)\n",
        "    for _ in range(-frequency):\n",
        "      sortedString.append(char)\n",
        "\n",
        "  return ''.join(sortedString)\n",
        "\n",
        "\n",
        "def main():\n",
        "\n",
        "  print(\"String after sorting characters by frequency: \" +\n",
        "        sort_character_by_frequency(\"Programming\"))\n",
        "  print(\"String after sorting characters by frequency: \" +\n",
        "        sort_character_by_frequency(\"abcbab\"))\n",
        "\n",
        "\n",
        "main()"
      ],
      "metadata": {
        "colab": {
          "base_uri": "https://localhost:8080/"
        },
        "id": "p_loz3SPhgbh",
        "outputId": "251d959e-610c-40c9-fa5e-2731dca580d2"
      },
      "execution_count": null,
      "outputs": [
        {
          "output_type": "stream",
          "name": "stdout",
          "text": [
            "String after sorting characters by frequency: ggmmrrPaino\n",
            "String after sorting characters by frequency: bbbaac\n"
          ]
        }
      ]
    },
    {
      "cell_type": "code",
      "source": [
        "from heapq import *\n",
        "\n",
        "class KthLargestNumberInStream:\n",
        "  def __init__(self, nums, k):\n",
        "    self.k = k\n",
        "    self.heap = []\n",
        "\n",
        "    for n in nums:\n",
        "      self.add(n)\n",
        "\n",
        "  def add(self, n):\n",
        "    if len(self.heap) < self.k:\n",
        "      heappush(self.heap, n)\n",
        "    else:\n",
        "      heappushpop(self.heap, n)\n",
        "\n",
        "    return self.heap[0] if len(self.heap) >= self.k else None\n",
        "\n",
        "def main():\n",
        "\n",
        "  kthLargestNumber = KthLargestNumberInStream([3, 1, 5, 12, 2, 11], 4)\n",
        "  print(\"4th largest number is: \" + str(kthLargestNumber.add(6)))\n",
        "  print(\"4th largest number is: \" + str(kthLargestNumber.add(13)))\n",
        "  print(\"4th largest number is: \" + str(kthLargestNumber.add(4)))\n",
        "\n",
        "  kthLargestNumber = KthLargestNumberInStream([], 4)\n",
        "  print(\"4th largest number is: \" + str(kthLargestNumber.add(4)))\n",
        "  print(\"4th largest number is: \" + str(kthLargestNumber.add(3)))\n",
        "  print(\"4th largest number is: \" + str(kthLargestNumber.add(1)))\n",
        "  print(\"4th largest number is: \" + str(kthLargestNumber.add(12)))\n",
        "  print(\"4th largest number is: \" + str(kthLargestNumber.add(13)))\n",
        "\n",
        "\n",
        "main()"
      ],
      "metadata": {
        "colab": {
          "base_uri": "https://localhost:8080/"
        },
        "id": "AJfqxHIGBflM",
        "outputId": "e299efc9-e8ad-454c-c261-9c9fb8b3fbc7"
      },
      "execution_count": null,
      "outputs": [
        {
          "output_type": "stream",
          "name": "stdout",
          "text": [
            "4th largest number is: 5\n",
            "4th largest number is: 6\n",
            "4th largest number is: 6\n",
            "4th largest number is: None\n",
            "4th largest number is: None\n",
            "4th largest number is: None\n",
            "4th largest number is: 1\n",
            "4th largest number is: 3\n"
          ]
        }
      ]
    },
    {
      "cell_type": "code",
      "source": [
        "from heapq import *\n",
        "\n",
        "def find_closest_elements(arr, K, X):\n",
        "  result = []\n",
        "  maxHeap = []\n",
        "\n",
        "  for num in arr:\n",
        "    diff = abs(X - num)\n",
        "\n",
        "    if len(maxHeap) < K:\n",
        "      heappush(maxHeap, (-diff, num))\n",
        "    else:\n",
        "      heappushpop(maxHeap, (-diff, num))\n",
        "\n",
        "  while maxHeap:\n",
        "    _, num = heappop(maxHeap)\n",
        "    result.append(num)\n",
        "\n",
        "  return result\n",
        "\n",
        "\n",
        "def main():\n",
        "  print(\"'K' closest numbers to 'X' are: \" +\n",
        "        str(find_closest_elements([5, 6, 7, 8, 9], 3, 7)))\n",
        "  print(\"'K' closest numbers to 'X' are: \" +\n",
        "        str(find_closest_elements([2, 4, 5, 6, 9], 3, 6)))\n",
        "  print(\"'K' closest numbers to 'X' are: \" +\n",
        "        str(find_closest_elements([2, 4, 5, 6, 9], 3, 10)))\n",
        "\n",
        "\n",
        "main()"
      ],
      "metadata": {
        "colab": {
          "base_uri": "https://localhost:8080/"
        },
        "id": "TDTpW8EMLN3K",
        "outputId": "adda38e8-fb46-4055-c602-0396a5671a1f"
      },
      "execution_count": null,
      "outputs": [
        {
          "output_type": "stream",
          "name": "stdout",
          "text": [
            "'K' closest numbers to 'X' are: [6, 8, 7]\n",
            "'K' closest numbers to 'X' are: [4, 5, 6]\n",
            "'K' closest numbers to 'X' are: [5, 6, 9]\n"
          ]
        }
      ]
    },
    {
      "cell_type": "code",
      "source": [
        "from heapq import *\n",
        "\n",
        "def find_maximum_distinct_elements(nums, k):\n",
        "  numFreqMap = {}\n",
        "  minHeap = []\n",
        "\n",
        "  if len(nums) <= k:\n",
        "    return 0\n",
        "\n",
        "  # O(n)\n",
        "  for n in nums:\n",
        "    numFreqMap[n] = numFreqMap.get(n, 0) + 1\n",
        "\n",
        "  # O(N*logN)\n",
        "  for num, freq in numFreqMap.items():\n",
        "    heappush(minHeap, (freq, num))\n",
        "\n",
        "  result = 0\n",
        "  remainingK = k\n",
        "  while remainingK > 0 and len(minHeap) > 0:\n",
        "    freq, _ = heappop(minHeap)\n",
        "    remainingK -= freq-1\n",
        "    if remainingK >= 0:\n",
        "      result += 1\n",
        "\n",
        "  if remainingK > 0:\n",
        "    result -= remainingK\n",
        "\n",
        "  return result\n",
        "\n",
        "\n",
        "def main():\n",
        "\n",
        "  print(\"Maximum distinct numbers after removing K numbers: \" +\n",
        "        str(find_maximum_distinct_elements([7, 3, 5, 8, 5, 3, 3], 2)))\n",
        "  print(\"Maximum distinct numbers after removing K numbers: \" +\n",
        "        str(find_maximum_distinct_elements([3, 5, 12, 11, 12], 3)))\n",
        "  print(\"Maximum distinct numbers after removing K numbers: \" +\n",
        "        str(find_maximum_distinct_elements([1, 2, 3, 3, 3, 3, 4, 4, 5, 5, 5], 2)))\n",
        "\n",
        "\n",
        "main()"
      ],
      "metadata": {
        "colab": {
          "base_uri": "https://localhost:8080/"
        },
        "id": "ASj-EPhxRAb7",
        "outputId": "0ca45bea-edf4-4729-bc92-e755c7dd237c"
      },
      "execution_count": null,
      "outputs": [
        {
          "output_type": "stream",
          "name": "stdout",
          "text": [
            "Maximum distinct numbers after removing K numbers: 3\n",
            "Maximum distinct numbers after removing K numbers: 2\n",
            "Maximum distinct numbers after removing K numbers: 3\n"
          ]
        }
      ]
    },
    {
      "cell_type": "code",
      "source": [
        "from heapq import *\n",
        "\n",
        "def find_sum_of_elements(nums, k1, k2):\n",
        "  maxHeap = []\n",
        "\n",
        "  for n in nums:\n",
        "    if len(maxHeap) < k2-1:\n",
        "      heappush(maxHeap, -n)\n",
        "    else:\n",
        "      heappushpop(maxHeap, -n)\n",
        "\n",
        "  result = 0\n",
        "  for _ in range(k2-k1-1):\n",
        "    pop = heappop(maxHeap)\n",
        "    result -= pop\n",
        "\n",
        "  return result\n",
        "\n",
        "def main():\n",
        "\n",
        "  print(\"Sum of all numbers between k1 and k2 smallest numbers: \" +\n",
        "        str(find_sum_of_elements([1, 3, 12, 5, 15, 11], 3, 6)))\n",
        "  print(\"Sum of all numbers between k1 and k2 smallest numbers: \" +\n",
        "        str(find_sum_of_elements([3, 5, 8, 7], 1, 4)))\n",
        "\n",
        "\n",
        "main()"
      ],
      "metadata": {
        "colab": {
          "base_uri": "https://localhost:8080/"
        },
        "id": "30DGyjGPOi6T",
        "outputId": "b00d2018-c44d-409c-9cf1-7fa6188aa93e"
      },
      "execution_count": null,
      "outputs": [
        {
          "output_type": "stream",
          "name": "stdout",
          "text": [
            "Sum of all numbers between k1 and k2 smallest numbers: 23\n",
            "Sum of all numbers between k1 and k2 smallest numbers: 12\n"
          ]
        }
      ]
    },
    {
      "cell_type": "code",
      "source": [
        "from heapq import *\n",
        "\n",
        "def rearrange_string(str):\n",
        "  charFreqMap = {}\n",
        "  for char in str:\n",
        "    charFreqMap[char] = charFreqMap.get(char, 0) + 1\n",
        "\n",
        "  maxHeap = []\n",
        "  for char, freq in charFreqMap.items():\n",
        "    heappush(maxHeap, (-freq, char))\n",
        "\n",
        "  prevChar = None\n",
        "  prevFreq = None\n",
        "  result = []\n",
        "  while maxHeap:\n",
        "    freq, char = heappop(maxHeap)\n",
        "\n",
        "    result.append(char)\n",
        "\n",
        "    if prevFreq is not None and -prevFreq > 1:\n",
        "      heappush(maxHeap, (prevFreq+1, prevChar))\n",
        "\n",
        "    prevChar = char\n",
        "    prevFreq = freq\n",
        "\n",
        "\n",
        "  if len(result) < len(str):\n",
        "    return \"\"\n",
        "\n",
        "  return \"\".join(result)\n",
        "\n",
        "\n",
        "def main():\n",
        "  print(\"Rearranged string:  \" + rearrange_string(\"aappp\"))\n",
        "  print(\"Rearranged string:  \" + rearrange_string(\"Programming\"))\n",
        "  print(\"Rearranged string:  \" + rearrange_string(\"aapa\"))\n",
        "  print(\"Rearranged string:  \" + rearrange_string(\"aapai\"))\n",
        "  print(\"Rearranged string:  \" + rearrange_string(\"aapaaiiipp\"))\n",
        "\n",
        "\n",
        "main()"
      ],
      "metadata": {
        "colab": {
          "base_uri": "https://localhost:8080/"
        },
        "id": "-ZB-Po8lUpI6",
        "outputId": "c49c0811-959f-4c70-99b1-f35cbf6e8f75"
      },
      "execution_count": null,
      "outputs": [
        {
          "output_type": "stream",
          "name": "stdout",
          "text": [
            "Rearranged string:  papap\n",
            "Rearranged string:  gmrPagimnor\n",
            "Rearranged string:  \n",
            "Rearranged string:  aiapa\n",
            "Rearranged string:  aiapaipaip\n"
          ]
        }
      ]
    },
    {
      "cell_type": "code",
      "source": [],
      "metadata": {
        "id": "EAQzdwICB0jC"
      },
      "execution_count": null,
      "outputs": []
    }
  ]
}