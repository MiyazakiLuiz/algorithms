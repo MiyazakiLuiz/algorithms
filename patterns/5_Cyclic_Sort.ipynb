{
  "nbformat": 4,
  "nbformat_minor": 0,
  "metadata": {
    "colab": {
      "provenance": []
    },
    "kernelspec": {
      "name": "python3",
      "display_name": "Python 3"
    },
    "language_info": {
      "name": "python"
    }
  },
  "cells": [
    {
      "cell_type": "code",
      "execution_count": null,
      "metadata": {
        "colab": {
          "base_uri": "https://localhost:8080/"
        },
        "id": "J2S6OIGJF4i_",
        "outputId": "af197d7e-f99e-4587-e6ea-c281ebbce78d"
      },
      "outputs": [
        {
          "output_type": "stream",
          "name": "stdout",
          "text": [
            "Output: [1, 2, 3, 4, 5]\n",
            "Output: [1, 2, 3, 4, 5, 6]\n",
            "Output: [1, 2, 3, 4, 5, 6]\n"
          ]
        }
      ],
      "source": [
        "def cyclicSort(arr):\n",
        "\n",
        "  for i in range(len(arr)):\n",
        "    n = arr[i]\n",
        "    while n != i+1:\n",
        "      arr[i], arr[n-1] = arr[n-1], arr[i]\n",
        "      n = arr[i]\n",
        "\n",
        "  return arr\n",
        "\n",
        "def main():\n",
        "  print(\"Output: \" +  str(cyclicSort([3, 1, 5, 4, 2])))\n",
        "  print(\"Output: \" +  str(cyclicSort([2, 6, 4, 3, 1, 5])))\n",
        "  print(\"Output: \" +  str(cyclicSort([1, 5, 6, 4, 3, 2])))\n",
        "\n",
        "main()"
      ]
    },
    {
      "cell_type": "code",
      "source": [
        "def findTheMissingNumber(arr):\n",
        "  i = 0\n",
        "\n",
        "  while i < len(arr):\n",
        "    j = arr[i]\n",
        "    if arr[i] != i and arr[i] != len(arr):\n",
        "      arr[i], arr[j] = arr[j], arr[i]\n",
        "    else:\n",
        "      i += 1\n",
        "\n",
        "  for idx, a in enumerate(arr):\n",
        "    if a == len(arr):\n",
        "      return idx\n",
        "\n",
        "def main():\n",
        "  print(\"Output: \" +  str(findTheMissingNumber([4, 0, 3, 1])))\n",
        "  print(\"Output: \" +  str(findTheMissingNumber([8, 3, 5, 2, 4, 6, 0, 1])))\n",
        "\n",
        "main()"
      ],
      "metadata": {
        "colab": {
          "base_uri": "https://localhost:8080/"
        },
        "id": "aYEUyzQDLOxd",
        "outputId": "96a340db-322d-421a-c181-5180431c5668"
      },
      "execution_count": null,
      "outputs": [
        {
          "output_type": "stream",
          "name": "stdout",
          "text": [
            "Output: 2\n",
            "Output: 7\n"
          ]
        }
      ]
    },
    {
      "cell_type": "code",
      "source": [
        "def findAllMissingNumbers(arr):\n",
        "  result = []\n",
        "\n",
        "  i = 0\n",
        "  while i < len(arr):\n",
        "    j = arr[i] - 1\n",
        "    if arr[i] != arr[j]:\n",
        "      arr[i], arr[j] = arr[j], arr[i]\n",
        "    else:\n",
        "      i += 1\n",
        "\n",
        "  for i in range(len(arr)):\n",
        "    if arr[i] != i+1:\n",
        "      result.append(i+1)\n",
        "\n",
        "  return \", \".join(map(lambda x: str(x), result))\n",
        "\n",
        "def main():\n",
        "  print(\"Output: \" +  str(findAllMissingNumbers([2, 3, 1, 8, 2, 3, 5, 1])))\n",
        "  print(\"Output: \" +  str(findAllMissingNumbers([2, 4, 1, 2])))\n",
        "  print(\"Output: \" +  str(findAllMissingNumbers([2, 3, 2, 1])))\n",
        "\n",
        "main()"
      ],
      "metadata": {
        "colab": {
          "base_uri": "https://localhost:8080/"
        },
        "id": "vT_bi3SuPor0",
        "outputId": "bbeb04e8-1977-4905-d1a8-ac372a9c2f8e"
      },
      "execution_count": null,
      "outputs": [
        {
          "output_type": "stream",
          "name": "stdout",
          "text": [
            "Output: 4, 6, 7\n",
            "Output: 3\n",
            "Output: 4\n"
          ]
        }
      ]
    },
    {
      "cell_type": "code",
      "source": [
        "def findTheDuplicateNumber(arr):\n",
        "  i = 0\n",
        "  while i < len(arr):\n",
        "    j = arr[i] - 1\n",
        "    if arr[i] != arr[j]:\n",
        "      arr[i], arr[j] = arr[j], arr[i]\n",
        "    elif i != j:\n",
        "      return arr[i]\n",
        "    else:\n",
        "      i += 1\n",
        "\n",
        "def main():\n",
        "  print(\"Output: \" +  str(findTheDuplicateNumber([1, 4, 4, 3, 2])))\n",
        "  print(\"Output: \" +  str(findTheDuplicateNumber([2, 1, 3, 3, 5, 4])))\n",
        "  print(\"Output: \" +  str(findTheDuplicateNumber([2, 4, 1, 4, 4])))\n",
        "\n",
        "main()"
      ],
      "metadata": {
        "colab": {
          "base_uri": "https://localhost:8080/"
        },
        "id": "eF_f9ox-TXHW",
        "outputId": "9ae21ce5-1f63-46cd-e69f-eab440787191"
      },
      "execution_count": null,
      "outputs": [
        {
          "output_type": "stream",
          "name": "stdout",
          "text": [
            "Output: 4\n",
            "Output: 3\n",
            "Output: 4\n"
          ]
        }
      ]
    },
    {
      "cell_type": "code",
      "source": [
        "def findAllDuplicateNumber(arr):\n",
        "  result = []\n",
        "\n",
        "  i = 0\n",
        "  while i < len(arr):\n",
        "    j = arr[i] - 1\n",
        "    if arr[i] != arr[j]:\n",
        "      arr[i], arr[j] = arr[j], arr[i]\n",
        "    elif i != j and arr[i] not in result:\n",
        "      result.append(arr[i])\n",
        "    else:\n",
        "      i += 1\n",
        "\n",
        "  return result\n",
        "\n",
        "def main():\n",
        "  print(\"Output: \" +  str(findAllDuplicateNumber([3, 4, 4, 5, 5])))\n",
        "  print(\"Output: \" +  str(findAllDuplicateNumber([5, 4, 7, 2, 3, 5, 3])))\n",
        "\n",
        "main()"
      ],
      "metadata": {
        "colab": {
          "base_uri": "https://localhost:8080/"
        },
        "id": "6EDU2JsNXj8c",
        "outputId": "4d4a42ba-2803-4b9f-97f9-96d216127fa7"
      },
      "execution_count": null,
      "outputs": [
        {
          "output_type": "stream",
          "name": "stdout",
          "text": [
            "Output: [5, 4]\n",
            "Output: [3, 5]\n"
          ]
        }
      ]
    },
    {
      "cell_type": "code",
      "source": [
        "def removeSpaces(string):\n",
        "  L = 0\n",
        "  arr = list(string)\n",
        "\n",
        "  if len(arr) > 0:\n",
        "    arr[0] = arr[0].lower()\n",
        "\n",
        "  for R in range(len(arr)):\n",
        "    if arr[R] != \" \":\n",
        "      arr[L] = arr[R]\n",
        "      L += 1\n",
        "    elif R < len(arr) - 1:\n",
        "      arr[R+1] = arr[R+1].upper()\n",
        "\n",
        "  return \"\".join(arr[:L])\n",
        "\n",
        "\n",
        "def main():\n",
        "  print(\"Output: \" +  str(removeSpaces(\"Find the Duplicate Number\")))\n",
        "\n",
        "main()"
      ],
      "metadata": {
        "colab": {
          "base_uri": "https://localhost:8080/"
        },
        "id": "obuV2NBaF6kY",
        "outputId": "7f4f1d25-bfdd-4da1-e287-2156064ddcca"
      },
      "execution_count": null,
      "outputs": [
        {
          "output_type": "stream",
          "name": "stdout",
          "text": [
            "Output: findTheDuplicateNumber\n"
          ]
        }
      ]
    }
  ]
}