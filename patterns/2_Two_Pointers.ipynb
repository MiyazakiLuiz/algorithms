{
  "nbformat": 4,
  "nbformat_minor": 0,
  "metadata": {
    "colab": {
      "provenance": []
    },
    "kernelspec": {
      "name": "python3",
      "display_name": "Python 3"
    },
    "language_info": {
      "name": "python"
    }
  },
  "cells": [
    {
      "cell_type": "code",
      "execution_count": null,
      "metadata": {
        "colab": {
          "base_uri": "https://localhost:8080/"
        },
        "id": "qn9ZZgVhAy_-",
        "outputId": "12698dce-d88b-4448-b795-d264d5437a46"
      },
      "outputs": [
        {
          "output_type": "stream",
          "name": "stdout",
          "text": [
            "Output: [1, 3]\n",
            "Output: [0, 2]\n",
            "Output: None\n"
          ]
        }
      ],
      "source": [
        "def pairWithTargetSum(arr, target):\n",
        "  left = 0\n",
        "  right = len(arr) - 1\n",
        "\n",
        "  while left < right:\n",
        "    sum = arr[left] + arr[right]\n",
        "    if sum == target:\n",
        "      return [left, right]\n",
        "    elif sum > target:\n",
        "      right -= 1\n",
        "    else:\n",
        "      left += 1\n",
        "\n",
        "  return None\n",
        "\n",
        "def main():\n",
        "  print(\"Output: \" + str(pairWithTargetSum([1, 2, 3, 4, 6], 6)))\n",
        "  print(\"Output: \" + str(pairWithTargetSum([2, 5, 9, 11], 11)))\n",
        "  print(\"Output: \" + str(pairWithTargetSum([2, 5, 9, 11], 50)))\n",
        "\n",
        "main()"
      ]
    },
    {
      "cell_type": "code",
      "source": [
        "def removeDuplicates(arr):\n",
        "  L = 0\n",
        "\n",
        "  if len(arr) <= 1:\n",
        "    return len(arr)\n",
        "\n",
        "  for R in range(1, len(arr)):\n",
        "    if arr[L] != arr[R]:\n",
        "      arr[L + 1] = arr[R]\n",
        "      L += 1\n",
        "\n",
        "  # arr = arr[:L+1]\n",
        "  # print(arr)\n",
        "\n",
        "  return L+1\n",
        "\n",
        "def main():\n",
        "  print(\"Output: \" + str(removeDuplicates([2, 3, 3, 3, 6, 9, 9])))\n",
        "  print(\"Output: \" + str(removeDuplicates([2, 2, 2, 11])))\n",
        "\n",
        "main()"
      ],
      "metadata": {
        "colab": {
          "base_uri": "https://localhost:8080/"
        },
        "id": "TNDbHtgXDmJ0",
        "outputId": "7b936f5b-5373-4715-83c7-86c086b1ec77"
      },
      "execution_count": null,
      "outputs": [
        {
          "output_type": "stream",
          "name": "stdout",
          "text": [
            "Output: 4\n",
            "Output: 2\n"
          ]
        }
      ]
    },
    {
      "cell_type": "code",
      "source": [
        "def squaringSortedArray(arr):\n",
        "  L, R = 0, len(arr) - 1\n",
        "  result = [0] * len(arr)\n",
        "\n",
        "  for i in range(len(arr)-1,-1,-1):\n",
        "    if abs(arr[L]) >= abs(arr[R]):\n",
        "      result[i] = pow(arr[L], 2)\n",
        "      L += 1\n",
        "    else:\n",
        "      result[i] = pow(arr[R], 2)\n",
        "      R -= 1\n",
        "\n",
        "  return result\n",
        "\n",
        "def main():\n",
        "  print(\"Output: \" + str(squaringSortedArray([-2, -1, 0, 2, 3])))\n",
        "  print(\"Output: \" + str(squaringSortedArray([-3, -1, 0, 1, 2])))\n",
        "\n",
        "main()"
      ],
      "metadata": {
        "colab": {
          "base_uri": "https://localhost:8080/"
        },
        "id": "cvPmKjqsWsIS",
        "outputId": "eb7c0f70-145f-4c38-f412-bf69564944fe"
      },
      "execution_count": null,
      "outputs": [
        {
          "output_type": "stream",
          "name": "stdout",
          "text": [
            "Output: [0, 1, 4, 4, 9]\n",
            "Output: [0, 1, 1, 4, 9]\n"
          ]
        }
      ]
    },
    {
      "cell_type": "code",
      "source": [
        "def tripletSumToZero(arr):\n",
        "  result = set()\n",
        "  numSet = set()\n",
        "\n",
        "  for a in arr:\n",
        "    numSet.add(a)\n",
        "\n",
        "  for i in range(len(arr)-1):\n",
        "    for j in range(i+1, len(arr)):\n",
        "      sum = arr[i] + arr[j]\n",
        "      if -sum in numSet:\n",
        "        triplet = [arr[i], arr[j], -sum]\n",
        "        triplet.sort()\n",
        "        result.add(tuple(triplet))\n",
        "        break\n",
        "\n",
        "  return result\n",
        "\n",
        "def main():\n",
        "  print(\"Output: \" + str(tripletSumToZero([-3, 0, 1, 2, -1, 1, -2])))\n",
        "  print(\"Output: \" + str(tripletSumToZero([-5, 2, -1, -2, 3])))\n",
        "\n",
        "main()"
      ],
      "metadata": {
        "colab": {
          "base_uri": "https://localhost:8080/"
        },
        "id": "-Spm5bOQeTM6",
        "outputId": "3778ac2d-2285-45fb-985a-921fc5a75d70"
      },
      "execution_count": null,
      "outputs": [
        {
          "output_type": "stream",
          "name": "stdout",
          "text": [
            "Output: {(-1, 0, 1), (-3, 1, 2), (-1, -1, 2), (-2, 1, 1)}\n",
            "Output: {(-2, -1, 3), (-1, -1, 2), (-5, 2, 3)}\n"
          ]
        }
      ]
    },
    {
      "cell_type": "code",
      "source": [
        "def tripletSumCloseToTarget(arr, target):\n",
        "  closestSum = sum(arr[:3])\n",
        "\n",
        "  for i in range(len(arr)-2):\n",
        "    for j in range(i+1, len(arr)-1):\n",
        "      for k in range(j+1, len(arr)):\n",
        "        currSum = arr[i] + arr[j] + arr[k]\n",
        "        if abs(target - closestSum) > abs(target - currSum):\n",
        "          closestSum = currSum\n",
        "        elif abs(target - closestSum) == abs(target - currSum) and currSum < closestSum:\n",
        "          closestSum = currSum\n",
        "\n",
        "  return closestSum\n",
        "\n",
        "def main():\n",
        "  print(\"Output: \" + str(tripletSumCloseToTarget([-2, 0, 1, 2], 2)))\n",
        "  print(\"Output: \" + str(tripletSumCloseToTarget([-3, -1, 1, 2], 1)))\n",
        "  print(\"Output: \" + str(tripletSumCloseToTarget([1, 0, 1, 1], 100)))\n",
        "\n",
        "main()"
      ],
      "metadata": {
        "colab": {
          "base_uri": "https://localhost:8080/"
        },
        "id": "KV3HKQYLztxS",
        "outputId": "c6a73320-eb40-4b23-c495-445e7bc5e8a1"
      },
      "execution_count": null,
      "outputs": [
        {
          "output_type": "stream",
          "name": "stdout",
          "text": [
            "Output: 1\n",
            "Output: 0\n",
            "Output: 3\n"
          ]
        }
      ]
    },
    {
      "cell_type": "code",
      "source": [
        "def tripletSmallerSum(arr, t):\n",
        "  count = 0\n",
        "\n",
        "  arr.sort()\n",
        "  for i in range(len(arr)-2):\n",
        "    L = i + 1\n",
        "    R = len(arr) - 1\n",
        "    while L < R:\n",
        "      if arr[i] + arr[L] + arr[R] >= t:\n",
        "        R -= 1\n",
        "      else:\n",
        "        count += R - L\n",
        "        L += 1\n",
        "\n",
        "  return count\n",
        "\n",
        "def main():\n",
        "  print(\"Output: \" + str(tripletSmallerSum([-1, 0, 2, 3], 3)))\n",
        "  print(\"Output: \" + str(tripletSmallerSum([-1, 4, 2, 1, 3], 5)))\n",
        "\n",
        "main()"
      ],
      "metadata": {
        "colab": {
          "base_uri": "https://localhost:8080/"
        },
        "id": "BGGztMO8Qjt4",
        "outputId": "df0bcab4-97f9-4abb-e797-5c8582ff0401"
      },
      "execution_count": null,
      "outputs": [
        {
          "output_type": "stream",
          "name": "stdout",
          "text": [
            "Output: 2\n",
            "Output: 4\n"
          ]
        }
      ]
    },
    {
      "cell_type": "code",
      "source": [
        "\n",
        "def productLessThanTarget(arr, t):\n",
        "  result = list()\n",
        "  L, R = 0, 0\n",
        "  product = 1\n",
        "\n",
        "  while L < len(arr):\n",
        "    product *= arr[R]\n",
        "    if product < t:\n",
        "      result.append(arr[L:R+1])\n",
        "\n",
        "      if R == len(arr)-1:\n",
        "        product = 1\n",
        "        L += 1\n",
        "        R = L\n",
        "      else:\n",
        "        R += 1\n",
        "    else:\n",
        "      product = 1\n",
        "      L += 1\n",
        "      R = L\n",
        "\n",
        "  return result\n",
        "\n",
        "def main():\n",
        "  print(\"Output: \" + str(productLessThanTarget([2, 5, 3, 10], 30)))\n",
        "  print(\"Output: \" + str(productLessThanTarget([8, 2, 6, 5], 50)))\n",
        "\n",
        "main()"
      ],
      "metadata": {
        "colab": {
          "base_uri": "https://localhost:8080/"
        },
        "id": "t7dM3zi81Xhy",
        "outputId": "be719b7e-f3a4-4662-820a-3d2b52a1dfb3"
      },
      "execution_count": null,
      "outputs": [
        {
          "output_type": "stream",
          "name": "stdout",
          "text": [
            "Output: [[2], [2, 5], [5], [5, 3], [3], [10]]\n",
            "Output: [[8], [8, 2], [2], [2, 6], [6], [6, 5], [5]]\n"
          ]
        }
      ]
    },
    {
      "cell_type": "code",
      "source": [
        "def dutchFlag(arr):\n",
        "  L = 0\n",
        "  R = len(arr)-1\n",
        "\n",
        "  for i in range(len(arr)):\n",
        "    if i > R or L > R:\n",
        "      return arr\n",
        "\n",
        "    while arr[i] != 1 and L <= i and i <= R:\n",
        "      if arr[i] == 0:\n",
        "        arr[i] = arr[L]\n",
        "        arr[L] = 0\n",
        "        L += 1\n",
        "\n",
        "      if arr[i] == 2:\n",
        "        arr[i] = arr[R]\n",
        "        arr[R] = 2\n",
        "        R -= 1\n",
        "\n",
        "  return arr\n",
        "\n",
        "def main():\n",
        "  print(\"Output: \" + str(dutchFlag([1, 0, 2, 1, 0])))\n",
        "  print(\"Output: \" + str(dutchFlag([2, 2, 0, 1, 2, 0])))\n",
        "  print(\"Output: \" + str(dutchFlag([2, 1, 0, 2])))\n",
        "  print(\"Output: \" + str(dutchFlag([2, 1, 2, 2])))\n",
        "\n",
        "main()"
      ],
      "metadata": {
        "colab": {
          "base_uri": "https://localhost:8080/"
        },
        "id": "qpy80sGcFklJ",
        "outputId": "951d7582-1d04-411a-e3ee-4f792c5c2d56"
      },
      "execution_count": null,
      "outputs": [
        {
          "output_type": "stream",
          "name": "stdout",
          "text": [
            "Output: [0, 0, 1, 1, 2]\n",
            "Output: [0, 0, 1, 2, 2, 2]\n",
            "Output: [0, 1, 2, 2]\n",
            "Output: [1, 2, 2, 2]\n"
          ]
        }
      ]
    },
    {
      "cell_type": "code",
      "source": [
        "def dutchFlag(arr):\n",
        "  L, i = 0, 0\n",
        "  R = len(arr)-1\n",
        "\n",
        "  while i <= R:\n",
        "    if arr[i] == 0:\n",
        "      arr[i] = arr[L]\n",
        "      arr[L] = 0\n",
        "      L += 1\n",
        "      i += 1\n",
        "    elif arr[i] == 1:\n",
        "      i += 1\n",
        "    else:\n",
        "      arr[i] = arr[R]\n",
        "      arr[R] = 2\n",
        "      R -= 1\n",
        "\n",
        "  return arr\n",
        "\n",
        "def main():\n",
        "  print(\"Output: \" + str(dutchFlag([1, 0, 2, 1, 0])))\n",
        "  print(\"Output: \" + str(dutchFlag([2, 2, 0, 1, 2, 0])))\n",
        "  print(\"Output: \" + str(dutchFlag([2, 1, 0, 2])))\n",
        "  print(\"Output: \" + str(dutchFlag([2, 1, 2, 2])))\n",
        "\n",
        "main()"
      ],
      "metadata": {
        "colab": {
          "base_uri": "https://localhost:8080/"
        },
        "id": "42cNc2UpMLd3",
        "outputId": "98c0da69-9bbc-4373-ff97-5682470d61ad"
      },
      "execution_count": null,
      "outputs": [
        {
          "output_type": "stream",
          "name": "stdout",
          "text": [
            "Output: [0, 0, 1, 1, 2]\n",
            "Output: [0, 0, 1, 2, 2, 2]\n",
            "Output: [0, 1, 2, 2]\n",
            "Output: [1, 2, 2, 2]\n"
          ]
        }
      ]
    },
    {
      "cell_type": "code",
      "source": [
        "def tripletSumZero(arr):\n",
        "  result = list()\n",
        "  arr.sort()\n",
        "\n",
        "  for i in range(len(arr)-2):\n",
        "\n",
        "    # avoid duplicates\n",
        "    if i > 0 and arr[i] == arr[i-1]:\n",
        "      continue\n",
        "\n",
        "    L = i+1\n",
        "    R = len(arr)-1\n",
        "\n",
        "    while L < R:\n",
        "      vi = arr[i]\n",
        "      vL = arr[L]\n",
        "      vR = arr[R]\n",
        "      sumLR = vL + vR\n",
        "\n",
        "      if sumLR < -vi:\n",
        "        L += 1\n",
        "      elif sumLR > -vi:\n",
        "        R -= 1\n",
        "      else:\n",
        "        result.append([vi, vL, vR])\n",
        "\n",
        "        # avoid duplicates\n",
        "        while L < R and arr[L] == vL:\n",
        "          L += 1\n",
        "\n",
        "  return result\n",
        "\n",
        "def main():\n",
        "  print(\"Output: \" + str(tripletSumZero([-3, -3, 0, 1, 2, -1, 1, -2])))\n",
        "  print(\"Output: \" + str(tripletSumZero([-5, 2, -1, -2, 3])))\n",
        "\n",
        "main()"
      ],
      "metadata": {
        "colab": {
          "base_uri": "https://localhost:8080/"
        },
        "id": "rc54AhtQ5zt9",
        "outputId": "cdf397f9-28f3-432f-fe58-52bc3b591a15"
      },
      "execution_count": null,
      "outputs": [
        {
          "output_type": "stream",
          "name": "stdout",
          "text": [
            "Output: [[-3, 1, 2], [-2, 0, 2], [-2, 1, 1], [-1, 0, 1]]\n",
            "Output: [[-5, 2, 3], [-2, -1, 3]]\n"
          ]
        }
      ]
    },
    {
      "cell_type": "code",
      "source": [
        "import math\n",
        "\n",
        "def tripletSumCloseToTarget(arr, target):\n",
        "  closestSum = math.inf\n",
        "  arr.sort()\n",
        "\n",
        "  for i in range(len(arr)-2):\n",
        "    L = i+1\n",
        "    R = len(arr)-1\n",
        "\n",
        "    while L < R:\n",
        "      sum = arr[i] + arr[L] + arr[R]\n",
        "\n",
        "      if sum - target == 0:\n",
        "        return sum\n",
        "      elif sum - target < 0:\n",
        "        L += 1\n",
        "      else:\n",
        "        R -= 1\n",
        "\n",
        "      if abs(sum - target) < abs(closestSum - target):\n",
        "        closestSum = sum\n",
        "      elif abs(sum - target) == abs(closestSum - target):\n",
        "        closestSum = min(closestSum, sum)\n",
        "\n",
        "  return closestSum\n",
        "\n",
        "def main():\n",
        "  print(\"Output: \" + str(tripletSumCloseToTarget([-2, 0, 1, 2], 2)))\n",
        "  print(\"Output: \" + str(tripletSumCloseToTarget([-3, -1, 1, 2], 1)))\n",
        "  print(\"Output: \" + str(tripletSumCloseToTarget([1, 0, 1, 1], 100)))\n",
        "\n",
        "main()"
      ],
      "metadata": {
        "colab": {
          "base_uri": "https://localhost:8080/"
        },
        "id": "DUOe4n2qHLxl",
        "outputId": "7d52d8c8-a383-441f-8569-7a3dfecb3d7d"
      },
      "execution_count": null,
      "outputs": [
        {
          "output_type": "stream",
          "name": "stdout",
          "text": [
            "Output: 1\n",
            "Output: 0\n",
            "Output: 3\n"
          ]
        }
      ]
    },
    {
      "cell_type": "code",
      "source": [
        "from collections import deque\n",
        "\n",
        "def productLessThanTarget(arr, target):\n",
        "  result = list()\n",
        "  R = 0\n",
        "  product = 1\n",
        "\n",
        "  for L in range(len(arr)):\n",
        "    if R < L:\n",
        "      R = L\n",
        "\n",
        "    while R < len(arr) and product*arr[R] < target:\n",
        "      storeResult(arr, L, R, result)\n",
        "      product *= arr[R]\n",
        "      R += 1\n",
        "\n",
        "    product /= arr[L]\n",
        "\n",
        "  return result\n",
        "\n",
        "def storeResult(arr, L, R, result):\n",
        "  de = deque()\n",
        "  for i in range(R, L-1, -1):\n",
        "    de.appendleft(arr[i])\n",
        "    result.append(list(de))\n",
        "\n",
        "\n",
        "def main():\n",
        "  print(\"Output: \" + str(productLessThanTarget([2, 5, 3, 10], 30)))\n",
        "  print(\"Output: \" + str(productLessThanTarget([8, 2, 6, 5], 50)))\n",
        "\n",
        "main()"
      ],
      "metadata": {
        "colab": {
          "base_uri": "https://localhost:8080/"
        },
        "id": "eGS0rkLNtcQI",
        "outputId": "17b8fd6b-ebc1-4a31-f257-c4ea5e36f1ae"
      },
      "execution_count": null,
      "outputs": [
        {
          "output_type": "stream",
          "name": "stdout",
          "text": [
            "Output: [[2], [5], [2, 5], [3], [5, 3], [10]]\n",
            "Output: [[8], [2], [8, 2], [6], [2, 6], [5], [6, 5]]\n"
          ]
        }
      ]
    },
    {
      "cell_type": "code",
      "source": [
        "def quadrupleSumTarget(arr, target):\n",
        "  result = list()\n",
        "  arrLen = len(arr)\n",
        "\n",
        "  arr.sort()\n",
        "\n",
        "  for i in range(arrLen-2):\n",
        "    if i > 0 and arr[i] == arr[i-1]:\n",
        "      continue\n",
        "\n",
        "    for j in range(i+1, arrLen-1):\n",
        "      if j > i+1 and arr[j] == arr[j-1]:\n",
        "        continue\n",
        "\n",
        "      L = j+1\n",
        "      R = arrLen-1\n",
        "      sumIJ = arr[i] + arr[j]\n",
        "\n",
        "      while L < R:\n",
        "        sum = sumIJ + arr[L] + arr[R]\n",
        "\n",
        "        if sum < target:\n",
        "          L += 1\n",
        "        elif sum > target:\n",
        "          R -= 1\n",
        "        else:\n",
        "          result.append([arr[i], arr[j], arr[L], arr[R]])\n",
        "          L += 1\n",
        "          while L < R and arr[L] == arr[L-1]:\n",
        "            L += 1\n",
        "\n",
        "  return result\n",
        "\n",
        "def main():\n",
        "  print(\"Output: \" + str(quadrupleSumTarget([4, 1, 2, -1, 1, -3], 1)))\n",
        "  print(\"Output: \" + str(quadrupleSumTarget([2, 0, -1, 1, -2, 2], 2)))\n",
        "\n",
        "main()"
      ],
      "metadata": {
        "colab": {
          "base_uri": "https://localhost:8080/"
        },
        "id": "oJHTYJu-8A3t",
        "outputId": "60fdcf4e-c06e-418b-dab1-468cdbe8cdf7"
      },
      "execution_count": null,
      "outputs": [
        {
          "output_type": "stream",
          "name": "stdout",
          "text": [
            "Output: [[-3, -1, 1, 4], [-3, 1, 1, 2]]\n",
            "Output: [[-2, 0, 2, 2], [-1, 0, 1, 2]]\n"
          ]
        }
      ]
    },
    {
      "cell_type": "code",
      "source": [
        "def comparingStringsContainingBackspaces(str1, str2):\n",
        "  p1 = len(str1)-1\n",
        "  p2 = len(str2)-1\n",
        "\n",
        "  while p1 >= 0 and p2 >= 0:\n",
        "\n",
        "    char1, p1 = getChar(str1, p1)\n",
        "    char2, p2 = getChar(str2, p2)\n",
        "\n",
        "    if char1 != char2:\n",
        "      return False\n",
        "\n",
        "  return True\n",
        "\n",
        "def getChar(str1, p1):\n",
        "  char1 = \"#\"\n",
        "  count1 = 0\n",
        "\n",
        "  getChar = False\n",
        "  while p1 >= 0 and not getChar:\n",
        "    if str1[p1] == \"#\":\n",
        "      count1 += 1\n",
        "    elif count1 > 0:\n",
        "      count1 -= 1\n",
        "    else:\n",
        "      char1 = str1[p1]\n",
        "      getChar = True\n",
        "    p1 -= 1\n",
        "\n",
        "  return char1, p1\n",
        "\n",
        "def main():\n",
        "  print(\"Output: \" + str(comparingStringsContainingBackspaces(\"xy#z\", \"xzz#\")))\n",
        "  print(\"Output: \" + str(comparingStringsContainingBackspaces(\"xy#z\", \"xyz#\")))\n",
        "  print(\"Output: \" + str(comparingStringsContainingBackspaces(\"xp#\", \"xyz##\")))\n",
        "  print(\"Output: \" + str(comparingStringsContainingBackspaces(\"xywrrmp\", \"xywrrmu#p\")))\n",
        "  print(\"Output: \" + str(comparingStringsContainingBackspaces(\"xywrrmp\", \"xyu#p\")))\n",
        "\n",
        "main()"
      ],
      "metadata": {
        "colab": {
          "base_uri": "https://localhost:8080/"
        },
        "id": "naqF0qoVYS2F",
        "outputId": "c5746a7e-77f8-4dcc-ec48-670c2b76131c"
      },
      "execution_count": null,
      "outputs": [
        {
          "output_type": "stream",
          "name": "stdout",
          "text": [
            "Output: True\n",
            "Output: False\n",
            "Output: True\n",
            "Output: True\n",
            "Output: False\n"
          ]
        }
      ]
    },
    {
      "cell_type": "code",
      "source": [
        "import math\n",
        "\n",
        "def minimumWindowSort(arr):\n",
        "  orderedL = -1\n",
        "  orderedR = len(arr)-1\n",
        "  lesser = math.inf\n",
        "  greater = -math.inf\n",
        "\n",
        "  for i in range(1, len(arr)):\n",
        "    if arr[i] < arr[i-1]:\n",
        "      orderedL = i-1\n",
        "      break\n",
        "\n",
        "  if orderedL == -1:\n",
        "    return 0\n",
        "\n",
        "  for i in range(len(arr)-2, -1, -1):\n",
        "    if arr[i] > arr[i+1]:\n",
        "      orderedR = i+1\n",
        "      break\n",
        "\n",
        "  for i in range(orderedL, orderedR + 1):\n",
        "    lesser = min(lesser, arr[i])\n",
        "    greater = max(greater, arr[i])\n",
        "\n",
        "\n",
        "  for i in range(orderedL):\n",
        "    if lesser < arr[i]:\n",
        "      orderedL = i\n",
        "      break\n",
        "\n",
        "  for i in range(len(arr)-1, orderedR, -1):\n",
        "    if greater > arr[i]:\n",
        "      orderedR = i\n",
        "      break\n",
        "\n",
        "  return orderedR - orderedL + 1\n",
        "\n",
        "def main():\n",
        "  print(\"Output: \" + str(minimumWindowSort([1, 2, 5, 3, 7, 10, 9, 12])))\n",
        "  print(\"Output: \" + str(minimumWindowSort([1, 3, 2, 0, -1, 7, 10])))\n",
        "  print(\"Output: \" + str(minimumWindowSort([1, 2, 3])))\n",
        "  print(\"Output: \" + str(minimumWindowSort([3, 2, 1])))\n",
        "\n",
        "main()"
      ],
      "metadata": {
        "colab": {
          "base_uri": "https://localhost:8080/"
        },
        "id": "TlWFwxROtY3D",
        "outputId": "50df1c43-2646-499e-f192-fe091d9a56e2"
      },
      "execution_count": null,
      "outputs": [
        {
          "output_type": "stream",
          "name": "stdout",
          "text": [
            "Output: 5\n",
            "Output: 5\n",
            "Output: 0\n",
            "Output: 3\n"
          ]
        }
      ]
    },
    {
      "cell_type": "code",
      "source": [
        "def removeSpaces(string):\n",
        "  L = 0\n",
        "  arr = list(string)\n",
        "\n",
        "  if len(arr) > 0:\n",
        "    arr[0] = arr[0].lower()\n",
        "\n",
        "  for R in range(len(arr)):\n",
        "    if arr[R] != \" \":\n",
        "      arr[L] = arr[R]\n",
        "      L += 1\n",
        "    elif R < len(arr) - 1:\n",
        "      arr[R+1] = arr[R+1].upper()\n",
        "\n",
        "  return \"\".join(arr[:L])\n",
        "\n",
        "removeSpaces(\"Minimum Window Sort\")"
      ],
      "metadata": {
        "colab": {
          "base_uri": "https://localhost:8080/",
          "height": 35
        },
        "id": "JGiolX0S8FVq",
        "outputId": "7747b3d4-3be2-4dd7-acb9-03648b734938"
      },
      "execution_count": null,
      "outputs": [
        {
          "output_type": "execute_result",
          "data": {
            "text/plain": [
              "'minimumWindowSort'"
            ],
            "application/vnd.google.colaboratory.intrinsic+json": {
              "type": "string"
            }
          },
          "metadata": {},
          "execution_count": 28
        }
      ]
    }
  ]
}