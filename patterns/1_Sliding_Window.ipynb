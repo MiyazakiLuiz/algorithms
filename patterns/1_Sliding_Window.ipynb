{
  "nbformat": 4,
  "nbformat_minor": 0,
  "metadata": {
    "colab": {
      "provenance": []
    },
    "kernelspec": {
      "name": "python3",
      "display_name": "Python 3"
    },
    "language_info": {
      "name": "python"
    }
  },
  "cells": [
    {
      "cell_type": "code",
      "execution_count": null,
      "metadata": {
        "colab": {
          "base_uri": "https://localhost:8080/"
        },
        "id": "vOQ5rrsTemUm",
        "outputId": "aacc74f0-c72f-4860-806c-6f0cffa9609e"
      },
      "outputs": [
        {
          "output_type": "stream",
          "name": "stdout",
          "text": [
            "Output: [2.2, 2.8, 2.4, 3.6, 2.8]\n"
          ]
        }
      ],
      "source": [
        "#Example\n",
        "\n",
        "def findAveragesOfSubarrays(K, arr):\n",
        "  result = []\n",
        "  windowSum, windowStart = 0.0, 0\n",
        "\n",
        "  for windowEnd in range(len(arr)):\n",
        "    windowSum += arr[windowEnd]\n",
        "\n",
        "    if windowEnd >= K-1:\n",
        "      result.append(windowSum/K)\n",
        "      windowSum -= arr[windowStart]\n",
        "      windowStart += 1\n",
        "\n",
        "  return result\n",
        "\n",
        "def main():\n",
        "  K = 5\n",
        "  arr = [1, 3, 2, 6, -1, 4, 1, 8, 2]\n",
        "  result = findAveragesOfSubarrays(K, arr)\n",
        "  print(\"Output: \" + str(result))\n",
        "\n",
        "main()"
      ]
    },
    {
      "cell_type": "code",
      "source": [
        "def maxSumOfSubarray(K, arr):\n",
        "  maxSum = 0\n",
        "  windowSum = 0\n",
        "  windowStart = 0\n",
        "\n",
        "  for windowEnd in range(len(arr)):\n",
        "    windowSum += arr[windowEnd]\n",
        "\n",
        "    if windowEnd >= K-1:\n",
        "      maxSum = max(maxSum, windowSum)\n",
        "      windowSum -= arr[windowStart]\n",
        "      windowStart += 1\n",
        "\n",
        "  return maxSum\n",
        "\n",
        "\n",
        "def main():\n",
        "  K = 3\n",
        "  arr = [2, 1, 5, 1, 3, 2]\n",
        "  res = maxSumOfSubarray(K, arr)\n",
        "  print(\"Output 1: \" + str(res))\n",
        "\n",
        "  K = 2\n",
        "  arr = [2, 3, 4, 1, 5]\n",
        "  res = maxSumOfSubarray(K, arr)\n",
        "  print(\"Output 2: \" + str(res))\n",
        "\n",
        "main()"
      ],
      "metadata": {
        "colab": {
          "base_uri": "https://localhost:8080/"
        },
        "id": "r9tTWx_Inm9a",
        "outputId": "2de8ca67-6cc8-4324-925f-f0c5a119805d"
      },
      "execution_count": null,
      "outputs": [
        {
          "output_type": "stream",
          "name": "stdout",
          "text": [
            "Output 1: 9\n",
            "Output 2: 7\n"
          ]
        }
      ]
    },
    {
      "cell_type": "code",
      "source": [
        "def smallestSubarrayWithAGivenSum(S, arr):\n",
        "  windowStart, windowSum, resultLength = 0, 0, 0\n",
        "\n",
        "  for windowEnd in range(len(arr)):\n",
        "    windowSum += arr[windowEnd]\n",
        "\n",
        "    while windowSum >= S:\n",
        "      if resultLength == 0 or resultLength > (windowEnd + 1) - windowStart:\n",
        "        resultLength = (windowEnd + 1) - windowStart\n",
        "      windowSum -= arr[windowStart]\n",
        "      windowStart += 1\n",
        "\n",
        "  return resultLength\n",
        "\n",
        "def main ():\n",
        "  S = 7\n",
        "  arr = [2, 1, 5, 2, 3, 2]\n",
        "  res = smallestSubarrayWithAGivenSum(S, arr)\n",
        "  print(\"Output: \" + str(res))\n",
        "\n",
        "  S = 7\n",
        "  arr = [2, 1, 5, 2, 8, 7, 3]\n",
        "  res = smallestSubarrayWithAGivenSum(S, arr)\n",
        "  print(\"Output: \" + str(res))\n",
        "\n",
        "  S = 8\n",
        "  arr = [3, 4, 1, 1, 6]\n",
        "  res = smallestSubarrayWithAGivenSum(S, arr)\n",
        "  print(\"Output: \" + str(res))\n",
        "\n",
        "  S = 8\n",
        "  arr = [1, 1, 1, 1, 1]\n",
        "  res = smallestSubarrayWithAGivenSum(S, arr)\n",
        "  print(\"Output: \" + str(res))\n",
        "\n",
        "main()"
      ],
      "metadata": {
        "colab": {
          "base_uri": "https://localhost:8080/"
        },
        "id": "noZIrukXuOIX",
        "outputId": "fa4c265a-1587-424f-b420-1913c105290c"
      },
      "execution_count": null,
      "outputs": [
        {
          "output_type": "stream",
          "name": "stdout",
          "text": [
            "Output: 2\n",
            "Output: 1\n",
            "Output: 3\n",
            "Output: 0\n"
          ]
        }
      ]
    },
    {
      "cell_type": "code",
      "source": [
        "def longestSubstringWithKDistinctCharacters(K, string):\n",
        "  windowStart, longest = 0, 0\n",
        "  hashMap = {}\n",
        "\n",
        "  for windowEnd in range(len(string)):\n",
        "    if string[windowEnd] not in hashMap:\n",
        "      hashMap[string[windowEnd]] = 0\n",
        "    hashMap[string[windowEnd]] += 1\n",
        "\n",
        "    while len(hashMap) > K:\n",
        "      hashMap[string[windowStart]] -= 1\n",
        "      if (hashMap[string[windowStart]] == 0):\n",
        "        del hashMap[string[windowStart]]\n",
        "      windowStart += 1\n",
        "\n",
        "    longest = max(longest, windowEnd - windowStart + 1)\n",
        "\n",
        "  return longest\n",
        "\n",
        "def main():\n",
        "  K = 2\n",
        "  string = \"araaci\"\n",
        "  res = longestSubstringWithKDistinctCharacters(K, string)\n",
        "  print(\"Output: \" + str(res))\n",
        "\n",
        "  K = 1\n",
        "  string = \"araaci\"\n",
        "  res = longestSubstringWithKDistinctCharacters(K, string)\n",
        "  print(\"Output: \" + str(res))\n",
        "\n",
        "  K = 3\n",
        "  string = \"cbbebi\"\n",
        "  res = longestSubstringWithKDistinctCharacters(K, string)\n",
        "  print(\"Output: \" + str(res))\n",
        "\n",
        "main()"
      ],
      "metadata": {
        "id": "E5AjiRb72TIJ",
        "colab": {
          "base_uri": "https://localhost:8080/"
        },
        "outputId": "0f63b3f9-833b-4633-e9c5-9bf13ec18504"
      },
      "execution_count": null,
      "outputs": [
        {
          "output_type": "stream",
          "name": "stdout",
          "text": [
            "Output: 4\n",
            "Output: 2\n",
            "Output: 5\n"
          ]
        }
      ]
    },
    {
      "cell_type": "code",
      "source": [
        "def fruitIntoBasket(fruits):\n",
        "  maxFruits, windowStart, numBaskets = 0, 0, 2\n",
        "  hashMap = {}\n",
        "\n",
        "  for windowEnd in range(len(fruits)):\n",
        "    fruit = fruits[windowEnd]\n",
        "\n",
        "    if fruit not in hashMap:\n",
        "      hashMap[fruit] = 0\n",
        "    hashMap[fruit] += 1\n",
        "\n",
        "    while len(hashMap) > numBaskets:\n",
        "      oldFruit = fruits[windowStart]\n",
        "      hashMap[oldFruit] -= 1\n",
        "      if hashMap[oldFruit] == 0:\n",
        "        del hashMap[oldFruit]\n",
        "      windowStart += 1\n",
        "\n",
        "    maxFruits = max(maxFruits, windowEnd-windowStart+1)\n",
        "\n",
        "  return maxFruits\n",
        "\n",
        "def main():\n",
        "  fruits = ['A', 'B', 'C', 'A', 'C']\n",
        "  res = fruitIntoBasket(fruits)\n",
        "  print(\"Output: \" + str(res))\n",
        "\n",
        "  fruits = ['A', 'B', 'C', 'B', 'B', 'C']\n",
        "  res = fruitIntoBasket(fruits)\n",
        "  print(\"Output: \" + str(res))\n",
        "\n",
        "main()"
      ],
      "metadata": {
        "colab": {
          "base_uri": "https://localhost:8080/"
        },
        "id": "svU9Z1hLK0J7",
        "outputId": "17ab9e5b-619c-4afa-9635-5c0a6e6416cc"
      },
      "execution_count": null,
      "outputs": [
        {
          "output_type": "stream",
          "name": "stdout",
          "text": [
            "Output: 3\n",
            "Output: 5\n"
          ]
        }
      ]
    },
    {
      "cell_type": "code",
      "source": [
        "def noRepeatSubstring(string):\n",
        "  maxLen, wStart = 0, 0\n",
        "  charSet = {}\n",
        "\n",
        "  for wEnd in range(len(string)):\n",
        "    char = string[wEnd]\n",
        "\n",
        "    if char not in charSet:\n",
        "      charSet[char] = 0\n",
        "    charSet[char] += 1\n",
        "\n",
        "    while len(charSet) < wEnd - wStart + 1:\n",
        "      oldChar = string[wStart]\n",
        "      charSet[oldChar] -= 1\n",
        "      if charSet[oldChar] <= 0:\n",
        "        del charSet[oldChar]\n",
        "      wStart += 1\n",
        "\n",
        "    maxLen = max(maxLen, wEnd - wStart + 1)\n",
        "\n",
        "  return maxLen\n",
        "\n",
        "def main():\n",
        "  string = \"aabccbb\"\n",
        "  res = noRepeatSubstring(string)\n",
        "  print(\"Output: \" + str(res))\n",
        "\n",
        "  string = \"abbbb\"\n",
        "  res = noRepeatSubstring(string)\n",
        "  print(\"Output: \" + str(res))\n",
        "\n",
        "  string = \"abccde\"\n",
        "  res = noRepeatSubstring(string)\n",
        "  print(\"Output: \" + str(res))\n",
        "\n",
        "main()"
      ],
      "metadata": {
        "colab": {
          "base_uri": "https://localhost:8080/"
        },
        "id": "hJ-hYendFyEt",
        "outputId": "d61e2d35-2767-43a3-a856-fecc1c0693c3"
      },
      "execution_count": null,
      "outputs": [
        {
          "output_type": "stream",
          "name": "stdout",
          "text": [
            "Output: 3\n",
            "Output: 2\n",
            "Output: 3\n"
          ]
        }
      ]
    },
    {
      "cell_type": "code",
      "source": [
        "def non_repeat_substring(str1):\n",
        "  window_start = 0\n",
        "  max_length = 0\n",
        "  char_index_map = {}\n",
        "\n",
        "  # try to extend the range [windowStart, windowEnd]\n",
        "  for window_end in range(len(str1)):\n",
        "    right_char = str1[window_end]\n",
        "    # if the map already contains the 'right_char', shrink the window from the beginning so that\n",
        "    # we have only one occurrence of 'right_char'\n",
        "    if right_char in char_index_map:\n",
        "      # this is tricky; in the current window, we will not have any 'right_char' after its previous index\n",
        "      # and if 'window_start' is already ahead of the last index of 'right_char', we'll keep 'window_start'\n",
        "      window_start = max(window_start, char_index_map[right_char] + 1)\n",
        "    # insert the 'right_char' into the map\n",
        "    char_index_map[right_char] = window_end\n",
        "    # remember the maximum length so far\n",
        "    max_length = max(max_length, window_end - window_start + 1)\n",
        "  return max_length\n",
        "\n",
        "\n",
        "def main():\n",
        "  print(\"Length of the longest substring: \" + str(non_repeat_substring(\"aabccbb\")))\n",
        "  print(\"Length of the longest substring: \" + str(non_repeat_substring(\"abbbb\")))\n",
        "  print(\"Length of the longest substring: \" + str(non_repeat_substring(\"bacacde\")))\n",
        "\n",
        "\n",
        "main()"
      ],
      "metadata": {
        "colab": {
          "base_uri": "https://localhost:8080/"
        },
        "id": "vSOTsvn7LeQb",
        "outputId": "fd1c7ad6-1dc4-417f-e080-bb4c6947a1a3"
      },
      "execution_count": null,
      "outputs": [
        {
          "output_type": "stream",
          "name": "stdout",
          "text": [
            "Length of the longest substring: 3\n",
            "Length of the longest substring: 2\n",
            "Length of the longest substring: 4\n"
          ]
        }
      ]
    },
    {
      "cell_type": "code",
      "source": [
        "def longestSubstringSameLettersReplacement(string, K):\n",
        "  wStart, wEnd, maxLen, replaces = 0, 0, 0, 0\n",
        "  charIndexSet = {}\n",
        "\n",
        "  while wEnd < len(string):\n",
        "    lastChar = string[wEnd]\n",
        "    firstChar = string[wStart]\n",
        "\n",
        "    charIndexSet[lastChar] = wEnd\n",
        "\n",
        "    if lastChar != firstChar:\n",
        "      if replaces < K:\n",
        "        replaces += 1\n",
        "      else:\n",
        "        replaces = 0\n",
        "        wStart = wEnd = charIndexSet[firstChar] + 1\n",
        "\n",
        "    maxLen = max(maxLen, wEnd - wStart + 1)\n",
        "\n",
        "    wEnd += 1\n",
        "\n",
        "  return maxLen\n",
        "\n",
        "\n",
        "def main():\n",
        "  print(\"Output: \" + str(longestSubstringSameLettersReplacement(\"aabccbb\", 2)))\n",
        "  print(\"Output: \" + str(longestSubstringSameLettersReplacement(\"abbcb\", 1)))\n",
        "  print(\"Output: \" + str(longestSubstringSameLettersReplacement(\"abccde\", 1)))\n",
        "  print(\"Output: \" + str(longestSubstringSameLettersReplacement(\"abcde\", 0)))\n",
        "\n",
        "\n",
        "main()"
      ],
      "metadata": {
        "colab": {
          "base_uri": "https://localhost:8080/"
        },
        "id": "0rj2XuQjgzXg",
        "outputId": "2441624d-7cbb-45a2-da3a-0d8b9a4b6ff2"
      },
      "execution_count": null,
      "outputs": [
        {
          "output_type": "stream",
          "name": "stdout",
          "text": [
            "Output: 5\n",
            "Output: 4\n",
            "Output: 3\n",
            "Output: 1\n"
          ]
        }
      ]
    },
    {
      "cell_type": "code",
      "source": [
        "def longestSubarrayOnesReplacement(arr, k):\n",
        "  wStart, maxLen = 0, 0\n",
        "  numCount = [0, 0]\n",
        "\n",
        "  for wEnd in range(len(arr)):\n",
        "    n = arr[wEnd]\n",
        "    numCount[n] += 1\n",
        "\n",
        "    if numCount[0] > k:\n",
        "      startN = arr[wStart]\n",
        "      numCount[startN] -= 1\n",
        "      wStart += 1\n",
        "\n",
        "    maxLen = max(maxLen, wEnd - wStart + 1)\n",
        "\n",
        "  return maxLen\n",
        "\n",
        "def main():\n",
        "  print(\"Output: \" + str(longestSubarrayOnesReplacement([0, 1, 1, 0, 0, 0, 1, 1, 0, 1, 1], 2)))\n",
        "  print(\"Output: \" + str(longestSubarrayOnesReplacement([0, 1, 0, 0, 1, 1, 0, 1, 1, 0, 0, 1, 1], 3)))\n",
        "\n",
        "main()"
      ],
      "metadata": {
        "colab": {
          "base_uri": "https://localhost:8080/"
        },
        "id": "h56TiAfaHGF1",
        "outputId": "ce641d2d-8205-4088-bcf0-0601bc4705c5"
      },
      "execution_count": null,
      "outputs": [
        {
          "output_type": "stream",
          "name": "stdout",
          "text": [
            "Output: 6\n",
            "Output: 9\n"
          ]
        }
      ]
    },
    {
      "cell_type": "code",
      "source": [
        "def permutationInAString(string, pattern):\n",
        "  wStart = 0\n",
        "  charSet, originalCharSetLen = prepareCharSetWithPattern(pattern)\n",
        "\n",
        "  for wEnd in range(len(string)):\n",
        "    rightChar = string[wEnd]\n",
        "\n",
        "    if rightChar not in charSet:\n",
        "      charSet[rightChar] = 0\n",
        "    charSet[rightChar] += 1\n",
        "\n",
        "    if wEnd - wStart + 1 == len(pattern):\n",
        "\n",
        "      if len(charSet) == originalCharSetLen:\n",
        "        isAllZero = True\n",
        "        for key in charSet.keys():\n",
        "          if charSet[key] != 0:\n",
        "            isAllZero = False\n",
        "            break\n",
        "\n",
        "        if isAllZero:\n",
        "          return True\n",
        "\n",
        "\n",
        "      leftChar = string[wStart]\n",
        "      charSet[leftChar] -= 1\n",
        "\n",
        "      if charSet[leftChar] == 0 and leftChar not in pattern:\n",
        "        del charSet[leftChar]\n",
        "\n",
        "      wStart += 1\n",
        "\n",
        "  return False\n",
        "\n",
        "def prepareCharSetWithPattern(pattern):\n",
        "  charSet = {}\n",
        "  for p in list(pattern):\n",
        "    if p not in charSet:\n",
        "        charSet[p] = 0\n",
        "    charSet[p] -= 1\n",
        "\n",
        "  return (charSet, len(charSet))\n",
        "\n",
        "def main():\n",
        "  print(\"Output: \" + str(permutationInAString(\"oidbcaf\", \"abc\")))\n",
        "  print(\"Output: \" + str(permutationInAString(\"odicf\", \"dc\")))\n",
        "  print(\"Output: \" + str(permutationInAString(\"bcdxabcdy\", \"bcdyabcdx\")))\n",
        "  print(\"Output: \" + str(permutationInAString(\"aaacb\", \"abc\")))\n",
        "\n",
        "main()"
      ],
      "metadata": {
        "colab": {
          "base_uri": "https://localhost:8080/"
        },
        "id": "beaE3VMfdiXC",
        "outputId": "03132260-1dbd-4851-eafd-98c3cfb5ef5d"
      },
      "execution_count": null,
      "outputs": [
        {
          "output_type": "stream",
          "name": "stdout",
          "text": [
            "Output: True\n",
            "Output: False\n",
            "Output: True\n",
            "Output: True\n"
          ]
        }
      ]
    },
    {
      "cell_type": "code",
      "source": [
        "def longestAfterReplacement(string, K):\n",
        "  maxLen, maxFrequency, wStart = 0, 0, 0\n",
        "  charFrequency = {}\n",
        "\n",
        "  for wEnd in range(len(string)):\n",
        "    char = string[wEnd]\n",
        "    if char not in charFrequency:\n",
        "      charFrequency[char] = 0\n",
        "    charFrequency[char] += 1\n",
        "\n",
        "    maxFrequency = max(maxFrequency, charFrequency[char])\n",
        "\n",
        "    while maxFrequency + K < wEnd - wStart + 1:\n",
        "      oldChar = string[wStart]\n",
        "      charFrequency[oldChar] -= 1\n",
        "      wStart += 1\n",
        "\n",
        "    maxLen = max(maxLen, wEnd - wStart + 1)\n",
        "\n",
        "  return maxLen\n",
        "\n",
        "def main():\n",
        "  print(\"Output: \" + str(longestAfterReplacement(\"aabccbb\", 2)))\n",
        "  print(\"Output: \" + str(longestAfterReplacement(\"abbcb\", 1)))\n",
        "  print(\"Output: \" + str(longestAfterReplacement(\"abccde\", 1)))\n",
        "  print(\"Output: \" + str(longestAfterReplacement(\"abcde\", 0)))\n",
        "\n",
        "main()"
      ],
      "metadata": {
        "colab": {
          "base_uri": "https://localhost:8080/"
        },
        "id": "cH924CsvNzkR",
        "outputId": "efb51d72-8ee3-467e-add2-77490b1d29de"
      },
      "execution_count": null,
      "outputs": [
        {
          "output_type": "stream",
          "name": "stdout",
          "text": [
            "Output: 5\n",
            "Output: 4\n",
            "Output: 3\n",
            "Output: 1\n"
          ]
        }
      ]
    },
    {
      "cell_type": "code",
      "source": [
        "def longestSubstringWithSameLettersAfterReplacement(arr, k):\n",
        "  maxLen, maxFreq, L = 0, 0, 0\n",
        "  charFreq = {}\n",
        "\n",
        "  for R in range(len(arr)):\n",
        "    char = arr[R]\n",
        "\n",
        "    if char not in charFreq:\n",
        "      charFreq[char] = 0\n",
        "    charFreq[char] += 1\n",
        "\n",
        "    if maxFreq < charFreq[char]:\n",
        "      maxFreq = charFreq[char]\n",
        "    else:\n",
        "      while maxFreq + k > R - L + 1:\n",
        "        oldChar = arr[L]\n",
        "        charFreq[oldChar] -= 1\n",
        "        L += 1\n",
        "\n",
        "    maxLen = max(maxLen, L - R + 1)\n",
        "\n",
        "  return maxLen\n",
        "\n",
        "def main():\n",
        "  print(\"Output: \" + str(longestSubstringWithSameLettersAfterReplacement(\"aabccbb\", 2)))\n",
        "  print(\"Output: \" + str(longestSubstringWithSameLettersAfterReplacement(\"abbcb\", 1)))\n",
        "  print(\"Output: \" + str(longestSubstringWithSameLettersAfterReplacement(\"abccde\", 1)))\n",
        "  print(\"Output: \" + str(longestSubstringWithSameLettersAfterReplacement(\"abcde\", 0)))\n",
        "\n",
        "main()"
      ],
      "metadata": {
        "colab": {
          "base_uri": "https://localhost:8080/",
          "height": 364
        },
        "id": "nHVFnAF9Ff3d",
        "outputId": "0ef8bf5a-8b76-4003-e0e7-6cbd6179ed17"
      },
      "execution_count": null,
      "outputs": [
        {
          "output_type": "error",
          "ename": "KeyError",
          "evalue": "ignored",
          "traceback": [
            "\u001b[0;31m---------------------------------------------------------------------------\u001b[0m",
            "\u001b[0;31mKeyError\u001b[0m                                  Traceback (most recent call last)",
            "\u001b[0;32m<ipython-input-7-b3af28410d1b>\u001b[0m in \u001b[0;36m<cell line: 30>\u001b[0;34m()\u001b[0m\n\u001b[1;32m     28\u001b[0m   \u001b[0mprint\u001b[0m\u001b[0;34m(\u001b[0m\u001b[0;34m\"Output: \"\u001b[0m \u001b[0;34m+\u001b[0m \u001b[0mstr\u001b[0m\u001b[0;34m(\u001b[0m\u001b[0mlongestSubstringWithSameLettersAfterReplacement\u001b[0m\u001b[0;34m(\u001b[0m\u001b[0;34m\"abcde\"\u001b[0m\u001b[0;34m,\u001b[0m \u001b[0;36m0\u001b[0m\u001b[0;34m)\u001b[0m\u001b[0;34m)\u001b[0m\u001b[0;34m)\u001b[0m\u001b[0;34m\u001b[0m\u001b[0;34m\u001b[0m\u001b[0m\n\u001b[1;32m     29\u001b[0m \u001b[0;34m\u001b[0m\u001b[0m\n\u001b[0;32m---> 30\u001b[0;31m \u001b[0mmain\u001b[0m\u001b[0;34m(\u001b[0m\u001b[0;34m)\u001b[0m\u001b[0;34m\u001b[0m\u001b[0;34m\u001b[0m\u001b[0m\n\u001b[0m",
            "\u001b[0;32m<ipython-input-7-b3af28410d1b>\u001b[0m in \u001b[0;36mmain\u001b[0;34m()\u001b[0m\n\u001b[1;32m     23\u001b[0m \u001b[0;34m\u001b[0m\u001b[0m\n\u001b[1;32m     24\u001b[0m \u001b[0;32mdef\u001b[0m \u001b[0mmain\u001b[0m\u001b[0;34m(\u001b[0m\u001b[0;34m)\u001b[0m\u001b[0;34m:\u001b[0m\u001b[0;34m\u001b[0m\u001b[0;34m\u001b[0m\u001b[0m\n\u001b[0;32m---> 25\u001b[0;31m   \u001b[0mprint\u001b[0m\u001b[0;34m(\u001b[0m\u001b[0;34m\"Output: \"\u001b[0m \u001b[0;34m+\u001b[0m \u001b[0mstr\u001b[0m\u001b[0;34m(\u001b[0m\u001b[0mlongestSubstringWithSameLettersAfterReplacement\u001b[0m\u001b[0;34m(\u001b[0m\u001b[0;34m\"aabccbb\"\u001b[0m\u001b[0;34m,\u001b[0m \u001b[0;36m2\u001b[0m\u001b[0;34m)\u001b[0m\u001b[0;34m)\u001b[0m\u001b[0;34m)\u001b[0m\u001b[0;34m\u001b[0m\u001b[0;34m\u001b[0m\u001b[0m\n\u001b[0m\u001b[1;32m     26\u001b[0m   \u001b[0mprint\u001b[0m\u001b[0;34m(\u001b[0m\u001b[0;34m\"Output: \"\u001b[0m \u001b[0;34m+\u001b[0m \u001b[0mstr\u001b[0m\u001b[0;34m(\u001b[0m\u001b[0mlongestSubstringWithSameLettersAfterReplacement\u001b[0m\u001b[0;34m(\u001b[0m\u001b[0;34m\"abbcb\"\u001b[0m\u001b[0;34m,\u001b[0m \u001b[0;36m1\u001b[0m\u001b[0;34m)\u001b[0m\u001b[0;34m)\u001b[0m\u001b[0;34m)\u001b[0m\u001b[0;34m\u001b[0m\u001b[0;34m\u001b[0m\u001b[0m\n\u001b[1;32m     27\u001b[0m   \u001b[0mprint\u001b[0m\u001b[0;34m(\u001b[0m\u001b[0;34m\"Output: \"\u001b[0m \u001b[0;34m+\u001b[0m \u001b[0mstr\u001b[0m\u001b[0;34m(\u001b[0m\u001b[0mlongestSubstringWithSameLettersAfterReplacement\u001b[0m\u001b[0;34m(\u001b[0m\u001b[0;34m\"abccde\"\u001b[0m\u001b[0;34m,\u001b[0m \u001b[0;36m1\u001b[0m\u001b[0;34m)\u001b[0m\u001b[0;34m)\u001b[0m\u001b[0;34m)\u001b[0m\u001b[0;34m\u001b[0m\u001b[0;34m\u001b[0m\u001b[0m\n",
            "\u001b[0;32m<ipython-input-7-b3af28410d1b>\u001b[0m in \u001b[0;36mlongestSubstringWithSameLettersAfterReplacement\u001b[0;34m(arr, k)\u001b[0m\n\u001b[1;32m     15\u001b[0m       \u001b[0;32mwhile\u001b[0m \u001b[0mmaxFreq\u001b[0m \u001b[0;34m+\u001b[0m \u001b[0mk\u001b[0m \u001b[0;34m>\u001b[0m \u001b[0mR\u001b[0m \u001b[0;34m-\u001b[0m \u001b[0mL\u001b[0m \u001b[0;34m+\u001b[0m \u001b[0;36m1\u001b[0m\u001b[0;34m:\u001b[0m\u001b[0;34m\u001b[0m\u001b[0;34m\u001b[0m\u001b[0m\n\u001b[1;32m     16\u001b[0m         \u001b[0moldChar\u001b[0m \u001b[0;34m=\u001b[0m \u001b[0marr\u001b[0m\u001b[0;34m[\u001b[0m\u001b[0mL\u001b[0m\u001b[0;34m]\u001b[0m\u001b[0;34m\u001b[0m\u001b[0;34m\u001b[0m\u001b[0m\n\u001b[0;32m---> 17\u001b[0;31m         \u001b[0mcharFreq\u001b[0m\u001b[0;34m[\u001b[0m\u001b[0moldChar\u001b[0m\u001b[0;34m]\u001b[0m \u001b[0;34m-=\u001b[0m \u001b[0;36m1\u001b[0m\u001b[0;34m\u001b[0m\u001b[0;34m\u001b[0m\u001b[0m\n\u001b[0m\u001b[1;32m     18\u001b[0m         \u001b[0mL\u001b[0m \u001b[0;34m+=\u001b[0m \u001b[0;36m1\u001b[0m\u001b[0;34m\u001b[0m\u001b[0;34m\u001b[0m\u001b[0m\n\u001b[1;32m     19\u001b[0m \u001b[0;34m\u001b[0m\u001b[0m\n",
            "\u001b[0;31mKeyError\u001b[0m: 'c'"
          ]
        }
      ]
    },
    {
      "cell_type": "code",
      "source": [
        "def longestSubstringWithSameLettersAfterReplacement(arr, k):\n",
        "  wStart, maxLen, maxFreq  = 0, 0, 0\n",
        "  charFreq = {}\n",
        "\n",
        "  for wEnd in range(len(arr)):\n",
        "    char = arr[wEnd]\n",
        "    wSize = wEnd - wStart + 1\n",
        "\n",
        "    if char not in charFreq:\n",
        "      charFreq[char] = 0\n",
        "    charFreq[char] += 1\n",
        "\n",
        "    maxFreq = max(maxFreq, charFreq[char])\n",
        "\n",
        "    while wSize > maxFreq + k:\n",
        "      oldChar = arr[wStart]\n",
        "      charFreq[oldChar] -= 1\n",
        "      wStart += 1\n",
        "      wSize = wEnd - wStart + 1\n",
        "\n",
        "    maxLen = max(maxLen, wSize)\n",
        "\n",
        "\n",
        "  return maxLen\n",
        "\n",
        "def main():\n",
        "  print(\"Output: \" + str(longestSubstringWithSameLettersAfterReplacement(\"aabccbb\", 2)))\n",
        "  print(\"Output: \" + str(longestSubstringWithSameLettersAfterReplacement(\"abbcb\", 1)))\n",
        "  print(\"Output: \" + str(longestSubstringWithSameLettersAfterReplacement(\"abccde\", 1)))\n",
        "  print(\"Output: \" + str(longestSubstringWithSameLettersAfterReplacement(\"abcde\", 0)))\n",
        "\n",
        "main()\n",
        "\n"
      ],
      "metadata": {
        "colab": {
          "base_uri": "https://localhost:8080/"
        },
        "id": "vdVdt3z2awvc",
        "outputId": "93f92aea-6d1e-4647-f0ae-415d84dc8039"
      },
      "execution_count": null,
      "outputs": [
        {
          "output_type": "stream",
          "name": "stdout",
          "text": [
            "Output: 5\n",
            "Output: 4\n",
            "Output: 3\n",
            "Output: 1\n"
          ]
        }
      ]
    },
    {
      "cell_type": "code",
      "source": [
        "def removeSpaces(string):\n",
        "  L = 0\n",
        "  arr = list(string)\n",
        "\n",
        "  if len(arr) > 0:\n",
        "    arr[0] = arr[0].lower()\n",
        "\n",
        "  for R in range(len(arr)):\n",
        "    if arr[R] != \" \":\n",
        "      arr[L] = arr[R]\n",
        "      L += 1\n",
        "    elif R < len(arr) - 1:\n",
        "      arr[R+1] = arr[R+1].upper()\n",
        "\n",
        "  return \"\".join(arr[:L])\n",
        "\n",
        "removeSpaces(\"Longest Substring with Same Letters after Replacement\")"
      ],
      "metadata": {
        "colab": {
          "base_uri": "https://localhost:8080/",
          "height": 35
        },
        "id": "eZYJ7fh5Fclb",
        "outputId": "12db3f29-a793-4d63-b8eb-65b620f41168"
      },
      "execution_count": null,
      "outputs": [
        {
          "output_type": "execute_result",
          "data": {
            "text/plain": [
              "'longestSubstringWithSameLettersAfterReplacement'"
            ],
            "application/vnd.google.colaboratory.intrinsic+json": {
              "type": "string"
            }
          },
          "metadata": {},
          "execution_count": 1
        }
      ]
    }
  ]
}