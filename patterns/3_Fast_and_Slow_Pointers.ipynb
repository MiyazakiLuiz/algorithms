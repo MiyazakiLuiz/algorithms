{
  "nbformat": 4,
  "nbformat_minor": 0,
  "metadata": {
    "colab": {
      "provenance": []
    },
    "kernelspec": {
      "name": "python3",
      "display_name": "Python 3"
    },
    "language_info": {
      "name": "python"
    }
  },
  "cells": [
    {
      "cell_type": "code",
      "execution_count": null,
      "metadata": {
        "id": "qbUUDUbG4H6a",
        "colab": {
          "base_uri": "https://localhost:8080/"
        },
        "outputId": "36a99efb-95b5-416c-b987-50975374264f"
      },
      "outputs": [
        {
          "output_type": "stream",
          "name": "stdout",
          "text": [
            "Output: False\n",
            "Output: True\n"
          ]
        }
      ],
      "source": [
        "class Node:\n",
        "  def __init__(self, data):\n",
        "    self.data = data\n",
        "    self.next = None\n",
        "\n",
        "class LinkedList:\n",
        "  def __init__(self):\n",
        "    self.head = None\n",
        "\n",
        "def hasCycle(head):\n",
        "\n",
        "  if head is None:\n",
        "    return False\n",
        "\n",
        "  n = head\n",
        "  while n is not None:\n",
        "    n = n.next\n",
        "    if n == head:\n",
        "      return True\n",
        "\n",
        "  return False\n",
        "\n",
        "def main():\n",
        "  head = Node(1)\n",
        "  head.next = Node(2)\n",
        "  head.next.next = Node(3)\n",
        "\n",
        "  print(\"Output: \" + str(hasCycle(head)))\n",
        "\n",
        "  head.next.next.next = head\n",
        "\n",
        "  print(\"Output: \" + str(hasCycle(head)))\n",
        "\n",
        "main()"
      ]
    },
    {
      "cell_type": "code",
      "source": [
        "class Node:\n",
        "  def __init__(self, data):\n",
        "    self.data = data\n",
        "    self.next = None\n",
        "\n",
        "def hasCycle(head):\n",
        "  p1 = head\n",
        "  p2 = head\n",
        "\n",
        "  while p2 is not None and p2.next is not None:\n",
        "    p1 = p1.next\n",
        "    p2 = p2.next.next\n",
        "\n",
        "    if p1 == p2:\n",
        "      return True\n",
        "\n",
        "  return False\n",
        "\n",
        "def main():\n",
        "  head = Node(1)\n",
        "  head.next = Node(2)\n",
        "  head.next.next = Node(3)\n",
        "  head.next.next.next = Node(4)\n",
        "  print(\"Output: \" + str(hasCycle(head)))\n",
        "\n",
        "  head.next.next.next.next = head.next\n",
        "  print(\"Output: \" + str(hasCycle(head)))\n",
        "\n",
        "  head.next.next.next.next = head.next.next\n",
        "  print(\"Output: \" + str(hasCycle(head)))\n",
        "\n",
        "  head.next.next.next.next = None\n",
        "  print(\"Output: \" + str(hasCycle(head)))\n",
        "\n",
        "main()\n"
      ],
      "metadata": {
        "colab": {
          "base_uri": "https://localhost:8080/"
        },
        "id": "MxWI8QPdZXRd",
        "outputId": "e7ade8fa-c606-497a-ff32-409a6fc2c87a"
      },
      "execution_count": null,
      "outputs": [
        {
          "output_type": "stream",
          "name": "stdout",
          "text": [
            "Output: False\n",
            "Output: True\n",
            "Output: True\n",
            "Output: False\n"
          ]
        }
      ]
    },
    {
      "cell_type": "code",
      "source": [
        "class Node:\n",
        "  def __init__(self, data, next=None):\n",
        "    self.data = data\n",
        "    self.next = next\n",
        "\n",
        "def hasCycle(head):\n",
        "  slow = head\n",
        "  fast = head\n",
        "\n",
        "  while fast is not None and fast.next is not None:\n",
        "    slow = slow.next\n",
        "    fast = fast.next.next\n",
        "\n",
        "    if slow == fast:\n",
        "      return cycleLength(slow)\n",
        "\n",
        "  return 0\n",
        "\n",
        "def cycleLength(head):\n",
        "  n = head\n",
        "  cycleLen = 1\n",
        "\n",
        "  while n.next != head:\n",
        "    n = n.next\n",
        "    cycleLen += 1\n",
        "\n",
        "  return cycleLen\n",
        "\n",
        "\n",
        "def main():\n",
        "  head = Node(1)\n",
        "  head.next = Node(2)\n",
        "  head.next.next = Node(3)\n",
        "  head.next.next.next = Node(4)\n",
        "  print(\"Output: \" + str(hasCycle(head)))\n",
        "\n",
        "  head.next.next.next.next = head.next\n",
        "  print(\"Output: \" + str(hasCycle(head)))\n",
        "\n",
        "  head.next.next.next.next = head.next.next\n",
        "  print(\"Output: \" + str(hasCycle(head)))\n",
        "\n",
        "  head.next.next.next.next = head.next.next.next\n",
        "  print(\"Output: \" + str(hasCycle(head)))\n",
        "\n",
        "  head.next.next.next.next = None\n",
        "  print(\"Output: \" + str(hasCycle(head)))\n",
        "\n",
        "main()"
      ],
      "metadata": {
        "colab": {
          "base_uri": "https://localhost:8080/"
        },
        "id": "XtH0fg8OMYsT",
        "outputId": "58f90290-2c02-4bc4-f24d-d3199d8ecf77"
      },
      "execution_count": null,
      "outputs": [
        {
          "output_type": "stream",
          "name": "stdout",
          "text": [
            "Output: 0\n",
            "Output: 3\n",
            "Output: 2\n",
            "Output: 1\n",
            "Output: 0\n"
          ]
        }
      ]
    },
    {
      "cell_type": "code",
      "source": [
        "class Node:\n",
        "  def __init__(self, data):\n",
        "    self.data = data\n",
        "    self.next = None\n",
        "\n",
        "def getNodeStartCycle(head):\n",
        "  nodeCycle = getAntElemOfTheCycle(head)\n",
        "\n",
        "  if nodeCycle is None:\n",
        "    return None\n",
        "\n",
        "  n1 = head\n",
        "  n2 = nodeCycle\n",
        "  while n1 is not None:\n",
        "\n",
        "    n2 = n2.next\n",
        "    while n2 != nodeCycle and n1 != n2:\n",
        "      n2 = n2.next\n",
        "\n",
        "    if n1 == n2:\n",
        "      return n1\n",
        "\n",
        "    n1 = n1.next\n",
        "\n",
        "  return None\n",
        "\n",
        "\n",
        "def getAntElemOfTheCycle(head):\n",
        "  slow = head\n",
        "  fast = head\n",
        "\n",
        "  while fast is not None and fast.next is not None:\n",
        "    slow = slow.next\n",
        "    fast = fast.next.next\n",
        "    if slow == fast:\n",
        "      return slow\n",
        "\n",
        "  return None\n",
        "\n",
        "def main():\n",
        "  head = Node(1)\n",
        "  head.next = Node(2)\n",
        "  head.next.next = Node(3)\n",
        "  head.next.next.next = Node(4)\n",
        "  print(\"Output: \" + str(getNodeStartCycle(head)))\n",
        "\n",
        "  head.next.next.next.next = head.next\n",
        "  print(\"Output: \" + str(getNodeStartCycle(head).data))\n",
        "\n",
        "  head.next.next.next.next = head.next.next\n",
        "  print(\"Output: \" + str(getNodeStartCycle(head).data))\n",
        "\n",
        "  head.next.next.next.next = head.next.next.next\n",
        "  print(\"Output: \" + str(getNodeStartCycle(head).data))\n",
        "\n",
        "  head.next.next.next.next = None\n",
        "  print(\"Output: \" + str(getNodeStartCycle(head)))\n",
        "\n",
        "main()"
      ],
      "metadata": {
        "colab": {
          "base_uri": "https://localhost:8080/"
        },
        "id": "Xi9d7siY89PU",
        "outputId": "3b3bb616-ebb3-4913-b137-8274912c8545"
      },
      "execution_count": null,
      "outputs": [
        {
          "output_type": "stream",
          "name": "stdout",
          "text": [
            "Output: None\n",
            "Output: 2\n",
            "Output: 3\n",
            "Output: 4\n",
            "Output: None\n"
          ]
        }
      ]
    },
    {
      "cell_type": "code",
      "source": [
        "def happyNumber(n):\n",
        "\n",
        "  calculationSet = set()\n",
        "\n",
        "  while n != 1:\n",
        "    if n  in calculationSet:\n",
        "      return False\n",
        "\n",
        "    calculationSet.add(n)\n",
        "\n",
        "    n = calculate(n)\n",
        "\n",
        "  return True\n",
        "\n",
        "def calculate(n):\n",
        "  sum = 0\n",
        "  while n > 0:\n",
        "    last = n%10\n",
        "    sum += last*last\n",
        "    n = int(n/10)\n",
        "\n",
        "  return sum\n",
        "\n",
        "\n",
        "def main():\n",
        "\n",
        "  print(\"Output: \" + str(happyNumber(23)))\n",
        "  print(\"Output: \" + str(happyNumber(12)))\n",
        "\n",
        "main()"
      ],
      "metadata": {
        "colab": {
          "base_uri": "https://localhost:8080/"
        },
        "id": "MCiHZAKJ9Wfd",
        "outputId": "d2f5868d-a5a7-4f4a-b6f1-ba655df6744f"
      },
      "execution_count": null,
      "outputs": [
        {
          "output_type": "stream",
          "name": "stdout",
          "text": [
            "Output: True\n",
            "Output: False\n"
          ]
        }
      ]
    },
    {
      "cell_type": "code",
      "source": [
        "def happyNumber(n):\n",
        "\n",
        "  slow = n\n",
        "  fast = n\n",
        "  while True:\n",
        "    slow = calculate(slow)\n",
        "    fast = calculate(calculate(fast))\n",
        "    if slow == fast:\n",
        "      break\n",
        "\n",
        "  return slow == 1\n",
        "\n",
        "def calculate(n):\n",
        "  sum = 0\n",
        "  while n > 0:\n",
        "    last = n % 10\n",
        "    sum += last * last\n",
        "    n //= 10\n",
        "\n",
        "  return sum\n",
        "\n",
        "\n",
        "def main():\n",
        "\n",
        "  print(\"Output: \" + str(happyNumber(23)))\n",
        "  print(\"Output: \" + str(happyNumber(12)))\n",
        "\n",
        "main()"
      ],
      "metadata": {
        "colab": {
          "base_uri": "https://localhost:8080/"
        },
        "id": "Utz9qnwhEUV9",
        "outputId": "0d7157e0-1efc-4237-f690-9d2e85364029"
      },
      "execution_count": null,
      "outputs": [
        {
          "output_type": "stream",
          "name": "stdout",
          "text": [
            "Output: True\n",
            "Output: False\n"
          ]
        }
      ]
    },
    {
      "cell_type": "code",
      "source": [
        "class Node:\n",
        "  def __init__(self, data):\n",
        "    self.data = data\n",
        "    self.next = None\n",
        "\n",
        "def middleNode(head):\n",
        "  slow = head\n",
        "  fast = head\n",
        "\n",
        "  while fast is not None and fast.next is not None:\n",
        "    slow = slow.next\n",
        "    fast = fast.next.next\n",
        "\n",
        "  return slow\n",
        "\n",
        "def main():\n",
        "  head = Node(1)\n",
        "  head.next = Node(2)\n",
        "  head.next.next = Node(3)\n",
        "  head.next.next.next = Node(4)\n",
        "  head.next.next.next.next = Node(5)\n",
        "  print(\"Output: \" + str(middleNode(head).data))\n",
        "  head.next.next.next.next.next = Node(6)\n",
        "  print(\"Output: \" + str(middleNode(head).data))\n",
        "  head.next.next.next.next.next.next = Node(7)\n",
        "  print(\"Output: \" + str(middleNode(head).data))\n",
        "\n",
        "main()"
      ],
      "metadata": {
        "colab": {
          "base_uri": "https://localhost:8080/"
        },
        "id": "B-EPi5bOLrs1",
        "outputId": "b18d3303-4c6f-4ba3-b220-4ed8f7a20b61"
      },
      "execution_count": null,
      "outputs": [
        {
          "output_type": "stream",
          "name": "stdout",
          "text": [
            "Output: 3\n",
            "Output: 4\n",
            "Output: 4\n"
          ]
        }
      ]
    },
    {
      "cell_type": "code",
      "source": [
        "class Node:\n",
        "  def __init__(self,data):\n",
        "    self.data = data\n",
        "    self.next = None\n",
        "\n",
        "def getNodeStartCycle(head):\n",
        "  p1 = head\n",
        "  p2 = head\n",
        "\n",
        "  cycleLen = cycleLength(head)\n",
        "\n",
        "  for i in range(cycleLen):\n",
        "    p2 = p2.next\n",
        "\n",
        "  while p1 != p2:\n",
        "    p1 = p1.next\n",
        "    p2 = p2.next\n",
        "\n",
        "  return p1\n",
        "\n",
        "def cycleLength(head):\n",
        "  slow = head\n",
        "  fast = head\n",
        "\n",
        "  while fast is not None and fast.next is not None:\n",
        "    slow = slow.next\n",
        "    fast = fast.next.next\n",
        "\n",
        "    if slow == fast:\n",
        "      #reach cycle\n",
        "      break\n",
        "\n",
        "  n = slow.next\n",
        "  cycleLength = 1\n",
        "  while n != slow:\n",
        "    n = n.next\n",
        "    cycleLength += 1\n",
        "\n",
        "  return cycleLength\n",
        "\n",
        "\n",
        "def main():\n",
        "  head = Node(1)\n",
        "  head.next = Node(2)\n",
        "  head.next.next = Node(3)\n",
        "  head.next.next.next = Node(4)\n",
        "  # print(\"Output: \" + str(getNodeStartCycle(head)))\n",
        "\n",
        "  head.next.next.next.next = head.next\n",
        "  print(\"Output: \" + str(getNodeStartCycle(head).data))\n",
        "\n",
        "  head.next.next.next.next = head.next.next\n",
        "  print(\"Output: \" + str(getNodeStartCycle(head).data))\n",
        "\n",
        "  head.next.next.next.next = head.next.next.next\n",
        "  print(\"Output: \" + str(getNodeStartCycle(head).data))\n",
        "\n",
        "  head.next.next.next.next = head\n",
        "  print(\"Output: \" + str(getNodeStartCycle(head).data))\n",
        "\n",
        "  # head.next.next.next.next = None\n",
        "  # print(\"Output: \" + str(getNodeStartCycle(head)))\n",
        "\n",
        "main()"
      ],
      "metadata": {
        "colab": {
          "base_uri": "https://localhost:8080/"
        },
        "id": "r0F3fRZGhXTd",
        "outputId": "dd6b5d53-3793-4d88-ad32-fff4c9084a95"
      },
      "execution_count": null,
      "outputs": [
        {
          "output_type": "stream",
          "name": "stdout",
          "text": [
            "Output: 2\n",
            "Output: 3\n",
            "Output: 4\n",
            "Output: 1\n"
          ]
        }
      ]
    },
    {
      "cell_type": "code",
      "source": [],
      "metadata": {
        "id": "h1YZJAFlksX6"
      },
      "execution_count": null,
      "outputs": []
    },
    {
      "cell_type": "code",
      "source": [
        "def removeSpaces(string):\n",
        "  L = 0\n",
        "  arr = list(string)\n",
        "\n",
        "  if len(arr) > 0:\n",
        "    arr[0] = arr[0].lower()\n",
        "\n",
        "  for R in range(len(arr)):\n",
        "    if arr[R] != \" \":\n",
        "      arr[L] = arr[R]\n",
        "      L += 1\n",
        "    elif R < len(arr) - 1:\n",
        "      arr[R+1] = arr[R+1].upper()\n",
        "\n",
        "  return \"\".join(arr[:L])\n",
        "\n",
        "\n",
        "def main():\n",
        "  print(\"Output: \" +  str(removeSpaces(\"LinkedList Cycle\")))\n",
        "\n",
        "main()"
      ],
      "metadata": {
        "id": "TPJsutIi4L7Q",
        "colab": {
          "base_uri": "https://localhost:8080/"
        },
        "outputId": "284de18b-5daa-44df-8a95-c18a9c079593"
      },
      "execution_count": null,
      "outputs": [
        {
          "output_type": "stream",
          "name": "stdout",
          "text": [
            "Output: linkedListCycle\n"
          ]
        }
      ]
    }
  ]
}