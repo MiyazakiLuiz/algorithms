{
  "nbformat": 4,
  "nbformat_minor": 0,
  "metadata": {
    "colab": {
      "provenance": []
    },
    "kernelspec": {
      "name": "python3",
      "display_name": "Python 3"
    },
    "language_info": {
      "name": "python"
    }
  },
  "cells": [
    {
      "cell_type": "code",
      "execution_count": null,
      "metadata": {
        "id": "z2HY_GiUZQ7v",
        "colab": {
          "base_uri": "https://localhost:8080/"
        },
        "outputId": "e826051d-cdcc-4b28-a489-5e05981ce5e1"
      },
      "outputs": [
        {
          "output_type": "stream",
          "name": "stdout",
          "text": [
            "Output: 10 -> 8 -> 6 -> 4 -> 2 -> None\n"
          ]
        }
      ],
      "source": [
        "class Node:\n",
        "  def __init__(self, data, next=None):\n",
        "    self.data = data\n",
        "    self.next = next\n",
        "\n",
        "  def __repr__(self):\n",
        "    repr = []\n",
        "\n",
        "    n = self\n",
        "    while n is not None:\n",
        "      repr.append(n.data)\n",
        "      n = n.next\n",
        "\n",
        "    repr.append(\"None\")\n",
        "\n",
        "    reprStr = map(lambda x:str(x), repr)\n",
        "    return \" -> \".join(reprStr)\n",
        "\n",
        "\n",
        "def reverseALinkedList(head):\n",
        "\n",
        "  n = head\n",
        "  prev = None\n",
        "  while n is not None:\n",
        "    next = n.next\n",
        "    n.next = prev\n",
        "    prev = n\n",
        "    n = next\n",
        "\n",
        "  return prev\n",
        "\n",
        "def main():\n",
        "  head = Node(2)\n",
        "  head.next = Node(4)\n",
        "  head.next.next = Node(6)\n",
        "  head.next.next.next = Node(8)\n",
        "  head.next.next.next.next = Node(10)\n",
        "  print(\"Output: \" +  str(reverseALinkedList(head)))\n",
        "\n",
        "main()"
      ]
    },
    {
      "cell_type": "code",
      "source": [
        "class Node:\n",
        "  def __init__(self, data):\n",
        "    self.data = data\n",
        "    self.next = None\n",
        "\n",
        "  def __repr__(self):\n",
        "    repr = []\n",
        "\n",
        "    n = self\n",
        "    while n is not None:\n",
        "      repr.append(str(n.data))\n",
        "      n = n.next\n",
        "\n",
        "    repr.append(\"None\")\n",
        "\n",
        "    return \" -> \".join(repr)\n",
        "\n",
        "def reverseASublist(head, p, q):\n",
        "  i = 1\n",
        "\n",
        "  curr = head\n",
        "  prev = None\n",
        "  while i < p:\n",
        "    prev = curr\n",
        "    curr = curr.next\n",
        "    i += 1\n",
        "\n",
        "  prevSub = prev\n",
        "  tail = curr\n",
        "  while i <= q:\n",
        "    next = curr.next\n",
        "    curr.next = prev\n",
        "    prev = curr\n",
        "    curr = next\n",
        "    i += 1\n",
        "\n",
        "  if prevSub is None:\n",
        "    head = prev\n",
        "  else:\n",
        "    prevSub.next = prev\n",
        "\n",
        "  tail.next = curr\n",
        "\n",
        "  return head\n",
        "\n",
        "\n",
        "\n",
        "def main():\n",
        "  head = Node(1)\n",
        "  head.next = Node(2)\n",
        "  head.next.next = Node(3)\n",
        "  head.next.next.next = Node(4)\n",
        "  head.next.next.next.next = Node(5)\n",
        "  print(\"Output: \" +  str(reverseASublist(head, 1, 3)))\n",
        "\n",
        "main()"
      ],
      "metadata": {
        "id": "0TjHfxbKsLcb",
        "colab": {
          "base_uri": "https://localhost:8080/"
        },
        "outputId": "244a9044-a87c-4a82-b8f4-8aad86e0acf0"
      },
      "execution_count": null,
      "outputs": [
        {
          "output_type": "stream",
          "name": "stdout",
          "text": [
            "Output: 3 -> 2 -> 1 -> 4 -> 5 -> None\n"
          ]
        }
      ]
    },
    {
      "cell_type": "code",
      "source": [
        "class Node:\n",
        "  def __init__(self, data):\n",
        "    self.data = data\n",
        "    self.next = None\n",
        "\n",
        "  def __repr__(self):\n",
        "    repr = []\n",
        "\n",
        "    n = self\n",
        "    while n is not None:\n",
        "      repr.append(str(n.data))\n",
        "      n = n.next\n",
        "\n",
        "    repr.append(\"None\")\n",
        "\n",
        "    return \" -> \".join(repr)\n",
        "\n",
        "def reverseEveryK(head, k):\n",
        "  curr = head\n",
        "  tail = head\n",
        "  prev = None\n",
        "  prevTail = None\n",
        "  count = 0\n",
        "\n",
        "  while curr is not None:\n",
        "    if count < k:\n",
        "      next = curr.next\n",
        "      curr.next = prev\n",
        "      prev = curr\n",
        "      curr = next\n",
        "      count += 1\n",
        "    else:\n",
        "      if prevTail is not None:\n",
        "        prevTail.next = prev\n",
        "      else:\n",
        "        head = prev\n",
        "      prevTail = tail\n",
        "      tail = curr\n",
        "      count = 0\n",
        "\n",
        "  if count > 0:\n",
        "    tail.next = None\n",
        "    prevTail.next = prev\n",
        "\n",
        "  return head\n",
        "\n",
        "\n",
        "def main():\n",
        "  head = Node(1)\n",
        "  head.next = Node(2)\n",
        "  head.next.next = Node(3)\n",
        "  head.next.next.next = Node(4)\n",
        "  head.next.next.next.next = Node(5)\n",
        "  head.next.next.next.next.next = Node(6)\n",
        "  head.next.next.next.next.next.next = Node(7)\n",
        "  head.next.next.next.next.next.next.next = Node(8)\n",
        "  print(\"Output: \" +  str(reverseEveryK(head, 3)))\n",
        "\n",
        "main()"
      ],
      "metadata": {
        "colab": {
          "base_uri": "https://localhost:8080/"
        },
        "id": "pTD66q9sr6_N",
        "outputId": "e263241d-1190-4b99-8919-ee865de15620"
      },
      "execution_count": null,
      "outputs": [
        {
          "output_type": "stream",
          "name": "stdout",
          "text": [
            "Output: 3 -> 2 -> 1 -> 6 -> 5 -> 4 -> 8 -> 7 -> None\n"
          ]
        }
      ]
    },
    {
      "cell_type": "code",
      "source": [
        "def removeSpaces(string):\n",
        "  L = 0\n",
        "  arr = list(string)\n",
        "\n",
        "  if len(arr) > 0:\n",
        "    arr[0] = arr[0].lower()\n",
        "\n",
        "  for R in range(len(arr)):\n",
        "    if arr[R] != \" \":\n",
        "      arr[L] = arr[R]\n",
        "      L += 1\n",
        "    elif R < len(arr) - 1:\n",
        "      arr[R+1] = arr[R+1].upper()\n",
        "\n",
        "  return \"\".join(arr[:L])\n",
        "\n",
        "\n",
        "def main():\n",
        "  print(\"Output: \" +  str(removeSpaces(\"Reverse a Sub-list\")))\n",
        "\n",
        "main()"
      ],
      "metadata": {
        "id": "r-vDZWJmZUy0",
        "colab": {
          "base_uri": "https://localhost:8080/"
        },
        "outputId": "c14e381a-b1c7-4336-c34f-870b518f6e21"
      },
      "execution_count": null,
      "outputs": [
        {
          "output_type": "stream",
          "name": "stdout",
          "text": [
            "Output: reverseASub-list\n"
          ]
        }
      ]
    }
  ]
}