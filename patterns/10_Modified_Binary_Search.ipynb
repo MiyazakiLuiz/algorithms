{
  "nbformat": 4,
  "nbformat_minor": 0,
  "metadata": {
    "colab": {
      "provenance": []
    },
    "kernelspec": {
      "name": "python3",
      "display_name": "Python 3"
    },
    "language_info": {
      "name": "python"
    }
  },
  "cells": [
    {
      "cell_type": "code",
      "execution_count": null,
      "metadata": {
        "colab": {
          "base_uri": "https://localhost:8080/"
        },
        "id": "ajB_Uc7mbsB6",
        "outputId": "35a0cf1c-93de-4d67-dd7b-64e7a1f0be73"
      },
      "outputs": [
        {
          "output_type": "stream",
          "name": "stdout",
          "text": [
            "Output: 2\n",
            "Output: 4\n",
            "Output: -1\n",
            "Output: 0\n",
            "Output: 2\n"
          ]
        }
      ],
      "source": [
        "def arrBinarySearch(arr, key):\n",
        "  ascending = arr[0] < arr[-1]\n",
        "\n",
        "  start = 0\n",
        "  end = len(arr)-1\n",
        "\n",
        "  while start <= end:\n",
        "    idx = start + (end - start)//2\n",
        "    if arr[idx] == key:\n",
        "      return idx\n",
        "\n",
        "    if ascending:\n",
        "      if arr[idx] < key:\n",
        "        start = idx + 1\n",
        "      else:\n",
        "        end = idx -1\n",
        "\n",
        "    else:\n",
        "      if arr[idx] < key:\n",
        "        end = idx -1\n",
        "      else:\n",
        "        start = idx + 1\n",
        "\n",
        "  return -1\n",
        "\n",
        "def main():\n",
        "  Input = [4, 6, 10]\n",
        "  key = 10\n",
        "  print(\"Output: \" + str(arrBinarySearch(Input, key)))\n",
        "\n",
        "  Input = [1, 2, 3, 4, 5, 6, 7]\n",
        "  key = 5\n",
        "  print(\"Output: \" + str(arrBinarySearch(Input, key)))\n",
        "\n",
        "  Input = [1, 2, 3, 4, 5, 6, 7]\n",
        "  key = 15\n",
        "  print(\"Output: \" + str(arrBinarySearch(Input, key)))\n",
        "\n",
        "  Input = [10, 6, 4]\n",
        "  key = 10\n",
        "  print(\"Output: \" + str(arrBinarySearch(Input, key)))\n",
        "\n",
        "  Input = [10, 6, 4]\n",
        "  key = 4\n",
        "  print(\"Output: \" + str(arrBinarySearch(Input, key)))\n",
        "\n",
        "main()"
      ]
    },
    {
      "cell_type": "code",
      "source": [
        "def ceiling(arr, key):\n",
        "  start = 0\n",
        "  end = len(arr) - 1\n",
        "\n",
        "  if key > arr[end]:\n",
        "    return -1\n",
        "\n",
        "  while start <= end:\n",
        "    mid = (start + end)//2\n",
        "\n",
        "    if arr[mid] == key:\n",
        "      return mid\n",
        "\n",
        "    if arr[mid] < key:\n",
        "      start = mid + 1\n",
        "    else:\n",
        "      end = mid - 1\n",
        "\n",
        "  return start\n",
        "\n",
        "\n",
        "def main():\n",
        "  Input = [4, 6, 10]\n",
        "  key = 6\n",
        "  print(\"Output: \" + str(ceiling(Input, key)))\n",
        "\n",
        "  Input = [1, 3, 8, 10, 15]\n",
        "  key = 12\n",
        "  print(\"Output: \" + str(ceiling(Input, key)))\n",
        "\n",
        "  Input = [1, 3, 8, 10, 15]\n",
        "  key = 9\n",
        "  print(\"Output: \" + str(ceiling(Input, key)))\n",
        "\n",
        "  Input = [4, 6, 10]\n",
        "  key = 17\n",
        "  print(\"Output: \" + str(ceiling(Input, key)))\n",
        "\n",
        "  Input = [4, 6, 10]\n",
        "  key = -1\n",
        "  print(\"Output: \" + str(ceiling(Input, key)))\n",
        "\n",
        "main()"
      ],
      "metadata": {
        "colab": {
          "base_uri": "https://localhost:8080/"
        },
        "id": "dJw4WfFENVQn",
        "outputId": "6d50bf6d-d2d3-4799-de26-4030860cc635"
      },
      "execution_count": null,
      "outputs": [
        {
          "output_type": "stream",
          "name": "stdout",
          "text": [
            "Output: 1\n",
            "Output: 4\n",
            "Output: 3\n",
            "Output: -1\n",
            "Output: 0\n"
          ]
        }
      ]
    },
    {
      "cell_type": "code",
      "source": [
        "def nextLetter(arr, key):\n",
        "  start = 0\n",
        "  end = len(arr) - 1\n",
        "\n",
        "  while start <= end:\n",
        "    mid = (start + end)//2\n",
        "\n",
        "    if arr[mid] <= key:\n",
        "      start = mid + 1\n",
        "    elif arr[mid] > key:\n",
        "      end = mid -1\n",
        "\n",
        "  return arr[start % len(arr)]\n",
        "\n",
        "def main():\n",
        "  print(\"Output: \" + str(nextLetter(['a', 'c', 'f', 'h'], 'f')))\n",
        "  print(\"Output: \" + str(nextLetter(['a', 'c', 'f', 'h'], 'b')))\n",
        "  print(\"Output: \" + str(nextLetter(['a', 'c', 'f', 'h'], 'm')))\n",
        "  print(\"Output: \" + str(nextLetter(['a', 'c', 'f', 'h'], 'h')))\n",
        "\n",
        "main()"
      ],
      "metadata": {
        "colab": {
          "base_uri": "https://localhost:8080/"
        },
        "id": "rliKLUAjTRCT",
        "outputId": "c0502221-a7cf-4161-db72-ce6bc085feb3"
      },
      "execution_count": null,
      "outputs": [
        {
          "output_type": "stream",
          "name": "stdout",
          "text": [
            "Output: h\n",
            "Output: c\n",
            "Output: a\n",
            "Output: a\n"
          ]
        }
      ]
    },
    {
      "cell_type": "code",
      "source": [
        "def numberRange(arr, key):\n",
        "  return numberRangeRec(arr, key, 0, len(arr) -1)\n",
        "\n",
        "def numberRangeRec(arr, key, start, end):\n",
        "  while start <= end:\n",
        "    mid = (start + end)//2\n",
        "    if arr[mid] < key:\n",
        "      start = mid + 1\n",
        "    elif arr[mid] > key:\n",
        "      end = mid - 1\n",
        "    else:\n",
        "      r1 = numberRangeRec(arr, key, start, mid -1)\n",
        "      r2 = numberRangeRec(arr, key, mid + 1, end)\n",
        "\n",
        "      startIdx = mid if r1[0] == -1 else r1[0]\n",
        "      endIdx = mid if r2[1] == -1 else r2[1]\n",
        "\n",
        "      return [startIdx, endIdx]\n",
        "\n",
        "  return [-1, -1]\n",
        "\n",
        "def main():\n",
        "  print(\"Output: \" + str(numberRange([4, 6, 6, 6, 9], 6)))\n",
        "  print(\"Output: \" + str(numberRange([1, 3, 8, 10, 15], 10)))\n",
        "  print(\"Output: \" + str(numberRange([1, 3, 8, 10, 15], 12)))\n",
        "\n",
        "main()"
      ],
      "metadata": {
        "colab": {
          "base_uri": "https://localhost:8080/"
        },
        "id": "AAdMstGypOhX",
        "outputId": "50a6910c-d00d-4cb1-874a-d55f5dfca8eb"
      },
      "execution_count": null,
      "outputs": [
        {
          "output_type": "stream",
          "name": "stdout",
          "text": [
            "Output: [1, 3]\n",
            "Output: [3, 3]\n",
            "Output: [-1, -1]\n"
          ]
        }
      ]
    },
    {
      "cell_type": "code",
      "source": [
        "import math\n",
        "\n",
        "\n",
        "class ArrayReader:\n",
        "\n",
        "  def __init__(self, arr):\n",
        "    self.arr = arr\n",
        "\n",
        "  def get(self, index):\n",
        "    if index >= len(self.arr):\n",
        "      return math.inf\n",
        "    return self.arr[index]\n",
        "\n",
        "\n",
        "def search_in_infinite_array(reader, key):\n",
        "  p = 0\n",
        "  idx = pow(2,p) - 1\n",
        "  while reader.get(idx) < key:\n",
        "    p += 1\n",
        "    idx = pow(2,p) - 1\n",
        "\n",
        "  start = (idx + 1)//2\n",
        "  end = idx\n",
        "  while start <= end:\n",
        "    mid = (start + end)//2\n",
        "    if reader.get(mid) == key:\n",
        "      return mid\n",
        "    if reader.get(mid) < key:\n",
        "      start = mid + 1\n",
        "    else:\n",
        "      end = mid - 1\n",
        "\n",
        "  return -1\n",
        "\n",
        "def main():\n",
        "  reader = ArrayReader([4, 6, 8, 10, 12, 14, 16, 18, 20, 22, 24, 26, 28, 30])\n",
        "  print(search_in_infinite_array(reader, 16))\n",
        "  print(search_in_infinite_array(reader, 11))\n",
        "  reader = ArrayReader([1, 3, 8, 10, 15])\n",
        "  print(search_in_infinite_array(reader, 15))\n",
        "  print(search_in_infinite_array(reader, 200))\n",
        "\n",
        "\n",
        "main()"
      ],
      "metadata": {
        "colab": {
          "base_uri": "https://localhost:8080/"
        },
        "id": "NCmtPsinzWBY",
        "outputId": "ff7f531e-f071-424b-8bdd-9843f709172a"
      },
      "execution_count": null,
      "outputs": [
        {
          "output_type": "stream",
          "name": "stdout",
          "text": [
            "6\n",
            "-1\n",
            "4\n",
            "-1\n"
          ]
        }
      ]
    },
    {
      "cell_type": "code",
      "source": [
        "def search_min_diff_element(arr, key):\n",
        "  if arr[0] > key:\n",
        "    return arr[0]\n",
        "\n",
        "  if arr[-1] < key:\n",
        "    return arr[-1]\n",
        "\n",
        "  start = 0\n",
        "  end = len(arr) -1\n",
        "\n",
        "  while start <= end:\n",
        "    mid = start + (end - start)//2\n",
        "\n",
        "    if arr[mid] == key:\n",
        "      return arr[mid]\n",
        "\n",
        "    if arr[mid] < key:\n",
        "      start = mid + 1\n",
        "    else:\n",
        "      end = mid -1\n",
        "\n",
        "  if mid > 0 and abs(arr[mid] - key) > abs(arr[mid -1] - key):\n",
        "    return arr[mid-1]\n",
        "  else:\n",
        "    return arr[mid]\n",
        "\n",
        "\n",
        "def main():\n",
        "  print(search_min_diff_element([4, 6, 10], 7))\n",
        "  print(search_min_diff_element([4, 6, 10], 4))\n",
        "  print(search_min_diff_element([1, 3, 8, 10, 15], 12))\n",
        "  print(search_min_diff_element([1, 3, 8, 10, 15], 13))\n",
        "  print(search_min_diff_element([4, 6, 10], 17))\n",
        "  print(search_min_diff_element([4, 6, 10], 0))\n",
        "  print(search_min_diff_element([4, 6, 10], 5))\n",
        "  print(search_min_diff_element([4, 6, 10], 9))\n",
        "\n",
        "\n",
        "main()"
      ],
      "metadata": {
        "colab": {
          "base_uri": "https://localhost:8080/"
        },
        "id": "CCEpJhBDDSbP",
        "outputId": "44536eb6-1476-4ebe-e08c-0afd5e4b15e8"
      },
      "execution_count": null,
      "outputs": [
        {
          "output_type": "stream",
          "name": "stdout",
          "text": [
            "6\n",
            "4\n",
            "10\n",
            "15\n",
            "10\n",
            "4\n",
            "4\n",
            "10\n"
          ]
        }
      ]
    },
    {
      "cell_type": "code",
      "source": [
        "def find_max_in_bitonic_array(arr):\n",
        "  if len(arr) == 0:\n",
        "    return -1\n",
        "\n",
        "  if len(arr) == 1:\n",
        "    return arr[0]\n",
        "\n",
        "  start = 0\n",
        "  end = len(arr) - 1\n",
        "  while start < end:\n",
        "    mid = (start + end)//2\n",
        "    if arr[mid] < arr[mid+1]:\n",
        "      start = mid + 1\n",
        "    else:\n",
        "      end = mid\n",
        "\n",
        "  return arr[end]\n",
        "\n",
        "\n",
        "def main():\n",
        "  print(find_max_in_bitonic_array([1, 3, 8, 12, 4, 2]))\n",
        "  print(find_max_in_bitonic_array([3, 8, 3, 1]))\n",
        "  print(find_max_in_bitonic_array([1, 3, 8, 12]))\n",
        "  print(find_max_in_bitonic_array([10, 9, 8]))\n",
        "\n",
        "\n",
        "main()"
      ],
      "metadata": {
        "colab": {
          "base_uri": "https://localhost:8080/"
        },
        "id": "wUT5lZnAINaB",
        "outputId": "178249e3-2268-4b9a-f6f2-709d1b5ec302"
      },
      "execution_count": null,
      "outputs": [
        {
          "output_type": "stream",
          "name": "stdout",
          "text": [
            "12\n",
            "8\n",
            "12\n",
            "10\n"
          ]
        }
      ]
    },
    {
      "cell_type": "code",
      "source": [
        "def numberRange(arr, key):\n",
        "\n",
        "  min = findIndex(arr, key, False)\n",
        "  if min == -1:\n",
        "    return [-1, -1]\n",
        "\n",
        "  max = findIndex(arr, key, True)\n",
        "\n",
        "  return [min, max]\n",
        "\n",
        "def findIndex(arr, key, findMax):\n",
        "  index = -1\n",
        "\n",
        "  start = 0\n",
        "  end = len(arr) - 1\n",
        "  while start <= end:\n",
        "    mid = (start + end)//2\n",
        "    if arr[mid] < key:\n",
        "      start = mid + 1\n",
        "    elif arr[mid] > key:\n",
        "      end = mid - 1\n",
        "    else:\n",
        "      index = mid\n",
        "\n",
        "      if findMax:\n",
        "        start = mid + 1\n",
        "      else:\n",
        "        end = mid - 1\n",
        "\n",
        "  return index\n",
        "\n",
        "def main():\n",
        "  print(\"Output: \" + str(numberRange([4, 6, 6, 6, 9], 6)))\n",
        "  print(\"Output: \" + str(numberRange([1, 3, 8, 10, 15], 10)))\n",
        "  print(\"Output: \" + str(numberRange([1, 3, 8, 10, 15], 12)))\n",
        "\n",
        "main()"
      ],
      "metadata": {
        "colab": {
          "base_uri": "https://localhost:8080/"
        },
        "id": "1euTPiaeZ7JJ",
        "outputId": "bd370029-4ceb-461e-da4c-18aaf12632ca"
      },
      "execution_count": null,
      "outputs": [
        {
          "output_type": "stream",
          "name": "stdout",
          "text": [
            "Output: [1, 3]\n",
            "Output: [3, 3]\n",
            "Output: [-1, -1]\n"
          ]
        }
      ]
    }
  ]
}