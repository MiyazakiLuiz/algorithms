{
  "nbformat": 4,
  "nbformat_minor": 0,
  "metadata": {
    "colab": {
      "provenance": []
    },
    "kernelspec": {
      "name": "python3",
      "display_name": "Python 3"
    },
    "language_info": {
      "name": "python"
    }
  },
  "cells": [
    {
      "cell_type": "code",
      "execution_count": null,
      "metadata": {
        "colab": {
          "base_uri": "https://localhost:8080/"
        },
        "id": "gua1XUePPDmH",
        "outputId": "4c928599-62a3-4ff6-89f0-9d7f2c416690"
      },
      "outputs": [
        {
          "output_type": "stream",
          "name": "stdout",
          "text": [
            "[[1, 4], [2, 5], [7, 9]]\n",
            "Output: [[1, 5], [7, 9]]\n",
            "[[2, 4], [5, 9], [6, 7]]\n",
            "Output: [[2, 4], [5, 9]]\n",
            "[[1, 4], [2, 6], [3, 5]]\n",
            "Output: [[1, 6]]\n"
          ]
        }
      ],
      "source": [
        "from collections import deque\n",
        "\n",
        "def mergeIntervals(intervals):\n",
        "  # sort(intervals)\n",
        "\n",
        "  intervals.sort(key=lambda x : x[0])\n",
        "\n",
        "  de = deque([intervals[0]])\n",
        "  for i in range(1, len(intervals)):\n",
        "    interval = intervals[i]\n",
        "    last = de.pop()\n",
        "    if last[len(last)-1] >= interval[0]:\n",
        "      de.append([last[0], max(last[len(last)-1], interval[len(interval)-1])])\n",
        "    else:\n",
        "      de.append(last)\n",
        "      de.append(interval)\n",
        "\n",
        "  return list(de)\n",
        "\n",
        "# def sort(intervals):\n",
        "#   for i in range(len(intervals)-1):\n",
        "#     for j in range(i+1, len(intervals)):\n",
        "#       if intervals[i][0] > intervals[j][0]:\n",
        "#         intervals[i], intervals[j] = intervals[j], intervals[i]\n",
        "\n",
        "def main():\n",
        "  print(\"Output: \" +  str(mergeIntervals([[1,4], [2,5], [7,9]])))\n",
        "  print(\"Output: \" +  str(mergeIntervals([[6,7], [2,4], [5,9]])))\n",
        "  print(\"Output: \" +  str(mergeIntervals([[1,4], [2,6], [3,5]])))\n",
        "\n",
        "main()"
      ]
    },
    {
      "cell_type": "code",
      "source": [
        "def insertInterval(intervals, newInterval):\n",
        "  result = []\n",
        "\n",
        "  start = newInterval[0]\n",
        "  end = newInterval[1]\n",
        "\n",
        "  for i, interval in enumerate(intervals):\n",
        "    # print(\"i: \" + str(i))\n",
        "    # print(\"interval: \" + str(interval))\n",
        "    # print(\"result: \" + str(result))\n",
        "\n",
        "    if end < interval[0]:\n",
        "      result.append([start, end])\n",
        "      for j in range(i, len(intervals)):\n",
        "        result.append(intervals[j])\n",
        "      return result\n",
        "\n",
        "    elif end == interval[1]:\n",
        "      end = interval[1]\n",
        "\n",
        "    elif start <= interval[0] and end >= interval[0]:\n",
        "      end = interval[1]\n",
        "\n",
        "    elif start > interval[0] and start <= interval[1]:\n",
        "      start = interval[0]\n",
        "\n",
        "    elif start <= interval[0] and end >= interval[1]:\n",
        "      continue\n",
        "\n",
        "    else:\n",
        "      result.append(interval)\n",
        "\n",
        "\n",
        "  result.append([start, end])\n",
        "\n",
        "  return result\n",
        "\n",
        "def main():\n",
        "  print(\"Output: \" +  str(insertInterval([[1,3], [5,7], [8,12]], [4,6])))\n",
        "  print(\"Output: \" +  str(insertInterval([[1,3], [5,7], [8,12]], [4,10])))\n",
        "  print(\"Output: \" +  str(insertInterval([[2,3],[5,7]], [1,4])))\n",
        "  print(\"Output: \" +  str(insertInterval([[2,3],[5,7]], [0,1])))\n",
        "  print(\"Output: \" +  str(insertInterval([[2,3],[5,7]], [8,10])))\n",
        "  print(\"Output: \" +  str(insertInterval([[1,3],[5,7]], [0,10])))\n",
        "  print(\"Output: \" +  str(insertInterval([[1,3],[5,7]], [2,6])))\n",
        "  print(\"Output: \" +  str(insertInterval([], [1,4])))\n",
        "\n",
        "main()"
      ],
      "metadata": {
        "colab": {
          "base_uri": "https://localhost:8080/"
        },
        "id": "JcasDrGJWF7g",
        "outputId": "fbf24639-1fa4-4b98-87bf-2ea3ce011935"
      },
      "execution_count": null,
      "outputs": [
        {
          "output_type": "stream",
          "name": "stdout",
          "text": [
            "Output: [[1, 3], [4, 7], [8, 12]]\n",
            "Output: [[1, 3], [4, 7], [8, 12]]\n",
            "Output: [[1, 3], [5, 7]]\n",
            "Output: [[0, 1], [2, 3], [5, 7]]\n",
            "Output: [[2, 3], [5, 7], [8, 10]]\n",
            "Output: [[0, 3], [5, 7]]\n",
            "Output: [[1, 7]]\n",
            "Output: [[1, 4]]\n"
          ]
        }
      ]
    },
    {
      "cell_type": "code",
      "source": [
        "class Interval:\n",
        "  def __init__(self, start, end):\n",
        "    self.start = start\n",
        "    self.end = end\n",
        "\n",
        "def intervalsIntersection(arr1, arr2):\n",
        "  i, j = 0, 0\n",
        "  result = []\n",
        "\n",
        "  while i < len(arr1) and j < len(arr2):\n",
        "    p1 = Interval(arr1[i][0], arr1[i][1])\n",
        "    p2 = Interval(arr2[j][0], arr2[j][1])\n",
        "\n",
        "    if checkOverlapping(p1, p2):\n",
        "        intersection = Interval(max(p1.start, p2.start), min(p1.end, p2.end))\n",
        "        result.append([intersection.start, intersection.end])\n",
        "\n",
        "    if p1.end > p2.end:\n",
        "      j += 1\n",
        "    elif p1.end < p2.end:\n",
        "      i += 1\n",
        "    else:\n",
        "      i += 1\n",
        "      j += 1\n",
        "\n",
        "  return result\n",
        "\n",
        "def checkOverlapping(p1, p2):\n",
        "  return (p1.start <= p2.start and p1.end >= p2.start) \\\n",
        "   or (p1.start >= p2.start and p1.start <= p2.end)\n",
        "\n",
        "\n",
        "def main():\n",
        "  arr1=[[1, 3], [5, 6], [7, 9]]\n",
        "  arr2=[[2, 3], [5, 7]]\n",
        "  print(\"Output: \" +  str(intervalsIntersection(arr1, arr2)))\n",
        "\n",
        "  arr1=[[1, 3], [5, 7], [9, 12]]\n",
        "  arr2=[[5, 10]]\n",
        "  print(\"Output: \" +  str(intervalsIntersection(arr1, arr2)))\n",
        "\n",
        "  arr1=[[2, 3], [5, 7], [9, 12]]\n",
        "  arr2=[[0, 1]]\n",
        "  print(\"Output: \" +  str(intervalsIntersection(arr1, arr2)))\n",
        "\n",
        "  arr1=[[2, 3], [5, 7], [9, 12]]\n",
        "  arr2=[[15, 20]]\n",
        "  print(\"Output: \" +  str(intervalsIntersection(arr1, arr2)))\n",
        "\n",
        "  arr1=[[1, 3], [5, 7], [9, 12]]\n",
        "  arr2=[[0, 13]]\n",
        "  print(\"Output: \" +  str(intervalsIntersection(arr1, arr2)))\n",
        "  print(\"Output: \" +  str(intervalsIntersection(arr2, arr1)))\n",
        "\n",
        "main()"
      ],
      "metadata": {
        "colab": {
          "base_uri": "https://localhost:8080/"
        },
        "id": "6rDLfyUNFRDg",
        "outputId": "6a35da84-110d-4dfa-fa38-fc352f8ab500"
      },
      "execution_count": null,
      "outputs": [
        {
          "output_type": "stream",
          "name": "stdout",
          "text": [
            "Output: [[2, 3], [5, 6], [7, 7]]\n",
            "Output: [[5, 7], [9, 10]]\n",
            "Output: []\n",
            "Output: []\n",
            "Output: [[1, 3], [5, 7], [9, 12]]\n",
            "Output: [[1, 3], [5, 7], [9, 12]]\n"
          ]
        }
      ]
    },
    {
      "cell_type": "code",
      "source": [
        "def conflictingAppointments(appointments):\n",
        "  appointments.sort(key=lambda x: x[0])\n",
        "\n",
        "  for i in range(1, len(appointments)):\n",
        "    ap1 = appointments[i-1]\n",
        "    ap2 = appointments[i]\n",
        "\n",
        "    if ap1[1] >= ap2[0]:\n",
        "      return False\n",
        "\n",
        "  return True\n",
        "\n",
        "def main():\n",
        "\n",
        "  print(\"Output: \" +  str(conflictingAppointments([[1,4], [2,5], [7,9]])))\n",
        "  print(\"Output: \" +  str(conflictingAppointments([[6,7], [2,4], [8,12]])))\n",
        "  print(\"Output: \" +  str(conflictingAppointments([[4,5], [2,3], [3,6]])))\n",
        "\n",
        "main()"
      ],
      "metadata": {
        "colab": {
          "base_uri": "https://localhost:8080/"
        },
        "id": "4Kw5QXTrww9h",
        "outputId": "016c7d6e-5c05-4584-873f-f5f89a12709c"
      },
      "execution_count": null,
      "outputs": [
        {
          "output_type": "stream",
          "name": "stdout",
          "text": [
            "Output: False\n",
            "Output: True\n",
            "Output: False\n"
          ]
        }
      ]
    },
    {
      "cell_type": "code",
      "source": [
        "def insertInterval(intervals, new):\n",
        "  i = 0\n",
        "  start = new[0]\n",
        "  end = new[1]\n",
        "  result = []\n",
        "  flagOverlapped = False\n",
        "\n",
        "  while i < len(intervals):\n",
        "    interval = intervals[i]\n",
        "\n",
        "    checkOverlap = interval[0] <= start and interval[1] >= start \\\n",
        "                or start <= interval[0] and end >= interval[0]\n",
        "\n",
        "    if checkOverlap:\n",
        "      start = min(start, interval[0])\n",
        "      end = max(end, interval[1])\n",
        "      flagOverlapped = True\n",
        "\n",
        "    elif flagOverlapped:\n",
        "      result.append([start, end])\n",
        "      result.append(interval)\n",
        "      flagOverlapped = False\n",
        "\n",
        "    elif end < interval[0]:\n",
        "      result.append([start, end])\n",
        "      while i < len(intervals):\n",
        "        interval = intervals[i]\n",
        "        result.append(interval)\n",
        "        i += 1\n",
        "      break\n",
        "\n",
        "    else:\n",
        "      result.append(interval)\n",
        "\n",
        "    i += 1\n",
        "\n",
        "  if flagOverlapped or start > intervals[i-1][1]:\n",
        "    result.append([start, end])\n",
        "\n",
        "\n",
        "  return result\n",
        "\n",
        "def main():\n",
        "  Intervals=[[1,3], [5,7], [8,12]]\n",
        "  NewInterval=[4,6]\n",
        "  print(\"Output: \" +  str(insertInterval(Intervals, NewInterval)))\n",
        "\n",
        "  Intervals=[[1,3], [5,7], [8,12]]\n",
        "  NewInterval=[4,10]\n",
        "  print(\"Output: \" +  str(insertInterval(Intervals, NewInterval)))\n",
        "\n",
        "  Intervals=[[2,3],[5,7]]\n",
        "  NewInterval=[1,4]\n",
        "  print(\"Output: \" +  str(insertInterval(Intervals, NewInterval)))\n",
        "\n",
        "  Intervals=[[2,3],[5,7]]\n",
        "  NewInterval=[0,1]\n",
        "  print(\"Output: \" +  str(insertInterval(Intervals, NewInterval)))\n",
        "\n",
        "  Intervals=[[2,3],[5,7]]\n",
        "  NewInterval=[8,9]\n",
        "  print(\"Output: \" +  str(insertInterval(Intervals, NewInterval)))\n",
        "\n",
        "  Intervals=[[2,3],[5,7]]\n",
        "  NewInterval=[1,10]\n",
        "  print(\"Output: \" +  str(insertInterval(Intervals, NewInterval)))\n",
        "\n",
        "main()"
      ],
      "metadata": {
        "colab": {
          "base_uri": "https://localhost:8080/"
        },
        "id": "Tujpn2Md1xY-",
        "outputId": "74f9aeea-209a-44bf-99f2-bec27aca5d5b"
      },
      "execution_count": null,
      "outputs": [
        {
          "output_type": "stream",
          "name": "stdout",
          "text": [
            "Output: [[1, 3], [4, 7], [8, 12]]\n",
            "Output: [[1, 3], [4, 12]]\n",
            "Output: [[1, 4], [5, 7]]\n",
            "Output: [[0, 1], [2, 3], [5, 7]]\n",
            "Output: [[2, 3], [5, 7], [8, 9]]\n",
            "Output: [[1, 10]]\n"
          ]
        }
      ]
    },
    {
      "cell_type": "code",
      "source": [
        "def removeSpaces(string):\n",
        "  L = 0\n",
        "  arr = list(string)\n",
        "\n",
        "  if len(arr) > 0:\n",
        "    arr[0] = arr[0].lower()\n",
        "\n",
        "  for R in range(len(arr)):\n",
        "    if arr[R] != \" \":\n",
        "      arr[L] = arr[R]\n",
        "      L += 1\n",
        "    elif R < len(arr) - 1:\n",
        "      arr[R+1] = arr[R+1].upper()\n",
        "\n",
        "  return \"\".join(arr[:L])\n",
        "\n",
        "\n",
        "def main():\n",
        "  print(\"Output: \" +  str(removeSpaces(\"Conflicting Appointments\")))\n",
        "\n",
        "main()"
      ],
      "metadata": {
        "id": "KcFvent3PEhb",
        "colab": {
          "base_uri": "https://localhost:8080/"
        },
        "outputId": "9fc38a0e-b36b-4864-87db-06a55113b0b7"
      },
      "execution_count": null,
      "outputs": [
        {
          "output_type": "stream",
          "name": "stdout",
          "text": [
            "Output: conflictingAppointments\n"
          ]
        }
      ]
    }
  ]
}