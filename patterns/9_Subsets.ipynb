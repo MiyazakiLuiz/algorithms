{
  "cells": [
    {
      "cell_type": "code",
      "execution_count": null,
      "metadata": {
        "colab": {
          "base_uri": "https://localhost:8080/"
        },
        "id": "yEqH_Se8_rui",
        "outputId": "3035c401-a079-4ce3-ae46-52bc215173d3"
      },
      "outputs": [
        {
          "name": "stdout",
          "output_type": "stream",
          "text": [
            "Output: [[], [1], [3], [1, 3]]\n",
            "Output: [[], [1], [5], [1, 5], [3], [1, 3], [5, 3], [1, 5, 3]]\n"
          ]
        }
      ],
      "source": [
        "def allSubsets(arr):\n",
        "  result = [[]]\n",
        "\n",
        "  for currentNumber in arr:\n",
        "    resSize = len(result)\n",
        "    for i in range(resSize):\n",
        "      subResult = list(result[i])\n",
        "      subResult.append(currentNumber)\n",
        "      result.append(subResult)\n",
        "\n",
        "  return result\n",
        "\n",
        "  # Time complexity and Space complexity is O(N*2^N)\n",
        "\n",
        "def main():\n",
        "  print(\"Output: \" + str(allSubsets([1, 3])))\n",
        "  print(\"Output: \" + str(allSubsets([1, 5, 3])))\n",
        "\n",
        "main()"
      ]
    },
    {
      "cell_type": "code",
      "execution_count": null,
      "metadata": {
        "colab": {
          "base_uri": "https://localhost:8080/"
        },
        "id": "liDEWWgPBlLD",
        "outputId": "ea701541-9a26-4a5b-a0bc-e65178571af1"
      },
      "outputs": [
        {
          "name": "stdout",
          "output_type": "stream",
          "text": [
            "Output: [[], [1], [3], [1, 3], [3, 3], [1, 3, 3]]\n",
            "Output: [[], [1], [3], [1, 3], [3, 3], [1, 3, 3], [5], [1, 5], [3, 5], [1, 3, 5], [3, 3, 5], [1, 3, 3, 5]]\n"
          ]
        }
      ],
      "source": [
        "def allSubsets(arr):\n",
        "  result = [[]]\n",
        "  arr.sort()\n",
        "\n",
        "  start, end = 0, 0\n",
        "  for i, element in enumerate(arr):\n",
        "    start = 0\n",
        "    if i > 0 and element == arr[i-1]:\n",
        "      start = end\n",
        "\n",
        "    end = len(result)\n",
        "    for i in range(start, end):\n",
        "      result.append(result[i] + [element])\n",
        "\n",
        "  return result\n",
        "\n",
        "def main():\n",
        "  print(\"Output: \" + str(allSubsets([1, 3, 3])))\n",
        "  print(\"Output: \" + str(allSubsets([1, 3, 5, 3])))\n",
        "\n",
        "main()"
      ]
    },
    {
      "cell_type": "code",
      "execution_count": null,
      "metadata": {
        "colab": {
          "base_uri": "https://localhost:8080/"
        },
        "id": "ITOf-2UDK7bc",
        "outputId": "b82423c7-a666-4402-b444-2c53169cbdbf"
      },
      "outputs": [
        {
          "output_type": "stream",
          "name": "stdout",
          "text": [
            "Output: [[]]\n"
          ]
        }
      ],
      "source": [
        "def allPermeutation(arr):\n",
        "  result = [[]]\n",
        "\n",
        "  for elem in arr:\n",
        "    tempResult = []\n",
        "    for res in result:\n",
        "      permutation = [elem] + res\n",
        "      tempResult.append(permutation)\n",
        "      for i in range(len(res)):\n",
        "        permutation[i], permutation[i+1] = permutation[i+1], permutation[i]\n",
        "        tempResult.append(permutation)\n",
        "\n",
        "  return result\n",
        "\n",
        "def main():\n",
        "  print(\"Output: \" + str(allPermeutation([1])))\n",
        "  # print(\"Output: \" + str(allPermeutation([1, 2])))\n",
        "  # print(\"Output: \" + str(allPermeutation([1, 2, 3])))\n",
        "  # print(\"Output: \" + str(allPermeutation([1, 3, 5])))\n",
        "\n",
        "main()"
      ]
    },
    {
      "cell_type": "code",
      "source": [
        "def balancedParentheses(n):\n",
        "  result = [\"\"]\n",
        "\n",
        "  for _ in range(n):\n",
        "    tempSet = set()\n",
        "    for r in result:\n",
        "      tempSet.add(\"()\" + r)\n",
        "      tempSet.add(r + \"()\")\n",
        "      tempSet.add(\"(\" + r + \")\")\n",
        "\n",
        "    result = list(tempSet)\n",
        "\n",
        "  return result\n",
        "\n",
        "  # Time complexity(N*3^N)\n",
        "  # Space complexity(N*3^N)\n",
        "\n",
        "def main():\n",
        "  print(\"Output: \" + str(balancedParentheses(1)))\n",
        "  print(\"Output: \" + str(balancedParentheses(2)))\n",
        "  print(\"Output: \" + str(balancedParentheses(3)))\n",
        "  # print(\"Output: \" + str(balancedParentheses(4)))\n",
        "\n",
        "main()"
      ],
      "metadata": {
        "id": "8eubHdC8nA90",
        "colab": {
          "base_uri": "https://localhost:8080/"
        },
        "outputId": "21652116-2a19-4c4f-9ac8-a205c0180619"
      },
      "execution_count": null,
      "outputs": [
        {
          "output_type": "stream",
          "name": "stdout",
          "text": [
            "Output: ['()']\n",
            "Output: ['()()', '(())']\n",
            "Output: ['((()))', '()()()', '(())()', '(()())', '()(())']\n"
          ]
        }
      ]
    },
    {
      "cell_type": "code",
      "source": [
        "from collections import deque\n",
        "\n",
        "def generalizedAbbreviations(string):\n",
        "  result = []\n",
        "\n",
        "  d = deque()\n",
        "  d.append(\"\")\n",
        "  for char in string:\n",
        "    dSize = len(d)\n",
        "    for _ in range(dSize):\n",
        "      subPerm = d.popleft()\n",
        "      d.append(subPerm + char)\n",
        "      d.append(subPerm + \"1\")\n",
        "\n",
        "  while d:\n",
        "    permutation = d.popleft()\n",
        "    permutation = convert(permutation)\n",
        "    result.append(permutation)\n",
        "\n",
        "  return result\n",
        "\n",
        "def convert(string):\n",
        "  result = \"\"\n",
        "\n",
        "  sum = 0\n",
        "  for i in range(len(string)):\n",
        "    if string[i].isnumeric():\n",
        "      sum += int(string[i])\n",
        "    elif sum > 0:\n",
        "      result += str(sum) + string[i]\n",
        "      sum = 0\n",
        "    else:\n",
        "      result += string[i]\n",
        "\n",
        "  if sum > 0:\n",
        "    result += str(sum)\n",
        "\n",
        "  return result\n",
        "\n",
        "def main():\n",
        "  print(\"Output: \" + str(generalizedAbbreviations(\"ab\")))\n",
        "  print(\"Output: \" + str(generalizedAbbreviations(\"BAT\")))\n",
        "  print(\"Output: \" + str(generalizedAbbreviations(\"code\")))\n",
        "\n",
        "main()"
      ],
      "metadata": {
        "colab": {
          "base_uri": "https://localhost:8080/"
        },
        "id": "grcOSqBrh7x0",
        "outputId": "8311ef02-2d0c-4bf2-9518-642c5b76d30a"
      },
      "execution_count": null,
      "outputs": [
        {
          "output_type": "stream",
          "name": "stdout",
          "text": [
            "Output: ['ab', 'a1', '1b', '2']\n",
            "Output: ['BAT', 'BA1', 'B1T', 'B2', '1AT', '1A1', '2T', '3']\n",
            "Output: ['code', 'cod1', 'co1e', 'co2', 'c1de', 'c1d1', 'c2e', 'c3', '1ode', '1od1', '1o1e', '1o2', '2de', '2d1', '3e', '4']\n"
          ]
        }
      ]
    },
    {
      "cell_type": "code",
      "source": [
        "def allSubset(arr):\n",
        "  result = [[]]\n",
        "\n",
        "  for elem in arr:\n",
        "    resSize = len(result)\n",
        "    for i in range(resSize):\n",
        "      subset = list(result[i])\n",
        "      subset.append(elem)\n",
        "      result.append(subset)\n",
        "\n",
        "  return result\n",
        "\n",
        "def main():\n",
        "  print(\"Output: \" + str(allSubset([1,3])))\n",
        "  print(\"Output: \" + str(allSubset([1,5,3])))\n",
        "\n",
        "main()"
      ],
      "metadata": {
        "colab": {
          "base_uri": "https://localhost:8080/"
        },
        "id": "MbtwirSYT8TG",
        "outputId": "960d9a8f-a4b5-49ff-fe0b-cd727731e026"
      },
      "execution_count": null,
      "outputs": [
        {
          "output_type": "stream",
          "name": "stdout",
          "text": [
            "Output: [[], [1], [3], [1, 3]]\n",
            "Output: [[], [1], [5], [1, 5], [3], [1, 3], [5, 3], [1, 5, 3]]\n"
          ]
        }
      ]
    },
    {
      "cell_type": "code",
      "source": [
        "from collections import deque\n",
        "\n",
        "class Parenthese:\n",
        "  def __init__(self, str, countOpens, countCloses):\n",
        "    self.str = str\n",
        "    self.countOpens = countOpens\n",
        "    self.countCloses = countCloses\n",
        "\n",
        "  def __repr__(self):\n",
        "    return self.str\n",
        "\n",
        "def balancedParentheses(n):\n",
        "  result = []\n",
        "\n",
        "  d = deque()\n",
        "  d.append(Parenthese(\"\", 0, 0))\n",
        "  while d:\n",
        "    curr = d.popleft()\n",
        "    currStr = curr.str\n",
        "    currOpens = curr.countOpens\n",
        "    currCloses = curr.countCloses\n",
        "\n",
        "    if len(currStr) == n*2:\n",
        "      result.append(currStr)\n",
        "    else:\n",
        "      if currOpens < n:\n",
        "        d.append(Parenthese(currStr + \"(\", currOpens + 1, currCloses))\n",
        "      if currOpens > currCloses:\n",
        "        d.append(Parenthese(currStr + \")\", currOpens, currCloses + 1))\n",
        "\n",
        "  return result\n",
        "\n",
        "def main():\n",
        "  print(\"Output: \" + str(balancedParentheses(1)))\n",
        "  print(\"Output: \" + str(balancedParentheses(2)))\n",
        "  print(\"Output: \" + str(balancedParentheses(3)))\n",
        "\n",
        "main()"
      ],
      "metadata": {
        "colab": {
          "base_uri": "https://localhost:8080/"
        },
        "id": "Ff1wZKWrXI0V",
        "outputId": "103faac0-e107-4a26-b4bb-7ebfca2ac622"
      },
      "execution_count": null,
      "outputs": [
        {
          "output_type": "stream",
          "name": "stdout",
          "text": [
            "Output: ['()']\n",
            "Output: ['(())', '()()']\n",
            "Output: ['((()))', '(()())', '(())()', '()(())', '()()()']\n"
          ]
        }
      ]
    }
  ],
  "metadata": {
    "colab": {
      "provenance": []
    },
    "kernelspec": {
      "display_name": "Python 3",
      "name": "python3"
    },
    "language_info": {
      "name": "python"
    }
  },
  "nbformat": 4,
  "nbformat_minor": 0
}