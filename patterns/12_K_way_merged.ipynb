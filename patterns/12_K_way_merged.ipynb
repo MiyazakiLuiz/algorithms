{
  "nbformat": 4,
  "nbformat_minor": 0,
  "metadata": {
    "colab": {
      "provenance": []
    },
    "kernelspec": {
      "name": "python3",
      "display_name": "Python 3"
    },
    "language_info": {
      "name": "python"
    }
  },
  "cells": [
    {
      "cell_type": "code",
      "execution_count": null,
      "metadata": {
        "colab": {
          "base_uri": "https://localhost:8080/"
        },
        "id": "kzSrVO41tTB9",
        "outputId": "9c8823c3-864a-4000-af36-052b3d6baa46"
      },
      "outputs": [
        {
          "output_type": "stream",
          "name": "stdout",
          "text": [
            "Here are the elements form the merged list: 1 2 3 3 4 6 6 7 8 \n",
            "Here are the elements form the merged list: 1 5 7 8 9 "
          ]
        }
      ],
      "source": [
        "from heapq import *\n",
        "\n",
        "class ListNode:\n",
        "  def __init__(self, value):\n",
        "    self.value = value\n",
        "    self.next = None\n",
        "\n",
        "  def __lt__(self, other):\n",
        "    return self.value < other.value\n",
        "\n",
        "def merge_lists(lists):\n",
        "  minHeap = []\n",
        "  for list in lists:\n",
        "    heappush(minHeap, list)\n",
        "\n",
        "  head = tail = None\n",
        "  while minHeap:\n",
        "    list = heappop(minHeap)\n",
        "    if head is None:\n",
        "      head = tail = list\n",
        "    else:\n",
        "      tail.next = list\n",
        "      tail = tail.next\n",
        "\n",
        "    if list.next is not None:\n",
        "      heappush(minHeap, list.next)\n",
        "\n",
        "  return head\n",
        "\n",
        "\n",
        "def main():\n",
        "  l1 = ListNode(2)\n",
        "  l1.next = ListNode(6)\n",
        "  l1.next.next = ListNode(8)\n",
        "\n",
        "  l2 = ListNode(3)\n",
        "  l2.next = ListNode(6)\n",
        "  l2.next.next = ListNode(7)\n",
        "\n",
        "  l3 = ListNode(1)\n",
        "  l3.next = ListNode(3)\n",
        "  l3.next.next = ListNode(4)\n",
        "\n",
        "  result = merge_lists([l1, l2, l3])\n",
        "  print(\"Here are the elements form the merged list: \", end='')\n",
        "  while result != None:\n",
        "    print(str(result.value) + \" \", end='')\n",
        "    result = result.next\n",
        "\n",
        "\n",
        "  l1 = ListNode(5)\n",
        "  l1.next = ListNode(8)\n",
        "  l1.next.next = ListNode(9)\n",
        "\n",
        "  l2 = ListNode(1)\n",
        "  l2.next = ListNode(7)\n",
        "\n",
        "  result = merge_lists([l1, l2])\n",
        "  print(\"\\nHere are the elements form the merged list: \", end='')\n",
        "  while result != None:\n",
        "    print(str(result.value) + \" \", end='')\n",
        "    result = result.next\n",
        "\n",
        "main()"
      ]
    },
    {
      "cell_type": "code",
      "source": [
        "from heapq import *\n",
        "\n",
        "def find_Kth_smallest(lists, k):\n",
        "  minHeap = []\n",
        "\n",
        "  for i, l in enumerate(lists):\n",
        "    heappush(minHeap, (l[0], 0, i))\n",
        "\n",
        "  l = []\n",
        "  for _ in range(k):\n",
        "    value, vIdx, listIdx = heappop(minHeap)\n",
        "    if vIdx < len(lists[listIdx])-1:\n",
        "      heappush(minHeap, (lists[listIdx][vIdx+1], vIdx+1, listIdx))\n",
        "\n",
        "  return value\n",
        "\n",
        "def main():\n",
        "  print(\"Kth smallest number is: \" +\n",
        "        str(find_Kth_smallest([[2, 6, 8], [3, 6, 7], [1, 3, 4]], 5)))\n",
        "\n",
        "  print(\"Kth smallest number is: \" +\n",
        "        str(find_Kth_smallest([[5, 8, 9], [1, 7]], 3)))\n",
        "\n",
        "\n",
        "main()"
      ],
      "metadata": {
        "colab": {
          "base_uri": "https://localhost:8080/"
        },
        "id": "MzhrRbCfxWAK",
        "outputId": "01a4f8bd-3bff-43d4-d9ac-7086c0516ad1"
      },
      "execution_count": null,
      "outputs": [
        {
          "output_type": "stream",
          "name": "stdout",
          "text": [
            "Kth smallest number is: 4\n",
            "Kth smallest number is: 7\n"
          ]
        }
      ]
    },
    {
      "cell_type": "code",
      "source": [
        "from heapq import *\n",
        "\n",
        "def find_Kth_smallest(matrix, k):\n",
        "  n = len(matrix)\n",
        "  if n*n < k:\n",
        "    return -1\n",
        "\n",
        "  minHeap = []\n",
        "  for i in range(min(k, n)):\n",
        "    heappush(minHeap, (matrix[i][0], i, 0))\n",
        "\n",
        "  value = -1\n",
        "  for _ in range(k):\n",
        "    value, row, col = heappop(minHeap)\n",
        "    if col < n-1:\n",
        "      heappush(minHeap, (matrix[row][col+1], row, col+1))\n",
        "\n",
        "  return value\n",
        "\n",
        "  ### Time complexity O(N*logN + K*logN)\n",
        "  ### Space complexity O(N)\n",
        "\n",
        "def main():\n",
        "  print(\"Kth smallest number is: \" +\n",
        "        str(find_Kth_smallest([[2, 6, 8], [3, 7, 10], [5, 8, 11]], 5)))\n",
        "\n",
        "\n",
        "main()"
      ],
      "metadata": {
        "colab": {
          "base_uri": "https://localhost:8080/"
        },
        "id": "toG4QaxZZ_9y",
        "outputId": "a7faed87-4217-4cee-a764-c2170c238744"
      },
      "execution_count": null,
      "outputs": [
        {
          "output_type": "stream",
          "name": "stdout",
          "text": [
            "Kth smallest number is: 7\n"
          ]
        }
      ]
    },
    {
      "cell_type": "code",
      "source": [
        "from heapq import *\n",
        "import math\n",
        "\n",
        "\n",
        "def find_smallest_range(lists):\n",
        "  minHeap = []\n",
        "  rangeStart, rangeEnd = 0, math.inf\n",
        "  currentMaxNumber = -math.inf\n",
        "\n",
        "  # put the 1st element of each array in the max heap\n",
        "  for arr in lists:\n",
        "    heappush(minHeap, (arr[0], 0, arr))\n",
        "    currentMaxNumber = max(currentMaxNumber, arr[0])\n",
        "\n",
        "  # take the smallest(top) element form the min heap, if it gives us smaller range, update the ranges\n",
        "  # if the array of the top element has more elements, insert the next element in the heap\n",
        "  while len(minHeap) == len(lists):\n",
        "    num, i, arr = heappop(minHeap)\n",
        "    if rangeEnd - rangeStart > currentMaxNumber - num:\n",
        "      rangeStart = num\n",
        "      rangeEnd = currentMaxNumber\n",
        "\n",
        "    if len(arr) > i+1:\n",
        "      # insert the next element in the heap\n",
        "      heappush(minHeap, (arr[i+1], i+1, arr))\n",
        "      currentMaxNumber = max(currentMaxNumber, arr[i+1])\n",
        "\n",
        "  return [rangeStart, rangeEnd]\n",
        "\n",
        "\n",
        "def main():\n",
        "  print(\"Smallest range is: \" +\n",
        "        str(find_smallest_range([[1, 5, 8], [4, 12], [7, 8, 10]])))\n",
        "\n",
        "  print(\"Smallest range is: \" +\n",
        "        str(find_smallest_range([[1, 5, 8], [4, 12], [15,16,17]])))\n",
        "\n",
        "  print(\"Smallest range is: \" +\n",
        "        str(find_smallest_range([[1, 5, 8], [4, 12], [-5,-4,-3]])))\n",
        "\n",
        "\n",
        "main()"
      ],
      "metadata": {
        "colab": {
          "base_uri": "https://localhost:8080/"
        },
        "id": "nPxQwWbv4qyW",
        "outputId": "ea054b18-c33f-4fbb-e9c4-31ad43502b40"
      },
      "execution_count": null,
      "outputs": [
        {
          "output_type": "stream",
          "name": "stdout",
          "text": [
            "Smallest range is: [4, 7]\n",
            "Smallest range is: [8, 15]\n",
            "Smallest range is: [-3, 4]\n"
          ]
        }
      ]
    },
    {
      "cell_type": "code",
      "source": [
        "from heapq import *\n",
        "\n",
        "def find_closest_elements(arr, K, X):\n",
        "  result = []\n",
        "\n",
        "  idx = binarySearch(arr, X)\n",
        "  start = idx - K if idx >= K else 0\n",
        "  end = idx + K if idx + K < len(arr) else len(arr)-1\n",
        "\n",
        "  maxHeap = []\n",
        "  for i in range(start, end + 1):\n",
        "    diff = abs(X - arr[i])\n",
        "    if len(maxHeap) < K:\n",
        "      heappush(maxHeap, (-diff, arr[i]))\n",
        "    else:\n",
        "      heappushpop(maxHeap, (-diff, arr[i]))\n",
        "\n",
        "  for mh in maxHeap:\n",
        "    result.append(mh[1])\n",
        "\n",
        "  return result\n",
        "\n",
        "def binarySearch(arr, X):\n",
        "  start = 0\n",
        "  end = len(arr)-1\n",
        "\n",
        "  while start <= end:\n",
        "    mid = start + (end - start)//2 #Avoid integer overflow\n",
        "    if arr[mid] < X:\n",
        "      start = mid + 1\n",
        "    elif arr[mid] > X:\n",
        "      end = mid - 1\n",
        "    else:\n",
        "      return mid\n",
        "\n",
        "  return mid\n",
        "\n",
        "def main():\n",
        "  print(\"'K' closest numbers to 'X' are: \" +\n",
        "        str(find_closest_elements([5, 6, 7, 8, 9], 3, 7)))\n",
        "  print(\"'K' closest numbers to 'X' are: \" +\n",
        "        str(find_closest_elements([2, 4, 5, 6, 9], 3, 6)))\n",
        "  print(\"'K' closest numbers to 'X' are: \" +\n",
        "        str(find_closest_elements([2, 4, 5, 6, 9], 3, 10)))\n",
        "\n",
        "\n",
        "main()"
      ],
      "metadata": {
        "colab": {
          "base_uri": "https://localhost:8080/"
        },
        "id": "bJYVz8iECFpQ",
        "outputId": "d4b33f52-a8ec-49f0-8ce5-74f437bdf5b2"
      },
      "execution_count": null,
      "outputs": [
        {
          "output_type": "stream",
          "name": "stdout",
          "text": [
            "'K' closest numbers to 'X' are: [6, 8, 7]\n",
            "'K' closest numbers to 'X' are: [4, 6, 5]\n",
            "'K' closest numbers to 'X' are: [5, 9, 6]\n"
          ]
        }
      ]
    },
    {
      "cell_type": "code",
      "source": [
        "def find_maximum_distinct_elements(nums, k):\n",
        "  numFreqMap = {}\n",
        "  minHeap = []\n",
        "  count = 0\n",
        "\n",
        "  if k >= len(nums):\n",
        "    return 0\n",
        "\n",
        "  for n in nums:\n",
        "    numFreqMap[n] = numFreqMap.get(n, 0) + 1\n",
        "\n",
        "  for n, freq in numFreqMap.items():\n",
        "    if freq > 1:\n",
        "      if len(minHeap) < k:\n",
        "        heappush(minHeap, (freq, n))\n",
        "      else:\n",
        "        heappushpop(minHeap, (freq, n))\n",
        "    else:\n",
        "      count += 1\n",
        "\n",
        "  while minHeap and k > 0:\n",
        "    freq, n = heappop(minHeap)\n",
        "    k -= freq-1\n",
        "    if k >= 0:\n",
        "      count += 1\n",
        "\n",
        "  if k > 0:\n",
        "    count -= k\n",
        "\n",
        "  return count\n",
        "\n",
        "\n",
        "def main():\n",
        "\n",
        "  print(\"Maximum distinct numbers after removing K numbers: \" +\n",
        "        str(find_maximum_distinct_elements([7, 3, 5, 8, 5, 3, 3], 2)))\n",
        "  print(\"Maximum distinct numbers after removing K numbers: \" +\n",
        "        str(find_maximum_distinct_elements([3, 5, 12, 11, 12], 3)))\n",
        "  print(\"Maximum distinct numbers after removing K numbers: \" +\n",
        "        str(find_maximum_distinct_elements([1, 2, 3, 3, 3, 3, 4, 4, 5, 5, 5], 2)))\n",
        "\n",
        "\n",
        "main()"
      ],
      "metadata": {
        "colab": {
          "base_uri": "https://localhost:8080/"
        },
        "id": "9Xt81vN6FsY1",
        "outputId": "032a6d3f-5c7b-41aa-b2e9-e90a9c4b1543"
      },
      "execution_count": null,
      "outputs": [
        {
          "output_type": "stream",
          "name": "stdout",
          "text": [
            "Maximum distinct numbers after removing K numbers: 3\n",
            "Maximum distinct numbers after removing K numbers: 2\n",
            "Maximum distinct numbers after removing K numbers: 3\n"
          ]
        }
      ]
    },
    {
      "cell_type": "code",
      "source": [
        "from heapq import *\n",
        "\n",
        "def rearrange_string(str):\n",
        "  maxHeap = []\n",
        "  charFreqMap = {}\n",
        "\n",
        "  for char in str:\n",
        "    charFreqMap[char] = charFreqMap.get(char, 0) + 1\n",
        "\n",
        "  for char, freq in charFreqMap.items():\n",
        "    heappush(maxHeap, (-freq, char))\n",
        "\n",
        "  prevFreq = prevChar = None\n",
        "  result = []\n",
        "  while maxHeap:\n",
        "    freq, char = heappop(maxHeap)\n",
        "    result.append(char)\n",
        "    if prevFreq and -prevFreq > 1:\n",
        "      heappush(maxHeap, (prevFreq + 1, prevChar))\n",
        "\n",
        "    prevFreq = freq\n",
        "    prevChar = char\n",
        "\n",
        "  if len(result) < len(str):\n",
        "    return \"\"\n",
        "\n",
        "  return \"\".join(result)\n",
        "\n",
        "\n",
        "def main():\n",
        "  print(\"Rearranged string:  \" + rearrange_string(\"aappp\"))\n",
        "  print(\"Rearranged string:  \" + rearrange_string(\"aaapppiiiiiii\"))\n",
        "  print(\"Rearranged string:  \" + rearrange_string(\"aapppp\"))\n",
        "  print(\"Rearranged string:  \" + rearrange_string(\"Programming\"))\n",
        "  print(\"Rearranged string:  \" + rearrange_string(\"aapa\"))\n",
        "\n",
        "\n",
        "main()"
      ],
      "metadata": {
        "colab": {
          "base_uri": "https://localhost:8080/"
        },
        "id": "sr4LzBgqJSGA",
        "outputId": "0f3bc8aa-f44d-4ad5-fa73-f577d0a34159"
      },
      "execution_count": null,
      "outputs": [
        {
          "output_type": "stream",
          "name": "stdout",
          "text": [
            "Rearranged string:  papap\n",
            "Rearranged string:  iaipiaipiaipi\n",
            "Rearranged string:  \n",
            "Rearranged string:  gmrPagimnor\n",
            "Rearranged string:  \n"
          ]
        }
      ]
    },
    {
      "cell_type": "code",
      "source": [
        "from heapq import *\n",
        "import math\n",
        "\n",
        "def find_smallest_range(lists):\n",
        "  rangeMin = currMax = -math.inf\n",
        "  rangeMax = math.inf\n",
        "  minHeap = []\n",
        "\n",
        "  for arr in lists:\n",
        "    heappush(minHeap, (arr[0], 0, arr))\n",
        "    currMax = max(currMax, arr[0])\n",
        "\n",
        "  while len(lists) == len(minHeap):\n",
        "    value, i, arr = heappop(minHeap)\n",
        "    if rangeMax - rangeMin > currMax - value:\n",
        "      rangeMin = value\n",
        "      rangeMax = currMax\n",
        "\n",
        "    if i < len(arr) - 1:\n",
        "      heappush(minHeap, (arr[i+1], i+1, arr))\n",
        "      currMax = max(currMax, arr[i+1])\n",
        "\n",
        "  return [rangeMin, rangeMax]\n",
        "\n",
        "\n",
        "def main():\n",
        "  print(\"Smallest range is: \" +\n",
        "        str(find_smallest_range([[1, 5, 8], [4, 12], [7, 8, 10]])))\n",
        "\n",
        "\n",
        "main()"
      ],
      "metadata": {
        "colab": {
          "base_uri": "https://localhost:8080/"
        },
        "id": "uYqnElcO80Yw",
        "outputId": "9a411298-b57c-43a3-c168-639d329e08f8"
      },
      "execution_count": null,
      "outputs": [
        {
          "output_type": "stream",
          "name": "stdout",
          "text": [
            "Smallest range is: [4, 7]\n"
          ]
        }
      ]
    },
    {
      "cell_type": "code",
      "source": [
        "from heapq import *\n",
        "import math\n",
        "\n",
        "def find_smallest_range(lists):\n",
        "  rangeMin = 0\n",
        "  rangeMax = math.inf\n",
        "\n",
        "  minHeap = []\n",
        "  currMax = -math.inf\n",
        "  for arr in lists:\n",
        "    currMax = max(currMax, arr[0])\n",
        "    heappush(minHeap, (arr[0], 0, arr))\n",
        "\n",
        "\n",
        "  while len(minHeap) == len(lists):\n",
        "    val, i, arr = heappop(minHeap)\n",
        "    if rangeMax - rangeMin > currMax - val:\n",
        "      rangeMax = currMax\n",
        "      rangeMin = val\n",
        "\n",
        "    if i < len(arr) - 1:\n",
        "      currMax = max(currMax, arr[i+1])\n",
        "      heappush(minHeap, (arr[i+1], i+1, arr))\n",
        "\n",
        "\n",
        "  return [rangeMin, rangeMax]\n",
        "\n",
        "def main():\n",
        "  print(\"Smallest range is: \" +\n",
        "        str(find_smallest_range([[1, 5, 8], [4, 12], [7, 8, 10]])))\n",
        "\n",
        "  print()\n",
        "  print(\"Smallest range is: \" +\n",
        "        str(find_smallest_range([[1, 9], [4, 12], [7, 10, 16]])))\n",
        "\n",
        "main()"
      ],
      "metadata": {
        "colab": {
          "base_uri": "https://localhost:8080/"
        },
        "id": "Q83ahLerAuvA",
        "outputId": "0049aad7-f82e-47e7-b2cd-1cb4f8450454"
      },
      "execution_count": null,
      "outputs": [
        {
          "output_type": "stream",
          "name": "stdout",
          "text": [
            "Smallest range is: [4, 7]\n",
            "\n",
            "Smallest range is: [9, 12]\n"
          ]
        }
      ]
    }
  ]
}