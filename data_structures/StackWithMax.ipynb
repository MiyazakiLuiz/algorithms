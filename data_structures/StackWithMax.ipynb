{
 "cells": [
  {
   "cell_type": "code",
   "execution_count": 2,
   "metadata": {},
   "outputs": [],
   "source": [
    "class Node:\n",
    "  def __init__(self, data, next = None):\n",
    "    self.data = data\n",
    "    self.next = next\n",
    "\n",
    "class Stack:\n",
    "  class MaxWithCount:\n",
    "    def __init__(self, value, count):\n",
    "      self.value = value\n",
    "      self.count = count\n",
    "\n",
    "  def __init__(self):\n",
    "    self.max_stack = []\n",
    "    self.top = None\n",
    "\n",
    "  def empty(self):\n",
    "    return self.top is None\n",
    "\n",
    "  def push(self, data):\n",
    "    node = Node(data, self.top)\n",
    "    self.top = node\n",
    "\n",
    "    _max = self._max_peek()\n",
    "    if not _max or _max.value < data:\n",
    "      self.max_stack.append(self.MaxWithCount(data, 1))\n",
    "    elif _max.value == data:\n",
    "      self._max_inc()\n",
    "\n",
    "  def _max_inc(self):\n",
    "    if not self.max_stack:\n",
    "      raise Exception(\"Max Stack is empty\")\n",
    "    self.max_stack[-1].count += 1\n",
    "\n",
    "  def pop(self):\n",
    "    if self.empty():\n",
    "      return None\n",
    "\n",
    "    data = self.top.data\n",
    "    self.top = self.top.next\n",
    "\n",
    "    _max = self._max_peek()\n",
    "    if _max and data == _max.value:\n",
    "      self._max_dec()\n",
    "        \n",
    "    return data\n",
    "\n",
    "  def _max_dec(self):\n",
    "    if not self.max_stack:\n",
    "      None\n",
    "    if self.max_stack[-1].count > 1:\n",
    "      self.max_stack[-1].count -= 1\n",
    "    else:\n",
    "      self.max_stack.pop()\n",
    "\n",
    "  def peek(self):\n",
    "    if self.empty():\n",
    "      return None\n",
    "\n",
    "    return self.top.data\n",
    "\n",
    "  def _max_peek(self):\n",
    "    return None if not self.max_stack else self.max_stack[-1]\n",
    "\n",
    "  def get_max(self):\n",
    "    _max = self._max_peek()\n",
    "    return None if not _max else _max.value"
   ]
  },
  {
   "cell_type": "code",
   "execution_count": 3,
   "metadata": {},
   "outputs": [
    {
     "name": "stdout",
     "output_type": "stream",
     "text": [
      "4\n",
      "4\n",
      "3\n",
      "3\n",
      "2\n",
      "2\n",
      "1\n",
      "None\n"
     ]
    }
   ],
   "source": [
    "def main():\n",
    "  stack = Stack()\n",
    "  stack.push(1)\n",
    "  stack.push(2)\n",
    "  stack.push(3)\n",
    "  stack.push(4)\n",
    "  print(stack.peek()) # 4\n",
    "  print(stack.pop()) # 4\n",
    "  print(stack.get_max()) # 3\n",
    "  print(stack.pop()) # 3\n",
    "  print(stack.get_max()) # 2\n",
    "  print(stack.pop()) # 2\n",
    "  print(stack.pop()) # 1\n",
    "  print(stack.pop()) # None\n",
    "\n",
    "main()"
   ]
  }
 ],
 "metadata": {
  "kernelspec": {
   "display_name": "Python 3",
   "language": "python",
   "name": "python3"
  },
  "language_info": {
   "codemirror_mode": {
    "name": "ipython",
    "version": 3
   },
   "file_extension": ".py",
   "mimetype": "text/x-python",
   "name": "python",
   "nbconvert_exporter": "python",
   "pygments_lexer": "ipython3",
   "version": "3.10.12"
  },
  "orig_nbformat": 4
 },
 "nbformat": 4,
 "nbformat_minor": 2
}
