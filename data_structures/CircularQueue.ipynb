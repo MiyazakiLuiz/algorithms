{
 "cells": [
  {
   "cell_type": "code",
   "execution_count": 20,
   "metadata": {},
   "outputs": [],
   "source": [
    "class Queue:\n",
    "  def __init__(self, size):\n",
    "    self.size = size\n",
    "    self.queue = [0 for _ in range(size)]\n",
    "    self.head = -1\n",
    "    self.tail = -1\n",
    "\n",
    "  def __repr__(self):\n",
    "    repr = \"\"\n",
    "    if self.head > self.tail:\n",
    "      repr = str(self.queue[self.head : ] + self.queue[:self.tail+1])\n",
    "    else:\n",
    "      repr = str(self.queue[self.head : self.tail+1])\n",
    "\n",
    "    return repr\n",
    "\n",
    "  def dequeue(self):\n",
    "    if self._empty():\n",
    "      raise Exception(\"Queue is empty\")\n",
    "    \n",
    "    data = self.queue[self.head]\n",
    "\n",
    "    if self.head == self.tail:\n",
    "      self.head = self.tail = -1\n",
    "    elif self.head == self.size - 1:\n",
    "      self.head = 0\n",
    "    else:\n",
    "      self.head += 1\n",
    "\n",
    "    return data\n",
    "    \n",
    "  def enqueue(self, data):\n",
    "    if self._full():\n",
    "      self._resize()\n",
    "\n",
    "    if self._empty():\n",
    "      self.head = self.tail = 0\n",
    "    else:\n",
    "      self.tail += 1\n",
    "      if self.tail == self.size:\n",
    "        self.tail = 0\n",
    "\n",
    "    self.queue[self.tail] = data\n",
    "\n",
    "  def _full(self):\n",
    "    return self.tail + 1 - self.head == self.size or \\\n",
    "      self.tail == self.head - 1\n",
    "\n",
    "  def _empty(self):\n",
    "    return self.head == -1 or self.tail == -1\n",
    "  \n",
    "  def _resize(self):\n",
    "    if self.tail < self.head:\n",
    "      for i in range(self.tail+1):\n",
    "        self.queue.append(self.queue[i])\n",
    "      self.queue.extend([0 for _ in range(self.size - self.tail+1)])\n",
    "    else:\n",
    "      self.queue.extend([0 for _ in range(self.size)])\n",
    "\n",
    "    self.size *= 2"
   ]
  },
  {
   "cell_type": "code",
   "execution_count": 25,
   "metadata": {},
   "outputs": [
    {
     "name": "stdout",
     "output_type": "stream",
     "text": [
      "[1, 2, 3, 4]\n",
      "[1, 2, 3, 4, 5]\n",
      "[4, 5]\n",
      "[4, 5, 6]\n"
     ]
    }
   ],
   "source": [
    "q = Queue(4)\n",
    "\n",
    "q.enqueue(1)\n",
    "q.enqueue(2)\n",
    "q.enqueue(3)\n",
    "q.enqueue(4)\n",
    "print(q)\n",
    "\n",
    "q.enqueue(5)\n",
    "print(q)\n",
    "\n",
    "q.dequeue()\n",
    "q.dequeue()\n",
    "q.dequeue()\n",
    "print(q)\n",
    "\n",
    "q.enqueue(6)\n",
    "print(q)"
   ]
  }
 ],
 "metadata": {
  "kernelspec": {
   "display_name": "Python 3",
   "language": "python",
   "name": "python3"
  },
  "language_info": {
   "codemirror_mode": {
    "name": "ipython",
    "version": 3
   },
   "file_extension": ".py",
   "mimetype": "text/x-python",
   "name": "python",
   "nbconvert_exporter": "python",
   "pygments_lexer": "ipython3",
   "version": "3.10.12"
  },
  "orig_nbformat": 4
 },
 "nbformat": 4,
 "nbformat_minor": 2
}
