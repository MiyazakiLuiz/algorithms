{
 "cells": [
  {
   "cell_type": "code",
   "execution_count": 12,
   "metadata": {},
   "outputs": [],
   "source": [
    "def base_conversion(n, b1, b2):\n",
    "  decimal = conversion_base_to_decimal(n, b1)\n",
    "  result = conversion_decimal_to_base(decimal, b2)\n",
    "  return result\n",
    "\n",
    "def conversion_base_to_decimal(n, base):\n",
    "  def char_to_dec(char):\n",
    "    if char.isnumeric():\n",
    "      return int(char)\n",
    "    \n",
    "    return 10 + ord(char.upper()) - ord('A')\n",
    "\n",
    "  result = 0\n",
    "  for power, char in enumerate(reversed(n)):\n",
    "    result += char_to_dec(char) * pow(base, power)\n",
    "\n",
    "  return result\n",
    "\n",
    "def conversion_decimal_to_base(n, base):\n",
    "  result = []\n",
    "  power = 1\n",
    "  while power <= n:\n",
    "    power *= base\n",
    "  power /= base\n",
    "\n",
    "\n",
    "  while power >= 1:\n",
    "    div = int(n/power)\n",
    "    n -= power*div\n",
    "    curr = str(div) if div < 10 else chr(ord('A') + div-10)\n",
    "    result.append(curr)\n",
    "\n",
    "    power //= base\n",
    "\n",
    "  return ''.join(result)"
   ]
  },
  {
   "cell_type": "code",
   "execution_count": 16,
   "metadata": {},
   "outputs": [
    {
     "name": "stdout",
     "output_type": "stream",
     "text": [
      "22\n",
      "1010\n",
      "10\n",
      "255\n"
     ]
    }
   ],
   "source": [
    "print(base_conversion('1010', 2, 4))\n",
    "print(base_conversion('22', 4, 2))\n",
    "print(base_conversion('22', 4, 10))\n",
    "print(base_conversion('FF', 16, 10))"
   ]
  },
  {
   "cell_type": "code",
   "execution_count": 13,
   "metadata": {},
   "outputs": [
    {
     "name": "stdout",
     "output_type": "stream",
     "text": [
      "101\n",
      "20\n",
      "22\n",
      "FF\n",
      "100\n"
     ]
    }
   ],
   "source": [
    "print(conversion_decimal_to_base(5, 2)) # 101\n",
    "print(conversion_decimal_to_base(8, 4)) # 20\n",
    "print(conversion_decimal_to_base(10, 4)) # 22\n",
    "print(conversion_decimal_to_base(255, 16)) # FF\n",
    "print(conversion_decimal_to_base(256, 16)) # 100"
   ]
  },
  {
   "cell_type": "code",
   "execution_count": 3,
   "metadata": {},
   "outputs": [
    {
     "name": "stdout",
     "output_type": "stream",
     "text": [
      "5\n",
      "8\n",
      "10\n",
      "255\n",
      "256\n"
     ]
    }
   ],
   "source": [
    "print(conversion_base_to_decimal('101', 2)) # 5\n",
    "print(conversion_base_to_decimal('20', 4)) # 8\n",
    "print(conversion_base_to_decimal('22', 4)) # 10\n",
    "print(conversion_base_to_decimal('FF', 16)) # 255\n",
    "print(conversion_base_to_decimal('100', 16)) # 256"
   ]
  }
 ],
 "metadata": {
  "kernelspec": {
   "display_name": "Python 3",
   "language": "python",
   "name": "python3"
  },
  "language_info": {
   "codemirror_mode": {
    "name": "ipython",
    "version": 3
   },
   "file_extension": ".py",
   "mimetype": "text/x-python",
   "name": "python",
   "nbconvert_exporter": "python",
   "pygments_lexer": "ipython3",
   "version": "3.10.12"
  }
 },
 "nbformat": 4,
 "nbformat_minor": 2
}
