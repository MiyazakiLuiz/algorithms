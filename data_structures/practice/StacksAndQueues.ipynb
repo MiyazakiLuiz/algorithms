{
 "cells": [
  {
   "cell_type": "code",
   "execution_count": 3,
   "metadata": {},
   "outputs": [],
   "source": [
    "def evaluate(RPN_expression):\n",
    "  result = []\n",
    "  DELIMITER = \",\"\n",
    "  OPERATORS = {\n",
    "    \"+\": lambda y, x: x+y,\n",
    "    \"-\": lambda y, x: x-y,\n",
    "    \"x\": lambda y, x: x*y,\n",
    "    \"/\": lambda y, x: x/y\n",
    "  }\n",
    "\n",
    "  for token in RPN_expression.split(DELIMITER):\n",
    "    if token in OPERATORS:\n",
    "      result.append(OPERATORS[token](result.pop(), result.pop()))\n",
    "    else:\n",
    "      result.append(int(token))\n",
    "\n",
    "  return result[-1]"
   ]
  },
  {
   "cell_type": "code",
   "execution_count": 4,
   "metadata": {},
   "outputs": [
    {
     "name": "stdout",
     "output_type": "stream",
     "text": [
      "15\n"
     ]
    }
   ],
   "source": [
    "print(evaluate(\"3,4,+,2,x,1,+\"))"
   ]
  }
 ],
 "metadata": {
  "kernelspec": {
   "display_name": "Python 3",
   "language": "python",
   "name": "python3"
  },
  "language_info": {
   "codemirror_mode": {
    "name": "ipython",
    "version": 3
   },
   "file_extension": ".py",
   "mimetype": "text/x-python",
   "name": "python",
   "nbconvert_exporter": "python",
   "pygments_lexer": "ipython3",
   "version": "3.10.12"
  },
  "orig_nbformat": 4
 },
 "nbformat": 4,
 "nbformat_minor": 2
}
