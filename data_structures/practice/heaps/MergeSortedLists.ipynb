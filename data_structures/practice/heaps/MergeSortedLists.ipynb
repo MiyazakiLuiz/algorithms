{
 "cells": [
  {
   "cell_type": "code",
   "execution_count": 4,
   "metadata": {},
   "outputs": [],
   "source": [
    "import heapq\n",
    "\n",
    "def merge_sorted_lists(lists):\n",
    "  result = []\n",
    "\n",
    "  min_heap = []\n",
    "  for l in lists:\n",
    "    heapq.heappush(min_heap, (l[0], 0, l))\n",
    "\n",
    "  while min_heap:\n",
    "    val, idx, l = heapq.heappop(min_heap)\n",
    "    result.append(val)\n",
    "\n",
    "    if idx + 1 < len(l):\n",
    "      heapq.heappush(min_heap, (l[idx+1], idx+1, l))\n",
    "\n",
    "  return result\n",
    "\n",
    "# Time N*logK, where N is the number of elements and K is the number of lists\n",
    "# Space K, to store the min heap"
   ]
  },
  {
   "cell_type": "code",
   "execution_count": 3,
   "metadata": {},
   "outputs": [
    {
     "name": "stdout",
     "output_type": "stream",
     "text": [
      "[0, 0, 3, 5, 6, 6, 7, 28]\n"
     ]
    }
   ],
   "source": [
    "l1 = [3,5,7]\n",
    "l2 = [0,6]\n",
    "l3 = [0,6,28]\n",
    "print(merge_sorted_lists([l1, l2, l3]))"
   ]
  }
 ],
 "metadata": {
  "kernelspec": {
   "display_name": "Python 3",
   "language": "python",
   "name": "python3"
  },
  "language_info": {
   "codemirror_mode": {
    "name": "ipython",
    "version": 3
   },
   "file_extension": ".py",
   "mimetype": "text/x-python",
   "name": "python",
   "nbconvert_exporter": "python",
   "pygments_lexer": "ipython3",
   "version": "3.10.12"
  },
  "orig_nbformat": 4
 },
 "nbformat": 4,
 "nbformat_minor": 2
}
