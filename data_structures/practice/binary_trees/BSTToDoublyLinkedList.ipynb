{
 "cells": [
  {
   "cell_type": "code",
   "execution_count": 10,
   "metadata": {},
   "outputs": [],
   "source": [
    "class TreeNode:\n",
    "  def __init__(self, data):\n",
    "    self.data = data\n",
    "    self.left = None\n",
    "    self.right = None\n",
    "\n",
    "def bst_to_list(root):\n",
    "  head, _ = bst_to_list_healper(root)\n",
    "  return head\n",
    "\n",
    "def bst_to_list_healper(node):\n",
    "  if node is None:\n",
    "    return None, None\n",
    "  \n",
    "  head1, tail1 = bst_to_list_healper(node.left)\n",
    "  if tail1:\n",
    "    tail1.right = node\n",
    "    node.left = tail1\n",
    "  else:\n",
    "    head1 = node\n",
    "  head2, tail2 = bst_to_list_healper(node.right)\n",
    "  if head2:\n",
    "    head2.left = node\n",
    "    node.right = head2\n",
    "  else:\n",
    "    tail2 = node\n",
    "\n",
    "  return head1, tail2"
   ]
  },
  {
   "cell_type": "code",
   "execution_count": 11,
   "metadata": {},
   "outputs": [
    {
     "name": "stdout",
     "output_type": "stream",
     "text": [
      "1\n",
      "2\n",
      "3\n",
      "4\n",
      "6\n",
      "7\n"
     ]
    }
   ],
   "source": [
    "'''\n",
    "    4\n",
    "  /   \\ \n",
    " 2     6\n",
    "/ \\     \\ \n",
    "1  3     7\n",
    "'''\n",
    "node = TreeNode(4)\n",
    "node.left = TreeNode(2)\n",
    "node.right = TreeNode(6)\n",
    "node.left.left = TreeNode(1)\n",
    "node.left.right = TreeNode(3)\n",
    "node.right.right = TreeNode(7)\n",
    "\n",
    "head = bst_to_list(node)\n",
    "while head:\n",
    "  print(head.data)\n",
    "  head = head.right"
   ]
  }
 ],
 "metadata": {
  "kernelspec": {
   "display_name": "Python 3",
   "language": "python",
   "name": "python3"
  },
  "language_info": {
   "codemirror_mode": {
    "name": "ipython",
    "version": 3
   },
   "file_extension": ".py",
   "mimetype": "text/x-python",
   "name": "python",
   "nbconvert_exporter": "python",
   "pygments_lexer": "ipython3",
   "version": "3.10.12"
  }
 },
 "nbformat": 4,
 "nbformat_minor": 2
}
