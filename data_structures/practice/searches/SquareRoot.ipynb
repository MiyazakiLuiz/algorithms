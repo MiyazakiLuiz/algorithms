{
 "cells": [
  {
   "cell_type": "code",
   "execution_count": 3,
   "metadata": {},
   "outputs": [],
   "source": [
    "def square_root(n):\n",
    "  res = 0\n",
    "\n",
    "  L = 0 \n",
    "  R = n\n",
    "  while L <= R:\n",
    "    M = L + (R - L)//2\n",
    "    square = M*M\n",
    "  \n",
    "    if square > n:\n",
    "      R = M - 1\n",
    "    elif square < n:\n",
    "      res = M\n",
    "      L = M + 1\n",
    "    else:\n",
    "      return L\n",
    "\n",
    "\n",
    "  return res"
   ]
  },
  {
   "cell_type": "code",
   "execution_count": 4,
   "metadata": {},
   "outputs": [
    {
     "name": "stdout",
     "output_type": "stream",
     "text": [
      "4\n",
      "17\n"
     ]
    }
   ],
   "source": [
    "print(square_root(16))\n",
    "print(square_root(300))"
   ]
  }
 ],
 "metadata": {
  "kernelspec": {
   "display_name": "Python 3",
   "language": "python",
   "name": "python3"
  },
  "language_info": {
   "codemirror_mode": {
    "name": "ipython",
    "version": 3
   },
   "file_extension": ".py",
   "mimetype": "text/x-python",
   "name": "python",
   "nbconvert_exporter": "python",
   "pygments_lexer": "ipython3",
   "version": "3.10.12"
  },
  "orig_nbformat": 4
 },
 "nbformat": 4,
 "nbformat_minor": 2
}
