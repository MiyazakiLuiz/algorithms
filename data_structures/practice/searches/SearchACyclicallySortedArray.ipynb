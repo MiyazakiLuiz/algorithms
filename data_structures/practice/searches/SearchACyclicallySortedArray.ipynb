{
 "cells": [
  {
   "cell_type": "code",
   "execution_count": 1,
   "metadata": {},
   "outputs": [],
   "source": [
    "from collections import namedtuple\n",
    "\n",
    "def search_smallest(arr):\n",
    "  Min = namedtuple(\"Min\", \"value index\")\n",
    "  _min = Min(float(\"inf\"), -1)\n",
    "\n",
    "  L = 0\n",
    "  R = len(arr)-1\n",
    "  while L <= R:\n",
    "    M = L + (R - L)//2\n",
    "    curr = arr[M]\n",
    "\n",
    "    if curr <= _min.value:\n",
    "      _min = Min(curr, M)\n",
    "      R = M - 1\n",
    "    else:\n",
    "      L = M + 1\n",
    "\n",
    "  return _min.index"
   ]
  },
  {
   "cell_type": "code",
   "execution_count": 2,
   "metadata": {},
   "outputs": [
    {
     "data": {
      "text/plain": [
       "4"
      ]
     },
     "execution_count": 2,
     "metadata": {},
     "output_type": "execute_result"
    }
   ],
   "source": [
    "search_smallest([378, 478, 550, 631, 103, 203, 220, 234, 279, 358])"
   ]
  }
 ],
 "metadata": {
  "kernelspec": {
   "display_name": "Python 3",
   "language": "python",
   "name": "python3"
  },
  "language_info": {
   "codemirror_mode": {
    "name": "ipython",
    "version": 3
   },
   "file_extension": ".py",
   "mimetype": "text/x-python",
   "name": "python",
   "nbconvert_exporter": "python",
   "pygments_lexer": "ipython3",
   "version": "3.10.12"
  },
  "orig_nbformat": 4
 },
 "nbformat": 4,
 "nbformat_minor": 2
}
