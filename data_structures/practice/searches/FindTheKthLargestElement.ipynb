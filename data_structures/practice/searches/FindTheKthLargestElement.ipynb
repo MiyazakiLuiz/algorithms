{
 "cells": [
  {
   "cell_type": "code",
   "execution_count": 1,
   "metadata": {},
   "outputs": [],
   "source": [
    "from heapq import *\n",
    "\n",
    "def find_kth_largest(arr, k):\n",
    "  min_heap = []\n",
    "\n",
    "  for a in arr:\n",
    "    if len(min_heap) < k:\n",
    "      heappush(min_heap, a)\n",
    "    else:\n",
    "      heappushpop(min_heap, a)\n",
    "\n",
    "  return min_heap[0]\n",
    "\n",
    "  # Time N*logK\n",
    "  # Space K"
   ]
  },
  {
   "cell_type": "code",
   "execution_count": 24,
   "metadata": {},
   "outputs": [],
   "source": [
    "def find_kth_largest(arr, k):\n",
    "  kth = len(arr) - k\n",
    "  pivot = 0\n",
    "\n",
    "  L = 0\n",
    "  R = len(arr) - 1\n",
    "  while L <= R:\n",
    "    pivot = L\n",
    "    start = L + 1\n",
    "    end = R\n",
    "    while start <= end:\n",
    "      if arr[start] < arr[pivot]:\n",
    "        arr[start], arr[pivot] = arr[pivot], arr[start]\n",
    "        pivot = start\n",
    "        start += 1\n",
    "      else:\n",
    "        arr[start], arr[end] = arr[end], arr[start]\n",
    "        end -= 1\n",
    "\n",
    "\n",
    "    if pivot == kth:\n",
    "      return arr[pivot]\n",
    "    elif pivot < kth:\n",
    "      L = pivot + 1\n",
    "    else:\n",
    "      R = pivot - 1\n",
    "\n",
    "  return -1\n",
    "  # Time N*logK\n",
    "  # Space 1"
   ]
  },
  {
   "cell_type": "code",
   "execution_count": 25,
   "metadata": {},
   "outputs": [
    {
     "name": "stdout",
     "output_type": "stream",
     "text": [
      "3\n",
      "243\n"
     ]
    }
   ],
   "source": [
    "print(find_kth_largest([3, 2, 1, 5, 4], 3))\n",
    "print(find_kth_largest([-14, -10, 2, 108, 243, 285, 401], 3))"
   ]
  }
 ],
 "metadata": {
  "kernelspec": {
   "display_name": "Python 3",
   "language": "python",
   "name": "python3"
  },
  "language_info": {
   "codemirror_mode": {
    "name": "ipython",
    "version": 3
   },
   "file_extension": ".py",
   "mimetype": "text/x-python",
   "name": "python",
   "nbconvert_exporter": "python",
   "pygments_lexer": "ipython3",
   "version": "3.10.12"
  },
  "orig_nbformat": 4
 },
 "nbformat": 4,
 "nbformat_minor": 2
}
