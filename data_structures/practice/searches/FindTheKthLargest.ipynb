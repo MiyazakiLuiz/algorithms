{
 "cells": [
  {
   "cell_type": "code",
   "execution_count": 43,
   "metadata": {},
   "outputs": [],
   "source": [
    "import random\n",
    "\n",
    "def fin_kth_largest(arr, k):\n",
    "  if k < 0:\n",
    "    raise \"k must be greater than 0\"\n",
    "\n",
    "  L = 0\n",
    "  R = len(arr)-1\n",
    "\n",
    "  while L < R:\n",
    "    pivot_idx = random.randint(L, R)\n",
    "    pivot = arr[pivot_idx]\n",
    "    arr[R], arr[pivot_idx] = arr[pivot_idx], arr[R]\n",
    "    new_pivot = L\n",
    "    for i in range(L, R):\n",
    "      if arr[i] > pivot:\n",
    "        arr[i], arr[new_pivot] = arr[new_pivot], arr[i]\n",
    "        new_pivot += 1\n",
    "    arr[R], arr[new_pivot] = arr[new_pivot], arr[R]\n",
    "\n",
    "    if new_pivot == k-1:       \n",
    "      return arr[new_pivot]\n",
    "    elif new_pivot > k-1:\n",
    "      R = new_pivot-1\n",
    "    else:\n",
    "      L = new_pivot+1\n",
    "\n",
    "  return arr[L] # case when L == R"
   ]
  },
  {
   "cell_type": "markdown",
   "metadata": {},
   "source": [
    "[3,1,5,2,4] k=3\n",
    "5,4,3,1,2\n",
    "  |"
   ]
  },
  {
   "cell_type": "code",
   "execution_count": 44,
   "metadata": {},
   "outputs": [
    {
     "name": "stdout",
     "output_type": "stream",
     "text": [
      "3\n",
      "4\n",
      "5\n",
      "316\n"
     ]
    }
   ],
   "source": [
    "print(fin_kth_largest([3,1,5,2,4], 3)) # 3\n",
    "print(fin_kth_largest([3,1,5,2,4], 2)) # 4\n",
    "print(fin_kth_largest([3,1,5,2,4], 1)) # 5\n",
    "print(fin_kth_largest([316, 105, 521, 500, 255, 150], 3)) # 316"
   ]
  }
 ],
 "metadata": {
  "kernelspec": {
   "display_name": "Python 3",
   "language": "python",
   "name": "python3"
  },
  "language_info": {
   "codemirror_mode": {
    "name": "ipython",
    "version": 3
   },
   "file_extension": ".py",
   "mimetype": "text/x-python",
   "name": "python",
   "nbconvert_exporter": "python",
   "pygments_lexer": "ipython3",
   "version": "3.10.12"
  }
 },
 "nbformat": 4,
 "nbformat_minor": 2
}
