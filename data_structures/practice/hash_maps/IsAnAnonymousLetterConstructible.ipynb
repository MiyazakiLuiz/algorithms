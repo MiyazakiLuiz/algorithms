{
 "cells": [
  {
   "cell_type": "code",
   "execution_count": 4,
   "metadata": {},
   "outputs": [],
   "source": [
    "def is_constructible(letter, magazine):\n",
    "  charFreqMap = {}\n",
    "  for l in letter:\n",
    "    if l.isalpha():\n",
    "      charFreqMap[l] = charFreqMap.get(l, 0) + 1\n",
    "  \n",
    "  for m in magazine:\n",
    "    if m in charFreqMap:\n",
    "      charFreqMap[m] -= 1\n",
    "      if charFreqMap[m] <= 0:\n",
    "        del charFreqMap[m]\n",
    "\n",
    "  return not charFreqMap"
   ]
  },
  {
   "cell_type": "code",
   "execution_count": 6,
   "metadata": {},
   "outputs": [
    {
     "name": "stdout",
     "output_type": "stream",
     "text": [
      "True\n",
      "True\n",
      "False\n"
     ]
    }
   ],
   "source": [
    "letter = \"aaaa bbbb ccccdddd\"\n",
    "maganize = \"abcd abcd adcb dcba\"\n",
    "print(is_constructible(letter, maganize))\n",
    "\n",
    "maganize = \"abcd abcd adcb dcbaf\"\n",
    "print(is_constructible(letter, maganize))\n",
    "\n",
    "maganize = \"abcd abcd adcb dcb\"\n",
    "print(is_constructible(letter, maganize))"
   ]
  }
 ],
 "metadata": {
  "kernelspec": {
   "display_name": "Python 3",
   "language": "python",
   "name": "python3"
  },
  "language_info": {
   "codemirror_mode": {
    "name": "ipython",
    "version": 3
   },
   "file_extension": ".py",
   "mimetype": "text/x-python",
   "name": "python",
   "nbconvert_exporter": "python",
   "pygments_lexer": "ipython3",
   "version": "3.10.12"
  }
 },
 "nbformat": 4,
 "nbformat_minor": 2
}
