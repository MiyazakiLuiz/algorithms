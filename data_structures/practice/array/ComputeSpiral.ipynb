{
 "cells": [
  {
   "cell_type": "code",
   "execution_count": 1,
   "metadata": {},
   "outputs": [],
   "source": [
    "def compute_spiral(m):\n",
    "  # assuming a square matrix\n",
    "  n = len(m)\n",
    "\n",
    "  for i in range((n+1)//2):\n",
    "    if i == n-i-1:\n",
    "      print(m[i][i])\n",
    "\n",
    "    for j in range(i, n-i-1):\n",
    "      print(m[i][j])\n",
    "    for j in range(i, n-i-1):\n",
    "      print(m[j][~i])\n",
    "    for j in range(i, n-i-1):\n",
    "      print(m[~i][~j])\n",
    "    for j in range(i, n-i-1):\n",
    "      print(m[~j][i])\n",
    "\n"
   ]
  },
  {
   "cell_type": "code",
   "execution_count": 4,
   "metadata": {},
   "outputs": [],
   "source": [
    "def compute_spiral(m):\n",
    "  n = len(m)\n",
    "  SHIFT = ((0,1), (1,0), (0,-1), (-1, 0))\n",
    "  direction = x = y = 0\n",
    "  spiral_ordering = []\n",
    "\n",
    "  for _ in range(n**2):\n",
    "    spiral_ordering.append(m[x][y])\n",
    "    m[x][y] = 0 # mark as visited\n",
    "    next_x, next_y = x + SHIFT[direction][0], y + SHIFT[direction][1]\n",
    "\n",
    "    if next_x not in range(n) or next_y not in range(n) or m[next_x][next_y] == 0:\n",
    "      direction = (direction + 1) & 3 # or %4\n",
    "      next_x, next_y = x + SHIFT[direction][0], y + SHIFT[direction][1]\n",
    "    \n",
    "    x, y = next_x, next_y\n",
    "\n",
    "  return spiral_ordering"
   ]
  },
  {
   "cell_type": "code",
   "execution_count": 5,
   "metadata": {},
   "outputs": [
    {
     "data": {
      "text/plain": [
       "[1, 2, 3, 6, 9, 8, 7, 4, 5]"
      ]
     },
     "execution_count": 5,
     "metadata": {},
     "output_type": "execute_result"
    }
   ],
   "source": [
    "m = [\n",
    "  [1, 2, 3],\n",
    "  [4, 5, 6],\n",
    "  [7, 8, 9]\n",
    "]\n",
    "compute_spiral(m)"
   ]
  },
  {
   "cell_type": "code",
   "execution_count": 6,
   "metadata": {},
   "outputs": [
    {
     "data": {
      "text/plain": [
       "[1, 2, 3, 4, 8, 12, 16, 15, 14, 13, 9, 5, 6, 7, 11, 10]"
      ]
     },
     "execution_count": 6,
     "metadata": {},
     "output_type": "execute_result"
    }
   ],
   "source": [
    "m = [\n",
    "  [1, 2, 3, 4],\n",
    "  [5, 6, 7, 8],\n",
    "  [9, 10, 11, 12],\n",
    "  [13, 14, 15, 16]\n",
    "]\n",
    "compute_spiral(m)"
   ]
  }
 ],
 "metadata": {
  "kernelspec": {
   "display_name": "Python 3",
   "language": "python",
   "name": "python3"
  },
  "language_info": {
   "codemirror_mode": {
    "name": "ipython",
    "version": 3
   },
   "file_extension": ".py",
   "mimetype": "text/x-python",
   "name": "python",
   "nbconvert_exporter": "python",
   "pygments_lexer": "ipython3",
   "version": "3.10.12"
  }
 },
 "nbformat": 4,
 "nbformat_minor": 2
}
